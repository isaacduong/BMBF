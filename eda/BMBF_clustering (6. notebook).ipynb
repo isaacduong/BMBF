{
 "cells": [
  {
   "cell_type": "code",
   "execution_count": 1,
   "id": "e78d4eeb",
   "metadata": {},
   "outputs": [],
   "source": [
    "import re\n",
    "from itertools import product\n",
    "import numpy as np\n",
    "import datetime\n",
    "import pandas as pd\n",
    "pd.set_option('max_colwidth', None)\n",
    "pd.set_option('display.max_columns', None) \n",
    "from tqdm import tqdm\n",
    "import warnings\n",
    "warnings.filterwarnings(\"ignore\")\n",
    "\n",
    "from sklearn.feature_extraction.text import TfidfVectorizer\n",
    "from sklearn.metrics import silhouette_score\n",
    "from sklearn.metrics import calinski_harabasz_score\n",
    "from sklearn.metrics import davies_bouldin_score\n",
    "from sklearn.cluster import DBSCAN\n",
    "from sklearn.decomposition import TruncatedSVD\n",
    "from sklearn.decomposition import PCA\n",
    "\n",
    "from sklearn.pipeline import Pipeline\n",
    "\n",
    "from utils import clean_data, preprocess, remove_url, detect_language"
   ]
  },
  {
   "cell_type": "code",
   "execution_count": 2,
   "id": "9a5af66c",
   "metadata": {},
   "outputs": [
    {
     "data": {
      "text/plain": [
       "(272234, 26)"
      ]
     },
     "execution_count": 2,
     "metadata": {},
     "output_type": "execute_result"
    }
   ],
   "source": [
    "# import the dataset\n",
    "BMBF = pd.read_csv(\"../data/cleanedBMBF.csv\")\n",
    "BMBF.shape"
   ]
  },
  {
   "cell_type": "code",
   "execution_count": 3,
   "id": "73884c3d",
   "metadata": {},
   "outputs": [
    {
     "data": {
      "text/plain": [
       "(237, 2)"
      ]
     },
     "execution_count": 3,
     "metadata": {},
     "output_type": "execute_result"
    }
   ],
   "source": [
    "# import the crossref enriched dataset\n",
    "crossref_enrichment = pd.read_csv(\"../data/BMBF_crossref_enrichment.csv\")\n",
    "crossref_enrichment.shape"
   ]
  },
  {
   "cell_type": "code",
   "execution_count": 4,
   "id": "b2c45275",
   "metadata": {},
   "outputs": [
    {
     "data": {
      "text/plain": [
       "169"
      ]
     },
     "execution_count": 4,
     "metadata": {},
     "output_type": "execute_result"
    }
   ],
   "source": [
    "# check how many overlapping grant identifiers (primary keys) (169 are found) \n",
    "mask = set(crossref_enrichment[\"AWARD\"]).intersection(set(BMBF[\"FKZ\"]))\n",
    "len(mask)"
   ]
  },
  {
   "cell_type": "code",
   "execution_count": 5,
   "id": "b5cc0ee7",
   "metadata": {},
   "outputs": [
    {
     "data": {
      "text/plain": [
       "(169, 2)"
      ]
     },
     "execution_count": 5,
     "metadata": {},
     "output_type": "execute_result"
    }
   ],
   "source": [
    "# remove records that does not have related primary keys in BMBF table\n",
    "crossref_enrichment = crossref_enrichment.loc[crossref_enrichment[\"AWARD\"].isin(list(mask)),:]\n",
    "crossref_enrichment.shape"
   ]
  },
  {
   "cell_type": "code",
   "execution_count": 6,
   "id": "5647fa21",
   "metadata": {},
   "outputs": [],
   "source": [
    "# join 2 dataset\n",
    "BMBF = pd.merge(BMBF,crossref_enrichment,left_on='FKZ', right_on='AWARD', how=\"outer\")"
   ]
  },
  {
   "cell_type": "code",
   "execution_count": 7,
   "id": "0e059052",
   "metadata": {},
   "outputs": [
    {
     "data": {
      "text/plain": [
       "168"
      ]
     },
     "execution_count": 7,
     "metadata": {},
     "output_type": "execute_result"
    }
   ],
   "source": [
    "# change data type to string\n",
    "BMBF[\"crossref_enrichment\"].replace({pd.NA: ''}, inplace=True)\n",
    "BMBF[\"crossref_enrichment\"].nunique()"
   ]
  },
  {
   "cell_type": "code",
   "execution_count": 8,
   "id": "7be489ba",
   "metadata": {},
   "outputs": [],
   "source": [
    "# merge Thema and enriched data\n",
    "BMBF[\"enriched_Thema\"] = BMBF[\"Thema\"] + \" \" + BMBF[\"crossref_enrichment\"]"
   ]
  },
  {
   "cell_type": "code",
   "execution_count": 9,
   "id": "ddc817f5",
   "metadata": {},
   "outputs": [
    {
     "data": {
      "text/html": [
       "<div>\n",
       "<style scoped>\n",
       "    .dataframe tbody tr th:only-of-type {\n",
       "        vertical-align: middle;\n",
       "    }\n",
       "\n",
       "    .dataframe tbody tr th {\n",
       "        vertical-align: top;\n",
       "    }\n",
       "\n",
       "    .dataframe thead th {\n",
       "        text-align: right;\n",
       "    }\n",
       "</style>\n",
       "<table border=\"1\" class=\"dataframe\">\n",
       "  <thead>\n",
       "    <tr style=\"text-align: right;\">\n",
       "      <th></th>\n",
       "      <th>crossref_enrichment</th>\n",
       "      <th>enriched_Thema</th>\n",
       "    </tr>\n",
       "  </thead>\n",
       "  <tbody>\n",
       "    <tr>\n",
       "      <th>90671</th>\n",
       "      <td>Erfassung des subjektiven körperlichen Wohlbefindens bei Herzinsuffizienz</td>\n",
       "      <td>Kompetenznetz Herzinsuffizienz Erfassung des subjektiven körperlichen Wohlbefindens bei Herzinsuffizienz</td>\n",
       "    </tr>\n",
       "    <tr>\n",
       "      <th>106137</th>\n",
       "      <td>Evaluation eines Interventionsansatzes zur Verbesserung von Motivation und motivationsförderlichem Unterrichtshandeln von Lehrkräften auf Basis der Zielorientierungstheorie</td>\n",
       "      <td>Verbundvorhaben: Berufliche Zielorientierungen von Lehrkräften: Entwicklungsbedingungen, Auswirkungen auf berufliche Kompetenzentwicklung, Effekte auf instruktionales Verhalten sowie Lernprozesse und Lernergebnisse von Schülern, Teilprojekt Mannheim Evaluation eines Interventionsansatzes zur Verbesserung von Motivation und motivationsförderlichem Unterrichtshandeln von Lehrkräften auf Basis der Zielorientierungstheorie</td>\n",
       "    </tr>\n",
       "    <tr>\n",
       "      <th>108617</th>\n",
       "      <td>Kovalent‐allosterische Kinase‐Inhibitoren AbstractProteinkinasen repräsentieren wichtige Knotenpunkte intrazellulärer Signalwege und sind somit an vielen physiologischen und pathologischen Prozessen beteiligt. Konformations‐abhängige Eigenschaften dienen hierbei der Feinregulation ihrer enzymatischen Aktivität und Katalyse‐unabhängigen Funktionen. Die Stabilisierung definierter Konformationen ermöglicht detaillierte Analysen solcher Konformations‐abhängiger Funktionen. Hier beschreiben wir das strukturbasierte Design, die Synthese und die Charakterisierung Pleckstrin‐Homologie(PH)‐Domänen‐abhängiger Akt‐Inhibitoren, die einen neuartigen kovalent‐allosterischen Bindungsmodus aufweisen. Durch die kovalente Modifizierung bestimmter Cysteine stabilisieren diese Moleküle die inaktive Kinasekonformation irreversibel. Ihre beträchtliche Inhibitorwirkung und Selektivität bezüglich verwandter Proteinkinasen machen sie zu einem neuartigen Hilfsmittel für die Erforschung chemisch‐biologischer und medizinischer Fragestellungen.</td>\n",
       "      <td>Verbundprojekt: Onkogen, Anteil Technische Universität Dortmund (Teilprojekt 5 und 6b) Kovalent‐allosterische Kinase‐Inhibitoren AbstractProteinkinasen repräsentieren wichtige Knotenpunkte intrazellulärer Signalwege und sind somit an vielen physiologischen und pathologischen Prozessen beteiligt. Konformations‐abhängige Eigenschaften dienen hierbei der Feinregulation ihrer enzymatischen Aktivität und Katalyse‐unabhängigen Funktionen. Die Stabilisierung definierter Konformationen ermöglicht detaillierte Analysen solcher Konformations‐abhängiger Funktionen. Hier beschreiben wir das strukturbasierte Design, die Synthese und die Charakterisierung Pleckstrin‐Homologie(PH)‐Domänen‐abhängiger Akt‐Inhibitoren, die einen neuartigen kovalent‐allosterischen Bindungsmodus aufweisen. Durch die kovalente Modifizierung bestimmter Cysteine stabilisieren diese Moleküle die inaktive Kinasekonformation irreversibel. Ihre beträchtliche Inhibitorwirkung und Selektivität bezüglich verwandter Proteinkinasen machen sie zu einem neuartigen Hilfsmittel für die Erforschung chemisch‐biologischer und medizinischer Fragestellungen.</td>\n",
       "    </tr>\n",
       "    <tr>\n",
       "      <th>110811</th>\n",
       "      <td>Informelles Pflegepotenzial bei Älteren in Deutschland</td>\n",
       "      <td>Hamburger Zentrum für Gesundheitsökonomie - Ökonomische Evaluation der Gesundheitsversorgung chronisch und psychisch Kranker: Teilprojekte TP IIA Nachwuchsgruppe Ökonomische Evaluation psychischer/ pflegeintensiver Erkrankungen, TP IIIB Bevölkerungspräferenzen für Pflege und TP IIIC Patienten Benefit Index Informelles Pflegepotenzial bei Älteren in Deutschland</td>\n",
       "    </tr>\n",
       "    <tr>\n",
       "      <th>116086</th>\n",
       "      <td>Lichtinduzierte Steuerung der Löslichkeit von Polyfluoren zur Steigerung der Leistung in OLEDs AbstractDie Prozessierung organischer Bauelemente aus der Flüssigphase ist ein wichtiger Schritt zur Entwicklung kostengünstiger Fertigungsprozesse. Wir beschreiben eine Methode zur lichtinduzierten Löslichkeitsschaltung eines π‐konjugierten Polymers (Polyfluoren), dessen Seitenketten mit Hydroxyzimtsäureester funktionalisiert sind. Die Belichtung dünner Polymerfilme führt zur Abspaltung der Seitenketten, wodurch die Löslichkeit der Filme drastisch gesenkt wird. In einer ersten Konzeptstudie wurden die synthetisierten Polyfluorene als Emittermaterialien in OLEDs eingesetzt. Belichtung der Emitterschicht führt außer der Löslichkeitsschaltung auch zu einem deutlichen Leistungsanstieg der OLED. Dieser Befund eröffnet die Möglichkeit zur gezielten Manipulation der Löslichkeit und der Emissionseigenschaften einer wichtigen Klasse funktioneller Materialien.</td>\n",
       "      <td>Verbundprojekt: Morphologiekontrolle für effiziente und stabile Bauelemente (MORPHEUS) - Teilvorhaben: Synthese von Akzeptoren und Materialien für SAMs Lichtinduzierte Steuerung der Löslichkeit von Polyfluoren zur Steigerung der Leistung in OLEDs AbstractDie Prozessierung organischer Bauelemente aus der Flüssigphase ist ein wichtiger Schritt zur Entwicklung kostengünstiger Fertigungsprozesse. Wir beschreiben eine Methode zur lichtinduzierten Löslichkeitsschaltung eines π‐konjugierten Polymers (Polyfluoren), dessen Seitenketten mit Hydroxyzimtsäureester funktionalisiert sind. Die Belichtung dünner Polymerfilme führt zur Abspaltung der Seitenketten, wodurch die Löslichkeit der Filme drastisch gesenkt wird. In einer ersten Konzeptstudie wurden die synthetisierten Polyfluorene als Emittermaterialien in OLEDs eingesetzt. Belichtung der Emitterschicht führt außer der Löslichkeitsschaltung auch zu einem deutlichen Leistungsanstieg der OLED. Dieser Befund eröffnet die Möglichkeit zur gezielten Manipulation der Löslichkeit und der Emissionseigenschaften einer wichtigen Klasse funktioneller Materialien.</td>\n",
       "    </tr>\n",
       "    <tr>\n",
       "      <th>...</th>\n",
       "      <td>...</td>\n",
       "      <td>...</td>\n",
       "    </tr>\n",
       "    <tr>\n",
       "      <th>260715</th>\n",
       "      <td>Quo Vadis: Auf dem Weg zu Ethik-Guidelines für den Einsatz KI-basierter Lern-Companions in der Lehre? ZusammenfassungBegünstigt durch die wachsende Relevanz digitaler Unterstützungsangebote für das Lehren und Lernen, bspw. in Schulen und Universitäten, gewinnt der Forschungszweig der Conversational Agents im Bildungskontext an Bedeutung. Sogenannte Lern-Companions, also virtuelle Lern-Gefährten, bieten das Potenzial einer nutzeradaptiven sowie örtlich und zeitlich flexiblen Lernbegleitung. Da mit der Anwendung derart neuartiger Zukunftstechnologien ein hohes ethisches Verantwortungsbewusstsein einhergeht, diskutiert dieser Beitrag Chancen und Herausforderungen durch den Einsatz von Lern-Companions aus ethischer Perspektive. Basierend auf einer qualitativen Studie mit sechs Experten sowie der Diskussion der gewonnenen Erkenntnisse mit bestehender Literatur zeigt dieser Artikel sieben praktische Handlungsempfehlungen zur Gestaltung virtueller Lern-Companions aus einem ethischen Blickwinkel auf und adressiert dabei unter anderem den Umgang mit Ethik-Guidelines, aktive Nutzereinbindung und Bildungsgerechtigkeit.</td>\n",
       "      <td>StudyBuddy: Ein virtueller Companion für die berufliche Weiterbildung Quo Vadis: Auf dem Weg zu Ethik-Guidelines für den Einsatz KI-basierter Lern-Companions in der Lehre? ZusammenfassungBegünstigt durch die wachsende Relevanz digitaler Unterstützungsangebote für das Lehren und Lernen, bspw. in Schulen und Universitäten, gewinnt der Forschungszweig der Conversational Agents im Bildungskontext an Bedeutung. Sogenannte Lern-Companions, also virtuelle Lern-Gefährten, bieten das Potenzial einer nutzeradaptiven sowie örtlich und zeitlich flexiblen Lernbegleitung. Da mit der Anwendung derart neuartiger Zukunftstechnologien ein hohes ethisches Verantwortungsbewusstsein einhergeht, diskutiert dieser Beitrag Chancen und Herausforderungen durch den Einsatz von Lern-Companions aus ethischer Perspektive. Basierend auf einer qualitativen Studie mit sechs Experten sowie der Diskussion der gewonnenen Erkenntnisse mit bestehender Literatur zeigt dieser Artikel sieben praktische Handlungsempfehlungen zur Gestaltung virtueller Lern-Companions aus einem ethischen Blickwinkel auf und adressiert dabei unter anderem den Umgang mit Ethik-Guidelines, aktive Nutzereinbindung und Bildungsgerechtigkeit.</td>\n",
       "    </tr>\n",
       "    <tr>\n",
       "      <th>266726</th>\n",
       "      <td>Development of innovative fiber composite drive shafts in hybrid design—Functional integration and lightweight construction using new material concepts ZusammenfassungIn diesem Beitrag wird Einblick in die Produktentwicklung einer neuartigen Faserverbundantriebswelle in Leichtbauweise gegeben. Durch eine hybride Bauweise aus Faserverbundkunststoffen und technischen Elastomeren wird die Spannungsführung in den lasttragenden Faserverbundbereichen optimiert. Über die bauartbedingte Funktionsintegration von Verlagerungskapazitäten sowie einer hohen Torsionselastizität, bildet die Antriebswelle zudem integrativ Eigenschaften elastischer Kupplungen ab. Dies ermöglicht die Reduktion des Bauraums, der Komponentenanzahl und der Masse des gesamten Antriebsstrangsystems. Der Einsatz der neuartigen Hybridmaterialarchitektur stellt die Produktentwicklung jedoch vor neue Herausforderungen. Insbesondere das Stabilitäts- und Langzeitverhalten wurde bislang nicht umfassend erforscht. Dieser Beitrag stellt die Technologieentwicklung auf Basis von anwendungsgerechten Simulations- und Prüfmethoden vor. Der Fokus liegt auf der experimentellen Konzeptvalidierung, welche durch den Einsatz von optischer Deformationsmesstechnik unterstützt wurde. An Funktionsprototypen wurden Torsionssteifigkeiten und das Stabilitätsverhalten unter hohen Lasten gemessen und Simulationsergebnissen gegenübergestellt. Weiterhin wurde das Langzeit- und Ermüdungsverhalten untersucht, um die Material- und Bauteileigenschaften unter hohen statischen und zyklischen Lasten zu charakterisieren. Aus den Versuchsergebnissen wurden Potenziale in der Produktentwicklung sowie in der Prüftechnik identifiziert.</td>\n",
       "      <td>ELFAS - Elastomerbasierte Dehnungsentkopplung zur Leistungssteigerung von Faserverbundbauteilen Development of innovative fiber composite drive shafts in hybrid design—Functional integration and lightweight construction using new material concepts ZusammenfassungIn diesem Beitrag wird Einblick in die Produktentwicklung einer neuartigen Faserverbundantriebswelle in Leichtbauweise gegeben. Durch eine hybride Bauweise aus Faserverbundkunststoffen und technischen Elastomeren wird die Spannungsführung in den lasttragenden Faserverbundbereichen optimiert. Über die bauartbedingte Funktionsintegration von Verlagerungskapazitäten sowie einer hohen Torsionselastizität, bildet die Antriebswelle zudem integrativ Eigenschaften elastischer Kupplungen ab. Dies ermöglicht die Reduktion des Bauraums, der Komponentenanzahl und der Masse des gesamten Antriebsstrangsystems. Der Einsatz der neuartigen Hybridmaterialarchitektur stellt die Produktentwicklung jedoch vor neue Herausforderungen. Insbesondere das Stabilitäts- und Langzeitverhalten wurde bislang nicht umfassend erforscht. Dieser Beitrag stellt die Technologieentwicklung auf Basis von anwendungsgerechten Simulations- und Prüfmethoden vor. Der Fokus liegt auf der experimentellen Konzeptvalidierung, welche durch den Einsatz von optischer Deformationsmesstechnik unterstützt wurde. An Funktionsprototypen wurden Torsionssteifigkeiten und das Stabilitätsverhalten unter hohen Lasten gemessen und Simulationsergebnissen gegenübergestellt. Weiterhin wurde das Langzeit- und Ermüdungsverhalten untersucht, um die Material- und Bauteileigenschaften unter hohen statischen und zyklischen Lasten zu charakterisieren. Aus den Versuchsergebnissen wurden Potenziale in der Produktentwicklung sowie in der Prüftechnik identifiziert.</td>\n",
       "    </tr>\n",
       "    <tr>\n",
       "      <th>270591</th>\n",
       "      <td>Dekolonisiert Euch! Kritische Betrachtungen der Friedens- und Konfliktforschung ZusammenfassungDie Gegenwart der kolonialen und imperialen Vergangenheit ist in den letzten Jahren auch in Deutschland zunehmend zum Gegenstand öffentlicher Diskurse geworden. So überrascht es nicht, dass sich auch die Friedens- und Konfliktforschung vermehrt mit diesem Thema befasst, richtet sich ihr Fokus doch häufig auf Konflikte, die sich außerhalb Europas oder an den Peripherien des Kontinents ereignen, diesen aber oft direkt betreffen und mit der europäischen Geschichte aufs Engste verflochten sind. Vor diesem Hintergrund wirft dieses Forum Schlaglichter auf einige aktuelle Debatten, die sich der postkolonialen Gegenwart stellen. Die Zusammenstellung der Beiträge ist einem interdisziplinären Verständnis des Forschungsfelds verpflichtet, neben den Sozialwissenschaften kommen auch die Geschichts- und die Rechtswissenschaften zu Wort. Der Titel des Forums – Dekolonisiert Euch! – ist bewusst herausfordernd gewählt. Er will das bereits Erreichte nicht leugnen, sondern daran erinnern, dass Entwicklungen in der Gegenwart immer wieder neu zur Reflexion der kolonialen Vergangenheit auffordern.</td>\n",
       "      <td>Verbundvorhaben: Postkoloniale Hierarchien in Frieden &amp; Konflikt. Teilvorhaben: Perspektiven auf Gerechtigkeit Dekolonisiert Euch! Kritische Betrachtungen der Friedens- und Konfliktforschung ZusammenfassungDie Gegenwart der kolonialen und imperialen Vergangenheit ist in den letzten Jahren auch in Deutschland zunehmend zum Gegenstand öffentlicher Diskurse geworden. So überrascht es nicht, dass sich auch die Friedens- und Konfliktforschung vermehrt mit diesem Thema befasst, richtet sich ihr Fokus doch häufig auf Konflikte, die sich außerhalb Europas oder an den Peripherien des Kontinents ereignen, diesen aber oft direkt betreffen und mit der europäischen Geschichte aufs Engste verflochten sind. Vor diesem Hintergrund wirft dieses Forum Schlaglichter auf einige aktuelle Debatten, die sich der postkolonialen Gegenwart stellen. Die Zusammenstellung der Beiträge ist einem interdisziplinären Verständnis des Forschungsfelds verpflichtet, neben den Sozialwissenschaften kommen auch die Geschichts- und die Rechtswissenschaften zu Wort. Der Titel des Forums – Dekolonisiert Euch! – ist bewusst herausfordernd gewählt. Er will das bereits Erreichte nicht leugnen, sondern daran erinnern, dass Entwicklungen in der Gegenwart immer wieder neu zur Reflexion der kolonialen Vergangenheit auffordern.</td>\n",
       "    </tr>\n",
       "    <tr>\n",
       "      <th>270599</th>\n",
       "      <td>Friedensbildung otherwise? ZusammenfassungAuf Basis dekolonialer Theorien wird in diesem Beitrag ausgelotet, ob und wie Friedensbildung eine dekoloniale Ausrichtung erfahren kann. Hierzu werden die Kontexte und Implikationen des decolonial turn in der Friedens- und Konfliktforschung und der Friedensbildung nachgezeichnet. Im Fokus des Beitrags steht die Konturierung einer dekolonial informierten Friedensbildung als Wegbereiterin für eine Friedensbildung otherwise. Eine dekolonial informierte Friedensbildung nimmt die Möglichkeiten und Herausforderungen von Friedensbildung in den Blick und beruht auf der Kritik des dominanten modern-liberalen Friedensbegriffes, auf der Erweiterung des Gewaltbegriffs um eine onto-epistemische Ebene, sowie auf einer Pluriversalisierung von Friedensverständnissen vor dem Hintergrund der Auseinandersetzung mit (De)Kolonialität. Die Analyse und Hinterfragung eines von kolonialen Herrschafts‑, Gewalt- und Machtverhältnissen geprägten Status Quo ist dabei grundlegend, um diese Verhältnisse in der Friedensbildung einer Bearbeitung zugänglich zu machen.</td>\n",
       "      <td>Verbundvorhaben: Bayerisches Zentrum für Friedens- und Konfliktforschung. Teilvorhaben: Augsburg: Deutungskämpfe um Frieden, Konflikte, Krieg und Gewalt Friedensbildung otherwise? ZusammenfassungAuf Basis dekolonialer Theorien wird in diesem Beitrag ausgelotet, ob und wie Friedensbildung eine dekoloniale Ausrichtung erfahren kann. Hierzu werden die Kontexte und Implikationen des decolonial turn in der Friedens- und Konfliktforschung und der Friedensbildung nachgezeichnet. Im Fokus des Beitrags steht die Konturierung einer dekolonial informierten Friedensbildung als Wegbereiterin für eine Friedensbildung otherwise. Eine dekolonial informierte Friedensbildung nimmt die Möglichkeiten und Herausforderungen von Friedensbildung in den Blick und beruht auf der Kritik des dominanten modern-liberalen Friedensbegriffes, auf der Erweiterung des Gewaltbegriffs um eine onto-epistemische Ebene, sowie auf einer Pluriversalisierung von Friedensverständnissen vor dem Hintergrund der Auseinandersetzung mit (De)Kolonialität. Die Analyse und Hinterfragung eines von kolonialen Herrschafts‑, Gewalt- und Machtverhältnissen geprägten Status Quo ist dabei grundlegend, um diese Verhältnisse in der Friedensbildung einer Bearbeitung zugänglich zu machen.</td>\n",
       "    </tr>\n",
       "    <tr>\n",
       "      <th>270782</th>\n",
       "      <td>Virtuelle Welten in der Fernlehre – Eine Studie der Fernhochschule AKAD University ZusammenfassungDie Corona-Pandemie hat die Welt der Hochschullehre in vielerlei Hinsicht verändert. In Folge der Beschränkungen häufig eingesetzte Videokonferenzlösungen erwiesen sich für einige Themen als guter Ersatz bei gleichzeitiger Erhöhung der örtlichen Flexibilität. Es wurde aber auch offensichtlich, dass es Lehrformate gibt, die per Videokonferenz nicht ideal umsetzbar sind. Dazu zählen u. a. Seminare mit starkem Fokus auf Gruppenarbeit oder Kursinhalte, die viel Hilfestellung durch den Dozierenden erfordern. Virtuelle Welten werden in diesen Fällen aufgrund ihrer sozialen und räumlichen Präsenz als potenziell bessere Alternative zu Videokonferenzen identifiziert. Als besonders problematisch werden an der Institution, einer deutschen Fernhochschule, zwei Seminare identifiziert, nämlich ein Programmierseminar und ein Wirtschaftsplanspiel. Hierfür wird eine prototypische Lösung mit der virtuellen Welt von TriCAT spaces explorativ gestaltet, durchgeführt und evaluiert. Wir stellen vor, wie diese beiden Seminare erfolgreich in eine virtuelle Welt portiert werden können. Die Evaluierung der Stichprobe (N = 23) zeigt, dass die Umsetzung in 3D demselben Seminar in Zoom in Bezug auf Flow-Erleben zwar nur leicht überlegen ist, allerdings trotzdem die meisten die 3D-Variante vorziehen. Bei der Beobachtung der 3D-Seminare identifizieren wir Verbesserungsmöglichkeiten für nachfolgende Prototypen und legen den Grundstein für vertiefende Forschungen.</td>\n",
       "      <td>Verbundprojekt: Anbindung einer virtuell-immersiven 3D-Lernplattform an die NBP am Domänenbeispiel eines Bildungsträgers - AVILAB, Teilvorhaben: AKAD mbH Virtuelle Welten in der Fernlehre – Eine Studie der Fernhochschule AKAD University ZusammenfassungDie Corona-Pandemie hat die Welt der Hochschullehre in vielerlei Hinsicht verändert. In Folge der Beschränkungen häufig eingesetzte Videokonferenzlösungen erwiesen sich für einige Themen als guter Ersatz bei gleichzeitiger Erhöhung der örtlichen Flexibilität. Es wurde aber auch offensichtlich, dass es Lehrformate gibt, die per Videokonferenz nicht ideal umsetzbar sind. Dazu zählen u. a. Seminare mit starkem Fokus auf Gruppenarbeit oder Kursinhalte, die viel Hilfestellung durch den Dozierenden erfordern. Virtuelle Welten werden in diesen Fällen aufgrund ihrer sozialen und räumlichen Präsenz als potenziell bessere Alternative zu Videokonferenzen identifiziert. Als besonders problematisch werden an der Institution, einer deutschen Fernhochschule, zwei Seminare identifiziert, nämlich ein Programmierseminar und ein Wirtschaftsplanspiel. Hierfür wird eine prototypische Lösung mit der virtuellen Welt von TriCAT spaces explorativ gestaltet, durchgeführt und evaluiert. Wir stellen vor, wie diese beiden Seminare erfolgreich in eine virtuelle Welt portiert werden können. Die Evaluierung der Stichprobe (N = 23) zeigt, dass die Umsetzung in 3D demselben Seminar in Zoom in Bezug auf Flow-Erleben zwar nur leicht überlegen ist, allerdings trotzdem die meisten die 3D-Variante vorziehen. Bei der Beobachtung der 3D-Seminare identifizieren wir Verbesserungsmöglichkeiten für nachfolgende Prototypen und legen den Grundstein für vertiefende Forschungen.</td>\n",
       "    </tr>\n",
       "  </tbody>\n",
       "</table>\n",
       "<p>169 rows × 2 columns</p>\n",
       "</div>"
      ],
      "text/plain": [
       "                                                                                                                                                                                                                                                                                                                                                                                                                                                                                                                                                                                                                                                                                                                                                                                                                                                                                                                                                                                                                                                                                                                                                                                                                                                                                                                                                                                                                                                                                                                                                                                                                                                                                                                                      crossref_enrichment  \\\n",
       "90671                                                                                                                                                                                                                                                                                                                                                                                                                                                                                                                                                                                                                                                                                                                                                                                                                                                                                                                                                                                                                                                                                                                                                                                                                                                                                                                                                                                                                                                                                                                                                                                                                                                                          Erfassung des subjektiven körperlichen Wohlbefindens bei Herzinsuffizienz    \n",
       "106137                                                                                                                                                                                                                                                                                                                                                                                                                                                                                                                                                                                                                                                                                                                                                                                                                                                                                                                                                                                                                                                                                                                                                                                                                                                                                                                                                                                                                                                                                                                                                                      Evaluation eines Interventionsansatzes zur Verbesserung von Motivation und motivationsförderlichem Unterrichtshandeln von Lehrkräften auf Basis der Zielorientierungstheorie    \n",
       "108617                                                                                                                                                                                                                                                                                                                                                                                                                                                                                                                                                                                                                                                                            Kovalent‐allosterische Kinase‐Inhibitoren AbstractProteinkinasen repräsentieren wichtige Knotenpunkte intrazellulärer Signalwege und sind somit an vielen physiologischen und pathologischen Prozessen beteiligt. Konformations‐abhängige Eigenschaften dienen hierbei der Feinregulation ihrer enzymatischen Aktivität und Katalyse‐unabhängigen Funktionen. Die Stabilisierung definierter Konformationen ermöglicht detaillierte Analysen solcher Konformations‐abhängiger Funktionen. Hier beschreiben wir das strukturbasierte Design, die Synthese und die Charakterisierung Pleckstrin‐Homologie(PH)‐Domänen‐abhängiger Akt‐Inhibitoren, die einen neuartigen kovalent‐allosterischen Bindungsmodus aufweisen. Durch die kovalente Modifizierung bestimmter Cysteine stabilisieren diese Moleküle die inaktive Kinasekonformation irreversibel. Ihre beträchtliche Inhibitorwirkung und Selektivität bezüglich verwandter Proteinkinasen machen sie zu einem neuartigen Hilfsmittel für die Erforschung chemisch‐biologischer und medizinischer Fragestellungen.   \n",
       "110811                                                                                                                                                                                                                                                                                                                                                                                                                                                                                                                                                                                                                                                                                                                                                                                                                                                                                                                                                                                                                                                                                                                                                                                                                                                                                                                                                                                                                                                                                                                                                                                                                                                                                            Informelles Pflegepotenzial bei Älteren in Deutschland    \n",
       "116086                                                                                                                                                                                                                                                                                                                                                                                                                                                                                                                                                                                                                                                                                                                                                     Lichtinduzierte Steuerung der Löslichkeit von Polyfluoren zur Steigerung der Leistung in OLEDs AbstractDie Prozessierung organischer Bauelemente aus der Flüssigphase ist ein wichtiger Schritt zur Entwicklung kostengünstiger Fertigungsprozesse. Wir beschreiben eine Methode zur lichtinduzierten Löslichkeitsschaltung eines π‐konjugierten Polymers (Polyfluoren), dessen Seitenketten mit Hydroxyzimtsäureester funktionalisiert sind. Die Belichtung dünner Polymerfilme führt zur Abspaltung der Seitenketten, wodurch die Löslichkeit der Filme drastisch gesenkt wird. In einer ersten Konzeptstudie wurden die synthetisierten Polyfluorene als Emittermaterialien in OLEDs eingesetzt. Belichtung der Emitterschicht führt außer der Löslichkeitsschaltung auch zu einem deutlichen Leistungsanstieg der OLED. Dieser Befund eröffnet die Möglichkeit zur gezielten Manipulation der Löslichkeit und der Emissionseigenschaften einer wichtigen Klasse funktioneller Materialien.   \n",
       "...                                                                                                                                                                                                                                                                                                                                                                                                                                                                                                                                                                                                                                                                                                                                                                                                                                                                                                                                                                                                                                                                                                                                                                                                                                                                                                                                                                                                                                                                                                                                                                                                                                                                                                                                                   ...   \n",
       "260715                                                                                                                                                                                                                                                                                                                                                                                                                                                                                                                                                                              Quo Vadis: Auf dem Weg zu Ethik-Guidelines für den Einsatz KI-basierter Lern-Companions in der Lehre? ZusammenfassungBegünstigt durch die wachsende Relevanz digitaler Unterstützungsangebote für das Lehren und Lernen, bspw. in Schulen und Universitäten, gewinnt der Forschungszweig der Conversational Agents im Bildungskontext an Bedeutung. Sogenannte Lern-Companions, also virtuelle Lern-Gefährten, bieten das Potenzial einer nutzeradaptiven sowie örtlich und zeitlich flexiblen Lernbegleitung. Da mit der Anwendung derart neuartiger Zukunftstechnologien ein hohes ethisches Verantwortungsbewusstsein einhergeht, diskutiert dieser Beitrag Chancen und Herausforderungen durch den Einsatz von Lern-Companions aus ethischer Perspektive. Basierend auf einer qualitativen Studie mit sechs Experten sowie der Diskussion der gewonnenen Erkenntnisse mit bestehender Literatur zeigt dieser Artikel sieben praktische Handlungsempfehlungen zur Gestaltung virtueller Lern-Companions aus einem ethischen Blickwinkel auf und adressiert dabei unter anderem den Umgang mit Ethik-Guidelines, aktive Nutzereinbindung und Bildungsgerechtigkeit.   \n",
       "266726  Development of innovative fiber composite drive shafts in hybrid design—Functional integration and lightweight construction using new material concepts ZusammenfassungIn diesem Beitrag wird Einblick in die Produktentwicklung einer neuartigen Faserverbundantriebswelle in Leichtbauweise gegeben. Durch eine hybride Bauweise aus Faserverbundkunststoffen und technischen Elastomeren wird die Spannungsführung in den lasttragenden Faserverbundbereichen optimiert. Über die bauartbedingte Funktionsintegration von Verlagerungskapazitäten sowie einer hohen Torsionselastizität, bildet die Antriebswelle zudem integrativ Eigenschaften elastischer Kupplungen ab. Dies ermöglicht die Reduktion des Bauraums, der Komponentenanzahl und der Masse des gesamten Antriebsstrangsystems. Der Einsatz der neuartigen Hybridmaterialarchitektur stellt die Produktentwicklung jedoch vor neue Herausforderungen. Insbesondere das Stabilitäts- und Langzeitverhalten wurde bislang nicht umfassend erforscht. Dieser Beitrag stellt die Technologieentwicklung auf Basis von anwendungsgerechten Simulations- und Prüfmethoden vor. Der Fokus liegt auf der experimentellen Konzeptvalidierung, welche durch den Einsatz von optischer Deformationsmesstechnik unterstützt wurde. An Funktionsprototypen wurden Torsionssteifigkeiten und das Stabilitätsverhalten unter hohen Lasten gemessen und Simulationsergebnissen gegenübergestellt. Weiterhin wurde das Langzeit- und Ermüdungsverhalten untersucht, um die Material- und Bauteileigenschaften unter hohen statischen und zyklischen Lasten zu charakterisieren. Aus den Versuchsergebnissen wurden Potenziale in der Produktentwicklung sowie in der Prüftechnik identifiziert.   \n",
       "270591                                                                                                                                                                                                                                                                                                                                                                                                                                                                                                                Dekolonisiert Euch! Kritische Betrachtungen der Friedens- und Konfliktforschung ZusammenfassungDie Gegenwart der kolonialen und imperialen Vergangenheit ist in den letzten Jahren auch in Deutschland zunehmend zum Gegenstand öffentlicher Diskurse geworden. So überrascht es nicht, dass sich auch die Friedens- und Konfliktforschung vermehrt mit diesem Thema befasst, richtet sich ihr Fokus doch häufig auf Konflikte, die sich außerhalb Europas oder an den Peripherien des Kontinents ereignen, diesen aber oft direkt betreffen und mit der europäischen Geschichte aufs Engste verflochten sind. Vor diesem Hintergrund wirft dieses Forum Schlaglichter auf einige aktuelle Debatten, die sich der postkolonialen Gegenwart stellen. Die Zusammenstellung der Beiträge ist einem interdisziplinären Verständnis des Forschungsfelds verpflichtet, neben den Sozialwissenschaften kommen auch die Geschichts- und die Rechtswissenschaften zu Wort. Der Titel des Forums – Dekolonisiert Euch! – ist bewusst herausfordernd gewählt. Er will das bereits Erreichte nicht leugnen, sondern daran erinnern, dass Entwicklungen in der Gegenwart immer wieder neu zur Reflexion der kolonialen Vergangenheit auffordern.   \n",
       "270599                                                                                                                                                                                                                                                                                                                                                                                                                                                                                                                                                                                                              Friedensbildung otherwise? ZusammenfassungAuf Basis dekolonialer Theorien wird in diesem Beitrag ausgelotet, ob und wie Friedensbildung eine dekoloniale Ausrichtung erfahren kann. Hierzu werden die Kontexte und Implikationen des decolonial turn in der Friedens- und Konfliktforschung und der Friedensbildung nachgezeichnet. Im Fokus des Beitrags steht die Konturierung einer dekolonial informierten Friedensbildung als Wegbereiterin für eine Friedensbildung otherwise. Eine dekolonial informierte Friedensbildung nimmt die Möglichkeiten und Herausforderungen von Friedensbildung in den Blick und beruht auf der Kritik des dominanten modern-liberalen Friedensbegriffes, auf der Erweiterung des Gewaltbegriffs um eine onto-epistemische Ebene, sowie auf einer Pluriversalisierung von Friedensverständnissen vor dem Hintergrund der Auseinandersetzung mit (De)Kolonialität. Die Analyse und Hinterfragung eines von kolonialen Herrschafts‑, Gewalt- und Machtverhältnissen geprägten Status Quo ist dabei grundlegend, um diese Verhältnisse in der Friedensbildung einer Bearbeitung zugänglich zu machen.   \n",
       "270782                                                                                                                                   Virtuelle Welten in der Fernlehre – Eine Studie der Fernhochschule AKAD University ZusammenfassungDie Corona-Pandemie hat die Welt der Hochschullehre in vielerlei Hinsicht verändert. In Folge der Beschränkungen häufig eingesetzte Videokonferenzlösungen erwiesen sich für einige Themen als guter Ersatz bei gleichzeitiger Erhöhung der örtlichen Flexibilität. Es wurde aber auch offensichtlich, dass es Lehrformate gibt, die per Videokonferenz nicht ideal umsetzbar sind. Dazu zählen u. a. Seminare mit starkem Fokus auf Gruppenarbeit oder Kursinhalte, die viel Hilfestellung durch den Dozierenden erfordern. Virtuelle Welten werden in diesen Fällen aufgrund ihrer sozialen und räumlichen Präsenz als potenziell bessere Alternative zu Videokonferenzen identifiziert. Als besonders problematisch werden an der Institution, einer deutschen Fernhochschule, zwei Seminare identifiziert, nämlich ein Programmierseminar und ein Wirtschaftsplanspiel. Hierfür wird eine prototypische Lösung mit der virtuellen Welt von TriCAT spaces explorativ gestaltet, durchgeführt und evaluiert. Wir stellen vor, wie diese beiden Seminare erfolgreich in eine virtuelle Welt portiert werden können. Die Evaluierung der Stichprobe (N = 23) zeigt, dass die Umsetzung in 3D demselben Seminar in Zoom in Bezug auf Flow-Erleben zwar nur leicht überlegen ist, allerdings trotzdem die meisten die 3D-Variante vorziehen. Bei der Beobachtung der 3D-Seminare identifizieren wir Verbesserungsmöglichkeiten für nachfolgende Prototypen und legen den Grundstein für vertiefende Forschungen.   \n",
       "\n",
       "                                                                                                                                                                                                                                                                                                                                                                                                                                                                                                                                                                                                                                                                                                                                                                                                                                                                                                                                                                                                                                                                                                                                                                                                                                                                                                                                                                                                                                                                                                                                                                                                                                                                                                                                                                                                                                           enriched_Thema  \n",
       "90671                                                                                                                                                                                                                                                                                                                                                                                                                                                                                                                                                                                                                                                                                                                                                                                                                                                                                                                                                                                                                                                                                                                                                                                                                                                                                                                                                                                                                                                                                                                                                                                                                                                                                                                                           Kompetenznetz Herzinsuffizienz Erfassung des subjektiven körperlichen Wohlbefindens bei Herzinsuffizienz   \n",
       "106137                                                                                                                                                                                                                                                                                                                                                                                                                                                                                                                                                                                                                                                                                                                                                                                                                                                                                                                                                                                                                                                                                                                                                                                                                                                                                                                                                                                                            Verbundvorhaben: Berufliche Zielorientierungen von Lehrkräften: Entwicklungsbedingungen, Auswirkungen auf berufliche Kompetenzentwicklung, Effekte auf instruktionales Verhalten sowie Lernprozesse und Lernergebnisse von Schülern, Teilprojekt Mannheim Evaluation eines Interventionsansatzes zur Verbesserung von Motivation und motivationsförderlichem Unterrichtshandeln von Lehrkräften auf Basis der Zielorientierungstheorie   \n",
       "108617                                                                                                                                                                                                                                                                                                                                                                                                                                                                                                                                                                                                                                                                                     Verbundprojekt: Onkogen, Anteil Technische Universität Dortmund (Teilprojekt 5 und 6b) Kovalent‐allosterische Kinase‐Inhibitoren AbstractProteinkinasen repräsentieren wichtige Knotenpunkte intrazellulärer Signalwege und sind somit an vielen physiologischen und pathologischen Prozessen beteiligt. Konformations‐abhängige Eigenschaften dienen hierbei der Feinregulation ihrer enzymatischen Aktivität und Katalyse‐unabhängigen Funktionen. Die Stabilisierung definierter Konformationen ermöglicht detaillierte Analysen solcher Konformations‐abhängiger Funktionen. Hier beschreiben wir das strukturbasierte Design, die Synthese und die Charakterisierung Pleckstrin‐Homologie(PH)‐Domänen‐abhängiger Akt‐Inhibitoren, die einen neuartigen kovalent‐allosterischen Bindungsmodus aufweisen. Durch die kovalente Modifizierung bestimmter Cysteine stabilisieren diese Moleküle die inaktive Kinasekonformation irreversibel. Ihre beträchtliche Inhibitorwirkung und Selektivität bezüglich verwandter Proteinkinasen machen sie zu einem neuartigen Hilfsmittel für die Erforschung chemisch‐biologischer und medizinischer Fragestellungen.  \n",
       "110811                                                                                                                                                                                                                                                                                                                                                                                                                                                                                                                                                                                                                                                                                                                                                                                                                                                                                                                                                                                                                                                                                                                                                                                                                                                                                                                                                                                                                                                                        Hamburger Zentrum für Gesundheitsökonomie - Ökonomische Evaluation der Gesundheitsversorgung chronisch und psychisch Kranker: Teilprojekte TP IIA Nachwuchsgruppe Ökonomische Evaluation psychischer/ pflegeintensiver Erkrankungen, TP IIIB Bevölkerungspräferenzen für Pflege und TP IIIC Patienten Benefit Index Informelles Pflegepotenzial bei Älteren in Deutschland   \n",
       "116086                                                                                                                                                                                                                                                                                                                                                                                                                                                                                                                                                                                                                                                                                             Verbundprojekt: Morphologiekontrolle für effiziente und stabile Bauelemente (MORPHEUS) - Teilvorhaben: Synthese von Akzeptoren und Materialien für SAMs Lichtinduzierte Steuerung der Löslichkeit von Polyfluoren zur Steigerung der Leistung in OLEDs AbstractDie Prozessierung organischer Bauelemente aus der Flüssigphase ist ein wichtiger Schritt zur Entwicklung kostengünstiger Fertigungsprozesse. Wir beschreiben eine Methode zur lichtinduzierten Löslichkeitsschaltung eines π‐konjugierten Polymers (Polyfluoren), dessen Seitenketten mit Hydroxyzimtsäureester funktionalisiert sind. Die Belichtung dünner Polymerfilme führt zur Abspaltung der Seitenketten, wodurch die Löslichkeit der Filme drastisch gesenkt wird. In einer ersten Konzeptstudie wurden die synthetisierten Polyfluorene als Emittermaterialien in OLEDs eingesetzt. Belichtung der Emitterschicht führt außer der Löslichkeitsschaltung auch zu einem deutlichen Leistungsanstieg der OLED. Dieser Befund eröffnet die Möglichkeit zur gezielten Manipulation der Löslichkeit und der Emissionseigenschaften einer wichtigen Klasse funktioneller Materialien.  \n",
       "...                                                                                                                                                                                                                                                                                                                                                                                                                                                                                                                                                                                                                                                                                                                                                                                                                                                                                                                                                                                                                                                                                                                                                                                                                                                                                                                                                                                                                                                                                                                                                                                                                                                                                                                                                                                                                                                   ...  \n",
       "260715                                                                                                                                                                                                                                                                                                                                                                                                                                                                                                                                                                                                        StudyBuddy: Ein virtueller Companion für die berufliche Weiterbildung Quo Vadis: Auf dem Weg zu Ethik-Guidelines für den Einsatz KI-basierter Lern-Companions in der Lehre? ZusammenfassungBegünstigt durch die wachsende Relevanz digitaler Unterstützungsangebote für das Lehren und Lernen, bspw. in Schulen und Universitäten, gewinnt der Forschungszweig der Conversational Agents im Bildungskontext an Bedeutung. Sogenannte Lern-Companions, also virtuelle Lern-Gefährten, bieten das Potenzial einer nutzeradaptiven sowie örtlich und zeitlich flexiblen Lernbegleitung. Da mit der Anwendung derart neuartiger Zukunftstechnologien ein hohes ethisches Verantwortungsbewusstsein einhergeht, diskutiert dieser Beitrag Chancen und Herausforderungen durch den Einsatz von Lern-Companions aus ethischer Perspektive. Basierend auf einer qualitativen Studie mit sechs Experten sowie der Diskussion der gewonnenen Erkenntnisse mit bestehender Literatur zeigt dieser Artikel sieben praktische Handlungsempfehlungen zur Gestaltung virtueller Lern-Companions aus einem ethischen Blickwinkel auf und adressiert dabei unter anderem den Umgang mit Ethik-Guidelines, aktive Nutzereinbindung und Bildungsgerechtigkeit.  \n",
       "266726  ELFAS - Elastomerbasierte Dehnungsentkopplung zur Leistungssteigerung von Faserverbundbauteilen Development of innovative fiber composite drive shafts in hybrid design—Functional integration and lightweight construction using new material concepts ZusammenfassungIn diesem Beitrag wird Einblick in die Produktentwicklung einer neuartigen Faserverbundantriebswelle in Leichtbauweise gegeben. Durch eine hybride Bauweise aus Faserverbundkunststoffen und technischen Elastomeren wird die Spannungsführung in den lasttragenden Faserverbundbereichen optimiert. Über die bauartbedingte Funktionsintegration von Verlagerungskapazitäten sowie einer hohen Torsionselastizität, bildet die Antriebswelle zudem integrativ Eigenschaften elastischer Kupplungen ab. Dies ermöglicht die Reduktion des Bauraums, der Komponentenanzahl und der Masse des gesamten Antriebsstrangsystems. Der Einsatz der neuartigen Hybridmaterialarchitektur stellt die Produktentwicklung jedoch vor neue Herausforderungen. Insbesondere das Stabilitäts- und Langzeitverhalten wurde bislang nicht umfassend erforscht. Dieser Beitrag stellt die Technologieentwicklung auf Basis von anwendungsgerechten Simulations- und Prüfmethoden vor. Der Fokus liegt auf der experimentellen Konzeptvalidierung, welche durch den Einsatz von optischer Deformationsmesstechnik unterstützt wurde. An Funktionsprototypen wurden Torsionssteifigkeiten und das Stabilitätsverhalten unter hohen Lasten gemessen und Simulationsergebnissen gegenübergestellt. Weiterhin wurde das Langzeit- und Ermüdungsverhalten untersucht, um die Material- und Bauteileigenschaften unter hohen statischen und zyklischen Lasten zu charakterisieren. Aus den Versuchsergebnissen wurden Potenziale in der Produktentwicklung sowie in der Prüftechnik identifiziert.  \n",
       "270591                                                                                                                                                                                                                                                                                                                                                                                                                                                                                                 Verbundvorhaben: Postkoloniale Hierarchien in Frieden & Konflikt. Teilvorhaben: Perspektiven auf Gerechtigkeit Dekolonisiert Euch! Kritische Betrachtungen der Friedens- und Konfliktforschung ZusammenfassungDie Gegenwart der kolonialen und imperialen Vergangenheit ist in den letzten Jahren auch in Deutschland zunehmend zum Gegenstand öffentlicher Diskurse geworden. So überrascht es nicht, dass sich auch die Friedens- und Konfliktforschung vermehrt mit diesem Thema befasst, richtet sich ihr Fokus doch häufig auf Konflikte, die sich außerhalb Europas oder an den Peripherien des Kontinents ereignen, diesen aber oft direkt betreffen und mit der europäischen Geschichte aufs Engste verflochten sind. Vor diesem Hintergrund wirft dieses Forum Schlaglichter auf einige aktuelle Debatten, die sich der postkolonialen Gegenwart stellen. Die Zusammenstellung der Beiträge ist einem interdisziplinären Verständnis des Forschungsfelds verpflichtet, neben den Sozialwissenschaften kommen auch die Geschichts- und die Rechtswissenschaften zu Wort. Der Titel des Forums – Dekolonisiert Euch! – ist bewusst herausfordernd gewählt. Er will das bereits Erreichte nicht leugnen, sondern daran erinnern, dass Entwicklungen in der Gegenwart immer wieder neu zur Reflexion der kolonialen Vergangenheit auffordern.  \n",
       "270599                                                                                                                                                                                                                                                                                                                                                                                                                                                                                                                                                     Verbundvorhaben: Bayerisches Zentrum für Friedens- und Konfliktforschung. Teilvorhaben: Augsburg: Deutungskämpfe um Frieden, Konflikte, Krieg und Gewalt Friedensbildung otherwise? ZusammenfassungAuf Basis dekolonialer Theorien wird in diesem Beitrag ausgelotet, ob und wie Friedensbildung eine dekoloniale Ausrichtung erfahren kann. Hierzu werden die Kontexte und Implikationen des decolonial turn in der Friedens- und Konfliktforschung und der Friedensbildung nachgezeichnet. Im Fokus des Beitrags steht die Konturierung einer dekolonial informierten Friedensbildung als Wegbereiterin für eine Friedensbildung otherwise. Eine dekolonial informierte Friedensbildung nimmt die Möglichkeiten und Herausforderungen von Friedensbildung in den Blick und beruht auf der Kritik des dominanten modern-liberalen Friedensbegriffes, auf der Erweiterung des Gewaltbegriffs um eine onto-epistemische Ebene, sowie auf einer Pluriversalisierung von Friedensverständnissen vor dem Hintergrund der Auseinandersetzung mit (De)Kolonialität. Die Analyse und Hinterfragung eines von kolonialen Herrschafts‑, Gewalt- und Machtverhältnissen geprägten Status Quo ist dabei grundlegend, um diese Verhältnisse in der Friedensbildung einer Bearbeitung zugänglich zu machen.  \n",
       "270782                                                                         Verbundprojekt: Anbindung einer virtuell-immersiven 3D-Lernplattform an die NBP am Domänenbeispiel eines Bildungsträgers - AVILAB, Teilvorhaben: AKAD mbH Virtuelle Welten in der Fernlehre – Eine Studie der Fernhochschule AKAD University ZusammenfassungDie Corona-Pandemie hat die Welt der Hochschullehre in vielerlei Hinsicht verändert. In Folge der Beschränkungen häufig eingesetzte Videokonferenzlösungen erwiesen sich für einige Themen als guter Ersatz bei gleichzeitiger Erhöhung der örtlichen Flexibilität. Es wurde aber auch offensichtlich, dass es Lehrformate gibt, die per Videokonferenz nicht ideal umsetzbar sind. Dazu zählen u. a. Seminare mit starkem Fokus auf Gruppenarbeit oder Kursinhalte, die viel Hilfestellung durch den Dozierenden erfordern. Virtuelle Welten werden in diesen Fällen aufgrund ihrer sozialen und räumlichen Präsenz als potenziell bessere Alternative zu Videokonferenzen identifiziert. Als besonders problematisch werden an der Institution, einer deutschen Fernhochschule, zwei Seminare identifiziert, nämlich ein Programmierseminar und ein Wirtschaftsplanspiel. Hierfür wird eine prototypische Lösung mit der virtuellen Welt von TriCAT spaces explorativ gestaltet, durchgeführt und evaluiert. Wir stellen vor, wie diese beiden Seminare erfolgreich in eine virtuelle Welt portiert werden können. Die Evaluierung der Stichprobe (N = 23) zeigt, dass die Umsetzung in 3D demselben Seminar in Zoom in Bezug auf Flow-Erleben zwar nur leicht überlegen ist, allerdings trotzdem die meisten die 3D-Variante vorziehen. Bei der Beobachtung der 3D-Seminare identifizieren wir Verbesserungsmöglichkeiten für nachfolgende Prototypen und legen den Grundstein für vertiefende Forschungen.  \n",
       "\n",
       "[169 rows x 2 columns]"
      ]
     },
     "execution_count": 9,
     "metadata": {},
     "output_type": "execute_result"
    }
   ],
   "source": [
    "BMBF.loc[BMBF[\"FKZ\"].isin(list(mask)),[\"crossref_enrichment\",\"enriched_Thema\"]]"
   ]
  },
  {
   "cell_type": "code",
   "execution_count": 31,
   "id": "4be36757",
   "metadata": {},
   "outputs": [],
   "source": [
    "def calculate_scores(X_SvD,cluster_labels):\n",
    "    \n",
    "    print(\"calculate scores\")\n",
    "    # calculate davies bouldin score\n",
    "    davies_bouldin_avg = davies_bouldin_score(X_SvD, cluster_labels)\n",
    "    \n",
    "    # calculate calinski harabasz score\n",
    "    calinski_harabasz_avg = calinski_harabasz_score(X_SvD, cluster_labels )\n",
    "    \n",
    "    # calculate silhouette score\n",
    "    silhouette_avg = silhouette_score(X_SvD, cluster_labels ,metric = \"cosine\")\n",
    "\n",
    " \n",
    "    return davies_bouldin_avg, calinski_harabasz_avg, silhouette_avg\n"
   ]
  },
  {
   "cell_type": "code",
   "execution_count": 29,
   "id": "adbc0f2a",
   "metadata": {},
   "outputs": [],
   "source": [
    "def perform_dbscan(texts, min_sample, eps, n_dim =400):\n",
    "    \n",
    "    print(f\"set min_sample = {min_sample}, eps={eps} \") \n",
    "    print(\"vectorizing data...\")\n",
    "    # TF-IDF Vectorization\n",
    "    vectorizer = TfidfVectorizer(tokenizer=preprocess)\n",
    "    tfidf_matrix = vectorizer.fit_transform(texts)\n",
    "\n",
    "    print(\"reducing dimensions...\")\n",
    "    # Dimensionality Reduction\n",
    "    svd = TruncatedSVD(n_components = n_dim,random_state=42)\n",
    "    X_SvD = svd.fit_transform(tfidf_matrix)\n",
    "\n",
    "    print(\"clustering...\")\n",
    "    # DBSCAN Clustering\n",
    "    dbscan = DBSCAN(eps=eps, min_samples=min_sample,metric=\"cosine\")\n",
    "    dbscan = dbscan.fit(X_SvD)\n",
    "    \n",
    "    print(\"calculating scores...\")\n",
    "    # calculate scores\n",
    "    cluster_labels = dbscan.labels_\n",
    "    scores = calculate_scores(X_SvD,cluster_labels)\n",
    "    \n",
    "    \n",
    "    return cluster_labels, scores\n"
   ]
  },
  {
   "cell_type": "code",
   "execution_count": 32,
   "id": "d9bb861a",
   "metadata": {},
   "outputs": [
    {
     "name": "stderr",
     "output_type": "stream",
     "text": [
      "\r",
      "  0%|                                                                                             | 0/9 [00:00<?, ?it/s]"
     ]
    },
    {
     "name": "stdout",
     "output_type": "stream",
     "text": [
      "set min_sample = 3, eps=0.3 \n",
      "vectorizing data...\n",
      "reducing dimensions...\n",
      "clustering...\n",
      "calculating scores...\n",
      "calculate scores\n"
     ]
    },
    {
     "name": "stderr",
     "output_type": "stream",
     "text": [
      "\r",
      " 11%|█████████                                                                        | 1/9 [37:20<4:58:47, 2240.98s/it]"
     ]
    },
    {
     "name": "stdout",
     "output_type": "stream",
     "text": [
      "set min_sample = 3, eps=0.5 \n",
      "vectorizing data...\n",
      "reducing dimensions...\n",
      "clustering...\n",
      "calculating scores...\n",
      "calculate scores\n"
     ]
    },
    {
     "name": "stderr",
     "output_type": "stream",
     "text": [
      "\r",
      " 22%|█████████████████▌                                                             | 2/9 [1:14:30<4:20:40, 2234.32s/it]"
     ]
    },
    {
     "name": "stdout",
     "output_type": "stream",
     "text": [
      "set min_sample = 3, eps=0.7 \n",
      "vectorizing data...\n",
      "reducing dimensions...\n",
      "clustering...\n",
      "calculating scores...\n",
      "calculate scores\n"
     ]
    },
    {
     "name": "stderr",
     "output_type": "stream",
     "text": [
      "\r",
      " 33%|██████████████████████████▎                                                    | 3/9 [1:52:22<3:45:09, 2251.51s/it]"
     ]
    },
    {
     "name": "stdout",
     "output_type": "stream",
     "text": [
      "set min_sample = 5, eps=0.3 \n",
      "vectorizing data...\n",
      "reducing dimensions...\n",
      "clustering...\n",
      "calculating scores...\n",
      "calculate scores\n"
     ]
    },
    {
     "name": "stderr",
     "output_type": "stream",
     "text": [
      "\r",
      " 44%|███████████████████████████████████                                            | 4/9 [2:29:29<3:06:48, 2241.68s/it]"
     ]
    },
    {
     "name": "stdout",
     "output_type": "stream",
     "text": [
      "set min_sample = 5, eps=0.5 \n",
      "vectorizing data...\n",
      "reducing dimensions...\n",
      "clustering...\n",
      "calculating scores...\n",
      "calculate scores\n"
     ]
    },
    {
     "name": "stderr",
     "output_type": "stream",
     "text": [
      "\r",
      " 56%|███████████████████████████████████████████▉                                   | 5/9 [3:07:00<2:29:40, 2245.07s/it]"
     ]
    },
    {
     "name": "stdout",
     "output_type": "stream",
     "text": [
      "set min_sample = 5, eps=0.7 \n",
      "vectorizing data...\n",
      "reducing dimensions...\n",
      "clustering...\n",
      "calculating scores...\n",
      "calculate scores\n"
     ]
    },
    {
     "name": "stderr",
     "output_type": "stream",
     "text": [
      "\r",
      " 67%|████████████████████████████████████████████████████▋                          | 6/9 [3:44:50<1:52:40, 2253.59s/it]"
     ]
    },
    {
     "name": "stdout",
     "output_type": "stream",
     "text": [
      "set min_sample = 7, eps=0.3 \n",
      "vectorizing data...\n",
      "reducing dimensions...\n",
      "clustering...\n",
      "calculating scores...\n",
      "calculate scores\n"
     ]
    },
    {
     "name": "stderr",
     "output_type": "stream",
     "text": [
      "\r",
      " 78%|█████████████████████████████████████████████████████████████▍                 | 7/9 [4:22:19<1:15:04, 2252.01s/it]"
     ]
    },
    {
     "name": "stdout",
     "output_type": "stream",
     "text": [
      "set min_sample = 7, eps=0.5 \n",
      "vectorizing data...\n",
      "reducing dimensions...\n",
      "clustering...\n",
      "calculating scores...\n",
      "calculate scores\n"
     ]
    },
    {
     "name": "stderr",
     "output_type": "stream",
     "text": [
      "\r",
      " 89%|████████████████████████████████████████████████████████████████████████         | 8/9 [4:58:15<37:01, 2221.69s/it]"
     ]
    },
    {
     "name": "stdout",
     "output_type": "stream",
     "text": [
      "set min_sample = 7, eps=0.7 \n",
      "vectorizing data...\n",
      "reducing dimensions...\n",
      "clustering...\n",
      "calculating scores...\n",
      "calculate scores\n"
     ]
    },
    {
     "name": "stderr",
     "output_type": "stream",
     "text": [
      "100%|█████████████████████████████████████████████████████████████████████████████████| 9/9 [5:34:20<00:00, 2228.91s/it]\n"
     ]
    }
   ],
   "source": [
    "texts = BMBF[\"Thema\"]\n",
    "times =[]\n",
    "scores = dict()\n",
    "for min_sample,eps in tqdm(list(product([3,5,7],[0.3,0.5,0.7]))):\n",
    "    \n",
    "    start_time = datetime.datetime.now()\n",
    "    \n",
    "    cluster_labels,score = perform_dbscan(texts, min_sample=min_sample, eps=eps)\n",
    "    BMBF[f\"Thema-{min_sample}-{eps}\"] = cluster_labels\n",
    "    scores[f\"sample={min_sample}, eps={eps}\"] = score\n",
    "    \n",
    "    end_time = datetime.datetime.now()\n",
    "    times.append(end_time-start_time)"
   ]
  },
  {
   "cell_type": "code",
   "execution_count": 44,
   "id": "9fa674fe",
   "metadata": {},
   "outputs": [
    {
     "data": {
      "text/html": [
       "<div>\n",
       "<style scoped>\n",
       "    .dataframe tbody tr th:only-of-type {\n",
       "        vertical-align: middle;\n",
       "    }\n",
       "\n",
       "    .dataframe tbody tr th {\n",
       "        vertical-align: top;\n",
       "    }\n",
       "\n",
       "    .dataframe thead th {\n",
       "        text-align: right;\n",
       "    }\n",
       "</style>\n",
       "<table border=\"1\" class=\"dataframe\">\n",
       "  <thead>\n",
       "    <tr style=\"text-align: right;\">\n",
       "      <th></th>\n",
       "      <th>0</th>\n",
       "      <th>1</th>\n",
       "      <th>2</th>\n",
       "    </tr>\n",
       "  </thead>\n",
       "  <tbody>\n",
       "    <tr>\n",
       "      <th>sample=3, eps=0.3</th>\n",
       "      <td>3.025800</td>\n",
       "      <td>6.342986</td>\n",
       "      <td>-0.361304</td>\n",
       "    </tr>\n",
       "    <tr>\n",
       "      <th>sample=3, eps=0.5</th>\n",
       "      <td>6.807038</td>\n",
       "      <td>0.468475</td>\n",
       "      <td>-0.123646</td>\n",
       "    </tr>\n",
       "    <tr>\n",
       "      <th>sample=3, eps=0.7</th>\n",
       "      <td>6.826709</td>\n",
       "      <td>0.016330</td>\n",
       "      <td>0.022948</td>\n",
       "    </tr>\n",
       "    <tr>\n",
       "      <th>sample=5, eps=0.3</th>\n",
       "      <td>3.378148</td>\n",
       "      <td>12.331760</td>\n",
       "      <td>-0.317897</td>\n",
       "    </tr>\n",
       "    <tr>\n",
       "      <th>sample=5, eps=0.5</th>\n",
       "      <td>6.808407</td>\n",
       "      <td>1.732529</td>\n",
       "      <td>-0.086262</td>\n",
       "    </tr>\n",
       "    <tr>\n",
       "      <th>sample=5, eps=0.7</th>\n",
       "      <td>6.826709</td>\n",
       "      <td>0.016330</td>\n",
       "      <td>0.022948</td>\n",
       "    </tr>\n",
       "    <tr>\n",
       "      <th>sample=7, eps=0.3</th>\n",
       "      <td>3.666554</td>\n",
       "      <td>52.050395</td>\n",
       "      <td>-0.279762</td>\n",
       "    </tr>\n",
       "    <tr>\n",
       "      <th>sample=7, eps=0.5</th>\n",
       "      <td>6.757567</td>\n",
       "      <td>3.870358</td>\n",
       "      <td>-0.065864</td>\n",
       "    </tr>\n",
       "    <tr>\n",
       "      <th>sample=7, eps=0.7</th>\n",
       "      <td>6.826709</td>\n",
       "      <td>0.016330</td>\n",
       "      <td>0.022948</td>\n",
       "    </tr>\n",
       "  </tbody>\n",
       "</table>\n",
       "</div>"
      ],
      "text/plain": [
       "                          0          1         2\n",
       "sample=3, eps=0.3  3.025800   6.342986 -0.361304\n",
       "sample=3, eps=0.5  6.807038   0.468475 -0.123646\n",
       "sample=3, eps=0.7  6.826709   0.016330  0.022948\n",
       "sample=5, eps=0.3  3.378148  12.331760 -0.317897\n",
       "sample=5, eps=0.5  6.808407   1.732529 -0.086262\n",
       "sample=5, eps=0.7  6.826709   0.016330  0.022948\n",
       "sample=7, eps=0.3  3.666554  52.050395 -0.279762\n",
       "sample=7, eps=0.5  6.757567   3.870358 -0.065864\n",
       "sample=7, eps=0.7  6.826709   0.016330  0.022948"
      ]
     },
     "execution_count": 44,
     "metadata": {},
     "output_type": "execute_result"
    }
   ],
   "source": [
    "pd.DataFrame.from_dict(scores).transpose()"
   ]
  },
  {
   "cell_type": "code",
   "execution_count": 73,
   "id": "31bf0413",
   "metadata": {},
   "outputs": [
    {
     "data": {
      "text/html": [
       "<div>\n",
       "<style scoped>\n",
       "    .dataframe tbody tr th:only-of-type {\n",
       "        vertical-align: middle;\n",
       "    }\n",
       "\n",
       "    .dataframe tbody tr th {\n",
       "        vertical-align: top;\n",
       "    }\n",
       "\n",
       "    .dataframe thead th {\n",
       "        text-align: right;\n",
       "    }\n",
       "</style>\n",
       "<table border=\"1\" class=\"dataframe\">\n",
       "  <thead>\n",
       "    <tr style=\"text-align: right;\">\n",
       "      <th></th>\n",
       "      <th>0</th>\n",
       "      <th>1</th>\n",
       "      <th>2</th>\n",
       "    </tr>\n",
       "  </thead>\n",
       "  <tbody>\n",
       "    <tr>\n",
       "      <th>sample=3, eps=0.3</th>\n",
       "      <td>3.036091</td>\n",
       "      <td>6.294135</td>\n",
       "      <td>-0.362556</td>\n",
       "    </tr>\n",
       "    <tr>\n",
       "      <th>sample=3, eps=0.5</th>\n",
       "      <td>6.812955</td>\n",
       "      <td>0.458209</td>\n",
       "      <td>-0.121560</td>\n",
       "    </tr>\n",
       "    <tr>\n",
       "      <th>sample=3, eps=0.7</th>\n",
       "      <td>6.826178</td>\n",
       "      <td>0.016334</td>\n",
       "      <td>0.022944</td>\n",
       "    </tr>\n",
       "    <tr>\n",
       "      <th>sample=5, eps=0.3</th>\n",
       "      <td>3.327823</td>\n",
       "      <td>12.359851</td>\n",
       "      <td>-0.320648</td>\n",
       "    </tr>\n",
       "    <tr>\n",
       "      <th>sample=5, eps=0.5</th>\n",
       "      <td>6.809610</td>\n",
       "      <td>1.833141</td>\n",
       "      <td>-0.084222</td>\n",
       "    </tr>\n",
       "    <tr>\n",
       "      <th>sample=5, eps=0.7</th>\n",
       "      <td>6.826178</td>\n",
       "      <td>0.016334</td>\n",
       "      <td>0.022944</td>\n",
       "    </tr>\n",
       "    <tr>\n",
       "      <th>sample=7, eps=0.3</th>\n",
       "      <td>3.598422</td>\n",
       "      <td>52.537678</td>\n",
       "      <td>-0.280346</td>\n",
       "    </tr>\n",
       "    <tr>\n",
       "      <th>sample=7, eps=0.5</th>\n",
       "      <td>6.765396</td>\n",
       "      <td>3.848555</td>\n",
       "      <td>-0.065733</td>\n",
       "    </tr>\n",
       "    <tr>\n",
       "      <th>sample=7, eps=0.7</th>\n",
       "      <td>6.826178</td>\n",
       "      <td>0.016334</td>\n",
       "      <td>0.022944</td>\n",
       "    </tr>\n",
       "  </tbody>\n",
       "</table>\n",
       "</div>"
      ],
      "text/plain": [
       "                          0          1         2\n",
       "sample=3, eps=0.3  3.036091   6.294135 -0.362556\n",
       "sample=3, eps=0.5  6.812955   0.458209 -0.121560\n",
       "sample=3, eps=0.7  6.826178   0.016334  0.022944\n",
       "sample=5, eps=0.3  3.327823  12.359851 -0.320648\n",
       "sample=5, eps=0.5  6.809610   1.833141 -0.084222\n",
       "sample=5, eps=0.7  6.826178   0.016334  0.022944\n",
       "sample=7, eps=0.3  3.598422  52.537678 -0.280346\n",
       "sample=7, eps=0.5  6.765396   3.848555 -0.065733\n",
       "sample=7, eps=0.7  6.826178   0.016334  0.022944"
      ]
     },
     "execution_count": 73,
     "metadata": {},
     "output_type": "execute_result"
    }
   ],
   "source": [
    "pd.DataFrame.from_dict(clustering_enriched_Thema_scores).transpose()"
   ]
  },
  {
   "cell_type": "markdown",
   "id": "cf6da4c7",
   "metadata": {},
   "source": [
    "store the clustering metrics in a csv file\n",
    "pd.DataFrame.from_dict(clustering_enriched_Thema_scores).transpose().to_csv(\"../results/Thema_scores.csv\")"
   ]
  },
  {
   "cell_type": "markdown",
   "id": "224cb4bc",
   "metadata": {},
   "source": [
    "store the clustering results in a csv file\n",
    "BMBF.loc[:,[col for col in BMBF.columns if col.startswith(\"Thema\")]].to_csv(\"../results/clusters.csv\",index= False)"
   ]
  },
  {
   "cell_type": "code",
   "execution_count": 60,
   "id": "e9e58704",
   "metadata": {},
   "outputs": [
    {
     "name": "stderr",
     "output_type": "stream",
     "text": [
      "\r",
      "  0%|                                                                                             | 0/9 [00:00<?, ?it/s]"
     ]
    },
    {
     "name": "stdout",
     "output_type": "stream",
     "text": [
      "set min_sample = 3, eps=0.3 \n",
      "vectorizing data...\n",
      "reducing dimensions...\n",
      "clustering...\n",
      "calculating scores...\n",
      "calculate scores\n"
     ]
    },
    {
     "name": "stderr",
     "output_type": "stream",
     "text": [
      "\r",
      " 11%|████████▋                                                                     | 1/9 [1:22:41<11:01:34, 4961.80s/it]"
     ]
    },
    {
     "name": "stdout",
     "output_type": "stream",
     "text": [
      "set min_sample = 3, eps=0.5 \n",
      "vectorizing data...\n",
      "reducing dimensions...\n",
      "clustering...\n",
      "calculating scores...\n",
      "calculate scores\n"
     ]
    },
    {
     "name": "stderr",
     "output_type": "stream",
     "text": [
      "\r",
      " 22%|█████████████████▌                                                             | 2/9 [2:05:45<6:55:39, 3562.76s/it]"
     ]
    },
    {
     "name": "stdout",
     "output_type": "stream",
     "text": [
      "set min_sample = 3, eps=0.7 \n",
      "vectorizing data...\n",
      "reducing dimensions...\n",
      "clustering...\n",
      "calculating scores...\n",
      "calculate scores\n"
     ]
    },
    {
     "name": "stderr",
     "output_type": "stream",
     "text": [
      "\r",
      " 33%|██████████████████████████▎                                                    | 3/9 [2:50:32<5:16:19, 3163.17s/it]"
     ]
    },
    {
     "name": "stdout",
     "output_type": "stream",
     "text": [
      "set min_sample = 5, eps=0.3 \n",
      "vectorizing data...\n",
      "reducing dimensions...\n",
      "clustering...\n",
      "calculating scores...\n",
      "calculate scores\n"
     ]
    },
    {
     "name": "stderr",
     "output_type": "stream",
     "text": [
      "\r",
      " 44%|███████████████████████████████████                                            | 4/9 [3:28:14<3:53:56, 2807.32s/it]"
     ]
    },
    {
     "name": "stdout",
     "output_type": "stream",
     "text": [
      "set min_sample = 5, eps=0.5 \n",
      "vectorizing data...\n",
      "reducing dimensions...\n",
      "clustering...\n",
      "calculating scores...\n",
      "calculate scores\n"
     ]
    },
    {
     "name": "stderr",
     "output_type": "stream",
     "text": [
      "\r",
      " 56%|███████████████████████████████████████████▉                                   | 5/9 [4:06:37<2:55:00, 2625.22s/it]"
     ]
    },
    {
     "name": "stdout",
     "output_type": "stream",
     "text": [
      "set min_sample = 5, eps=0.7 \n",
      "vectorizing data...\n",
      "reducing dimensions...\n",
      "clustering...\n",
      "calculating scores...\n",
      "calculate scores\n"
     ]
    },
    {
     "name": "stderr",
     "output_type": "stream",
     "text": [
      "\r",
      " 67%|████████████████████████████████████████████████████▋                          | 6/9 [5:12:02<2:33:22, 3067.41s/it]"
     ]
    },
    {
     "name": "stdout",
     "output_type": "stream",
     "text": [
      "set min_sample = 7, eps=0.3 \n",
      "vectorizing data...\n",
      "reducing dimensions...\n",
      "clustering...\n",
      "calculating scores...\n",
      "calculate scores\n"
     ]
    },
    {
     "name": "stderr",
     "output_type": "stream",
     "text": [
      "\r",
      " 78%|█████████████████████████████████████████████████████████████▍                 | 7/9 [6:21:29<1:54:13, 3426.66s/it]"
     ]
    },
    {
     "name": "stdout",
     "output_type": "stream",
     "text": [
      "set min_sample = 7, eps=0.5 \n",
      "vectorizing data...\n",
      "reducing dimensions...\n",
      "clustering...\n",
      "calculating scores...\n",
      "calculate scores\n"
     ]
    },
    {
     "name": "stderr",
     "output_type": "stream",
     "text": [
      "\r",
      " 89%|██████████████████████████████████████████████████████████████████████▏        | 8/9 [7:30:11<1:00:48, 3648.29s/it]"
     ]
    },
    {
     "name": "stdout",
     "output_type": "stream",
     "text": [
      "set min_sample = 7, eps=0.7 \n",
      "vectorizing data...\n",
      "reducing dimensions...\n",
      "clustering...\n",
      "calculating scores...\n",
      "calculate scores\n"
     ]
    },
    {
     "name": "stderr",
     "output_type": "stream",
     "text": [
      "100%|█████████████████████████████████████████████████████████████████████████████████| 9/9 [8:36:41<00:00, 3444.56s/it]\n"
     ]
    }
   ],
   "source": [
    "texts = BMBF[\"enriched_Thema\"]\n",
    "clustering_enriched_Thema_scores = dict()\n",
    "for min_sample,eps in tqdm(list(product([3,5,7],[0.3,0.5,0.7]))):\n",
    "\n",
    "    cluster_labels,score = perform_dbscan(texts, min_sample=min_sample, eps=eps)\n",
    "    BMBF[f\"enriched_Thema-{min_sample}-{eps}\"] = cluster_labels\n",
    "    clustering_enriched_Thema_scores[f\"sample={min_sample}, eps={eps}\"] = score\n"
   ]
  },
  {
   "cell_type": "markdown",
   "id": "9e864bc7",
   "metadata": {},
   "source": [
    "store the clustering results in a csv file\n",
    "BMBF.loc[:,[col for col in BMBF.columns if col.startswith(\"enriched_Thema\")]].to_csv(\"../results/enriched_clusters.csv\",index= False)"
   ]
  },
  {
   "cell_type": "markdown",
   "id": "39a2c8a7",
   "metadata": {},
   "source": [
    "store the clustering metrics in a csv file\n",
    "pd.DataFrame.from_dict(clustering_enriched_Thema_scores).transpose().to_csv(\"../results/enriched_Thema_scores.csv\")"
   ]
  },
  {
   "cell_type": "code",
   "execution_count": null,
   "id": "ffe6c379",
   "metadata": {},
   "outputs": [],
   "source": []
  },
  {
   "cell_type": "code",
   "execution_count": null,
   "id": "f1b7cc43",
   "metadata": {},
   "outputs": [],
   "source": [
    "rows_order = [0, 4, 1, 5, 2, 6, 3, 7]"
   ]
  }
 ],
 "metadata": {
  "kernelspec": {
   "display_name": "BMBFenv",
   "language": "python",
   "name": "bmbfenv"
  },
  "language_info": {
   "codemirror_mode": {
    "name": "ipython",
    "version": 3
   },
   "file_extension": ".py",
   "mimetype": "text/x-python",
   "name": "python",
   "nbconvert_exporter": "python",
   "pygments_lexer": "ipython3",
   "version": "3.9.6"
  }
 },
 "nbformat": 4,
 "nbformat_minor": 5
}
