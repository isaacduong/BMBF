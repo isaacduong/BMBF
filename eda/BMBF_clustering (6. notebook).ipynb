{
 "cells": [
  {
   "cell_type": "code",
   "execution_count": 1,
   "id": "e78d4eeb",
   "metadata": {},
   "outputs": [],
   "source": [
    "import re\n",
    "import datetime\n",
    "from itertools import product\n",
    "from tqdm import tqdm\n",
    "from collections import defaultdict\n",
    "import warnings\n",
    "warnings.filterwarnings(\"ignore\")\n",
    "\n",
    "import numpy as np\n",
    "import pandas as pd\n",
    "pd.set_option('max_colwidth', None)\n",
    "pd.set_option('display.max_columns', None) \n",
    "import matplotlib.pyplot as plt \n",
    "\n",
    "from sklearn.feature_extraction.text import TfidfVectorizer\n",
    "from sklearn.metrics import silhouette_score\n",
    "from sklearn.metrics import calinski_harabasz_score\n",
    "from sklearn.metrics import davies_bouldin_score\n",
    "from sklearn.cluster import DBSCAN\n",
    "from sklearn.decomposition import TruncatedSVD\n",
    "from sklearn.decomposition import PCA\n",
    "\n",
    "from utils import clean_data, preprocess, remove_url, detect_language, dataframe_table_to_png"
   ]
  },
  {
   "cell_type": "code",
   "execution_count": 2,
   "id": "9a5af66c",
   "metadata": {},
   "outputs": [
    {
     "data": {
      "text/plain": [
       "(272234, 26)"
      ]
     },
     "execution_count": 2,
     "metadata": {},
     "output_type": "execute_result"
    }
   ],
   "source": [
    "# import the dataset\n",
    "BMBF = pd.read_csv(\"../data/cleanedBMBF.csv\")\n",
    "BMBF.shape"
   ]
  },
  {
   "cell_type": "code",
   "execution_count": 3,
   "id": "73884c3d",
   "metadata": {},
   "outputs": [
    {
     "data": {
      "text/plain": [
       "(237, 2)"
      ]
     },
     "execution_count": 3,
     "metadata": {},
     "output_type": "execute_result"
    }
   ],
   "source": [
    "# import the crossref enriched dataset\n",
    "crossref_enrichment = pd.read_csv(\"../data/BMBF_crossref_enrichment.csv\")\n",
    "crossref_enrichment.shape"
   ]
  },
  {
   "cell_type": "code",
   "execution_count": 4,
   "id": "b2c45275",
   "metadata": {},
   "outputs": [
    {
     "data": {
      "text/plain": [
       "169"
      ]
     },
     "execution_count": 4,
     "metadata": {},
     "output_type": "execute_result"
    }
   ],
   "source": [
    "# check how many overlapping grant identifiers (primary keys) (169 are found) \n",
    "mask = set(crossref_enrichment[\"AWARD\"]).intersection(set(BMBF[\"FKZ\"]))\n",
    "len(mask)"
   ]
  },
  {
   "cell_type": "code",
   "execution_count": 397,
   "id": "7b143fdb",
   "metadata": {},
   "outputs": [
    {
     "data": {
      "text/plain": [
       "0.0006207894678842466"
      ]
     },
     "execution_count": 397,
     "metadata": {},
     "output_type": "execute_result"
    }
   ],
   "source": [
    "len(mask)/len(BMBF)"
   ]
  },
  {
   "cell_type": "code",
   "execution_count": 5,
   "id": "b5cc0ee7",
   "metadata": {},
   "outputs": [
    {
     "data": {
      "text/plain": [
       "(169, 2)"
      ]
     },
     "execution_count": 5,
     "metadata": {},
     "output_type": "execute_result"
    }
   ],
   "source": [
    "# remove records that does not have related primary keys in BMBF table\n",
    "crossref_enrichment = crossref_enrichment.loc[crossref_enrichment[\"AWARD\"].isin(list(mask)),:]\n",
    "crossref_enrichment.shape"
   ]
  },
  {
   "cell_type": "code",
   "execution_count": 6,
   "id": "5647fa21",
   "metadata": {},
   "outputs": [],
   "source": [
    "# join 2 dataset\n",
    "BMBF = pd.merge(BMBF,crossref_enrichment,left_on='FKZ', right_on='AWARD', how=\"outer\")"
   ]
  },
  {
   "cell_type": "code",
   "execution_count": 7,
   "id": "0e059052",
   "metadata": {},
   "outputs": [
    {
     "data": {
      "text/plain": [
       "168"
      ]
     },
     "execution_count": 7,
     "metadata": {},
     "output_type": "execute_result"
    }
   ],
   "source": [
    "# change data type to string\n",
    "BMBF[\"crossref_enrichment\"].replace({pd.NA: ''}, inplace=True)\n",
    "BMBF[\"crossref_enrichment\"].nunique()"
   ]
  },
  {
   "cell_type": "code",
   "execution_count": 8,
   "id": "7be489ba",
   "metadata": {},
   "outputs": [],
   "source": [
    "# merge Thema and enriched data\n",
    "BMBF[\"enriched_Thema\"] = BMBF[\"Thema\"] + \" \" + BMBF[\"crossref_enrichment\"]"
   ]
  },
  {
   "cell_type": "code",
   "execution_count": 9,
   "id": "ddc817f5",
   "metadata": {},
   "outputs": [
    {
     "data": {
      "text/html": [
       "<div>\n",
       "<style scoped>\n",
       "    .dataframe tbody tr th:only-of-type {\n",
       "        vertical-align: middle;\n",
       "    }\n",
       "\n",
       "    .dataframe tbody tr th {\n",
       "        vertical-align: top;\n",
       "    }\n",
       "\n",
       "    .dataframe thead th {\n",
       "        text-align: right;\n",
       "    }\n",
       "</style>\n",
       "<table border=\"1\" class=\"dataframe\">\n",
       "  <thead>\n",
       "    <tr style=\"text-align: right;\">\n",
       "      <th></th>\n",
       "      <th>crossref_enrichment</th>\n",
       "      <th>enriched_Thema</th>\n",
       "    </tr>\n",
       "  </thead>\n",
       "  <tbody>\n",
       "    <tr>\n",
       "      <th>90671</th>\n",
       "      <td>Erfassung des subjektiven körperlichen Wohlbefindens bei Herzinsuffizienz</td>\n",
       "      <td>Kompetenznetz Herzinsuffizienz Erfassung des subjektiven körperlichen Wohlbefindens bei Herzinsuffizienz</td>\n",
       "    </tr>\n",
       "    <tr>\n",
       "      <th>106137</th>\n",
       "      <td>Evaluation eines Interventionsansatzes zur Verbesserung von Motivation und motivationsförderlichem Unterrichtshandeln von Lehrkräften auf Basis der Zielorientierungstheorie</td>\n",
       "      <td>Verbundvorhaben: Berufliche Zielorientierungen von Lehrkräften: Entwicklungsbedingungen, Auswirkungen auf berufliche Kompetenzentwicklung, Effekte auf instruktionales Verhalten sowie Lernprozesse und Lernergebnisse von Schülern, Teilprojekt Mannheim Evaluation eines Interventionsansatzes zur Verbesserung von Motivation und motivationsförderlichem Unterrichtshandeln von Lehrkräften auf Basis der Zielorientierungstheorie</td>\n",
       "    </tr>\n",
       "    <tr>\n",
       "      <th>108617</th>\n",
       "      <td>Kovalent‐allosterische Kinase‐Inhibitoren AbstractProteinkinasen repräsentieren wichtige Knotenpunkte intrazellulärer Signalwege und sind somit an vielen physiologischen und pathologischen Prozessen beteiligt. Konformations‐abhängige Eigenschaften dienen hierbei der Feinregulation ihrer enzymatischen Aktivität und Katalyse‐unabhängigen Funktionen. Die Stabilisierung definierter Konformationen ermöglicht detaillierte Analysen solcher Konformations‐abhängiger Funktionen. Hier beschreiben wir das strukturbasierte Design, die Synthese und die Charakterisierung Pleckstrin‐Homologie(PH)‐Domänen‐abhängiger Akt‐Inhibitoren, die einen neuartigen kovalent‐allosterischen Bindungsmodus aufweisen. Durch die kovalente Modifizierung bestimmter Cysteine stabilisieren diese Moleküle die inaktive Kinasekonformation irreversibel. Ihre beträchtliche Inhibitorwirkung und Selektivität bezüglich verwandter Proteinkinasen machen sie zu einem neuartigen Hilfsmittel für die Erforschung chemisch‐biologischer und medizinischer Fragestellungen.</td>\n",
       "      <td>Verbundprojekt: Onkogen, Anteil Technische Universität Dortmund (Teilprojekt 5 und 6b) Kovalent‐allosterische Kinase‐Inhibitoren AbstractProteinkinasen repräsentieren wichtige Knotenpunkte intrazellulärer Signalwege und sind somit an vielen physiologischen und pathologischen Prozessen beteiligt. Konformations‐abhängige Eigenschaften dienen hierbei der Feinregulation ihrer enzymatischen Aktivität und Katalyse‐unabhängigen Funktionen. Die Stabilisierung definierter Konformationen ermöglicht detaillierte Analysen solcher Konformations‐abhängiger Funktionen. Hier beschreiben wir das strukturbasierte Design, die Synthese und die Charakterisierung Pleckstrin‐Homologie(PH)‐Domänen‐abhängiger Akt‐Inhibitoren, die einen neuartigen kovalent‐allosterischen Bindungsmodus aufweisen. Durch die kovalente Modifizierung bestimmter Cysteine stabilisieren diese Moleküle die inaktive Kinasekonformation irreversibel. Ihre beträchtliche Inhibitorwirkung und Selektivität bezüglich verwandter Proteinkinasen machen sie zu einem neuartigen Hilfsmittel für die Erforschung chemisch‐biologischer und medizinischer Fragestellungen.</td>\n",
       "    </tr>\n",
       "    <tr>\n",
       "      <th>110811</th>\n",
       "      <td>Informelles Pflegepotenzial bei Älteren in Deutschland</td>\n",
       "      <td>Hamburger Zentrum für Gesundheitsökonomie - Ökonomische Evaluation der Gesundheitsversorgung chronisch und psychisch Kranker: Teilprojekte TP IIA Nachwuchsgruppe Ökonomische Evaluation psychischer/ pflegeintensiver Erkrankungen, TP IIIB Bevölkerungspräferenzen für Pflege und TP IIIC Patienten Benefit Index Informelles Pflegepotenzial bei Älteren in Deutschland</td>\n",
       "    </tr>\n",
       "    <tr>\n",
       "      <th>116086</th>\n",
       "      <td>Lichtinduzierte Steuerung der Löslichkeit von Polyfluoren zur Steigerung der Leistung in OLEDs AbstractDie Prozessierung organischer Bauelemente aus der Flüssigphase ist ein wichtiger Schritt zur Entwicklung kostengünstiger Fertigungsprozesse. Wir beschreiben eine Methode zur lichtinduzierten Löslichkeitsschaltung eines π‐konjugierten Polymers (Polyfluoren), dessen Seitenketten mit Hydroxyzimtsäureester funktionalisiert sind. Die Belichtung dünner Polymerfilme führt zur Abspaltung der Seitenketten, wodurch die Löslichkeit der Filme drastisch gesenkt wird. In einer ersten Konzeptstudie wurden die synthetisierten Polyfluorene als Emittermaterialien in OLEDs eingesetzt. Belichtung der Emitterschicht führt außer der Löslichkeitsschaltung auch zu einem deutlichen Leistungsanstieg der OLED. Dieser Befund eröffnet die Möglichkeit zur gezielten Manipulation der Löslichkeit und der Emissionseigenschaften einer wichtigen Klasse funktioneller Materialien.</td>\n",
       "      <td>Verbundprojekt: Morphologiekontrolle für effiziente und stabile Bauelemente (MORPHEUS) - Teilvorhaben: Synthese von Akzeptoren und Materialien für SAMs Lichtinduzierte Steuerung der Löslichkeit von Polyfluoren zur Steigerung der Leistung in OLEDs AbstractDie Prozessierung organischer Bauelemente aus der Flüssigphase ist ein wichtiger Schritt zur Entwicklung kostengünstiger Fertigungsprozesse. Wir beschreiben eine Methode zur lichtinduzierten Löslichkeitsschaltung eines π‐konjugierten Polymers (Polyfluoren), dessen Seitenketten mit Hydroxyzimtsäureester funktionalisiert sind. Die Belichtung dünner Polymerfilme führt zur Abspaltung der Seitenketten, wodurch die Löslichkeit der Filme drastisch gesenkt wird. In einer ersten Konzeptstudie wurden die synthetisierten Polyfluorene als Emittermaterialien in OLEDs eingesetzt. Belichtung der Emitterschicht führt außer der Löslichkeitsschaltung auch zu einem deutlichen Leistungsanstieg der OLED. Dieser Befund eröffnet die Möglichkeit zur gezielten Manipulation der Löslichkeit und der Emissionseigenschaften einer wichtigen Klasse funktioneller Materialien.</td>\n",
       "    </tr>\n",
       "    <tr>\n",
       "      <th>...</th>\n",
       "      <td>...</td>\n",
       "      <td>...</td>\n",
       "    </tr>\n",
       "    <tr>\n",
       "      <th>260715</th>\n",
       "      <td>Quo Vadis: Auf dem Weg zu Ethik-Guidelines für den Einsatz KI-basierter Lern-Companions in der Lehre? ZusammenfassungBegünstigt durch die wachsende Relevanz digitaler Unterstützungsangebote für das Lehren und Lernen, bspw. in Schulen und Universitäten, gewinnt der Forschungszweig der Conversational Agents im Bildungskontext an Bedeutung. Sogenannte Lern-Companions, also virtuelle Lern-Gefährten, bieten das Potenzial einer nutzeradaptiven sowie örtlich und zeitlich flexiblen Lernbegleitung. Da mit der Anwendung derart neuartiger Zukunftstechnologien ein hohes ethisches Verantwortungsbewusstsein einhergeht, diskutiert dieser Beitrag Chancen und Herausforderungen durch den Einsatz von Lern-Companions aus ethischer Perspektive. Basierend auf einer qualitativen Studie mit sechs Experten sowie der Diskussion der gewonnenen Erkenntnisse mit bestehender Literatur zeigt dieser Artikel sieben praktische Handlungsempfehlungen zur Gestaltung virtueller Lern-Companions aus einem ethischen Blickwinkel auf und adressiert dabei unter anderem den Umgang mit Ethik-Guidelines, aktive Nutzereinbindung und Bildungsgerechtigkeit.</td>\n",
       "      <td>StudyBuddy: Ein virtueller Companion für die berufliche Weiterbildung Quo Vadis: Auf dem Weg zu Ethik-Guidelines für den Einsatz KI-basierter Lern-Companions in der Lehre? ZusammenfassungBegünstigt durch die wachsende Relevanz digitaler Unterstützungsangebote für das Lehren und Lernen, bspw. in Schulen und Universitäten, gewinnt der Forschungszweig der Conversational Agents im Bildungskontext an Bedeutung. Sogenannte Lern-Companions, also virtuelle Lern-Gefährten, bieten das Potenzial einer nutzeradaptiven sowie örtlich und zeitlich flexiblen Lernbegleitung. Da mit der Anwendung derart neuartiger Zukunftstechnologien ein hohes ethisches Verantwortungsbewusstsein einhergeht, diskutiert dieser Beitrag Chancen und Herausforderungen durch den Einsatz von Lern-Companions aus ethischer Perspektive. Basierend auf einer qualitativen Studie mit sechs Experten sowie der Diskussion der gewonnenen Erkenntnisse mit bestehender Literatur zeigt dieser Artikel sieben praktische Handlungsempfehlungen zur Gestaltung virtueller Lern-Companions aus einem ethischen Blickwinkel auf und adressiert dabei unter anderem den Umgang mit Ethik-Guidelines, aktive Nutzereinbindung und Bildungsgerechtigkeit.</td>\n",
       "    </tr>\n",
       "    <tr>\n",
       "      <th>266726</th>\n",
       "      <td>Development of innovative fiber composite drive shafts in hybrid design—Functional integration and lightweight construction using new material concepts ZusammenfassungIn diesem Beitrag wird Einblick in die Produktentwicklung einer neuartigen Faserverbundantriebswelle in Leichtbauweise gegeben. Durch eine hybride Bauweise aus Faserverbundkunststoffen und technischen Elastomeren wird die Spannungsführung in den lasttragenden Faserverbundbereichen optimiert. Über die bauartbedingte Funktionsintegration von Verlagerungskapazitäten sowie einer hohen Torsionselastizität, bildet die Antriebswelle zudem integrativ Eigenschaften elastischer Kupplungen ab. Dies ermöglicht die Reduktion des Bauraums, der Komponentenanzahl und der Masse des gesamten Antriebsstrangsystems. Der Einsatz der neuartigen Hybridmaterialarchitektur stellt die Produktentwicklung jedoch vor neue Herausforderungen. Insbesondere das Stabilitäts- und Langzeitverhalten wurde bislang nicht umfassend erforscht. Dieser Beitrag stellt die Technologieentwicklung auf Basis von anwendungsgerechten Simulations- und Prüfmethoden vor. Der Fokus liegt auf der experimentellen Konzeptvalidierung, welche durch den Einsatz von optischer Deformationsmesstechnik unterstützt wurde. An Funktionsprototypen wurden Torsionssteifigkeiten und das Stabilitätsverhalten unter hohen Lasten gemessen und Simulationsergebnissen gegenübergestellt. Weiterhin wurde das Langzeit- und Ermüdungsverhalten untersucht, um die Material- und Bauteileigenschaften unter hohen statischen und zyklischen Lasten zu charakterisieren. Aus den Versuchsergebnissen wurden Potenziale in der Produktentwicklung sowie in der Prüftechnik identifiziert.</td>\n",
       "      <td>ELFAS - Elastomerbasierte Dehnungsentkopplung zur Leistungssteigerung von Faserverbundbauteilen Development of innovative fiber composite drive shafts in hybrid design—Functional integration and lightweight construction using new material concepts ZusammenfassungIn diesem Beitrag wird Einblick in die Produktentwicklung einer neuartigen Faserverbundantriebswelle in Leichtbauweise gegeben. Durch eine hybride Bauweise aus Faserverbundkunststoffen und technischen Elastomeren wird die Spannungsführung in den lasttragenden Faserverbundbereichen optimiert. Über die bauartbedingte Funktionsintegration von Verlagerungskapazitäten sowie einer hohen Torsionselastizität, bildet die Antriebswelle zudem integrativ Eigenschaften elastischer Kupplungen ab. Dies ermöglicht die Reduktion des Bauraums, der Komponentenanzahl und der Masse des gesamten Antriebsstrangsystems. Der Einsatz der neuartigen Hybridmaterialarchitektur stellt die Produktentwicklung jedoch vor neue Herausforderungen. Insbesondere das Stabilitäts- und Langzeitverhalten wurde bislang nicht umfassend erforscht. Dieser Beitrag stellt die Technologieentwicklung auf Basis von anwendungsgerechten Simulations- und Prüfmethoden vor. Der Fokus liegt auf der experimentellen Konzeptvalidierung, welche durch den Einsatz von optischer Deformationsmesstechnik unterstützt wurde. An Funktionsprototypen wurden Torsionssteifigkeiten und das Stabilitätsverhalten unter hohen Lasten gemessen und Simulationsergebnissen gegenübergestellt. Weiterhin wurde das Langzeit- und Ermüdungsverhalten untersucht, um die Material- und Bauteileigenschaften unter hohen statischen und zyklischen Lasten zu charakterisieren. Aus den Versuchsergebnissen wurden Potenziale in der Produktentwicklung sowie in der Prüftechnik identifiziert.</td>\n",
       "    </tr>\n",
       "    <tr>\n",
       "      <th>270591</th>\n",
       "      <td>Dekolonisiert Euch! Kritische Betrachtungen der Friedens- und Konfliktforschung ZusammenfassungDie Gegenwart der kolonialen und imperialen Vergangenheit ist in den letzten Jahren auch in Deutschland zunehmend zum Gegenstand öffentlicher Diskurse geworden. So überrascht es nicht, dass sich auch die Friedens- und Konfliktforschung vermehrt mit diesem Thema befasst, richtet sich ihr Fokus doch häufig auf Konflikte, die sich außerhalb Europas oder an den Peripherien des Kontinents ereignen, diesen aber oft direkt betreffen und mit der europäischen Geschichte aufs Engste verflochten sind. Vor diesem Hintergrund wirft dieses Forum Schlaglichter auf einige aktuelle Debatten, die sich der postkolonialen Gegenwart stellen. Die Zusammenstellung der Beiträge ist einem interdisziplinären Verständnis des Forschungsfelds verpflichtet, neben den Sozialwissenschaften kommen auch die Geschichts- und die Rechtswissenschaften zu Wort. Der Titel des Forums – Dekolonisiert Euch! – ist bewusst herausfordernd gewählt. Er will das bereits Erreichte nicht leugnen, sondern daran erinnern, dass Entwicklungen in der Gegenwart immer wieder neu zur Reflexion der kolonialen Vergangenheit auffordern.</td>\n",
       "      <td>Verbundvorhaben: Postkoloniale Hierarchien in Frieden &amp; Konflikt. Teilvorhaben: Perspektiven auf Gerechtigkeit Dekolonisiert Euch! Kritische Betrachtungen der Friedens- und Konfliktforschung ZusammenfassungDie Gegenwart der kolonialen und imperialen Vergangenheit ist in den letzten Jahren auch in Deutschland zunehmend zum Gegenstand öffentlicher Diskurse geworden. So überrascht es nicht, dass sich auch die Friedens- und Konfliktforschung vermehrt mit diesem Thema befasst, richtet sich ihr Fokus doch häufig auf Konflikte, die sich außerhalb Europas oder an den Peripherien des Kontinents ereignen, diesen aber oft direkt betreffen und mit der europäischen Geschichte aufs Engste verflochten sind. Vor diesem Hintergrund wirft dieses Forum Schlaglichter auf einige aktuelle Debatten, die sich der postkolonialen Gegenwart stellen. Die Zusammenstellung der Beiträge ist einem interdisziplinären Verständnis des Forschungsfelds verpflichtet, neben den Sozialwissenschaften kommen auch die Geschichts- und die Rechtswissenschaften zu Wort. Der Titel des Forums – Dekolonisiert Euch! – ist bewusst herausfordernd gewählt. Er will das bereits Erreichte nicht leugnen, sondern daran erinnern, dass Entwicklungen in der Gegenwart immer wieder neu zur Reflexion der kolonialen Vergangenheit auffordern.</td>\n",
       "    </tr>\n",
       "    <tr>\n",
       "      <th>270599</th>\n",
       "      <td>Friedensbildung otherwise? ZusammenfassungAuf Basis dekolonialer Theorien wird in diesem Beitrag ausgelotet, ob und wie Friedensbildung eine dekoloniale Ausrichtung erfahren kann. Hierzu werden die Kontexte und Implikationen des decolonial turn in der Friedens- und Konfliktforschung und der Friedensbildung nachgezeichnet. Im Fokus des Beitrags steht die Konturierung einer dekolonial informierten Friedensbildung als Wegbereiterin für eine Friedensbildung otherwise. Eine dekolonial informierte Friedensbildung nimmt die Möglichkeiten und Herausforderungen von Friedensbildung in den Blick und beruht auf der Kritik des dominanten modern-liberalen Friedensbegriffes, auf der Erweiterung des Gewaltbegriffs um eine onto-epistemische Ebene, sowie auf einer Pluriversalisierung von Friedensverständnissen vor dem Hintergrund der Auseinandersetzung mit (De)Kolonialität. Die Analyse und Hinterfragung eines von kolonialen Herrschafts‑, Gewalt- und Machtverhältnissen geprägten Status Quo ist dabei grundlegend, um diese Verhältnisse in der Friedensbildung einer Bearbeitung zugänglich zu machen.</td>\n",
       "      <td>Verbundvorhaben: Bayerisches Zentrum für Friedens- und Konfliktforschung. Teilvorhaben: Augsburg: Deutungskämpfe um Frieden, Konflikte, Krieg und Gewalt Friedensbildung otherwise? ZusammenfassungAuf Basis dekolonialer Theorien wird in diesem Beitrag ausgelotet, ob und wie Friedensbildung eine dekoloniale Ausrichtung erfahren kann. Hierzu werden die Kontexte und Implikationen des decolonial turn in der Friedens- und Konfliktforschung und der Friedensbildung nachgezeichnet. Im Fokus des Beitrags steht die Konturierung einer dekolonial informierten Friedensbildung als Wegbereiterin für eine Friedensbildung otherwise. Eine dekolonial informierte Friedensbildung nimmt die Möglichkeiten und Herausforderungen von Friedensbildung in den Blick und beruht auf der Kritik des dominanten modern-liberalen Friedensbegriffes, auf der Erweiterung des Gewaltbegriffs um eine onto-epistemische Ebene, sowie auf einer Pluriversalisierung von Friedensverständnissen vor dem Hintergrund der Auseinandersetzung mit (De)Kolonialität. Die Analyse und Hinterfragung eines von kolonialen Herrschafts‑, Gewalt- und Machtverhältnissen geprägten Status Quo ist dabei grundlegend, um diese Verhältnisse in der Friedensbildung einer Bearbeitung zugänglich zu machen.</td>\n",
       "    </tr>\n",
       "    <tr>\n",
       "      <th>270782</th>\n",
       "      <td>Virtuelle Welten in der Fernlehre – Eine Studie der Fernhochschule AKAD University ZusammenfassungDie Corona-Pandemie hat die Welt der Hochschullehre in vielerlei Hinsicht verändert. In Folge der Beschränkungen häufig eingesetzte Videokonferenzlösungen erwiesen sich für einige Themen als guter Ersatz bei gleichzeitiger Erhöhung der örtlichen Flexibilität. Es wurde aber auch offensichtlich, dass es Lehrformate gibt, die per Videokonferenz nicht ideal umsetzbar sind. Dazu zählen u. a. Seminare mit starkem Fokus auf Gruppenarbeit oder Kursinhalte, die viel Hilfestellung durch den Dozierenden erfordern. Virtuelle Welten werden in diesen Fällen aufgrund ihrer sozialen und räumlichen Präsenz als potenziell bessere Alternative zu Videokonferenzen identifiziert. Als besonders problematisch werden an der Institution, einer deutschen Fernhochschule, zwei Seminare identifiziert, nämlich ein Programmierseminar und ein Wirtschaftsplanspiel. Hierfür wird eine prototypische Lösung mit der virtuellen Welt von TriCAT spaces explorativ gestaltet, durchgeführt und evaluiert. Wir stellen vor, wie diese beiden Seminare erfolgreich in eine virtuelle Welt portiert werden können. Die Evaluierung der Stichprobe (N = 23) zeigt, dass die Umsetzung in 3D demselben Seminar in Zoom in Bezug auf Flow-Erleben zwar nur leicht überlegen ist, allerdings trotzdem die meisten die 3D-Variante vorziehen. Bei der Beobachtung der 3D-Seminare identifizieren wir Verbesserungsmöglichkeiten für nachfolgende Prototypen und legen den Grundstein für vertiefende Forschungen.</td>\n",
       "      <td>Verbundprojekt: Anbindung einer virtuell-immersiven 3D-Lernplattform an die NBP am Domänenbeispiel eines Bildungsträgers - AVILAB, Teilvorhaben: AKAD mbH Virtuelle Welten in der Fernlehre – Eine Studie der Fernhochschule AKAD University ZusammenfassungDie Corona-Pandemie hat die Welt der Hochschullehre in vielerlei Hinsicht verändert. In Folge der Beschränkungen häufig eingesetzte Videokonferenzlösungen erwiesen sich für einige Themen als guter Ersatz bei gleichzeitiger Erhöhung der örtlichen Flexibilität. Es wurde aber auch offensichtlich, dass es Lehrformate gibt, die per Videokonferenz nicht ideal umsetzbar sind. Dazu zählen u. a. Seminare mit starkem Fokus auf Gruppenarbeit oder Kursinhalte, die viel Hilfestellung durch den Dozierenden erfordern. Virtuelle Welten werden in diesen Fällen aufgrund ihrer sozialen und räumlichen Präsenz als potenziell bessere Alternative zu Videokonferenzen identifiziert. Als besonders problematisch werden an der Institution, einer deutschen Fernhochschule, zwei Seminare identifiziert, nämlich ein Programmierseminar und ein Wirtschaftsplanspiel. Hierfür wird eine prototypische Lösung mit der virtuellen Welt von TriCAT spaces explorativ gestaltet, durchgeführt und evaluiert. Wir stellen vor, wie diese beiden Seminare erfolgreich in eine virtuelle Welt portiert werden können. Die Evaluierung der Stichprobe (N = 23) zeigt, dass die Umsetzung in 3D demselben Seminar in Zoom in Bezug auf Flow-Erleben zwar nur leicht überlegen ist, allerdings trotzdem die meisten die 3D-Variante vorziehen. Bei der Beobachtung der 3D-Seminare identifizieren wir Verbesserungsmöglichkeiten für nachfolgende Prototypen und legen den Grundstein für vertiefende Forschungen.</td>\n",
       "    </tr>\n",
       "  </tbody>\n",
       "</table>\n",
       "<p>169 rows × 2 columns</p>\n",
       "</div>"
      ],
      "text/plain": [
       "                                                                                                                                                                                                                                                                                                                                                                                                                                                                                                                                                                                                                                                                                                                                                                                                                                                                                                                                                                                                                                                                                                                                                                                                                                                                                                                                                                                                                                                                                                                                                                                                                                                                                                                                      crossref_enrichment  \\\n",
       "90671                                                                                                                                                                                                                                                                                                                                                                                                                                                                                                                                                                                                                                                                                                                                                                                                                                                                                                                                                                                                                                                                                                                                                                                                                                                                                                                                                                                                                                                                                                                                                                                                                                                                          Erfassung des subjektiven körperlichen Wohlbefindens bei Herzinsuffizienz    \n",
       "106137                                                                                                                                                                                                                                                                                                                                                                                                                                                                                                                                                                                                                                                                                                                                                                                                                                                                                                                                                                                                                                                                                                                                                                                                                                                                                                                                                                                                                                                                                                                                                                      Evaluation eines Interventionsansatzes zur Verbesserung von Motivation und motivationsförderlichem Unterrichtshandeln von Lehrkräften auf Basis der Zielorientierungstheorie    \n",
       "108617                                                                                                                                                                                                                                                                                                                                                                                                                                                                                                                                                                                                                                                                            Kovalent‐allosterische Kinase‐Inhibitoren AbstractProteinkinasen repräsentieren wichtige Knotenpunkte intrazellulärer Signalwege und sind somit an vielen physiologischen und pathologischen Prozessen beteiligt. Konformations‐abhängige Eigenschaften dienen hierbei der Feinregulation ihrer enzymatischen Aktivität und Katalyse‐unabhängigen Funktionen. Die Stabilisierung definierter Konformationen ermöglicht detaillierte Analysen solcher Konformations‐abhängiger Funktionen. Hier beschreiben wir das strukturbasierte Design, die Synthese und die Charakterisierung Pleckstrin‐Homologie(PH)‐Domänen‐abhängiger Akt‐Inhibitoren, die einen neuartigen kovalent‐allosterischen Bindungsmodus aufweisen. Durch die kovalente Modifizierung bestimmter Cysteine stabilisieren diese Moleküle die inaktive Kinasekonformation irreversibel. Ihre beträchtliche Inhibitorwirkung und Selektivität bezüglich verwandter Proteinkinasen machen sie zu einem neuartigen Hilfsmittel für die Erforschung chemisch‐biologischer und medizinischer Fragestellungen.   \n",
       "110811                                                                                                                                                                                                                                                                                                                                                                                                                                                                                                                                                                                                                                                                                                                                                                                                                                                                                                                                                                                                                                                                                                                                                                                                                                                                                                                                                                                                                                                                                                                                                                                                                                                                                            Informelles Pflegepotenzial bei Älteren in Deutschland    \n",
       "116086                                                                                                                                                                                                                                                                                                                                                                                                                                                                                                                                                                                                                                                                                                                                                     Lichtinduzierte Steuerung der Löslichkeit von Polyfluoren zur Steigerung der Leistung in OLEDs AbstractDie Prozessierung organischer Bauelemente aus der Flüssigphase ist ein wichtiger Schritt zur Entwicklung kostengünstiger Fertigungsprozesse. Wir beschreiben eine Methode zur lichtinduzierten Löslichkeitsschaltung eines π‐konjugierten Polymers (Polyfluoren), dessen Seitenketten mit Hydroxyzimtsäureester funktionalisiert sind. Die Belichtung dünner Polymerfilme führt zur Abspaltung der Seitenketten, wodurch die Löslichkeit der Filme drastisch gesenkt wird. In einer ersten Konzeptstudie wurden die synthetisierten Polyfluorene als Emittermaterialien in OLEDs eingesetzt. Belichtung der Emitterschicht führt außer der Löslichkeitsschaltung auch zu einem deutlichen Leistungsanstieg der OLED. Dieser Befund eröffnet die Möglichkeit zur gezielten Manipulation der Löslichkeit und der Emissionseigenschaften einer wichtigen Klasse funktioneller Materialien.   \n",
       "...                                                                                                                                                                                                                                                                                                                                                                                                                                                                                                                                                                                                                                                                                                                                                                                                                                                                                                                                                                                                                                                                                                                                                                                                                                                                                                                                                                                                                                                                                                                                                                                                                                                                                                                                                   ...   \n",
       "260715                                                                                                                                                                                                                                                                                                                                                                                                                                                                                                                                                                              Quo Vadis: Auf dem Weg zu Ethik-Guidelines für den Einsatz KI-basierter Lern-Companions in der Lehre? ZusammenfassungBegünstigt durch die wachsende Relevanz digitaler Unterstützungsangebote für das Lehren und Lernen, bspw. in Schulen und Universitäten, gewinnt der Forschungszweig der Conversational Agents im Bildungskontext an Bedeutung. Sogenannte Lern-Companions, also virtuelle Lern-Gefährten, bieten das Potenzial einer nutzeradaptiven sowie örtlich und zeitlich flexiblen Lernbegleitung. Da mit der Anwendung derart neuartiger Zukunftstechnologien ein hohes ethisches Verantwortungsbewusstsein einhergeht, diskutiert dieser Beitrag Chancen und Herausforderungen durch den Einsatz von Lern-Companions aus ethischer Perspektive. Basierend auf einer qualitativen Studie mit sechs Experten sowie der Diskussion der gewonnenen Erkenntnisse mit bestehender Literatur zeigt dieser Artikel sieben praktische Handlungsempfehlungen zur Gestaltung virtueller Lern-Companions aus einem ethischen Blickwinkel auf und adressiert dabei unter anderem den Umgang mit Ethik-Guidelines, aktive Nutzereinbindung und Bildungsgerechtigkeit.   \n",
       "266726  Development of innovative fiber composite drive shafts in hybrid design—Functional integration and lightweight construction using new material concepts ZusammenfassungIn diesem Beitrag wird Einblick in die Produktentwicklung einer neuartigen Faserverbundantriebswelle in Leichtbauweise gegeben. Durch eine hybride Bauweise aus Faserverbundkunststoffen und technischen Elastomeren wird die Spannungsführung in den lasttragenden Faserverbundbereichen optimiert. Über die bauartbedingte Funktionsintegration von Verlagerungskapazitäten sowie einer hohen Torsionselastizität, bildet die Antriebswelle zudem integrativ Eigenschaften elastischer Kupplungen ab. Dies ermöglicht die Reduktion des Bauraums, der Komponentenanzahl und der Masse des gesamten Antriebsstrangsystems. Der Einsatz der neuartigen Hybridmaterialarchitektur stellt die Produktentwicklung jedoch vor neue Herausforderungen. Insbesondere das Stabilitäts- und Langzeitverhalten wurde bislang nicht umfassend erforscht. Dieser Beitrag stellt die Technologieentwicklung auf Basis von anwendungsgerechten Simulations- und Prüfmethoden vor. Der Fokus liegt auf der experimentellen Konzeptvalidierung, welche durch den Einsatz von optischer Deformationsmesstechnik unterstützt wurde. An Funktionsprototypen wurden Torsionssteifigkeiten und das Stabilitätsverhalten unter hohen Lasten gemessen und Simulationsergebnissen gegenübergestellt. Weiterhin wurde das Langzeit- und Ermüdungsverhalten untersucht, um die Material- und Bauteileigenschaften unter hohen statischen und zyklischen Lasten zu charakterisieren. Aus den Versuchsergebnissen wurden Potenziale in der Produktentwicklung sowie in der Prüftechnik identifiziert.   \n",
       "270591                                                                                                                                                                                                                                                                                                                                                                                                                                                                                                                Dekolonisiert Euch! Kritische Betrachtungen der Friedens- und Konfliktforschung ZusammenfassungDie Gegenwart der kolonialen und imperialen Vergangenheit ist in den letzten Jahren auch in Deutschland zunehmend zum Gegenstand öffentlicher Diskurse geworden. So überrascht es nicht, dass sich auch die Friedens- und Konfliktforschung vermehrt mit diesem Thema befasst, richtet sich ihr Fokus doch häufig auf Konflikte, die sich außerhalb Europas oder an den Peripherien des Kontinents ereignen, diesen aber oft direkt betreffen und mit der europäischen Geschichte aufs Engste verflochten sind. Vor diesem Hintergrund wirft dieses Forum Schlaglichter auf einige aktuelle Debatten, die sich der postkolonialen Gegenwart stellen. Die Zusammenstellung der Beiträge ist einem interdisziplinären Verständnis des Forschungsfelds verpflichtet, neben den Sozialwissenschaften kommen auch die Geschichts- und die Rechtswissenschaften zu Wort. Der Titel des Forums – Dekolonisiert Euch! – ist bewusst herausfordernd gewählt. Er will das bereits Erreichte nicht leugnen, sondern daran erinnern, dass Entwicklungen in der Gegenwart immer wieder neu zur Reflexion der kolonialen Vergangenheit auffordern.   \n",
       "270599                                                                                                                                                                                                                                                                                                                                                                                                                                                                                                                                                                                                              Friedensbildung otherwise? ZusammenfassungAuf Basis dekolonialer Theorien wird in diesem Beitrag ausgelotet, ob und wie Friedensbildung eine dekoloniale Ausrichtung erfahren kann. Hierzu werden die Kontexte und Implikationen des decolonial turn in der Friedens- und Konfliktforschung und der Friedensbildung nachgezeichnet. Im Fokus des Beitrags steht die Konturierung einer dekolonial informierten Friedensbildung als Wegbereiterin für eine Friedensbildung otherwise. Eine dekolonial informierte Friedensbildung nimmt die Möglichkeiten und Herausforderungen von Friedensbildung in den Blick und beruht auf der Kritik des dominanten modern-liberalen Friedensbegriffes, auf der Erweiterung des Gewaltbegriffs um eine onto-epistemische Ebene, sowie auf einer Pluriversalisierung von Friedensverständnissen vor dem Hintergrund der Auseinandersetzung mit (De)Kolonialität. Die Analyse und Hinterfragung eines von kolonialen Herrschafts‑, Gewalt- und Machtverhältnissen geprägten Status Quo ist dabei grundlegend, um diese Verhältnisse in der Friedensbildung einer Bearbeitung zugänglich zu machen.   \n",
       "270782                                                                                                                                   Virtuelle Welten in der Fernlehre – Eine Studie der Fernhochschule AKAD University ZusammenfassungDie Corona-Pandemie hat die Welt der Hochschullehre in vielerlei Hinsicht verändert. In Folge der Beschränkungen häufig eingesetzte Videokonferenzlösungen erwiesen sich für einige Themen als guter Ersatz bei gleichzeitiger Erhöhung der örtlichen Flexibilität. Es wurde aber auch offensichtlich, dass es Lehrformate gibt, die per Videokonferenz nicht ideal umsetzbar sind. Dazu zählen u. a. Seminare mit starkem Fokus auf Gruppenarbeit oder Kursinhalte, die viel Hilfestellung durch den Dozierenden erfordern. Virtuelle Welten werden in diesen Fällen aufgrund ihrer sozialen und räumlichen Präsenz als potenziell bessere Alternative zu Videokonferenzen identifiziert. Als besonders problematisch werden an der Institution, einer deutschen Fernhochschule, zwei Seminare identifiziert, nämlich ein Programmierseminar und ein Wirtschaftsplanspiel. Hierfür wird eine prototypische Lösung mit der virtuellen Welt von TriCAT spaces explorativ gestaltet, durchgeführt und evaluiert. Wir stellen vor, wie diese beiden Seminare erfolgreich in eine virtuelle Welt portiert werden können. Die Evaluierung der Stichprobe (N = 23) zeigt, dass die Umsetzung in 3D demselben Seminar in Zoom in Bezug auf Flow-Erleben zwar nur leicht überlegen ist, allerdings trotzdem die meisten die 3D-Variante vorziehen. Bei der Beobachtung der 3D-Seminare identifizieren wir Verbesserungsmöglichkeiten für nachfolgende Prototypen und legen den Grundstein für vertiefende Forschungen.   \n",
       "\n",
       "                                                                                                                                                                                                                                                                                                                                                                                                                                                                                                                                                                                                                                                                                                                                                                                                                                                                                                                                                                                                                                                                                                                                                                                                                                                                                                                                                                                                                                                                                                                                                                                                                                                                                                                                                                                                                                           enriched_Thema  \n",
       "90671                                                                                                                                                                                                                                                                                                                                                                                                                                                                                                                                                                                                                                                                                                                                                                                                                                                                                                                                                                                                                                                                                                                                                                                                                                                                                                                                                                                                                                                                                                                                                                                                                                                                                                                                           Kompetenznetz Herzinsuffizienz Erfassung des subjektiven körperlichen Wohlbefindens bei Herzinsuffizienz   \n",
       "106137                                                                                                                                                                                                                                                                                                                                                                                                                                                                                                                                                                                                                                                                                                                                                                                                                                                                                                                                                                                                                                                                                                                                                                                                                                                                                                                                                                                                            Verbundvorhaben: Berufliche Zielorientierungen von Lehrkräften: Entwicklungsbedingungen, Auswirkungen auf berufliche Kompetenzentwicklung, Effekte auf instruktionales Verhalten sowie Lernprozesse und Lernergebnisse von Schülern, Teilprojekt Mannheim Evaluation eines Interventionsansatzes zur Verbesserung von Motivation und motivationsförderlichem Unterrichtshandeln von Lehrkräften auf Basis der Zielorientierungstheorie   \n",
       "108617                                                                                                                                                                                                                                                                                                                                                                                                                                                                                                                                                                                                                                                                                     Verbundprojekt: Onkogen, Anteil Technische Universität Dortmund (Teilprojekt 5 und 6b) Kovalent‐allosterische Kinase‐Inhibitoren AbstractProteinkinasen repräsentieren wichtige Knotenpunkte intrazellulärer Signalwege und sind somit an vielen physiologischen und pathologischen Prozessen beteiligt. Konformations‐abhängige Eigenschaften dienen hierbei der Feinregulation ihrer enzymatischen Aktivität und Katalyse‐unabhängigen Funktionen. Die Stabilisierung definierter Konformationen ermöglicht detaillierte Analysen solcher Konformations‐abhängiger Funktionen. Hier beschreiben wir das strukturbasierte Design, die Synthese und die Charakterisierung Pleckstrin‐Homologie(PH)‐Domänen‐abhängiger Akt‐Inhibitoren, die einen neuartigen kovalent‐allosterischen Bindungsmodus aufweisen. Durch die kovalente Modifizierung bestimmter Cysteine stabilisieren diese Moleküle die inaktive Kinasekonformation irreversibel. Ihre beträchtliche Inhibitorwirkung und Selektivität bezüglich verwandter Proteinkinasen machen sie zu einem neuartigen Hilfsmittel für die Erforschung chemisch‐biologischer und medizinischer Fragestellungen.  \n",
       "110811                                                                                                                                                                                                                                                                                                                                                                                                                                                                                                                                                                                                                                                                                                                                                                                                                                                                                                                                                                                                                                                                                                                                                                                                                                                                                                                                                                                                                                                                        Hamburger Zentrum für Gesundheitsökonomie - Ökonomische Evaluation der Gesundheitsversorgung chronisch und psychisch Kranker: Teilprojekte TP IIA Nachwuchsgruppe Ökonomische Evaluation psychischer/ pflegeintensiver Erkrankungen, TP IIIB Bevölkerungspräferenzen für Pflege und TP IIIC Patienten Benefit Index Informelles Pflegepotenzial bei Älteren in Deutschland   \n",
       "116086                                                                                                                                                                                                                                                                                                                                                                                                                                                                                                                                                                                                                                                                                             Verbundprojekt: Morphologiekontrolle für effiziente und stabile Bauelemente (MORPHEUS) - Teilvorhaben: Synthese von Akzeptoren und Materialien für SAMs Lichtinduzierte Steuerung der Löslichkeit von Polyfluoren zur Steigerung der Leistung in OLEDs AbstractDie Prozessierung organischer Bauelemente aus der Flüssigphase ist ein wichtiger Schritt zur Entwicklung kostengünstiger Fertigungsprozesse. Wir beschreiben eine Methode zur lichtinduzierten Löslichkeitsschaltung eines π‐konjugierten Polymers (Polyfluoren), dessen Seitenketten mit Hydroxyzimtsäureester funktionalisiert sind. Die Belichtung dünner Polymerfilme führt zur Abspaltung der Seitenketten, wodurch die Löslichkeit der Filme drastisch gesenkt wird. In einer ersten Konzeptstudie wurden die synthetisierten Polyfluorene als Emittermaterialien in OLEDs eingesetzt. Belichtung der Emitterschicht führt außer der Löslichkeitsschaltung auch zu einem deutlichen Leistungsanstieg der OLED. Dieser Befund eröffnet die Möglichkeit zur gezielten Manipulation der Löslichkeit und der Emissionseigenschaften einer wichtigen Klasse funktioneller Materialien.  \n",
       "...                                                                                                                                                                                                                                                                                                                                                                                                                                                                                                                                                                                                                                                                                                                                                                                                                                                                                                                                                                                                                                                                                                                                                                                                                                                                                                                                                                                                                                                                                                                                                                                                                                                                                                                                                                                                                                                   ...  \n",
       "260715                                                                                                                                                                                                                                                                                                                                                                                                                                                                                                                                                                                                        StudyBuddy: Ein virtueller Companion für die berufliche Weiterbildung Quo Vadis: Auf dem Weg zu Ethik-Guidelines für den Einsatz KI-basierter Lern-Companions in der Lehre? ZusammenfassungBegünstigt durch die wachsende Relevanz digitaler Unterstützungsangebote für das Lehren und Lernen, bspw. in Schulen und Universitäten, gewinnt der Forschungszweig der Conversational Agents im Bildungskontext an Bedeutung. Sogenannte Lern-Companions, also virtuelle Lern-Gefährten, bieten das Potenzial einer nutzeradaptiven sowie örtlich und zeitlich flexiblen Lernbegleitung. Da mit der Anwendung derart neuartiger Zukunftstechnologien ein hohes ethisches Verantwortungsbewusstsein einhergeht, diskutiert dieser Beitrag Chancen und Herausforderungen durch den Einsatz von Lern-Companions aus ethischer Perspektive. Basierend auf einer qualitativen Studie mit sechs Experten sowie der Diskussion der gewonnenen Erkenntnisse mit bestehender Literatur zeigt dieser Artikel sieben praktische Handlungsempfehlungen zur Gestaltung virtueller Lern-Companions aus einem ethischen Blickwinkel auf und adressiert dabei unter anderem den Umgang mit Ethik-Guidelines, aktive Nutzereinbindung und Bildungsgerechtigkeit.  \n",
       "266726  ELFAS - Elastomerbasierte Dehnungsentkopplung zur Leistungssteigerung von Faserverbundbauteilen Development of innovative fiber composite drive shafts in hybrid design—Functional integration and lightweight construction using new material concepts ZusammenfassungIn diesem Beitrag wird Einblick in die Produktentwicklung einer neuartigen Faserverbundantriebswelle in Leichtbauweise gegeben. Durch eine hybride Bauweise aus Faserverbundkunststoffen und technischen Elastomeren wird die Spannungsführung in den lasttragenden Faserverbundbereichen optimiert. Über die bauartbedingte Funktionsintegration von Verlagerungskapazitäten sowie einer hohen Torsionselastizität, bildet die Antriebswelle zudem integrativ Eigenschaften elastischer Kupplungen ab. Dies ermöglicht die Reduktion des Bauraums, der Komponentenanzahl und der Masse des gesamten Antriebsstrangsystems. Der Einsatz der neuartigen Hybridmaterialarchitektur stellt die Produktentwicklung jedoch vor neue Herausforderungen. Insbesondere das Stabilitäts- und Langzeitverhalten wurde bislang nicht umfassend erforscht. Dieser Beitrag stellt die Technologieentwicklung auf Basis von anwendungsgerechten Simulations- und Prüfmethoden vor. Der Fokus liegt auf der experimentellen Konzeptvalidierung, welche durch den Einsatz von optischer Deformationsmesstechnik unterstützt wurde. An Funktionsprototypen wurden Torsionssteifigkeiten und das Stabilitätsverhalten unter hohen Lasten gemessen und Simulationsergebnissen gegenübergestellt. Weiterhin wurde das Langzeit- und Ermüdungsverhalten untersucht, um die Material- und Bauteileigenschaften unter hohen statischen und zyklischen Lasten zu charakterisieren. Aus den Versuchsergebnissen wurden Potenziale in der Produktentwicklung sowie in der Prüftechnik identifiziert.  \n",
       "270591                                                                                                                                                                                                                                                                                                                                                                                                                                                                                                 Verbundvorhaben: Postkoloniale Hierarchien in Frieden & Konflikt. Teilvorhaben: Perspektiven auf Gerechtigkeit Dekolonisiert Euch! Kritische Betrachtungen der Friedens- und Konfliktforschung ZusammenfassungDie Gegenwart der kolonialen und imperialen Vergangenheit ist in den letzten Jahren auch in Deutschland zunehmend zum Gegenstand öffentlicher Diskurse geworden. So überrascht es nicht, dass sich auch die Friedens- und Konfliktforschung vermehrt mit diesem Thema befasst, richtet sich ihr Fokus doch häufig auf Konflikte, die sich außerhalb Europas oder an den Peripherien des Kontinents ereignen, diesen aber oft direkt betreffen und mit der europäischen Geschichte aufs Engste verflochten sind. Vor diesem Hintergrund wirft dieses Forum Schlaglichter auf einige aktuelle Debatten, die sich der postkolonialen Gegenwart stellen. Die Zusammenstellung der Beiträge ist einem interdisziplinären Verständnis des Forschungsfelds verpflichtet, neben den Sozialwissenschaften kommen auch die Geschichts- und die Rechtswissenschaften zu Wort. Der Titel des Forums – Dekolonisiert Euch! – ist bewusst herausfordernd gewählt. Er will das bereits Erreichte nicht leugnen, sondern daran erinnern, dass Entwicklungen in der Gegenwart immer wieder neu zur Reflexion der kolonialen Vergangenheit auffordern.  \n",
       "270599                                                                                                                                                                                                                                                                                                                                                                                                                                                                                                                                                     Verbundvorhaben: Bayerisches Zentrum für Friedens- und Konfliktforschung. Teilvorhaben: Augsburg: Deutungskämpfe um Frieden, Konflikte, Krieg und Gewalt Friedensbildung otherwise? ZusammenfassungAuf Basis dekolonialer Theorien wird in diesem Beitrag ausgelotet, ob und wie Friedensbildung eine dekoloniale Ausrichtung erfahren kann. Hierzu werden die Kontexte und Implikationen des decolonial turn in der Friedens- und Konfliktforschung und der Friedensbildung nachgezeichnet. Im Fokus des Beitrags steht die Konturierung einer dekolonial informierten Friedensbildung als Wegbereiterin für eine Friedensbildung otherwise. Eine dekolonial informierte Friedensbildung nimmt die Möglichkeiten und Herausforderungen von Friedensbildung in den Blick und beruht auf der Kritik des dominanten modern-liberalen Friedensbegriffes, auf der Erweiterung des Gewaltbegriffs um eine onto-epistemische Ebene, sowie auf einer Pluriversalisierung von Friedensverständnissen vor dem Hintergrund der Auseinandersetzung mit (De)Kolonialität. Die Analyse und Hinterfragung eines von kolonialen Herrschafts‑, Gewalt- und Machtverhältnissen geprägten Status Quo ist dabei grundlegend, um diese Verhältnisse in der Friedensbildung einer Bearbeitung zugänglich zu machen.  \n",
       "270782                                                                         Verbundprojekt: Anbindung einer virtuell-immersiven 3D-Lernplattform an die NBP am Domänenbeispiel eines Bildungsträgers - AVILAB, Teilvorhaben: AKAD mbH Virtuelle Welten in der Fernlehre – Eine Studie der Fernhochschule AKAD University ZusammenfassungDie Corona-Pandemie hat die Welt der Hochschullehre in vielerlei Hinsicht verändert. In Folge der Beschränkungen häufig eingesetzte Videokonferenzlösungen erwiesen sich für einige Themen als guter Ersatz bei gleichzeitiger Erhöhung der örtlichen Flexibilität. Es wurde aber auch offensichtlich, dass es Lehrformate gibt, die per Videokonferenz nicht ideal umsetzbar sind. Dazu zählen u. a. Seminare mit starkem Fokus auf Gruppenarbeit oder Kursinhalte, die viel Hilfestellung durch den Dozierenden erfordern. Virtuelle Welten werden in diesen Fällen aufgrund ihrer sozialen und räumlichen Präsenz als potenziell bessere Alternative zu Videokonferenzen identifiziert. Als besonders problematisch werden an der Institution, einer deutschen Fernhochschule, zwei Seminare identifiziert, nämlich ein Programmierseminar und ein Wirtschaftsplanspiel. Hierfür wird eine prototypische Lösung mit der virtuellen Welt von TriCAT spaces explorativ gestaltet, durchgeführt und evaluiert. Wir stellen vor, wie diese beiden Seminare erfolgreich in eine virtuelle Welt portiert werden können. Die Evaluierung der Stichprobe (N = 23) zeigt, dass die Umsetzung in 3D demselben Seminar in Zoom in Bezug auf Flow-Erleben zwar nur leicht überlegen ist, allerdings trotzdem die meisten die 3D-Variante vorziehen. Bei der Beobachtung der 3D-Seminare identifizieren wir Verbesserungsmöglichkeiten für nachfolgende Prototypen und legen den Grundstein für vertiefende Forschungen.  \n",
       "\n",
       "[169 rows x 2 columns]"
      ]
     },
     "execution_count": 9,
     "metadata": {},
     "output_type": "execute_result"
    }
   ],
   "source": [
    "BMBF.loc[BMBF[\"FKZ\"].isin(list(mask)),[\"crossref_enrichment\",\"enriched_Thema\"]]"
   ]
  },
  {
   "cell_type": "code",
   "execution_count": 368,
   "id": "97c3e1c9",
   "metadata": {},
   "outputs": [],
   "source": [
    "def calculate_scores(X_SvD,cluster_labels):\n",
    "    \n",
    "    print(\"calculate scores\")\n",
    "   \n",
    "    if len(set(cluster_labels))>1:\n",
    "         # calculate davies bouldin score\n",
    "        davies_bouldin_avg = davies_bouldin_score(X_SvD, cluster_labels)\n",
    "        \n",
    "        # calculate calinski harabasz score\n",
    "        calinski_harabasz_avg = calinski_harabasz_score(X_SvD, cluster_labels )\n",
    "        \n",
    "         # calculate silhouette score\n",
    "        silhouette_avg = silhouette_score(X_SvD, cluster_labels ,metric = \"cosine\")\n",
    "    else:\n",
    "        davies_bouldin_avg = calinski_harabasz_avg = silhouette_avg = np.nan\n",
    "     \n",
    " \n",
    "    return davies_bouldin_avg, calinski_harabasz_avg, silhouette_avg\n"
   ]
  },
  {
   "cell_type": "code",
   "execution_count": 29,
   "id": "adbc0f2a",
   "metadata": {},
   "outputs": [],
   "source": [
    "def perform_dbscan(texts, min_sample, eps, n_dim =400):\n",
    "    \n",
    "    print(f\"set min_sample = {min_sample}, eps={eps} \") \n",
    "    print(\"vectorizing data...\")\n",
    "    # TF-IDF Vectorization\n",
    "    vectorizer = TfidfVectorizer(tokenizer=preprocess)\n",
    "    tfidf_matrix = vectorizer.fit_transform(texts)\n",
    "\n",
    "    print(\"reducing dimensions...\")\n",
    "    # Dimensionality Reduction\n",
    "    svd = TruncatedSVD(n_components = n_dim,random_state=42)\n",
    "    X_SvD = svd.fit_transform(tfidf_matrix)\n",
    "\n",
    "    print(\"clustering...\")\n",
    "    # DBSCAN Clustering\n",
    "    dbscan = DBSCAN(eps=eps, min_samples=min_sample,metric=\"cosine\")\n",
    "    dbscan = dbscan.fit(X_SvD)\n",
    "    \n",
    "    print(\"calculating scores...\")\n",
    "    # calculate scores\n",
    "    cluster_labels = dbscan.labels_\n",
    "    scores = calculate_scores(X_SvD,cluster_labels)\n",
    "    \n",
    "    \n",
    "    return cluster_labels, scores\n"
   ]
  },
  {
   "cell_type": "code",
   "execution_count": 32,
   "id": "d9bb861a",
   "metadata": {},
   "outputs": [
    {
     "name": "stderr",
     "output_type": "stream",
     "text": [
      "\r",
      "  0%|                                                                                             | 0/9 [00:00<?, ?it/s]"
     ]
    },
    {
     "name": "stdout",
     "output_type": "stream",
     "text": [
      "set min_sample = 3, eps=0.3 \n",
      "vectorizing data...\n",
      "reducing dimensions...\n",
      "clustering...\n",
      "calculating scores...\n",
      "calculate scores\n"
     ]
    },
    {
     "name": "stderr",
     "output_type": "stream",
     "text": [
      "\r",
      " 11%|█████████                                                                        | 1/9 [37:20<4:58:47, 2240.98s/it]"
     ]
    },
    {
     "name": "stdout",
     "output_type": "stream",
     "text": [
      "set min_sample = 3, eps=0.5 \n",
      "vectorizing data...\n",
      "reducing dimensions...\n",
      "clustering...\n",
      "calculating scores...\n",
      "calculate scores\n"
     ]
    },
    {
     "name": "stderr",
     "output_type": "stream",
     "text": [
      "\r",
      " 22%|█████████████████▌                                                             | 2/9 [1:14:30<4:20:40, 2234.32s/it]"
     ]
    },
    {
     "name": "stdout",
     "output_type": "stream",
     "text": [
      "set min_sample = 3, eps=0.7 \n",
      "vectorizing data...\n",
      "reducing dimensions...\n",
      "clustering...\n",
      "calculating scores...\n",
      "calculate scores\n"
     ]
    },
    {
     "name": "stderr",
     "output_type": "stream",
     "text": [
      "\r",
      " 33%|██████████████████████████▎                                                    | 3/9 [1:52:22<3:45:09, 2251.51s/it]"
     ]
    },
    {
     "name": "stdout",
     "output_type": "stream",
     "text": [
      "set min_sample = 5, eps=0.3 \n",
      "vectorizing data...\n",
      "reducing dimensions...\n",
      "clustering...\n",
      "calculating scores...\n",
      "calculate scores\n"
     ]
    },
    {
     "name": "stderr",
     "output_type": "stream",
     "text": [
      "\r",
      " 44%|███████████████████████████████████                                            | 4/9 [2:29:29<3:06:48, 2241.68s/it]"
     ]
    },
    {
     "name": "stdout",
     "output_type": "stream",
     "text": [
      "set min_sample = 5, eps=0.5 \n",
      "vectorizing data...\n",
      "reducing dimensions...\n",
      "clustering...\n",
      "calculating scores...\n",
      "calculate scores\n"
     ]
    },
    {
     "name": "stderr",
     "output_type": "stream",
     "text": [
      "\r",
      " 56%|███████████████████████████████████████████▉                                   | 5/9 [3:07:00<2:29:40, 2245.07s/it]"
     ]
    },
    {
     "name": "stdout",
     "output_type": "stream",
     "text": [
      "set min_sample = 5, eps=0.7 \n",
      "vectorizing data...\n",
      "reducing dimensions...\n",
      "clustering...\n",
      "calculating scores...\n",
      "calculate scores\n"
     ]
    },
    {
     "name": "stderr",
     "output_type": "stream",
     "text": [
      "\r",
      " 67%|████████████████████████████████████████████████████▋                          | 6/9 [3:44:50<1:52:40, 2253.59s/it]"
     ]
    },
    {
     "name": "stdout",
     "output_type": "stream",
     "text": [
      "set min_sample = 7, eps=0.3 \n",
      "vectorizing data...\n",
      "reducing dimensions...\n",
      "clustering...\n",
      "calculating scores...\n",
      "calculate scores\n"
     ]
    },
    {
     "name": "stderr",
     "output_type": "stream",
     "text": [
      "\r",
      " 78%|█████████████████████████████████████████████████████████████▍                 | 7/9 [4:22:19<1:15:04, 2252.01s/it]"
     ]
    },
    {
     "name": "stdout",
     "output_type": "stream",
     "text": [
      "set min_sample = 7, eps=0.5 \n",
      "vectorizing data...\n",
      "reducing dimensions...\n",
      "clustering...\n",
      "calculating scores...\n",
      "calculate scores\n"
     ]
    },
    {
     "name": "stderr",
     "output_type": "stream",
     "text": [
      "\r",
      " 89%|████████████████████████████████████████████████████████████████████████         | 8/9 [4:58:15<37:01, 2221.69s/it]"
     ]
    },
    {
     "name": "stdout",
     "output_type": "stream",
     "text": [
      "set min_sample = 7, eps=0.7 \n",
      "vectorizing data...\n",
      "reducing dimensions...\n",
      "clustering...\n",
      "calculating scores...\n",
      "calculate scores\n"
     ]
    },
    {
     "name": "stderr",
     "output_type": "stream",
     "text": [
      "100%|█████████████████████████████████████████████████████████████████████████████████| 9/9 [5:34:20<00:00, 2228.91s/it]\n"
     ]
    }
   ],
   "source": [
    "texts = BMBF[\"Thema\"]\n",
    "times =[]\n",
    "scores = dict()\n",
    "for min_sample,eps in tqdm(list(product([3,5,7],[0.3,0.5,0.7]))):\n",
    "    \n",
    "    start_time = datetime.datetime.now()\n",
    "    \n",
    "    cluster_labels,score = perform_dbscan(texts, min_sample=min_sample, eps=eps)\n",
    "    BMBF[f\"Thema-{min_sample}-{eps}\"] = cluster_labels\n",
    "    scores[f\"sample={min_sample}, eps={eps}\"] = score\n",
    "    \n",
    "    end_time = datetime.datetime.now()\n",
    "    times.append(end_time-start_time)"
   ]
  },
  {
   "cell_type": "code",
   "execution_count": 639,
   "id": "9fa674fe",
   "metadata": {},
   "outputs": [
    {
     "data": {
      "text/html": [
       "<div>\n",
       "<style scoped>\n",
       "    .dataframe tbody tr th:only-of-type {\n",
       "        vertical-align: middle;\n",
       "    }\n",
       "\n",
       "    .dataframe tbody tr th {\n",
       "        vertical-align: top;\n",
       "    }\n",
       "\n",
       "    .dataframe thead th {\n",
       "        text-align: right;\n",
       "    }\n",
       "</style>\n",
       "<table border=\"1\" class=\"dataframe\">\n",
       "  <thead>\n",
       "    <tr style=\"text-align: right;\">\n",
       "      <th></th>\n",
       "      <th>davies bouldin index</th>\n",
       "      <th>calinski harabasz index</th>\n",
       "      <th>silhouette score</th>\n",
       "    </tr>\n",
       "  </thead>\n",
       "  <tbody>\n",
       "    <tr>\n",
       "      <th>sample=3, eps=0.3</th>\n",
       "      <td>3.025800</td>\n",
       "      <td>6.342986</td>\n",
       "      <td>-0.361304</td>\n",
       "    </tr>\n",
       "    <tr>\n",
       "      <th>sample=3, eps=0.5</th>\n",
       "      <td>6.807038</td>\n",
       "      <td>0.468475</td>\n",
       "      <td>-0.123646</td>\n",
       "    </tr>\n",
       "    <tr>\n",
       "      <th>sample=3, eps=0.7</th>\n",
       "      <td>6.826709</td>\n",
       "      <td>0.016330</td>\n",
       "      <td>0.022948</td>\n",
       "    </tr>\n",
       "    <tr>\n",
       "      <th>sample=5, eps=0.3</th>\n",
       "      <td>3.378148</td>\n",
       "      <td>12.331760</td>\n",
       "      <td>-0.317897</td>\n",
       "    </tr>\n",
       "    <tr>\n",
       "      <th>sample=5, eps=0.5</th>\n",
       "      <td>6.808407</td>\n",
       "      <td>1.732529</td>\n",
       "      <td>-0.086262</td>\n",
       "    </tr>\n",
       "    <tr>\n",
       "      <th>sample=5, eps=0.7</th>\n",
       "      <td>6.826709</td>\n",
       "      <td>0.016330</td>\n",
       "      <td>0.022948</td>\n",
       "    </tr>\n",
       "    <tr>\n",
       "      <th>sample=7, eps=0.3</th>\n",
       "      <td>3.666554</td>\n",
       "      <td>52.050395</td>\n",
       "      <td>-0.279762</td>\n",
       "    </tr>\n",
       "    <tr>\n",
       "      <th>sample=7, eps=0.5</th>\n",
       "      <td>6.757567</td>\n",
       "      <td>3.870358</td>\n",
       "      <td>-0.065864</td>\n",
       "    </tr>\n",
       "    <tr>\n",
       "      <th>sample=7, eps=0.7</th>\n",
       "      <td>6.826709</td>\n",
       "      <td>0.016330</td>\n",
       "      <td>0.022948</td>\n",
       "    </tr>\n",
       "  </tbody>\n",
       "</table>\n",
       "</div>"
      ],
      "text/plain": [
       "                   davies bouldin index  calinski harabasz index  \\\n",
       "sample=3, eps=0.3              3.025800                 6.342986   \n",
       "sample=3, eps=0.5              6.807038                 0.468475   \n",
       "sample=3, eps=0.7              6.826709                 0.016330   \n",
       "sample=5, eps=0.3              3.378148                12.331760   \n",
       "sample=5, eps=0.5              6.808407                 1.732529   \n",
       "sample=5, eps=0.7              6.826709                 0.016330   \n",
       "sample=7, eps=0.3              3.666554                52.050395   \n",
       "sample=7, eps=0.5              6.757567                 3.870358   \n",
       "sample=7, eps=0.7              6.826709                 0.016330   \n",
       "\n",
       "                   silhouette score  \n",
       "sample=3, eps=0.3         -0.361304  \n",
       "sample=3, eps=0.5         -0.123646  \n",
       "sample=3, eps=0.7          0.022948  \n",
       "sample=5, eps=0.3         -0.317897  \n",
       "sample=5, eps=0.5         -0.086262  \n",
       "sample=5, eps=0.7          0.022948  \n",
       "sample=7, eps=0.3         -0.279762  \n",
       "sample=7, eps=0.5         -0.065864  \n",
       "sample=7, eps=0.7          0.022948  "
      ]
     },
     "execution_count": 639,
     "metadata": {},
     "output_type": "execute_result"
    }
   ],
   "source": [
    "def create_metrics_table(scores):\n",
    "    \"\"\" function to create table containing validation scores \"\"\"\n",
    "    \n",
    "    cluster_metrics = pd.DataFrame.from_dict(scores).transpose()\n",
    "    cluster_metrics.columns=[\"davies bouldin index\",\"calinski harabasz index\",\"silhouette score\"]\n",
    "    \n",
    "    return cluster_metrics\n",
    "\n",
    "BMBF_cluster_metrics = create_metrics_table(scores)\n",
    "BMBF_cluster_metrics"
   ]
  },
  {
   "cell_type": "markdown",
   "id": "753e3641",
   "metadata": {},
   "source": [
    "store the clustering metrics in a csv file\n",
    "pd.DataFrame.from_dict(clustering_enriched_Thema_scores).transpose().to_csv(\"../results/Thema_scores.csv\")"
   ]
  },
  {
   "cell_type": "markdown",
   "id": "c3a826c2",
   "metadata": {},
   "source": [
    "store the clustering results in a csv file\n",
    "BMBF.loc[:,[col for col in BMBF.columns if col.startswith(\"Thema\")]].to_csv(\"../results/clusters.csv\",index= False)"
   ]
  },
  {
   "cell_type": "code",
   "execution_count": 60,
   "id": "633f08ea",
   "metadata": {},
   "outputs": [
    {
     "name": "stderr",
     "output_type": "stream",
     "text": [
      "\r",
      "  0%|                                                                                             | 0/9 [00:00<?, ?it/s]"
     ]
    },
    {
     "name": "stdout",
     "output_type": "stream",
     "text": [
      "set min_sample = 3, eps=0.3 \n",
      "vectorizing data...\n",
      "reducing dimensions...\n",
      "clustering...\n",
      "calculating scores...\n",
      "calculate scores\n"
     ]
    },
    {
     "name": "stderr",
     "output_type": "stream",
     "text": [
      "\r",
      " 11%|████████▋                                                                     | 1/9 [1:22:41<11:01:34, 4961.80s/it]"
     ]
    },
    {
     "name": "stdout",
     "output_type": "stream",
     "text": [
      "set min_sample = 3, eps=0.5 \n",
      "vectorizing data...\n",
      "reducing dimensions...\n",
      "clustering...\n",
      "calculating scores...\n",
      "calculate scores\n"
     ]
    },
    {
     "name": "stderr",
     "output_type": "stream",
     "text": [
      "\r",
      " 22%|█████████████████▌                                                             | 2/9 [2:05:45<6:55:39, 3562.76s/it]"
     ]
    },
    {
     "name": "stdout",
     "output_type": "stream",
     "text": [
      "set min_sample = 3, eps=0.7 \n",
      "vectorizing data...\n",
      "reducing dimensions...\n",
      "clustering...\n",
      "calculating scores...\n",
      "calculate scores\n"
     ]
    },
    {
     "name": "stderr",
     "output_type": "stream",
     "text": [
      "\r",
      " 33%|██████████████████████████▎                                                    | 3/9 [2:50:32<5:16:19, 3163.17s/it]"
     ]
    },
    {
     "name": "stdout",
     "output_type": "stream",
     "text": [
      "set min_sample = 5, eps=0.3 \n",
      "vectorizing data...\n",
      "reducing dimensions...\n",
      "clustering...\n",
      "calculating scores...\n",
      "calculate scores\n"
     ]
    },
    {
     "name": "stderr",
     "output_type": "stream",
     "text": [
      "\r",
      " 44%|███████████████████████████████████                                            | 4/9 [3:28:14<3:53:56, 2807.32s/it]"
     ]
    },
    {
     "name": "stdout",
     "output_type": "stream",
     "text": [
      "set min_sample = 5, eps=0.5 \n",
      "vectorizing data...\n",
      "reducing dimensions...\n",
      "clustering...\n",
      "calculating scores...\n",
      "calculate scores\n"
     ]
    },
    {
     "name": "stderr",
     "output_type": "stream",
     "text": [
      "\r",
      " 56%|███████████████████████████████████████████▉                                   | 5/9 [4:06:37<2:55:00, 2625.22s/it]"
     ]
    },
    {
     "name": "stdout",
     "output_type": "stream",
     "text": [
      "set min_sample = 5, eps=0.7 \n",
      "vectorizing data...\n",
      "reducing dimensions...\n",
      "clustering...\n",
      "calculating scores...\n",
      "calculate scores\n"
     ]
    },
    {
     "name": "stderr",
     "output_type": "stream",
     "text": [
      "\r",
      " 67%|████████████████████████████████████████████████████▋                          | 6/9 [5:12:02<2:33:22, 3067.41s/it]"
     ]
    },
    {
     "name": "stdout",
     "output_type": "stream",
     "text": [
      "set min_sample = 7, eps=0.3 \n",
      "vectorizing data...\n",
      "reducing dimensions...\n",
      "clustering...\n",
      "calculating scores...\n",
      "calculate scores\n"
     ]
    },
    {
     "name": "stderr",
     "output_type": "stream",
     "text": [
      "\r",
      " 78%|█████████████████████████████████████████████████████████████▍                 | 7/9 [6:21:29<1:54:13, 3426.66s/it]"
     ]
    },
    {
     "name": "stdout",
     "output_type": "stream",
     "text": [
      "set min_sample = 7, eps=0.5 \n",
      "vectorizing data...\n",
      "reducing dimensions...\n",
      "clustering...\n",
      "calculating scores...\n",
      "calculate scores\n"
     ]
    },
    {
     "name": "stderr",
     "output_type": "stream",
     "text": [
      "\r",
      " 89%|██████████████████████████████████████████████████████████████████████▏        | 8/9 [7:30:11<1:00:48, 3648.29s/it]"
     ]
    },
    {
     "name": "stdout",
     "output_type": "stream",
     "text": [
      "set min_sample = 7, eps=0.7 \n",
      "vectorizing data...\n",
      "reducing dimensions...\n",
      "clustering...\n",
      "calculating scores...\n",
      "calculate scores\n"
     ]
    },
    {
     "name": "stderr",
     "output_type": "stream",
     "text": [
      "100%|█████████████████████████████████████████████████████████████████████████████████| 9/9 [8:36:41<00:00, 3444.56s/it]\n"
     ]
    }
   ],
   "source": [
    "texts = BMBF[\"enriched_Thema\"]\n",
    "clustering_enriched_Thema_scores = dict()\n",
    "for min_sample,eps in tqdm(list(product([3,5,7],[0.3,0.5,0.7]))):\n",
    "\n",
    "    cluster_labels,score = perform_dbscan(texts, min_sample=min_sample, eps=eps)\n",
    "    BMBF[f\"enriched_Thema-{min_sample}-{eps}\"] = cluster_labels\n",
    "    clustering_enriched_Thema_scores[f\"sample={min_sample}, eps={eps}\"] = score\n"
   ]
  },
  {
   "cell_type": "code",
   "execution_count": 647,
   "id": "b50e1048",
   "metadata": {},
   "outputs": [
    {
     "data": {
      "text/html": [
       "<div>\n",
       "<style scoped>\n",
       "    .dataframe tbody tr th:only-of-type {\n",
       "        vertical-align: middle;\n",
       "    }\n",
       "\n",
       "    .dataframe tbody tr th {\n",
       "        vertical-align: top;\n",
       "    }\n",
       "\n",
       "    .dataframe thead th {\n",
       "        text-align: right;\n",
       "    }\n",
       "</style>\n",
       "<table border=\"1\" class=\"dataframe\">\n",
       "  <thead>\n",
       "    <tr style=\"text-align: right;\">\n",
       "      <th></th>\n",
       "      <th>davies bouldin index</th>\n",
       "      <th>calinski harabasz index</th>\n",
       "      <th>silhouette score</th>\n",
       "    </tr>\n",
       "  </thead>\n",
       "  <tbody>\n",
       "    <tr>\n",
       "      <th>sample=3, eps=0.3</th>\n",
       "      <td>3.036091</td>\n",
       "      <td>6.294135</td>\n",
       "      <td>-0.362556</td>\n",
       "    </tr>\n",
       "    <tr>\n",
       "      <th>sample=3, eps=0.5</th>\n",
       "      <td>6.812955</td>\n",
       "      <td>0.458209</td>\n",
       "      <td>-0.121560</td>\n",
       "    </tr>\n",
       "    <tr>\n",
       "      <th>sample=3, eps=0.7</th>\n",
       "      <td>6.826178</td>\n",
       "      <td>0.016334</td>\n",
       "      <td>0.022944</td>\n",
       "    </tr>\n",
       "    <tr>\n",
       "      <th>sample=5, eps=0.3</th>\n",
       "      <td>3.327823</td>\n",
       "      <td>12.359851</td>\n",
       "      <td>-0.320648</td>\n",
       "    </tr>\n",
       "    <tr>\n",
       "      <th>sample=5, eps=0.5</th>\n",
       "      <td>6.809610</td>\n",
       "      <td>1.833141</td>\n",
       "      <td>-0.084222</td>\n",
       "    </tr>\n",
       "    <tr>\n",
       "      <th>sample=5, eps=0.7</th>\n",
       "      <td>6.826178</td>\n",
       "      <td>0.016334</td>\n",
       "      <td>0.022944</td>\n",
       "    </tr>\n",
       "    <tr>\n",
       "      <th>sample=7, eps=0.3</th>\n",
       "      <td>3.598422</td>\n",
       "      <td>52.537678</td>\n",
       "      <td>-0.280346</td>\n",
       "    </tr>\n",
       "    <tr>\n",
       "      <th>sample=7, eps=0.5</th>\n",
       "      <td>6.765396</td>\n",
       "      <td>3.848555</td>\n",
       "      <td>-0.065733</td>\n",
       "    </tr>\n",
       "    <tr>\n",
       "      <th>sample=7, eps=0.7</th>\n",
       "      <td>6.826178</td>\n",
       "      <td>0.016334</td>\n",
       "      <td>0.022944</td>\n",
       "    </tr>\n",
       "  </tbody>\n",
       "</table>\n",
       "</div>"
      ],
      "text/plain": [
       "                   davies bouldin index  calinski harabasz index  \\\n",
       "sample=3, eps=0.3              3.036091                 6.294135   \n",
       "sample=3, eps=0.5              6.812955                 0.458209   \n",
       "sample=3, eps=0.7              6.826178                 0.016334   \n",
       "sample=5, eps=0.3              3.327823                12.359851   \n",
       "sample=5, eps=0.5              6.809610                 1.833141   \n",
       "sample=5, eps=0.7              6.826178                 0.016334   \n",
       "sample=7, eps=0.3              3.598422                52.537678   \n",
       "sample=7, eps=0.5              6.765396                 3.848555   \n",
       "sample=7, eps=0.7              6.826178                 0.016334   \n",
       "\n",
       "                   silhouette score  \n",
       "sample=3, eps=0.3         -0.362556  \n",
       "sample=3, eps=0.5         -0.121560  \n",
       "sample=3, eps=0.7          0.022944  \n",
       "sample=5, eps=0.3         -0.320648  \n",
       "sample=5, eps=0.5         -0.084222  \n",
       "sample=5, eps=0.7          0.022944  \n",
       "sample=7, eps=0.3         -0.280346  \n",
       "sample=7, eps=0.5         -0.065733  \n",
       "sample=7, eps=0.7          0.022944  "
      ]
     },
     "execution_count": 647,
     "metadata": {},
     "output_type": "execute_result"
    }
   ],
   "source": [
    "BMBF_enriched_text_metrics = create_metrics_table(clustering_enriched_Thema_scores)\n",
    "BMBF_enriched_text_metrics"
   ]
  },
  {
   "cell_type": "markdown",
   "id": "d436707b",
   "metadata": {},
   "source": [
    "store the clustering results in a csv file\n",
    "BMBF.loc[:,[col for col in BMBF.columns if col.startswith(\"enriched_Thema\")]].to_csv(\"../results/enriched_clusters.csv\",index= False)"
   ]
  },
  {
   "cell_type": "markdown",
   "id": "d1d81c58",
   "metadata": {},
   "source": [
    "store the clustering metrics in a csv file\n",
    "pd.DataFrame.from_dict(clustering_enriched_Thema_scores).transpose().to_csv(\"../results/enriched_Thema_scores.csv\")"
   ]
  },
  {
   "cell_type": "code",
   "execution_count": 607,
   "id": "4a6f2b15",
   "metadata": {},
   "outputs": [],
   "source": [
    "# merge the metrics to a dataframe\n",
    "metrics = BMBF_cluster_metrics.join(BMBF_enriched_text_metrics,lsuffix = ' before enrichment', rsuffix=' after enrichment')"
   ]
  },
  {
   "cell_type": "code",
   "execution_count": 664,
   "id": "48168cbc",
   "metadata": {},
   "outputs": [],
   "source": [
    "def plot_scores(evaluate_metric):\n",
    "    \n",
    "    ''' function to plot and compare the metrics before and after enrichment'''\n",
    "    \n",
    "    evaluate_metric = evaluate_metric.lower().strip()\n",
    "    \n",
    "    ax = metrics.loc[:,[f\"{evaluate_metric} before enrichment\",f\"{evaluate_metric} after enrichment\"]].plot(kind=\"barh\",figsize=(10,6));\n",
    "    plt.subplots_adjust(left=0.25)\n",
    "   \n",
    "    if evaluate_metric != \"silhouette score\":\n",
    "        ax.legend(loc='lower right', bbox_to_anchor=(1, 0.01),fontsize='9')\n",
    "        if evaluate_metric == \"davies bouldin index\":\n",
    "            ax.legend(loc='lower right', bbox_to_anchor=(1, 0.01),fontsize='9')\n",
    "            ax.set_xlim(0, 8)\n",
    "        elif evaluate_metric == \"calinski harabasz index\":\n",
    "            ax.set_xlim(0, 60)\n",
    "        \n",
    "        for index, value in enumerate(metrics[f\"{evaluate_metric} after enrichment\"]):\n",
    "            ax.text(value+0.1, index+0.1, str(round(value,4)))\n",
    "\n",
    "        for index, value in enumerate(metrics[f\"{evaluate_metric} before enrichment\"]):\n",
    "            ax.text(value+0.1, index-0.2, str(round(value,4)))\n",
    "\n",
    "        \n",
    "    elif evaluate_metric == \"silhouette score\":\n",
    "        \n",
    "        ax.set_xlim(-0.45, 0.1)\n",
    "        for index, value in enumerate(metrics[f\"{evaluate_metric} after enrichment\"]):\n",
    "            if value > 0:\n",
    "                ax.text(value+0.01, index+0.1, str(round(value,4)))\n",
    "            else:\n",
    "                ax.text(value-0.05, index+0.1, str(round(value,4)))\n",
    "\n",
    "        for index, value in enumerate(metrics[f\"{evaluate_metric} before enrichment\"]):\n",
    "            if value > 0:\n",
    "                ax.text(value+0.01, index-0.2, str(round(value,4)))\n",
    "            else:\n",
    "                ax.text(value-0.05, index-0.2, str(round(value,4)))\n",
    "\n",
    "    plt.title(f\"Comparison of {evaluate_metric} before and after data enrichment\")\n",
    "    plt.savefig(f'../results/{evaluate_metric}.png')\n",
    "    plt.show()\n"
   ]
  },
  {
   "cell_type": "code",
   "execution_count": 665,
   "id": "7f50bacd",
   "metadata": {},
   "outputs": [
    {
     "data": {
      "image/png": "[encoded data removed]",
      "text/plain": [
       "<Figure size 1000x600 with 1 Axes>"
      ]
     },
     "metadata": {},
     "output_type": "display_data"
    }
   ],
   "source": [
    "plot_scores(\"Calinski Harabasz Index\")"
   ]
  },
  {
   "cell_type": "code",
   "execution_count": 666,
   "id": "6e84fea5",
   "metadata": {},
   "outputs": [
    {
     "data": {
      "image/png": "[encoded data removed]",
      "text/plain": [
       "<Figure size 1000x600 with 1 Axes>"
      ]
     },
     "metadata": {},
     "output_type": "display_data"
    }
   ],
   "source": [
    "plot_scores(\"davies bouldin index\")"
   ]
  },
  {
   "cell_type": "code",
   "execution_count": 667,
   "id": "11dd8a8e",
   "metadata": {},
   "outputs": [
    {
     "data": {
      "image/png": "[encoded data removed]",
      "text/plain": [
       "<Figure size 1000x600 with 1 Axes>"
      ]
     },
     "metadata": {},
     "output_type": "display_data"
    }
   ],
   "source": [
    "plot_scores(\"Silhouette Score\")"
   ]
  },
  {
   "cell_type": "code",
   "execution_count": 286,
   "id": "9245eeaa",
   "metadata": {},
   "outputs": [],
   "source": [
    "def get_clusters_info(col_startwith):\n",
    "    ''' function to get the number of clusters '''\n",
    "    \n",
    "    n_cluster = dict()\n",
    "    clusters = defaultdict(dict)\n",
    "    \n",
    "    for col in BMBF.columns:\n",
    "        if col.startswith(col_startwith):\n",
    "            n_cluster[\"-\".join(col.rsplit(\"-\")[1:])] = BMBF[col].nunique()\n",
    "            clusters[col] = BMBF[col].value_counts().to_dict()\n",
    "            \n",
    "    return n_cluster, clusters\n"
   ]
  },
  {
   "cell_type": "code",
   "execution_count": 674,
   "id": "88ce8e96",
   "metadata": {},
   "outputs": [
    {
     "data": {
      "text/html": [
       "<div>\n",
       "<style scoped>\n",
       "    .dataframe tbody tr th:only-of-type {\n",
       "        vertical-align: middle;\n",
       "    }\n",
       "\n",
       "    .dataframe tbody tr th {\n",
       "        vertical-align: top;\n",
       "    }\n",
       "\n",
       "    .dataframe thead th {\n",
       "        text-align: right;\n",
       "    }\n",
       "</style>\n",
       "<table border=\"1\" class=\"dataframe\">\n",
       "  <thead>\n",
       "    <tr style=\"text-align: right;\">\n",
       "      <th></th>\n",
       "      <th>min_samples-eps</th>\n",
       "      <th>n_cluster_before_enrichment</th>\n",
       "      <th>n_cluster_after_enrichment</th>\n",
       "      <th>n_cluster_differences</th>\n",
       "    </tr>\n",
       "  </thead>\n",
       "  <tbody>\n",
       "    <tr>\n",
       "      <th>0</th>\n",
       "      <td>3-0.3</td>\n",
       "      <td>1570</td>\n",
       "      <td>1583</td>\n",
       "      <td>13</td>\n",
       "    </tr>\n",
       "    <tr>\n",
       "      <th>1</th>\n",
       "      <td>3-0.5</td>\n",
       "      <td>121</td>\n",
       "      <td>123</td>\n",
       "      <td>2</td>\n",
       "    </tr>\n",
       "    <tr>\n",
       "      <th>2</th>\n",
       "      <td>3-0.7</td>\n",
       "      <td>2</td>\n",
       "      <td>2</td>\n",
       "      <td>0</td>\n",
       "    </tr>\n",
       "    <tr>\n",
       "      <th>3</th>\n",
       "      <td>5-0.3</td>\n",
       "      <td>645</td>\n",
       "      <td>643</td>\n",
       "      <td>-2</td>\n",
       "    </tr>\n",
       "    <tr>\n",
       "      <th>4</th>\n",
       "      <td>5-0.5</td>\n",
       "      <td>34</td>\n",
       "      <td>32</td>\n",
       "      <td>-2</td>\n",
       "    </tr>\n",
       "    <tr>\n",
       "      <th>5</th>\n",
       "      <td>5-0.7</td>\n",
       "      <td>2</td>\n",
       "      <td>2</td>\n",
       "      <td>0</td>\n",
       "    </tr>\n",
       "    <tr>\n",
       "      <th>6</th>\n",
       "      <td>7-0.3</td>\n",
       "      <td>325</td>\n",
       "      <td>322</td>\n",
       "      <td>-3</td>\n",
       "    </tr>\n",
       "    <tr>\n",
       "      <th>7</th>\n",
       "      <td>7-0.5</td>\n",
       "      <td>16</td>\n",
       "      <td>16</td>\n",
       "      <td>0</td>\n",
       "    </tr>\n",
       "    <tr>\n",
       "      <th>8</th>\n",
       "      <td>7-0.7</td>\n",
       "      <td>2</td>\n",
       "      <td>2</td>\n",
       "      <td>0</td>\n",
       "    </tr>\n",
       "  </tbody>\n",
       "</table>\n",
       "</div>"
      ],
      "text/plain": [
       "  min_samples-eps  n_cluster_before_enrichment  n_cluster_after_enrichment  \\\n",
       "0           3-0.3                         1570                        1583   \n",
       "1           3-0.5                          121                         123   \n",
       "2           3-0.7                            2                           2   \n",
       "3           5-0.3                          645                         643   \n",
       "4           5-0.5                           34                          32   \n",
       "5           5-0.7                            2                           2   \n",
       "6           7-0.3                          325                         322   \n",
       "7           7-0.5                           16                          16   \n",
       "8           7-0.7                            2                           2   \n",
       "\n",
       "   n_cluster_differences  \n",
       "0                     13  \n",
       "1                      2  \n",
       "2                      0  \n",
       "3                     -2  \n",
       "4                     -2  \n",
       "5                      0  \n",
       "6                     -3  \n",
       "7                      0  \n",
       "8                      0  "
      ]
     },
     "execution_count": 674,
     "metadata": {},
     "output_type": "execute_result"
    }
   ],
   "source": [
    "def generate_cluster_number():\n",
    "    \n",
    "    # generate a table displaying the number of clusters formed through the clustering process\n",
    "    n_cluster, clusters = get_clusters_info(\"Thema-\")            \n",
    "    n_cluster_enriched, clusters_enriched = get_clusters_info(\"enriched_Thema-\")\n",
    "    \n",
    "    n_cluster_df = pd.DataFrame.from_dict(list(n_cluster.items())).join(pd.DataFrame.from_dict(list(n_cluster_enriched.values())),lsuffix='_without_enrichment', rsuffix='_with_enrichment')\n",
    "    n_cluster_df.columns = [\"min_samples-eps\",\"n_cluster_before_enrichment\",\"n_cluster_after_enrichment\"]\n",
    "    n_cluster_df[\"n_cluster_differences\"] = n_cluster_df[\"n_cluster_after_enrichment\"]- n_cluster_df[\"n_cluster_before_enrichment\"]\n",
    "\n",
    "    return n_cluster_df\n",
    "\n",
    "n_cluster_df = generate_cluster_number()\n",
    "n_cluster_df"
   ]
  },
  {
   "cell_type": "code",
   "execution_count": 390,
   "id": "6b3eaec4",
   "metadata": {},
   "outputs": [],
   "source": [
    "def clustering(texts,n_dim):\n",
    "    \n",
    "    scores = dict()\n",
    "    for min_sample,eps in tqdm(list(product([3,5,7],[0.3,0.5,0.7]))):\n",
    "\n",
    "\n",
    "        cluster_labels, score = perform_dbscan(texts, min_sample=min_sample, eps=eps,n_dim=n_dim)\n",
    "    \n",
    "        scores[f\"sample={min_sample}, eps={eps}\"] = score\n",
    "\n",
    "    return scores"
   ]
  },
  {
   "cell_type": "markdown",
   "id": "265f77ed",
   "metadata": {},
   "source": [
    "###  DBSCAN clustering was also applied to 169 grant topics that were enriched with Crossref abstracts to assess whether the data enrichment had a positive impact on the clustering quality of this subset. Surprisingly, the Davies-Bouldin index achieved a nearly perfect score for both original and enriched grant topics, despite the considerable diversity among the 169 grant topics. According to Landauer (2008) ( http://www.scholarpedia.org/article/Latent_semantic_analysis), datasets with a vocabulary size of less than 20,000 words and a document corpus of less than 20,000 passages are prone to producing inaccurate results when employing LSA for dimensionality reduction, thereby leading to faulty clustering results. Since this subset comprises only 169 grant topics and approximately 2000 distinct words, the clustering validation score is not considered reliable"
   ]
  },
  {
   "cell_type": "code",
   "execution_count": 391,
   "id": "0f981bf3",
   "metadata": {},
   "outputs": [
    {
     "name": "stderr",
     "output_type": "stream",
     "text": [
      " 11%|█████████▍                                                                           | 1/9 [00:00<00:01,  6.79it/s]"
     ]
    },
    {
     "name": "stdout",
     "output_type": "stream",
     "text": [
      "set min_sample = 3, eps=0.3 \n",
      "vectorizing data...\n",
      "reducing dimensions...\n",
      "clustering...\n",
      "calculating scores...\n",
      "calculate scores\n",
      "set min_sample = 3, eps=0.5 \n",
      "vectorizing data...\n",
      "reducing dimensions...\n",
      "clustering...\n",
      "calculating scores...\n",
      "calculate scores\n"
     ]
    },
    {
     "name": "stderr",
     "output_type": "stream",
     "text": [
      "\r",
      " 22%|██████████████████▉                                                                  | 2/9 [00:00<00:02,  3.37it/s]"
     ]
    },
    {
     "name": "stdout",
     "output_type": "stream",
     "text": [
      "set min_sample = 3, eps=0.7 \n",
      "vectorizing data...\n",
      "reducing dimensions...\n"
     ]
    },
    {
     "name": "stderr",
     "output_type": "stream",
     "text": [
      "\r",
      " 33%|████████████████████████████▎                                                        | 3/9 [00:01<00:02,  2.56it/s]"
     ]
    },
    {
     "name": "stdout",
     "output_type": "stream",
     "text": [
      "clustering...\n",
      "calculating scores...\n",
      "calculate scores\n",
      "set min_sample = 5, eps=0.3 \n",
      "vectorizing data...\n",
      "reducing dimensions...\n",
      "clustering...\n"
     ]
    },
    {
     "name": "stderr",
     "output_type": "stream",
     "text": [
      "\r",
      " 44%|█████████████████████████████████████▊                                               | 4/9 [00:01<00:02,  2.09it/s]"
     ]
    },
    {
     "name": "stdout",
     "output_type": "stream",
     "text": [
      "calculating scores...\n",
      "calculate scores\n",
      "set min_sample = 5, eps=0.5 \n",
      "vectorizing data...\n",
      "reducing dimensions...\n"
     ]
    },
    {
     "name": "stderr",
     "output_type": "stream",
     "text": [
      "\r",
      " 56%|███████████████████████████████████████████████▏                                     | 5/9 [00:02<00:01,  2.03it/s]"
     ]
    },
    {
     "name": "stdout",
     "output_type": "stream",
     "text": [
      "clustering...\n",
      "calculating scores...\n",
      "calculate scores\n",
      "set min_sample = 5, eps=0.7 \n",
      "vectorizing data...\n",
      "reducing dimensions...\n"
     ]
    },
    {
     "name": "stderr",
     "output_type": "stream",
     "text": [
      "\r",
      " 67%|████████████████████████████████████████████████████████▋                            | 6/9 [00:02<00:01,  1.95it/s]"
     ]
    },
    {
     "name": "stdout",
     "output_type": "stream",
     "text": [
      "clustering...\n",
      "calculating scores...\n",
      "calculate scores\n",
      "set min_sample = 7, eps=0.3 \n",
      "vectorizing data...\n",
      "reducing dimensions...\n"
     ]
    },
    {
     "name": "stderr",
     "output_type": "stream",
     "text": [
      "\r",
      " 78%|██████████████████████████████████████████████████████████████████                   | 7/9 [00:03<00:01,  1.99it/s]"
     ]
    },
    {
     "name": "stdout",
     "output_type": "stream",
     "text": [
      "clustering...\n",
      "calculating scores...\n",
      "calculate scores\n",
      "set min_sample = 7, eps=0.5 \n",
      "vectorizing data...\n"
     ]
    },
    {
     "name": "stderr",
     "output_type": "stream",
     "text": [
      "\r",
      " 89%|███████████████████████████████████████████████████████████████████████████▌         | 8/9 [00:03<00:00,  2.25it/s]"
     ]
    },
    {
     "name": "stdout",
     "output_type": "stream",
     "text": [
      "reducing dimensions...\n",
      "clustering...\n",
      "calculating scores...\n",
      "calculate scores\n",
      "set min_sample = 7, eps=0.7 \n",
      "vectorizing data...\n",
      "reducing dimensions...\n"
     ]
    },
    {
     "name": "stderr",
     "output_type": "stream",
     "text": [
      "100%|█████████████████████████████████████████████████████████████████████████████████████| 9/9 [00:03<00:00,  2.25it/s]\n"
     ]
    },
    {
     "name": "stdout",
     "output_type": "stream",
     "text": [
      "clustering...\n",
      "calculating scores...\n",
      "calculate scores\n"
     ]
    },
    {
     "name": "stderr",
     "output_type": "stream",
     "text": [
      "\r",
      "  0%|                                                                                             | 0/9 [00:00<?, ?it/s]"
     ]
    },
    {
     "name": "stdout",
     "output_type": "stream",
     "text": [
      "set min_sample = 3, eps=0.3 \n",
      "vectorizing data...\n",
      "reducing dimensions...\n",
      "clustering...\n"
     ]
    },
    {
     "name": "stderr",
     "output_type": "stream",
     "text": [
      "\r",
      " 11%|█████████▍                                                                           | 1/9 [00:00<00:04,  1.61it/s]"
     ]
    },
    {
     "name": "stdout",
     "output_type": "stream",
     "text": [
      "calculating scores...\n",
      "calculate scores\n",
      "set min_sample = 3, eps=0.5 \n",
      "vectorizing data...\n",
      "reducing dimensions...\n"
     ]
    },
    {
     "name": "stderr",
     "output_type": "stream",
     "text": [
      "\r",
      " 22%|██████████████████▉                                                                  | 2/9 [00:01<00:04,  1.42it/s]"
     ]
    },
    {
     "name": "stdout",
     "output_type": "stream",
     "text": [
      "clustering...\n",
      "calculating scores...\n",
      "calculate scores\n",
      "set min_sample = 3, eps=0.7 \n",
      "vectorizing data...\n",
      "reducing dimensions...\n",
      "clustering...\n",
      "calculating scores...\n",
      "calculate scores\n"
     ]
    },
    {
     "name": "stderr",
     "output_type": "stream",
     "text": [
      "\r",
      " 33%|████████████████████████████▎                                                        | 3/9 [00:02<00:04,  1.49it/s]"
     ]
    },
    {
     "name": "stdout",
     "output_type": "stream",
     "text": [
      "set min_sample = 5, eps=0.3 \n",
      "vectorizing data...\n",
      "reducing dimensions...\n",
      "clustering...\n"
     ]
    },
    {
     "name": "stderr",
     "output_type": "stream",
     "text": [
      "\r",
      " 44%|█████████████████████████████████████▊                                               | 4/9 [00:02<00:03,  1.55it/s]"
     ]
    },
    {
     "name": "stdout",
     "output_type": "stream",
     "text": [
      "calculating scores...\n",
      "calculate scores\n",
      "set min_sample = 5, eps=0.5 \n",
      "vectorizing data...\n",
      "reducing dimensions...\n"
     ]
    },
    {
     "name": "stderr",
     "output_type": "stream",
     "text": [
      "\r",
      " 56%|███████████████████████████████████████████████▏                                     | 5/9 [00:03<00:03,  1.31it/s]"
     ]
    },
    {
     "name": "stdout",
     "output_type": "stream",
     "text": [
      "clustering...\n",
      "calculating scores...\n",
      "calculate scores\n",
      "set min_sample = 5, eps=0.7 \n",
      "vectorizing data...\n",
      "reducing dimensions...\n",
      "clustering...\n"
     ]
    },
    {
     "name": "stderr",
     "output_type": "stream",
     "text": [
      "\r",
      " 67%|████████████████████████████████████████████████████████▋                            | 6/9 [00:04<00:02,  1.36it/s]"
     ]
    },
    {
     "name": "stdout",
     "output_type": "stream",
     "text": [
      "calculating scores...\n",
      "calculate scores\n",
      "set min_sample = 7, eps=0.3 \n",
      "vectorizing data...\n",
      "reducing dimensions...\n",
      "clustering...\n",
      "calculating scores...\n",
      "calculate scores\n"
     ]
    },
    {
     "name": "stderr",
     "output_type": "stream",
     "text": [
      "\r",
      " 78%|██████████████████████████████████████████████████████████████████                   | 7/9 [00:04<00:01,  1.48it/s]"
     ]
    },
    {
     "name": "stdout",
     "output_type": "stream",
     "text": [
      "set min_sample = 7, eps=0.5 \n",
      "vectorizing data...\n",
      "reducing dimensions...\n",
      "clustering...\n"
     ]
    },
    {
     "name": "stderr",
     "output_type": "stream",
     "text": [
      "\r",
      " 89%|███████████████████████████████████████████████████████████████████████████▌         | 8/9 [00:05<00:00,  1.52it/s]"
     ]
    },
    {
     "name": "stdout",
     "output_type": "stream",
     "text": [
      "calculating scores...\n",
      "calculate scores\n",
      "set min_sample = 7, eps=0.7 \n",
      "vectorizing data...\n",
      "reducing dimensions...\n",
      "clustering...\n",
      "calculating scores...\n",
      "calculate scores\n"
     ]
    },
    {
     "name": "stderr",
     "output_type": "stream",
     "text": [
      "100%|█████████████████████████████████████████████████████████████████████████████████████| 9/9 [00:06<00:00,  1.48it/s]\n"
     ]
    },
    {
     "data": {
      "text/html": [
       "<div>\n",
       "<style scoped>\n",
       "    .dataframe tbody tr th:only-of-type {\n",
       "        vertical-align: middle;\n",
       "    }\n",
       "\n",
       "    .dataframe tbody tr th {\n",
       "        vertical-align: top;\n",
       "    }\n",
       "\n",
       "    .dataframe thead th {\n",
       "        text-align: right;\n",
       "    }\n",
       "</style>\n",
       "<table border=\"1\" class=\"dataframe\">\n",
       "  <thead>\n",
       "    <tr style=\"text-align: right;\">\n",
       "      <th></th>\n",
       "      <th>davies bouldin index before enrichment</th>\n",
       "      <th>calinski harabasz index before enrichment</th>\n",
       "      <th>silhouette score before enrichment</th>\n",
       "      <th>davies bouldin index after enrichment</th>\n",
       "      <th>calinski harabasz index after enrichment</th>\n",
       "      <th>silhouette score after enrichment</th>\n",
       "    </tr>\n",
       "  </thead>\n",
       "  <tbody>\n",
       "    <tr>\n",
       "      <th>sample=3, eps=0.3</th>\n",
       "      <td>1.741937</td>\n",
       "      <td>4.533888</td>\n",
       "      <td>0.117622</td>\n",
       "      <td>1.552725</td>\n",
       "      <td>4.822367</td>\n",
       "      <td>0.003812</td>\n",
       "    </tr>\n",
       "    <tr>\n",
       "      <th>sample=3, eps=0.5</th>\n",
       "      <td>1.911154</td>\n",
       "      <td>5.382821</td>\n",
       "      <td>0.031044</td>\n",
       "      <td>2.166313</td>\n",
       "      <td>6.059910</td>\n",
       "      <td>0.016754</td>\n",
       "    </tr>\n",
       "    <tr>\n",
       "      <th>sample=3, eps=0.7</th>\n",
       "      <td>0.519654</td>\n",
       "      <td>6.580999</td>\n",
       "      <td>0.071380</td>\n",
       "      <td>0.483807</td>\n",
       "      <td>7.959257</td>\n",
       "      <td>0.059926</td>\n",
       "    </tr>\n",
       "    <tr>\n",
       "      <th>sample=5, eps=0.3</th>\n",
       "      <td>2.375638</td>\n",
       "      <td>2.872554</td>\n",
       "      <td>-0.049108</td>\n",
       "      <td>1.825714</td>\n",
       "      <td>4.935344</td>\n",
       "      <td>-0.006050</td>\n",
       "    </tr>\n",
       "    <tr>\n",
       "      <th>sample=5, eps=0.5</th>\n",
       "      <td>3.900711</td>\n",
       "      <td>3.984365</td>\n",
       "      <td>0.022954</td>\n",
       "      <td>4.529109</td>\n",
       "      <td>4.164229</td>\n",
       "      <td>0.025249</td>\n",
       "    </tr>\n",
       "    <tr>\n",
       "      <th>sample=5, eps=0.7</th>\n",
       "      <td>0.519654</td>\n",
       "      <td>6.580999</td>\n",
       "      <td>0.071380</td>\n",
       "      <td>0.483807</td>\n",
       "      <td>7.959257</td>\n",
       "      <td>0.059926</td>\n",
       "    </tr>\n",
       "    <tr>\n",
       "      <th>sample=7, eps=0.3</th>\n",
       "      <td>2.780939</td>\n",
       "      <td>1.948157</td>\n",
       "      <td>-0.002294</td>\n",
       "      <td>1.494857</td>\n",
       "      <td>6.828222</td>\n",
       "      <td>0.081452</td>\n",
       "    </tr>\n",
       "    <tr>\n",
       "      <th>sample=7, eps=0.5</th>\n",
       "      <td>3.783036</td>\n",
       "      <td>4.378663</td>\n",
       "      <td>0.010757</td>\n",
       "      <td>3.542063</td>\n",
       "      <td>5.191127</td>\n",
       "      <td>0.077519</td>\n",
       "    </tr>\n",
       "    <tr>\n",
       "      <th>sample=7, eps=0.7</th>\n",
       "      <td>0.519654</td>\n",
       "      <td>6.580999</td>\n",
       "      <td>0.071380</td>\n",
       "      <td>0.483807</td>\n",
       "      <td>7.959257</td>\n",
       "      <td>0.059926</td>\n",
       "    </tr>\n",
       "  </tbody>\n",
       "</table>\n",
       "</div>"
      ],
      "text/plain": [
       "                   davies bouldin index before enrichment  \\\n",
       "sample=3, eps=0.3                                1.741937   \n",
       "sample=3, eps=0.5                                1.911154   \n",
       "sample=3, eps=0.7                                0.519654   \n",
       "sample=5, eps=0.3                                2.375638   \n",
       "sample=5, eps=0.5                                3.900711   \n",
       "sample=5, eps=0.7                                0.519654   \n",
       "sample=7, eps=0.3                                2.780939   \n",
       "sample=7, eps=0.5                                3.783036   \n",
       "sample=7, eps=0.7                                0.519654   \n",
       "\n",
       "                   calinski harabasz index before enrichment  \\\n",
       "sample=3, eps=0.3                                   4.533888   \n",
       "sample=3, eps=0.5                                   5.382821   \n",
       "sample=3, eps=0.7                                   6.580999   \n",
       "sample=5, eps=0.3                                   2.872554   \n",
       "sample=5, eps=0.5                                   3.984365   \n",
       "sample=5, eps=0.7                                   6.580999   \n",
       "sample=7, eps=0.3                                   1.948157   \n",
       "sample=7, eps=0.5                                   4.378663   \n",
       "sample=7, eps=0.7                                   6.580999   \n",
       "\n",
       "                   silhouette score before enrichment  \\\n",
       "sample=3, eps=0.3                            0.117622   \n",
       "sample=3, eps=0.5                            0.031044   \n",
       "sample=3, eps=0.7                            0.071380   \n",
       "sample=5, eps=0.3                           -0.049108   \n",
       "sample=5, eps=0.5                            0.022954   \n",
       "sample=5, eps=0.7                            0.071380   \n",
       "sample=7, eps=0.3                           -0.002294   \n",
       "sample=7, eps=0.5                            0.010757   \n",
       "sample=7, eps=0.7                            0.071380   \n",
       "\n",
       "                   davies bouldin index after enrichment  \\\n",
       "sample=3, eps=0.3                               1.552725   \n",
       "sample=3, eps=0.5                               2.166313   \n",
       "sample=3, eps=0.7                               0.483807   \n",
       "sample=5, eps=0.3                               1.825714   \n",
       "sample=5, eps=0.5                               4.529109   \n",
       "sample=5, eps=0.7                               0.483807   \n",
       "sample=7, eps=0.3                               1.494857   \n",
       "sample=7, eps=0.5                               3.542063   \n",
       "sample=7, eps=0.7                               0.483807   \n",
       "\n",
       "                   calinski harabasz index after enrichment  \\\n",
       "sample=3, eps=0.3                                  4.822367   \n",
       "sample=3, eps=0.5                                  6.059910   \n",
       "sample=3, eps=0.7                                  7.959257   \n",
       "sample=5, eps=0.3                                  4.935344   \n",
       "sample=5, eps=0.5                                  4.164229   \n",
       "sample=5, eps=0.7                                  7.959257   \n",
       "sample=7, eps=0.3                                  6.828222   \n",
       "sample=7, eps=0.5                                  5.191127   \n",
       "sample=7, eps=0.7                                  7.959257   \n",
       "\n",
       "                   silhouette score after enrichment  \n",
       "sample=3, eps=0.3                           0.003812  \n",
       "sample=3, eps=0.5                           0.016754  \n",
       "sample=3, eps=0.7                           0.059926  \n",
       "sample=5, eps=0.3                          -0.006050  \n",
       "sample=5, eps=0.5                           0.025249  \n",
       "sample=5, eps=0.7                           0.059926  \n",
       "sample=7, eps=0.3                           0.081452  \n",
       "sample=7, eps=0.5                           0.077519  \n",
       "sample=7, eps=0.7                           0.059926  "
      ]
     },
     "execution_count": 391,
     "metadata": {},
     "output_type": "execute_result"
    }
   ],
   "source": [
    "def generate_scores_table()\n",
    "\n",
    "    scores_subset = clustering(BMBF.loc[BMBF[\"FKZ\"].isin(mask),\"Thema\"])\n",
    "    scores_enriched_subset = clustering(BMBF.loc[BMBF[\"FKZ\"].isin(mask),\"enriched_Thema\"])\n",
    "    metrics_no_enrichment_subset = create_metrics_table(scores_subset)\n",
    "    metrics_enriched_subset = create_metrics_table(scores_enriched_subset)\n",
    "    metrics_subset = metrics_no_enrichment_subset.join(metrics_enriched_subset,lsuffix = ' before enrichment', rsuffix=' after enrichment')\n",
    "    \n",
    "    return metrics_subset\n",
    "\n",
    "metrics_subset = generate_scores_table()\n",
    "metrics_subset"
   ]
  },
  {
   "cell_type": "code",
   "execution_count": 402,
   "id": "4d4271c8",
   "metadata": {},
   "outputs": [
    {
     "data": {
      "text/html": [
       "<div>\n",
       "<style scoped>\n",
       "    .dataframe tbody tr th:only-of-type {\n",
       "        vertical-align: middle;\n",
       "    }\n",
       "\n",
       "    .dataframe tbody tr th {\n",
       "        vertical-align: top;\n",
       "    }\n",
       "\n",
       "    .dataframe thead th {\n",
       "        text-align: right;\n",
       "    }\n",
       "</style>\n",
       "<table border=\"1\" class=\"dataframe\">\n",
       "  <thead>\n",
       "    <tr style=\"text-align: right;\">\n",
       "      <th></th>\n",
       "      <th>davies bouldin index before enrichment</th>\n",
       "      <th>davies bouldin index after enrichment</th>\n",
       "    </tr>\n",
       "  </thead>\n",
       "  <tbody>\n",
       "    <tr>\n",
       "      <th>sample=3, eps=0.3</th>\n",
       "      <td>1.741937</td>\n",
       "      <td>1.552725</td>\n",
       "    </tr>\n",
       "    <tr>\n",
       "      <th>sample=3, eps=0.5</th>\n",
       "      <td>1.911154</td>\n",
       "      <td>2.166313</td>\n",
       "    </tr>\n",
       "    <tr>\n",
       "      <th>sample=3, eps=0.7</th>\n",
       "      <td>0.519654</td>\n",
       "      <td>0.483807</td>\n",
       "    </tr>\n",
       "    <tr>\n",
       "      <th>sample=5, eps=0.3</th>\n",
       "      <td>2.375638</td>\n",
       "      <td>1.825714</td>\n",
       "    </tr>\n",
       "    <tr>\n",
       "      <th>sample=5, eps=0.5</th>\n",
       "      <td>3.900711</td>\n",
       "      <td>4.529109</td>\n",
       "    </tr>\n",
       "    <tr>\n",
       "      <th>sample=5, eps=0.7</th>\n",
       "      <td>0.519654</td>\n",
       "      <td>0.483807</td>\n",
       "    </tr>\n",
       "    <tr>\n",
       "      <th>sample=7, eps=0.3</th>\n",
       "      <td>2.780939</td>\n",
       "      <td>1.494857</td>\n",
       "    </tr>\n",
       "    <tr>\n",
       "      <th>sample=7, eps=0.5</th>\n",
       "      <td>3.783036</td>\n",
       "      <td>3.542063</td>\n",
       "    </tr>\n",
       "    <tr>\n",
       "      <th>sample=7, eps=0.7</th>\n",
       "      <td>0.519654</td>\n",
       "      <td>0.483807</td>\n",
       "    </tr>\n",
       "  </tbody>\n",
       "</table>\n",
       "</div>"
      ],
      "text/plain": [
       "                   davies bouldin index before enrichment  \\\n",
       "sample=3, eps=0.3                                1.741937   \n",
       "sample=3, eps=0.5                                1.911154   \n",
       "sample=3, eps=0.7                                0.519654   \n",
       "sample=5, eps=0.3                                2.375638   \n",
       "sample=5, eps=0.5                                3.900711   \n",
       "sample=5, eps=0.7                                0.519654   \n",
       "sample=7, eps=0.3                                2.780939   \n",
       "sample=7, eps=0.5                                3.783036   \n",
       "sample=7, eps=0.7                                0.519654   \n",
       "\n",
       "                   davies bouldin index after enrichment  \n",
       "sample=3, eps=0.3                               1.552725  \n",
       "sample=3, eps=0.5                               2.166313  \n",
       "sample=3, eps=0.7                               0.483807  \n",
       "sample=5, eps=0.3                               1.825714  \n",
       "sample=5, eps=0.5                               4.529109  \n",
       "sample=5, eps=0.7                               0.483807  \n",
       "sample=7, eps=0.3                               1.494857  \n",
       "sample=7, eps=0.5                               3.542063  \n",
       "sample=7, eps=0.7                               0.483807  "
      ]
     },
     "execution_count": 402,
     "metadata": {},
     "output_type": "execute_result"
    }
   ],
   "source": [
    "metrics_subset.loc[:,[col for col in metrics_subset.columns if col.startswith(\"davies\")]]"
   ]
  },
  {
   "cell_type": "markdown",
   "id": "d28b0b2b",
   "metadata": {},
   "source": [
    "store all the data set including cluster labels\n",
    "BMBF.to_csv(\"../clustersBMBF.csv\", index= False)"
   ]
  }
 ],
 "metadata": {
  "kernelspec": {
   "display_name": "BMBFenv",
   "language": "python",
   "name": "bmbfenv"
  },
  "language_info": {
   "codemirror_mode": {
    "name": "ipython",
    "version": 3
   },
   "file_extension": ".py",
   "mimetype": "text/x-python",
   "name": "python",
   "nbconvert_exporter": "python",
   "pygments_lexer": "ipython3",
   "version": "3.9.6"
  }
 },
 "nbformat": 4,
 "nbformat_minor": 5
}
