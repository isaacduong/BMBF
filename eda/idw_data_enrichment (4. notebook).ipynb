{
 "cells": [
  {
   "cell_type": "markdown",
   "id": "c77f76eb",
   "metadata": {},
   "source": [
    "## Since idw does not provide an application programming interface to retrieve its data  freely,  idw is not suitable for our purpose of enriching data for clustering purposes\n",
    "https://idw-online.de/de/api"
   ]
  },
  {
   "cell_type": "code",
   "execution_count": null,
   "id": "6f15cde1",
   "metadata": {},
   "outputs": [],
   "source": []
  }
 ],
 "metadata": {
  "kernelspec": {
   "display_name": "Python 3 (ipykernel)",
   "language": "python",
   "name": "python3"
  },
  "language_info": {
   "codemirror_mode": {
    "name": "ipython",
    "version": 3
   },
   "file_extension": ".py",
   "mimetype": "text/x-python",
   "name": "python",
   "nbconvert_exporter": "python",
   "pygments_lexer": "ipython3",
   "version": "3.9.6"
  }
 },
 "nbformat": 4,
 "nbformat_minor": 5
}
