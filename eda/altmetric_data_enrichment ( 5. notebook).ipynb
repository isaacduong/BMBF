{
 "cells": [
  {
   "cell_type": "markdown",
   "id": "23ceebf5",
   "metadata": {},
   "source": [
    "###  Identifiers Altmetric uses for retrieving data such as DOI, pmid, arxiv, isbn, id and so on are not provided in our BMBF dataset. Therefore it is not possible to retrieve Altmetric data for our purpose.\n",
    "https://details-page-api-docs.altmetric.com/getting-started.html#identifiers"
   ]
  }
 ],
 "metadata": {
  "kernelspec": {
   "display_name": "BMBFenv",
   "language": "python",
   "name": "bmbfenv"
  },
  "language_info": {
   "codemirror_mode": {
    "name": "ipython",
    "version": 3
   },
   "file_extension": ".py",
   "mimetype": "text/x-python",
   "name": "python",
   "nbconvert_exporter": "python",
   "pygments_lexer": "ipython3",
   "version": "3.9.6"
  }
 },
 "nbformat": 4,
 "nbformat_minor": 5
}
