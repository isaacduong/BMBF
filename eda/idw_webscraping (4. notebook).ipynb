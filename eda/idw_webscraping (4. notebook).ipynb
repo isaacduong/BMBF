{
 "cells": [
  {
   "cell_type": "code",
   "execution_count": 1,
   "id": "13bbc4aa",
   "metadata": {},
   "outputs": [
    {
     "name": "stderr",
     "output_type": "stream",
     "text": [
      "/Users/isaacduong/BMBF_Clustering_Project/BMBFenv/lib/python3.9/site-packages/urllib3/__init__.py:34: NotOpenSSLWarning: urllib3 v2.0 only supports OpenSSL 1.1.1+, currently the 'ssl' module is compiled with 'LibreSSL 2.8.3'. See: https://github.com/urllib3/urllib3/issues/3020\n",
      "  warnings.warn(\n"
     ]
    }
   ],
   "source": [
    "import re\n",
    "import numpy as np\n",
    "from datetime import datetime\n",
    "import pandas as pd\n",
    "import requests\n",
    "from tqdm import tqdm\n",
    "pd.set_option('max_colwidth', None) # show all text in a column\n",
    "pd.set_option('display.max_columns', None) # show all columns\n",
    "\n",
    "tqdm.pandas()\n",
    "\n",
    "import aiohttp\n",
    "import asyncio\n",
    "\n",
    "from bs4 import BeautifulSoup\n",
    "from selenium import webdriver\n",
    "from selenium.webdriver.chrome.service import Service\n",
    "from selenium.webdriver.chrome.options import Options\n",
    "from selenium.webdriver.common.by import By\n",
    "\n",
    "from utils import detect_language,remove_html_tags, remove_url"
   ]
  },
  {
   "cell_type": "code",
   "execution_count": 2,
   "id": "d755b18e",
   "metadata": {},
   "outputs": [],
   "source": [
    "BMBF = pd.read_csv(\"../data/cleanedBMBF.csv\")"
   ]
  },
  {
   "cell_type": "code",
   "execution_count": 3,
   "id": "ded058b1",
   "metadata": {},
   "outputs": [
    {
     "data": {
      "text/html": [
       "<div>\n",
       "<style scoped>\n",
       "    .dataframe tbody tr th:only-of-type {\n",
       "        vertical-align: middle;\n",
       "    }\n",
       "\n",
       "    .dataframe tbody tr th {\n",
       "        vertical-align: top;\n",
       "    }\n",
       "\n",
       "    .dataframe thead th {\n",
       "        text-align: right;\n",
       "    }\n",
       "</style>\n",
       "<table border=\"1\" class=\"dataframe\">\n",
       "  <thead>\n",
       "    <tr style=\"text-align: right;\">\n",
       "      <th></th>\n",
       "      <th>FKZ</th>\n",
       "      <th>Ressort</th>\n",
       "      <th>Referat</th>\n",
       "      <th>PT</th>\n",
       "      <th>Arb.-Einh.</th>\n",
       "      <th>Zuwendungsempfänger</th>\n",
       "      <th>Gemeindekennziffer</th>\n",
       "      <th>Stadt/Gemeinde</th>\n",
       "      <th>Ort</th>\n",
       "      <th>Bundesland</th>\n",
       "      <th>Staat</th>\n",
       "      <th>Ausführende Stelle</th>\n",
       "      <th>Gemeindekennziffer.1</th>\n",
       "      <th>Stadt/Gemeinde.1</th>\n",
       "      <th>Ort.1</th>\n",
       "      <th>Bundesland.1</th>\n",
       "      <th>Staat.1</th>\n",
       "      <th>Thema</th>\n",
       "      <th>Leistungsplansystematik</th>\n",
       "      <th>Klartext Leistungsplansystematik</th>\n",
       "      <th>Laufzeit von</th>\n",
       "      <th>Laufzeit bis</th>\n",
       "      <th>Fördersumme in EUR</th>\n",
       "      <th>Förderprofil</th>\n",
       "      <th>Verbundprojekt</th>\n",
       "      <th>Förderart</th>\n",
       "    </tr>\n",
       "  </thead>\n",
       "  <tbody>\n",
       "    <tr>\n",
       "      <th>0</th>\n",
       "      <td>03F0212C/7</td>\n",
       "      <td>BMBF</td>\n",
       "      <td>724</td>\n",
       "      <td>PT-J</td>\n",
       "      <td>MGS1</td>\n",
       "      <td>Universität Rostock</td>\n",
       "      <td>13003000.0</td>\n",
       "      <td>Rostock</td>\n",
       "      <td>Rostock</td>\n",
       "      <td>Mecklenburg-Vorpommern</td>\n",
       "      <td>Deutschland</td>\n",
       "      <td>Universität Rostock - Fachbereich Elektrotechnik und Informationstechnik</td>\n",
       "      <td>13003000.0</td>\n",
       "      <td>Rostock</td>\n",
       "      <td>Rostock</td>\n",
       "      <td>Mecklenburg-Vorpommern</td>\n",
       "      <td>Deutschland</td>\n",
       "      <td>Verbundprojekt MESSIN: Entwicklung und Systemintegration der Komponenten Navigation, Automatische Steuerung, Kommunikation und Energieversorgung für den Meßdelphin MESSIN</td>\n",
       "      <td>FB4010</td>\n",
       "      <td>Technik-/Infrastrukturentwicklung und -bereitstellung (Überwachungssysteme, Begleitforschung zum Monitoring, innovative Technik und Geräteträger)</td>\n",
       "      <td>01.01.1998</td>\n",
       "      <td>31.08.2000</td>\n",
       "      <td>648.462,00</td>\n",
       "      <td>Forschung und Entwicklung zur Daseinsvorsorge</td>\n",
       "      <td>MESSIN</td>\n",
       "      <td>PDIR</td>\n",
       "    </tr>\n",
       "    <tr>\n",
       "      <th>1</th>\n",
       "      <td>D251800/0</td>\n",
       "      <td>BMBF</td>\n",
       "      <td>314</td>\n",
       "      <td>BIBB</td>\n",
       "      <td>A3.3</td>\n",
       "      <td>Ministerium für Wirtschaft, Arbeit und Wohnungsbau Baden-Württemberg</td>\n",
       "      <td>8111000.0</td>\n",
       "      <td>Stuttgart</td>\n",
       "      <td>Stuttgart</td>\n",
       "      <td>Baden-Württemberg</td>\n",
       "      <td>Deutschland</td>\n",
       "      <td>KACO new energy GmbH</td>\n",
       "      <td>8121000.0</td>\n",
       "      <td>Heilbronn</td>\n",
       "      <td>Heilbronn</td>\n",
       "      <td>Baden-Württemberg</td>\n",
       "      <td>Deutschland</td>\n",
       "      <td>Prozeßorientierte Entwicklungsplanung und Qualifizierung im Betrieb</td>\n",
       "      <td>OB1050</td>\n",
       "      <td>Versuchs- und Modelleinrichtungen und -programme im Bereich der beruflichen Bildung</td>\n",
       "      <td>01.07.1997</td>\n",
       "      <td>30.06.2000</td>\n",
       "      <td>96.634,00</td>\n",
       "      <td>Forschung und Entwicklung zur Daseinsvorsorge</td>\n",
       "      <td>NaN</td>\n",
       "      <td>PDIR</td>\n",
       "    </tr>\n",
       "  </tbody>\n",
       "</table>\n",
       "</div>"
      ],
      "text/plain": [
       "          FKZ Ressort Referat    PT Arb.-Einh.  \\\n",
       "0  03F0212C/7    BMBF     724  PT-J       MGS1   \n",
       "1   D251800/0    BMBF     314  BIBB       A3.3   \n",
       "\n",
       "                                                    Zuwendungsempfänger  \\\n",
       "0                                                   Universität Rostock   \n",
       "1  Ministerium für Wirtschaft, Arbeit und Wohnungsbau Baden-Württemberg   \n",
       "\n",
       "   Gemeindekennziffer Stadt/Gemeinde        Ort              Bundesland  \\\n",
       "0          13003000.0        Rostock    Rostock  Mecklenburg-Vorpommern   \n",
       "1           8111000.0      Stuttgart  Stuttgart       Baden-Württemberg   \n",
       "\n",
       "         Staat  \\\n",
       "0  Deutschland   \n",
       "1  Deutschland   \n",
       "\n",
       "                                                         Ausführende Stelle  \\\n",
       "0  Universität Rostock - Fachbereich Elektrotechnik und Informationstechnik   \n",
       "1                                                      KACO new energy GmbH   \n",
       "\n",
       "   Gemeindekennziffer.1 Stadt/Gemeinde.1      Ort.1            Bundesland.1  \\\n",
       "0            13003000.0          Rostock    Rostock  Mecklenburg-Vorpommern   \n",
       "1             8121000.0        Heilbronn  Heilbronn       Baden-Württemberg   \n",
       "\n",
       "       Staat.1  \\\n",
       "0  Deutschland   \n",
       "1  Deutschland   \n",
       "\n",
       "                                                                                                                                                                        Thema  \\\n",
       "0  Verbundprojekt MESSIN: Entwicklung und Systemintegration der Komponenten Navigation, Automatische Steuerung, Kommunikation und Energieversorgung für den Meßdelphin MESSIN   \n",
       "1                                                                                                         Prozeßorientierte Entwicklungsplanung und Qualifizierung im Betrieb   \n",
       "\n",
       "  Leistungsplansystematik  \\\n",
       "0                  FB4010   \n",
       "1                  OB1050   \n",
       "\n",
       "                                                                                                                    Klartext Leistungsplansystematik  \\\n",
       "0  Technik-/Infrastrukturentwicklung und -bereitstellung (Überwachungssysteme, Begleitforschung zum Monitoring, innovative Technik und Geräteträger)   \n",
       "1                                                                Versuchs- und Modelleinrichtungen und -programme im Bereich der beruflichen Bildung   \n",
       "\n",
       "  Laufzeit von Laufzeit bis Fördersumme in EUR  \\\n",
       "0   01.01.1998   31.08.2000         648.462,00   \n",
       "1   01.07.1997   30.06.2000          96.634,00   \n",
       "\n",
       "                                    Förderprofil Verbundprojekt Förderart  \n",
       "0  Forschung und Entwicklung zur Daseinsvorsorge         MESSIN      PDIR  \n",
       "1  Forschung und Entwicklung zur Daseinsvorsorge            NaN      PDIR  "
      ]
     },
     "execution_count": 3,
     "metadata": {},
     "output_type": "execute_result"
    }
   ],
   "source": [
    "BMBF.head(2)"
   ]
  },
  {
   "cell_type": "markdown",
   "id": "d271e433",
   "metadata": {},
   "source": [
    "### For retrieving publications and press releases on idw , FKZ alone can not be used for finding press releases and publications related to the BMBF grants. Therefore all press releases and publications mentioned BMBF are retrieved at first. After that FKZ will be using to find matches."
   ]
  },
  {
   "cell_type": "code",
   "execution_count": 4,
   "id": "756f3244",
   "metadata": {},
   "outputs": [],
   "source": [
    "def extract_pub_web_address(soup):\n",
    "    \n",
    "    # this function extract html links of idw search results\n",
    "    div_elements = soup.find_all(\"div\", class_=\"nine columns\")\n",
    "    web_address = []\n",
    "    if div_elements:\n",
    "        for div in div_elements:\n",
    "            # Find and extract the <a> element within the div\n",
    "            a_element = div.find(\"a\")\n",
    "\n",
    "            if a_element:\n",
    "                # Extract the 'href' attribute value from the <a> element\n",
    "                href_value = a_element.get(\"href\")\n",
    "                web_address.append(href_value)\n",
    "                \n",
    "    return web_address"
   ]
  },
  {
   "cell_type": "code",
   "execution_count": 28,
   "id": "fbf7415c",
   "metadata": {},
   "outputs": [],
   "source": [
    "def retrieve_pub_web_address(search_term, n_pages):\n",
    "    # this function go over all pages and extract all links \n",
    "    \n",
    "    url = f\"https://idw-online.de/de/simplesearch?words={search_term}&_form_=InputForm&scope=press_release&scope=event&page=%s\"\n",
    "    pub_web_addresses = []\n",
    "    # Send an HTTP GET request to the URL\n",
    "    for i in tqdm(range(1, n_pages + 1)):\n",
    "        try:\n",
    "            response = requests.get(url % str(i))\n",
    "            # Check if the request was successful\n",
    "            if response.status_code == 200:\n",
    "                # Parse the HTML content of the page\n",
    "                soup = BeautifulSoup(response.text, \"html.parser\")\n",
    "\n",
    "                pub_web_addresses.extend(extract_pub_web_address(soup))\n",
    "\n",
    "        except Exception as e:\n",
    "            print (\"Error: \",e)\n",
    "            \n",
    "    return pub_web_addresses\n"
   ]
  },
  {
   "cell_type": "code",
   "execution_count": 29,
   "id": "ac04a874",
   "metadata": {},
   "outputs": [],
   "source": [
    "# searching for full text such as \" Bundesministerium für Bildung und Forschung\" does not effective because \n",
    "# searching machine does not look for the whole string but each single word\n",
    "# search results on 15/11/2023 BMBF: 21994, BMWi: 3374, BMU : 791, BMVI: 411 , BMEL : 1382, BMJV_BLE : 0  \n",
    "search_result_pages = {\"BMBF\":1100,\"BMWi\":169,\"BMU\":40,\"BMV\":21,\"BMEL\": 70} # \"BMJV_BLE\":0"
   ]
  },
  {
   "cell_type": "code",
   "execution_count": null,
   "id": "15c082c5",
   "metadata": {},
   "outputs": [],
   "source": [
    "%%time\n",
    "total_web_addresses = []\n",
    "for search_term, pages in list(search_result_pages.items()):\n",
    "    total_web_addresses.extend(retrieve_pub_web_address(search_term,n_pages = pages))"
   ]
  },
  {
   "cell_type": "code",
   "execution_count": null,
   "id": "5350f06f",
   "metadata": {},
   "outputs": [],
   "source": [
    "# the web_addresses have following structure and indicate whether the press release/publication is written in German or English:\n",
    "# /en/news823662\n",
    "# /de/news820498\n",
    "# /de/news818640\n",
    "# /en/news818518\n",
    "# we only interested in publication in German, therefore we only \n",
    "total_web_addresses = [web_adresse for web_adresse in total_web_addresses if \"/de/\" in web_adresse]"
   ]
  },
  {
   "cell_type": "code",
   "execution_count": null,
   "id": "db61e932",
   "metadata": {},
   "outputs": [],
   "source": [
    "# there are 25926 press releases / publications in German which mention the values in column \"Ressort\" \n",
    "print(len(total_web_addresses))"
   ]
  },
  {
   "cell_type": "code",
   "execution_count": null,
   "id": "4e6ddaa4",
   "metadata": {},
   "outputs": [],
   "source": [
    "%store total_web_addresses"
   ]
  },
  {
   "cell_type": "code",
   "execution_count": null,
   "id": "093258bc",
   "metadata": {},
   "outputs": [],
   "source": [
    "async def fetch_url(session, press_web_address, timeout=20):\n",
    "    url = \"https://idw-online.de\" + press_web_address\n",
    "\n",
    "    try:\n",
    "        async with session.get(url,timeout = timeout) as response:\n",
    "            if response.status == 200:\n",
    "                html_content = await response.text()\n",
    "                return press_web_address, html_content\n",
    "\n",
    "    except Exception as e:\n",
    "        print(\"Error:\" , e)\n",
    "        return None, None\n",
    "\n",
    "\n",
    "async def fetch_data_from_urls(urls):\n",
    "    async with aiohttp.ClientSession() as session:\n",
    "        tasks = []\n",
    "        for url in tqdm(urls):\n",
    "            tasks.append(fetch_url(session, url))\n",
    "        results = await asyncio.gather(*tasks)\n",
    "        return results"
   ]
  },
  {
   "cell_type": "code",
   "execution_count": null,
   "id": "eb08bce2",
   "metadata": {},
   "outputs": [],
   "source": [
    "async def merge_search_content(web_addresses):\n",
    "    chunk_size = 100\n",
    "    contents = []\n",
    "    for chunk in range(0, len(web_addresses), chunk_size):\n",
    "        start = chunk\n",
    "        end = min(chunk + chunk_size, len(web_addresses))\n",
    "        start_time = datetime.now()\n",
    "        result = await fetch_data_from_urls(web_addresses[start:end])\n",
    "        contents.extend(result)\n",
    "        time = datetime.now() - start_time\n",
    "        print(time)\n",
    "    return contents\n"
   ]
  },
  {
   "cell_type": "code",
   "execution_count": null,
   "id": "3334bc3b",
   "metadata": {},
   "outputs": [],
   "source": [
    "contents = await merge_search_content(total_web_addresses)"
   ]
  },
  {
   "cell_type": "code",
   "execution_count": null,
   "id": "c5645a44",
   "metadata": {},
   "outputs": [],
   "source": [
    "#create a DataFrame from retrieving data\n",
    "idw = pd.DataFrame(contents,columns=[\"web_address\",\"content\"])\n"
   ]
  },
  {
   "cell_type": "code",
   "execution_count": null,
   "id": "b0c8f97d",
   "metadata": {},
   "outputs": [],
   "source": [
    "def clean_text(text):\n",
    "    \n",
    "    \"\"\"  function to clean text content  \"\"\"\n",
    "    # select relevant paragraph\n",
    "    text = text.split('<h5 class=\"subheader\">')[1].split(\"style\")[0]\n",
    "    split_word = \"<div class=\\\"widescreenhide\\\"\" \n",
    "    split_index = text.find(split_word)\n",
    "    if split_index != -1:\n",
    "        text = text[:split_index].strip()\n",
    "    \n",
    "    # remove html tag\n",
    "    text = remove_html_tags(text)\n",
    "    # remove line break\n",
    "    text = text.replace('\\n', ' ')\n",
    "    #remove urls\n",
    "    text = remove_url(text)\n",
    "    \n",
    "    return text\n",
    "    "
   ]
  },
  {
   "cell_type": "code",
   "execution_count": null,
   "id": "432465ed",
   "metadata": {},
   "outputs": [],
   "source": [
    "idw[\"content\"]= idw[\"content\"].progress_apply(clean_text)"
   ]
  },
  {
   "cell_type": "markdown",
   "id": "7369beb6",
   "metadata": {},
   "source": [
    "### Running follwing cell will takes about 4 hours"
   ]
  },
  {
   "cell_type": "code",
   "execution_count": null,
   "id": "f2017730",
   "metadata": {
    "scrolled": false
   },
   "outputs": [],
   "source": [
    "# this cell will determine those FKZs which are mentioned in press release/publication retrieved\n",
    "total_contents = \"\".join(idw.iloc[:,\"content\"].values)\n",
    "for FKZ in tqdm(BMBF[\"FKZ\"].values):\n",
    "  \n",
    "    if FKZ in total_contents:\n",
    "        print(f\"found publication of FKZ {FKZ}\")\n",
    "        FKZs_with_pubs.append(FKZ)"
   ]
  },
  {
   "cell_type": "markdown",
   "id": "e4b9e7c5",
   "metadata": {},
   "source": [
    "A closer examination of the FKZs reveals that there is often a space between many of them. So lets take an attempt to correct them to see whether we can find press release/publication for those FKZs. "
   ]
  },
  {
   "cell_type": "code",
   "execution_count": null,
   "id": "b667a14d",
   "metadata": {},
   "outputs": [],
   "source": [
    "for FKZ in tqdm(BMBF[\"FKZ\"].values):\n",
    "    \n",
    "    if (FKZ != FKZ.replace(\" \",\"\")) and (FKZ.replace(\" \",\"\") in total_contents):\n",
    "        print(f\"found publication of FKZ {FKZ}\")\n",
    "        FKZs_with_pubs.append(FKZ)"
   ]
  },
  {
   "cell_type": "code",
   "execution_count": null,
   "id": "e7681798",
   "metadata": {},
   "outputs": [],
   "source": [
    "# save the list for late use sothat we dont have to run the notebook from beginning\n",
    "%store -r FKZs_with_pubs"
   ]
  },
  {
   "cell_type": "markdown",
   "id": "cf232be3",
   "metadata": {},
   "source": [
    "found 1 more FKZ, which has press release/publication related to it after remove space in FKZ. Total 350 FKZs"
   ]
  },
  {
   "cell_type": "code",
   "execution_count": null,
   "id": "f95ed609",
   "metadata": {},
   "outputs": [],
   "source": [
    "#this cell will map the press releases/ publications to related FKZs  \n",
    "BMBF.loc[:,\"idw_enrichment\"] = \"\"\n",
    "for FKZ in tqdm(FKZs_with_pubs):\n",
    "    for row in range(len(idw)):\n",
    "        if FKZ in idw.loc[row,\"content\"]:\n",
    "            BMBF.loc[BMBF[\"FKZ\"]==FKZ,\"idw_enrichment\"] += idw.loc[row,\"content\"].replace(\"  \",\"\").replace(\"\\n\",\"\")\n",
    "      \n",
    "        else:\n",
    "            continue\n",
    "                       "
   ]
  },
  {
   "cell_type": "code",
   "execution_count": null,
   "id": "7b0a3223",
   "metadata": {},
   "outputs": [],
   "source": [
    "# save to file\n",
    "BMBF.loc[(BMBF[\"FKZ\"].isin(FKZs_with_pubs)) , ['FKZ','idw_enrichment']].to_csv('../data/BMBF_idw_enrichments.csv',index=False)"
   ]
  },
  {
   "cell_type": "code",
   "execution_count": null,
   "id": "4c0c43f5",
   "metadata": {},
   "outputs": [],
   "source": [
    "enrichments.head(5)"
   ]
  },
  {
   "cell_type": "code",
   "execution_count": null,
   "id": "99f82386",
   "metadata": {},
   "outputs": [],
   "source": []
  }
 ],
 "metadata": {
  "kernelspec": {
   "display_name": "BMBFenv",
   "language": "python",
   "name": "bmbfenv"
  },
  "language_info": {
   "codemirror_mode": {
    "name": "ipython",
    "version": 3
   },
   "file_extension": ".py",
   "mimetype": "text/x-python",
   "name": "python",
   "nbconvert_exporter": "python",
   "pygments_lexer": "ipython3",
   "version": "3.9.6"
  }
 },
 "nbformat": 4,
 "nbformat_minor": 5
}
