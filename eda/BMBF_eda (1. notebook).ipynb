{
 "cells": [
  {
   "cell_type": "code",
   "execution_count": 1,
   "id": "11e368de",
   "metadata": {},
   "outputs": [],
   "source": [
    "import pandas as pd\n",
    "import matplotlib.pyplot as plt\n",
    "from utils import clean_data\n"
   ]
  },
  {
   "cell_type": "code",
   "execution_count": 2,
   "id": "8b7e3f86",
   "metadata": {},
   "outputs": [],
   "source": [
    "pd.set_option('max_colwidth', None) # show all text in a column\n",
    "pd.set_option('display.max_columns', None) # show all columns\n"
   ]
  },
  {
   "cell_type": "code",
   "execution_count": 3,
   "id": "59e79aab",
   "metadata": {},
   "outputs": [
    {
     "data": {
      "text/html": [
       "<div>\n",
       "<style scoped>\n",
       "    .dataframe tbody tr th:only-of-type {\n",
       "        vertical-align: middle;\n",
       "    }\n",
       "\n",
       "    .dataframe tbody tr th {\n",
       "        vertical-align: top;\n",
       "    }\n",
       "\n",
       "    .dataframe thead th {\n",
       "        text-align: right;\n",
       "    }\n",
       "</style>\n",
       "<table border=\"1\" class=\"dataframe\">\n",
       "  <thead>\n",
       "    <tr style=\"text-align: right;\">\n",
       "      <th></th>\n",
       "      <th>=\"FKZ\"</th>\n",
       "      <th>=\"Ressort\"</th>\n",
       "      <th>=\"Referat\"</th>\n",
       "      <th>=\"PT\"</th>\n",
       "      <th>=\"Arb.-Einh.\"</th>\n",
       "      <th>=\"Zuwendungsempfänger\"</th>\n",
       "      <th>=\"Gemeindekennziffer\"</th>\n",
       "      <th>=\"Stadt/Gemeinde\"</th>\n",
       "      <th>=\"Ort\"</th>\n",
       "      <th>=\"Bundesland\"</th>\n",
       "      <th>=\"Staat\"</th>\n",
       "      <th>=\"Ausführende Stelle\"</th>\n",
       "      <th>=\"Gemeindekennziffer\".1</th>\n",
       "      <th>=\"Stadt/Gemeinde\".1</th>\n",
       "      <th>=\"Ort\".1</th>\n",
       "      <th>=\"Bundesland\".1</th>\n",
       "      <th>=\"Staat\".1</th>\n",
       "      <th>=\"Thema\"</th>\n",
       "      <th>=\"Leistungsplansystematik\"</th>\n",
       "      <th>=\"Klartext Leistungsplansystematik\"</th>\n",
       "      <th>=\"Laufzeit von\"</th>\n",
       "      <th>=\"Laufzeit bis\"</th>\n",
       "      <th>=\"Fördersumme in EUR\"</th>\n",
       "      <th>=\"Förderprofil\"</th>\n",
       "      <th>=\"Verbundprojekt\"</th>\n",
       "      <th>=\"Förderart\"</th>\n",
       "      <th>Unnamed: 26</th>\n",
       "    </tr>\n",
       "  </thead>\n",
       "  <tbody>\n",
       "    <tr>\n",
       "      <th>0</th>\n",
       "      <td>=\"03F0212C/7\"</td>\n",
       "      <td>=\"BMBF\"</td>\n",
       "      <td>=\"724\"</td>\n",
       "      <td>=\"PT-J\"</td>\n",
       "      <td>=\"MGS1\"</td>\n",
       "      <td>=\"Universität Rostock\"</td>\n",
       "      <td>=\"13003000\"</td>\n",
       "      <td>=\"Rostock\"</td>\n",
       "      <td>=\"Rostock\"</td>\n",
       "      <td>=\"Mecklenburg-Vorpommern\"</td>\n",
       "      <td>=\"Deutschland\"</td>\n",
       "      <td>=\"Universität Rostock - Fachbereich Elektrotechnik und Informationstechnik\"</td>\n",
       "      <td>=\"13003000\"</td>\n",
       "      <td>=\"Rostock\"</td>\n",
       "      <td>=\"Rostock\"</td>\n",
       "      <td>=\"Mecklenburg-Vorpommern\"</td>\n",
       "      <td>=\"Deutschland\"</td>\n",
       "      <td>=\"Verbundprojekt MESSIN: Entwicklung und Systemintegration der Komponenten Navigation, Automatische Steuerung, Kommunikation und Energieversorgung für den Meßdelphin MESSIN\"</td>\n",
       "      <td>=\"FB4010\"</td>\n",
       "      <td>=\"Technik-/Infrastrukturentwicklung und -bereitstellung (Überwachungssysteme, Begleitforschung zum Monitoring, innovative Technik und Geräteträger)\"</td>\n",
       "      <td>=\"01.01.1998\"</td>\n",
       "      <td>=\"31.08.2000\"</td>\n",
       "      <td>648.462,00</td>\n",
       "      <td>=\"Forschung und Entwicklung zur Daseinsvorsorge\"</td>\n",
       "      <td>=\"MESSIN\"</td>\n",
       "      <td>=\"PDIR\"</td>\n",
       "      <td>NaN</td>\n",
       "    </tr>\n",
       "    <tr>\n",
       "      <th>1</th>\n",
       "      <td>=\"D251800 /0\"</td>\n",
       "      <td>=\"BMBF\"</td>\n",
       "      <td>=\"314\"</td>\n",
       "      <td>=\"BIBB\"</td>\n",
       "      <td>=\"A3.3\"</td>\n",
       "      <td>=\"Ministerium für Wirtschaft, Arbeit und Wohnungsbau Baden-Württemberg\"</td>\n",
       "      <td>=\"08111000\"</td>\n",
       "      <td>=\"Stuttgart\"</td>\n",
       "      <td>=\"Stuttgart\"</td>\n",
       "      <td>=\"Baden-Württemberg\"</td>\n",
       "      <td>=\"Deutschland\"</td>\n",
       "      <td>=\"KACO new energy GmbH\"</td>\n",
       "      <td>=\"08121000\"</td>\n",
       "      <td>=\"Heilbronn\"</td>\n",
       "      <td>=\"Heilbronn\"</td>\n",
       "      <td>=\"Baden-Württemberg\"</td>\n",
       "      <td>=\"Deutschland\"</td>\n",
       "      <td>=\"Prozeßorientierte Entwicklungsplanung und Qualifizierung im Betrieb\"</td>\n",
       "      <td>=\"OB1050\"</td>\n",
       "      <td>=\"Versuchs- und Modelleinrichtungen und -programme im Bereich der beruflichen Bildung\"</td>\n",
       "      <td>=\"01.07.1997\"</td>\n",
       "      <td>=\"30.06.2000\"</td>\n",
       "      <td>96.634,00</td>\n",
       "      <td>=\"Forschung und Entwicklung zur Daseinsvorsorge\"</td>\n",
       "      <td>=\"\"</td>\n",
       "      <td>=\"PDIR\"</td>\n",
       "      <td>NaN</td>\n",
       "    </tr>\n",
       "    <tr>\n",
       "      <th>2</th>\n",
       "      <td>=\"D251800B/2\"</td>\n",
       "      <td>=\"BMBF\"</td>\n",
       "      <td>=\"314\"</td>\n",
       "      <td>=\"BIBB\"</td>\n",
       "      <td>=\"A3.3\"</td>\n",
       "      <td>=\"Ministerium für Wirtschaft, Arbeit und Wohnungsbau Baden-Württemberg\"</td>\n",
       "      <td>=\"08111000\"</td>\n",
       "      <td>=\"Stuttgart\"</td>\n",
       "      <td>=\"Stuttgart\"</td>\n",
       "      <td>=\"Baden-Württemberg\"</td>\n",
       "      <td>=\"Deutschland\"</td>\n",
       "      <td>=\"CALA e.V.\"</td>\n",
       "      <td>=\"08118019\"</td>\n",
       "      <td>=\"Gerlingen\"</td>\n",
       "      <td>=\"Gerlingen\"</td>\n",
       "      <td>=\"Baden-Württemberg\"</td>\n",
       "      <td>=\"Deutschland\"</td>\n",
       "      <td>=\"Wiss. Begl. zum MV 'Prozeßorientierte Entwicklungsplanung und Qualifizierung im Betrieb\"</td>\n",
       "      <td>=\"OB1050\"</td>\n",
       "      <td>=\"Versuchs- und Modelleinrichtungen und -programme im Bereich der beruflichen Bildung\"</td>\n",
       "      <td>=\"01.07.1997\"</td>\n",
       "      <td>=\"30.06.2000\"</td>\n",
       "      <td>157.457,00</td>\n",
       "      <td>=\"Forschung und Entwicklung zur Daseinsvorsorge\"</td>\n",
       "      <td>=\"\"</td>\n",
       "      <td>=\"PDIR\"</td>\n",
       "      <td>NaN</td>\n",
       "    </tr>\n",
       "    <tr>\n",
       "      <th>3</th>\n",
       "      <td>=\"50WM9821/6\"</td>\n",
       "      <td>=\"BMWi\"</td>\n",
       "      <td>=\"IVD5\"</td>\n",
       "      <td>=\"DLR-RFM\"</td>\n",
       "      <td>=\"AR-AF\"</td>\n",
       "      <td>=\"Fraunhofer-Gesellschaft zur Förderung der angewandten Forschung eingetragener Verein\"</td>\n",
       "      <td>=\"09162000\"</td>\n",
       "      <td>=\"München\"</td>\n",
       "      <td>=\"München\"</td>\n",
       "      <td>=\"Bayern\"</td>\n",
       "      <td>=\"Deutschland\"</td>\n",
       "      <td>=\"Fraunhofer-Gesellschaft zur Förderung der angewandten Forschung eingetragener Verein\"</td>\n",
       "      <td>=\"09162000\"</td>\n",
       "      <td>=\"München\"</td>\n",
       "      <td>=\"München\"</td>\n",
       "      <td>=\"Bayern\"</td>\n",
       "      <td>=\"Deutschland\"</td>\n",
       "      <td>=\"Untersuchung des Schäumens von Metallen unter variierten Schwerkraftbedingungen\"</td>\n",
       "      <td>=\"IB3010\"</td>\n",
       "      <td>=\"Forschung unter Weltraumbedingungen - Materialwissenschaften\"</td>\n",
       "      <td>=\"01.03.1998\"</td>\n",
       "      <td>=\"31.12.2001\"</td>\n",
       "      <td>452.356,00</td>\n",
       "      <td>=\"Technologie- und Innovationsförderung\"</td>\n",
       "      <td>=\"\"</td>\n",
       "      <td>=\"PDIR\"</td>\n",
       "      <td>NaN</td>\n",
       "    </tr>\n",
       "    <tr>\n",
       "      <th>4</th>\n",
       "      <td>=\"50WB9716/8\"</td>\n",
       "      <td>=\"BMWi\"</td>\n",
       "      <td>=\"IVD5\"</td>\n",
       "      <td>=\"DLR-RFM\"</td>\n",
       "      <td>=\"AR-AF\"</td>\n",
       "      <td>=\"Universität Hohenheim\"</td>\n",
       "      <td>=\"08111000\"</td>\n",
       "      <td>=\"Stuttgart\"</td>\n",
       "      <td>=\"Stuttgart\"</td>\n",
       "      <td>=\"Baden-Württemberg\"</td>\n",
       "      <td>=\"Deutschland\"</td>\n",
       "      <td>=\"Universität Hohenheim - Fakultät Naturwissenschaften - Institut für Physiologie\"</td>\n",
       "      <td>=\"08111000\"</td>\n",
       "      <td>=\"Stuttgart\"</td>\n",
       "      <td>=\"Stuttgart\"</td>\n",
       "      <td>=\"Baden-Württemberg\"</td>\n",
       "      <td>=\"Deutschland\"</td>\n",
       "      <td>=\"Der Einfluß verschiedener Gravitationsbedingungen auf das Verhalten künstlicher und nativer Ionenkanäle\"</td>\n",
       "      <td>=\"IB3020\"</td>\n",
       "      <td>=\"Forschung unter Weltraumbedingungen - Biowissenschaften und Medizin\"</td>\n",
       "      <td>=\"01.01.1998\"</td>\n",
       "      <td>=\"31.03.2002\"</td>\n",
       "      <td>358.551,00</td>\n",
       "      <td>=\"Technologie- und Innovationsförderung\"</td>\n",
       "      <td>=\"\"</td>\n",
       "      <td>=\"PDIR\"</td>\n",
       "      <td>NaN</td>\n",
       "    </tr>\n",
       "  </tbody>\n",
       "</table>\n",
       "</div>"
      ],
      "text/plain": [
       "          =\"FKZ\" =\"Ressort\" =\"Referat\"       =\"PT\" =\"Arb.-Einh.\"  \\\n",
       "0  =\"03F0212C/7\"    =\"BMBF\"     =\"724\"     =\"PT-J\"       =\"MGS1\"   \n",
       "1  =\"D251800 /0\"    =\"BMBF\"     =\"314\"     =\"BIBB\"       =\"A3.3\"   \n",
       "2  =\"D251800B/2\"    =\"BMBF\"     =\"314\"     =\"BIBB\"       =\"A3.3\"   \n",
       "3  =\"50WM9821/6\"    =\"BMWi\"    =\"IVD5\"  =\"DLR-RFM\"      =\"AR-AF\"   \n",
       "4  =\"50WB9716/8\"    =\"BMWi\"    =\"IVD5\"  =\"DLR-RFM\"      =\"AR-AF\"   \n",
       "\n",
       "                                                                    =\"Zuwendungsempfänger\"  \\\n",
       "0                                                                   =\"Universität Rostock\"   \n",
       "1                  =\"Ministerium für Wirtschaft, Arbeit und Wohnungsbau Baden-Württemberg\"   \n",
       "2                  =\"Ministerium für Wirtschaft, Arbeit und Wohnungsbau Baden-Württemberg\"   \n",
       "3  =\"Fraunhofer-Gesellschaft zur Förderung der angewandten Forschung eingetragener Verein\"   \n",
       "4                                                                 =\"Universität Hohenheim\"   \n",
       "\n",
       "  =\"Gemeindekennziffer\" =\"Stadt/Gemeinde\"        =\"Ort\"  \\\n",
       "0           =\"13003000\"        =\"Rostock\"    =\"Rostock\"   \n",
       "1           =\"08111000\"      =\"Stuttgart\"  =\"Stuttgart\"   \n",
       "2           =\"08111000\"      =\"Stuttgart\"  =\"Stuttgart\"   \n",
       "3           =\"09162000\"        =\"München\"    =\"München\"   \n",
       "4           =\"08111000\"      =\"Stuttgart\"  =\"Stuttgart\"   \n",
       "\n",
       "               =\"Bundesland\"        =\"Staat\"  \\\n",
       "0  =\"Mecklenburg-Vorpommern\"  =\"Deutschland\"   \n",
       "1       =\"Baden-Württemberg\"  =\"Deutschland\"   \n",
       "2       =\"Baden-Württemberg\"  =\"Deutschland\"   \n",
       "3                  =\"Bayern\"  =\"Deutschland\"   \n",
       "4       =\"Baden-Württemberg\"  =\"Deutschland\"   \n",
       "\n",
       "                                                                     =\"Ausführende Stelle\"  \\\n",
       "0              =\"Universität Rostock - Fachbereich Elektrotechnik und Informationstechnik\"   \n",
       "1                                                                  =\"KACO new energy GmbH\"   \n",
       "2                                                                             =\"CALA e.V.\"   \n",
       "3  =\"Fraunhofer-Gesellschaft zur Förderung der angewandten Forschung eingetragener Verein\"   \n",
       "4       =\"Universität Hohenheim - Fakultät Naturwissenschaften - Institut für Physiologie\"   \n",
       "\n",
       "  =\"Gemeindekennziffer\".1 =\"Stadt/Gemeinde\".1      =\"Ort\".1  \\\n",
       "0             =\"13003000\"          =\"Rostock\"    =\"Rostock\"   \n",
       "1             =\"08121000\"        =\"Heilbronn\"  =\"Heilbronn\"   \n",
       "2             =\"08118019\"        =\"Gerlingen\"  =\"Gerlingen\"   \n",
       "3             =\"09162000\"          =\"München\"    =\"München\"   \n",
       "4             =\"08111000\"        =\"Stuttgart\"  =\"Stuttgart\"   \n",
       "\n",
       "             =\"Bundesland\".1      =\"Staat\".1  \\\n",
       "0  =\"Mecklenburg-Vorpommern\"  =\"Deutschland\"   \n",
       "1       =\"Baden-Württemberg\"  =\"Deutschland\"   \n",
       "2       =\"Baden-Württemberg\"  =\"Deutschland\"   \n",
       "3                  =\"Bayern\"  =\"Deutschland\"   \n",
       "4       =\"Baden-Württemberg\"  =\"Deutschland\"   \n",
       "\n",
       "                                                                                                                                                                        =\"Thema\"  \\\n",
       "0  =\"Verbundprojekt MESSIN: Entwicklung und Systemintegration der Komponenten Navigation, Automatische Steuerung, Kommunikation und Energieversorgung für den Meßdelphin MESSIN\"   \n",
       "1                                                                                                         =\"Prozeßorientierte Entwicklungsplanung und Qualifizierung im Betrieb\"   \n",
       "2                                                                                     =\"Wiss. Begl. zum MV 'Prozeßorientierte Entwicklungsplanung und Qualifizierung im Betrieb\"   \n",
       "3                                                                                             =\"Untersuchung des Schäumens von Metallen unter variierten Schwerkraftbedingungen\"   \n",
       "4                                                                     =\"Der Einfluß verschiedener Gravitationsbedingungen auf das Verhalten künstlicher und nativer Ionenkanäle\"   \n",
       "\n",
       "  =\"Leistungsplansystematik\"  \\\n",
       "0                  =\"FB4010\"   \n",
       "1                  =\"OB1050\"   \n",
       "2                  =\"OB1050\"   \n",
       "3                  =\"IB3010\"   \n",
       "4                  =\"IB3020\"   \n",
       "\n",
       "                                                                                                                    =\"Klartext Leistungsplansystematik\"  \\\n",
       "0  =\"Technik-/Infrastrukturentwicklung und -bereitstellung (Überwachungssysteme, Begleitforschung zum Monitoring, innovative Technik und Geräteträger)\"   \n",
       "1                                                                =\"Versuchs- und Modelleinrichtungen und -programme im Bereich der beruflichen Bildung\"   \n",
       "2                                                                =\"Versuchs- und Modelleinrichtungen und -programme im Bereich der beruflichen Bildung\"   \n",
       "3                                                                                       =\"Forschung unter Weltraumbedingungen - Materialwissenschaften\"   \n",
       "4                                                                                =\"Forschung unter Weltraumbedingungen - Biowissenschaften und Medizin\"   \n",
       "\n",
       "  =\"Laufzeit von\" =\"Laufzeit bis\" =\"Fördersumme in EUR\"  \\\n",
       "0   =\"01.01.1998\"   =\"31.08.2000\"            648.462,00   \n",
       "1   =\"01.07.1997\"   =\"30.06.2000\"             96.634,00   \n",
       "2   =\"01.07.1997\"   =\"30.06.2000\"            157.457,00   \n",
       "3   =\"01.03.1998\"   =\"31.12.2001\"            452.356,00   \n",
       "4   =\"01.01.1998\"   =\"31.03.2002\"            358.551,00   \n",
       "\n",
       "                                    =\"Förderprofil\" =\"Verbundprojekt\"  \\\n",
       "0  =\"Forschung und Entwicklung zur Daseinsvorsorge\"         =\"MESSIN\"   \n",
       "1  =\"Forschung und Entwicklung zur Daseinsvorsorge\"               =\"\"   \n",
       "2  =\"Forschung und Entwicklung zur Daseinsvorsorge\"               =\"\"   \n",
       "3          =\"Technologie- und Innovationsförderung\"               =\"\"   \n",
       "4          =\"Technologie- und Innovationsförderung\"               =\"\"   \n",
       "\n",
       "  =\"Förderart\"  Unnamed: 26  \n",
       "0      =\"PDIR\"          NaN  \n",
       "1      =\"PDIR\"          NaN  \n",
       "2      =\"PDIR\"          NaN  \n",
       "3      =\"PDIR\"          NaN  \n",
       "4      =\"PDIR\"          NaN  "
      ]
     },
     "execution_count": 3,
     "metadata": {},
     "output_type": "execute_result"
    }
   ],
   "source": [
    "BMBF = pd.read_csv('../data/BMBF.csv',encoding='latin1',sep=';')\n",
    "BMBF.head()"
   ]
  },
  {
   "cell_type": "code",
   "execution_count": 4,
   "id": "d7b347d7",
   "metadata": {},
   "outputs": [
    {
     "name": "stdout",
     "output_type": "stream",
     "text": [
      "<class 'pandas.core.frame.DataFrame'>\n",
      "RangeIndex: 272244 entries, 0 to 272243\n",
      "Data columns (total 27 columns):\n",
      " #   Column                               Non-Null Count   Dtype  \n",
      "---  ------                               --------------   -----  \n",
      " 0   =\"FKZ\"                               272244 non-null  object \n",
      " 1   =\"Ressort\"                           272244 non-null  object \n",
      " 2   =\"Referat\"                           272244 non-null  object \n",
      " 3   =\"PT\"                                272244 non-null  object \n",
      " 4   =\"Arb.-Einh.\"                        272244 non-null  object \n",
      " 5   =\"Zuwendungsempfänger\"               272244 non-null  object \n",
      " 6   =\"Gemeindekennziffer\"                272244 non-null  object \n",
      " 7   =\"Stadt/Gemeinde\"                    272244 non-null  object \n",
      " 8   =\"Ort\"                               272244 non-null  object \n",
      " 9   =\"Bundesland\"                        272244 non-null  object \n",
      " 10  =\"Staat\"                             272244 non-null  object \n",
      " 11  =\"Ausführende Stelle\"                272244 non-null  object \n",
      " 12  =\"Gemeindekennziffer\".1              272244 non-null  object \n",
      " 13  =\"Stadt/Gemeinde\".1                  272244 non-null  object \n",
      " 14  =\"Ort\".1                             272244 non-null  object \n",
      " 15  =\"Bundesland\".1                      272244 non-null  object \n",
      " 16  =\"Staat\".1                           272244 non-null  object \n",
      " 17  =\"Thema\"                             272244 non-null  object \n",
      " 18  =\"Leistungsplansystematik\"           272244 non-null  object \n",
      " 19  =\"Klartext Leistungsplansystematik\"  272244 non-null  object \n",
      " 20  =\"Laufzeit von\"                      272244 non-null  object \n",
      " 21  =\"Laufzeit bis\"                      272244 non-null  object \n",
      " 22  =\"Fördersumme in EUR\"                272244 non-null  object \n",
      " 23  =\"Förderprofil\"                      272244 non-null  object \n",
      " 24  =\"Verbundprojekt\"                    272244 non-null  object \n",
      " 25  =\"Förderart\"                         272244 non-null  object \n",
      " 26  Unnamed: 26                          0 non-null       float64\n",
      "dtypes: float64(1), object(26)\n",
      "memory usage: 56.1+ MB\n"
     ]
    }
   ],
   "source": [
    "BMBF.info()"
   ]
  },
  {
   "cell_type": "code",
   "execution_count": 5,
   "id": "5b3e7955",
   "metadata": {},
   "outputs": [],
   "source": [
    "# the data set comprises of 27 columns, 1 column \" Unnamed: 26\" contains only undefined objects.\n",
    "# frist of all, we remove this column and all unrelevant character such as = and \" \n",
    "\n",
    "cleanedBMBF = clean_data(BMBF)\n"
   ]
  },
  {
   "cell_type": "code",
   "execution_count": 6,
   "id": "d2155f76",
   "metadata": {},
   "outputs": [
    {
     "data": {
      "text/plain": [
       "0"
      ]
     },
     "execution_count": 6,
     "metadata": {},
     "output_type": "execute_result"
    }
   ],
   "source": [
    "cleanedBMBF.duplicated().sum()"
   ]
  },
  {
   "cell_type": "code",
   "execution_count": 7,
   "id": "cd9fadf1",
   "metadata": {},
   "outputs": [],
   "source": [
    "#there are no missing values as well as duplicates in the dataset except in column \" Unnamed: 26\""
   ]
  },
  {
   "cell_type": "code",
   "execution_count": 8,
   "id": "61e726fa",
   "metadata": {},
   "outputs": [
    {
     "name": "stdout",
     "output_type": "stream",
     "text": [
      "<class 'pandas.core.frame.DataFrame'>\n",
      "RangeIndex: 272244 entries, 0 to 272243\n",
      "Data columns (total 26 columns):\n",
      " #   Column                            Non-Null Count   Dtype \n",
      "---  ------                            --------------   ----- \n",
      " 0   FKZ                               272244 non-null  object\n",
      " 1   Ressort                           272244 non-null  object\n",
      " 2   Referat                           272244 non-null  object\n",
      " 3   PT                                272244 non-null  object\n",
      " 4   Arb.-Einh.                        272244 non-null  object\n",
      " 5   Zuwendungsempfänger               272244 non-null  object\n",
      " 6   Gemeindekennziffer                272244 non-null  object\n",
      " 7   Stadt/Gemeinde                    272244 non-null  object\n",
      " 8   Ort                               272244 non-null  object\n",
      " 9   Bundesland                        272244 non-null  object\n",
      " 10  Staat                             272244 non-null  object\n",
      " 11  Ausführende Stelle                272244 non-null  object\n",
      " 12  Gemeindekennziffer.1              272244 non-null  object\n",
      " 13  Stadt/Gemeinde.1                  272244 non-null  object\n",
      " 14  Ort.1                             272244 non-null  object\n",
      " 15  Bundesland.1                      272244 non-null  object\n",
      " 16  Staat.1                           272244 non-null  object\n",
      " 17  Thema                             272244 non-null  object\n",
      " 18  Leistungsplansystematik           272244 non-null  object\n",
      " 19  Klartext Leistungsplansystematik  272244 non-null  object\n",
      " 20  Laufzeit von                      272244 non-null  object\n",
      " 21  Laufzeit bis                      272244 non-null  object\n",
      " 22  Fördersumme in EUR                272244 non-null  object\n",
      " 23  Förderprofil                      272244 non-null  object\n",
      " 24  Verbundprojekt                    272244 non-null  object\n",
      " 25  Förderart                         272244 non-null  object\n",
      "dtypes: object(26)\n",
      "memory usage: 54.0+ MB\n"
     ]
    }
   ],
   "source": [
    "cleanedBMBF.info()"
   ]
  },
  {
   "cell_type": "markdown",
   "id": "8e827e58",
   "metadata": {},
   "source": [
    "### There is no missing values but a  lot of empty string such as in column \"Verbundprojekt\" (147101 records)"
   ]
  },
  {
   "cell_type": "code",
   "execution_count": 9,
   "id": "b90af8fd",
   "metadata": {},
   "outputs": [
    {
     "data": {
      "text/plain": [
       "Verbundprojekt\n",
       "                                                                  147101\n",
       "COOREFLEX-Turbo                                                      106\n",
       "Integrierter Umweltschutz in der Textilindustrie                     101\n",
       "Umsetzung der DIN/ISO 9000 ff                                         92\n",
       "WLO. Schulinfrastruktur Corona.                                       91\n",
       "                                                                   ...  \n",
       "PSD Langzeitevaluationsstudie                                          1\n",
       "NaCaBaCom                                                              1\n",
       "SEVAMOD2                                                               1\n",
       "Medizinisches Kompetenznetz: HIV/AIDS                                  1\n",
       "ERA-IB 7: TIP - Thermostabile Isomerasen in der Biotechnologie         1\n",
       "Name: count, Length: 31387, dtype: int64"
      ]
     },
     "execution_count": 9,
     "metadata": {},
     "output_type": "execute_result"
    }
   ],
   "source": [
    "cleanedBMBF[\"Verbundprojekt\"].value_counts(ascending=False)"
   ]
  },
  {
   "cell_type": "code",
   "execution_count": 10,
   "id": "1e3826ea",
   "metadata": {},
   "outputs": [
    {
     "data": {
      "text/plain": [
       "10"
      ]
     },
     "execution_count": 10,
     "metadata": {},
     "output_type": "execute_result"
    }
   ],
   "source": [
    "# 10 rows where there is empty string in the column \"Thema\"\n",
    "len(cleanedBMBF[cleanedBMBF[\"Thema\"]==\"\"])"
   ]
  },
  {
   "cell_type": "code",
   "execution_count": 11,
   "id": "3c535b88",
   "metadata": {},
   "outputs": [],
   "source": [
    "# we remove these row from the dataset since it indicate a missing value in this column\n",
    "cleanedBMBF = cleanedBMBF[cleanedBMBF[\"Thema\"] != \"\"]"
   ]
  },
  {
   "cell_type": "code",
   "execution_count": 12,
   "id": "299dd48e",
   "metadata": {},
   "outputs": [
    {
     "data": {
      "text/plain": [
       "0"
      ]
     },
     "execution_count": 12,
     "metadata": {},
     "output_type": "execute_result"
    }
   ],
   "source": [
    "len(cleanedBMBF[cleanedBMBF[\"Thema\"]==\"\"])"
   ]
  },
  {
   "cell_type": "code",
   "execution_count": 13,
   "id": "03dc3857",
   "metadata": {},
   "outputs": [],
   "source": [
    "#save cleaned BMBF for later use\n",
    "cleanedBMBF.to_csv(\"../data/cleanedBMBF.csv\",index= False)"
   ]
  },
  {
   "cell_type": "code",
   "execution_count": 14,
   "id": "2ef29f96",
   "metadata": {},
   "outputs": [
    {
     "data": {
      "image/png": "[encoded data removed]",
      "text/plain": [
       "<Figure size 640x480 with 1 Axes>"
      ]
     },
     "metadata": {},
     "output_type": "display_data"
    }
   ],
   "source": [
    "cleanedBMBF[\"Ressort\"].value_counts(ascending=False).plot(kind=\"bar\");"
   ]
  },
  {
   "cell_type": "code",
   "execution_count": 15,
   "id": "460d9138",
   "metadata": {},
   "outputs": [
    {
     "data": {
      "text/plain": [
       "(174414, 26)"
      ]
     },
     "execution_count": 15,
     "metadata": {},
     "output_type": "execute_result"
    }
   ],
   "source": [
    "#There are 174414 records, where the Ressort is BMBF\n",
    "BMBF[BMBF[\"Ressort\"] == \"BMBF\"].shape"
   ]
  },
  {
   "cell_type": "code",
   "execution_count": null,
   "id": "e8657ae8",
   "metadata": {},
   "outputs": [],
   "source": []
  }
 ],
 "metadata": {
  "kernelspec": {
   "display_name": "BMBFenv",
   "language": "python",
   "name": "bmbfenv"
  },
  "language_info": {
   "codemirror_mode": {
    "name": "ipython",
    "version": 3
   },
   "file_extension": ".py",
   "mimetype": "text/x-python",
   "name": "python",
   "nbconvert_exporter": "python",
   "pygments_lexer": "ipython3",
   "version": "3.9.6"
  }
 },
 "nbformat": 4,
 "nbformat_minor": 5
}
