{
 "cells": [
  {
   "cell_type": "code",
   "execution_count": 1,
   "id": "11e368de",
   "metadata": {},
   "outputs": [],
   "source": [
    "import pandas as pd\n",
    "import matplotlib.pyplot as plt\n",
    "from utils import clean_data\n"
   ]
  },
  {
   "cell_type": "code",
   "execution_count": 2,
   "id": "8b7e3f86",
   "metadata": {},
   "outputs": [],
   "source": [
    "pd.set_option('max_colwidth', None) # show all text in a column\n",
    "pd.set_option('display.max_columns', None) # show all columns\n"
   ]
  },
  {
   "cell_type": "code",
   "execution_count": null,
   "id": "59e79aab",
   "metadata": {},
   "outputs": [],
   "source": [
    "BMBF = pd.read_csv('../data/BMBF.csv',encoding='latin1',sep=';')\n",
    "BMBF.head()"
   ]
  },
  {
   "cell_type": "code",
   "execution_count": null,
   "id": "d7b347d7",
   "metadata": {},
   "outputs": [],
   "source": [
    "BMBF.info()"
   ]
  },
  {
   "cell_type": "code",
   "execution_count": null,
   "id": "5b3e7955",
   "metadata": {},
   "outputs": [],
   "source": [
    "# the data set comprises of 27 columns, 1 column \" Unnamed: 26\" contains only undefined objects.\n",
    "# frist of all, we remove this column and all unrelevant character such as = and \" \n",
    "\n",
    "cleanedBMBF = clean_data(BMBF)\n"
   ]
  },
  {
   "cell_type": "code",
   "execution_count": null,
   "id": "d2155f76",
   "metadata": {},
   "outputs": [],
   "source": [
    "cleanedBMBF.duplicated().sum()"
   ]
  },
  {
   "cell_type": "code",
   "execution_count": null,
   "id": "cd9fadf1",
   "metadata": {},
   "outputs": [],
   "source": [
    "#there are no missing values as well as duplicates in the dataset except in column \" Unnamed: 26\""
   ]
  },
  {
   "cell_type": "code",
   "execution_count": null,
   "id": "61e726fa",
   "metadata": {},
   "outputs": [],
   "source": [
    "cleanedBMBF.info()"
   ]
  },
  {
   "cell_type": "code",
   "execution_count": null,
   "id": "b90af8fd",
   "metadata": {},
   "outputs": [],
   "source": [
    "# There is no missing values but a  lot of empty string such as in column \"Verbundprojekt\" (147101)\n",
    "cleanedBMBF[\"Verbundprojekt\"].value_counts(ascending=False)"
   ]
  },
  {
   "cell_type": "code",
   "execution_count": null,
   "id": "1e3826ea",
   "metadata": {},
   "outputs": [],
   "source": [
    "# 10 rows where there is empty string in the column \"Thema\"\n",
    "len(cleanedBMBF[cleanedBMBF[\"Thema\"]==\"\"])"
   ]
  },
  {
   "cell_type": "code",
   "execution_count": null,
   "id": "3c535b88",
   "metadata": {},
   "outputs": [],
   "source": [
    "# we remove these row from the dataset since it indicate a missing value in this column\n",
    "cleanedBMBF = cleanedBMBF[cleanedBMBF[\"Thema\"] != \"\"]"
   ]
  },
  {
   "cell_type": "code",
   "execution_count": null,
   "id": "299dd48e",
   "metadata": {},
   "outputs": [],
   "source": [
    "len(cleanedBMBF[cleanedBMBF[\"Thema\"]==\"\"])"
   ]
  },
  {
   "cell_type": "code",
   "execution_count": null,
   "id": "03dc3857",
   "metadata": {},
   "outputs": [],
   "source": [
    "#save cleaned BMBF for later use\n",
    "cleanedBMBF.to_csv(\"../data/cleanedBMBF.csv\",index= False)"
   ]
  },
  {
   "cell_type": "code",
   "execution_count": null,
   "id": "2ef29f96",
   "metadata": {},
   "outputs": [],
   "source": [
    "cleanedBMBF[\"Ressort\"].value_counts(ascending=False).plot(kind=\"bar\");"
   ]
  },
  {
   "cell_type": "code",
   "execution_count": null,
   "id": "460d9138",
   "metadata": {},
   "outputs": [],
   "source": [
    "#There are 174414 records, where the Ressort is BMBF\n",
    "BMBF[BMBF[\"Ressort\"] == \"BMBF\"].shape"
   ]
  },
  {
   "cell_type": "code",
   "execution_count": null,
   "id": "e8657ae8",
   "metadata": {},
   "outputs": [],
   "source": []
  }
 ],
 "metadata": {
  "kernelspec": {
   "display_name": "BMBFenv",
   "language": "python",
   "name": "bmbfenv"
  },
  "language_info": {
   "codemirror_mode": {
    "name": "ipython",
    "version": 3
   },
   "file_extension": ".py",
   "mimetype": "text/x-python",
   "name": "python",
   "nbconvert_exporter": "python",
   "pygments_lexer": "ipython3",
   "version": "3.9.6"
  }
 },
 "nbformat": 4,
 "nbformat_minor": 5
}
