{
 "cells": [
  {
   "cell_type": "code",
   "execution_count": null,
   "id": "f3db4318",
   "metadata": {},
   "outputs": [],
   "source": [
    "# https://newsapi.org/pricing\n",
    "# As News API only provides a free subscription plan with 100 requests per day \n",
    "# and the pubications requested with free subscription plan are 24 hour old. \n",
    "# News API is not suitable for enriching data for our BMBF dataset "
   ]
  }
 ],
 "metadata": {
  "kernelspec": {
   "display_name": "BMBFenv",
   "language": "python",
   "name": "bmbfenv"
  },
  "language_info": {
   "codemirror_mode": {
    "name": "ipython",
    "version": 3
   },
   "file_extension": ".py",
   "mimetype": "text/x-python",
   "name": "python",
   "nbconvert_exporter": "python",
   "pygments_lexer": "ipython3",
   "version": "3.9.6"
  }
 },
 "nbformat": 4,
 "nbformat_minor": 5
}
