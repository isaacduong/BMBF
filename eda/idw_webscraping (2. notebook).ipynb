{
 "cells": [
  {
   "cell_type": "code",
   "execution_count": 2,
   "id": "13bbc4aa",
   "metadata": {},
   "outputs": [
    {
     "name": "stderr",
     "output_type": "stream",
     "text": [
      "/Users/isaacduong/BMBF_Clustering_Project/BMBFenv/lib/python3.9/site-packages/urllib3/__init__.py:34: NotOpenSSLWarning: urllib3 v2.0 only supports OpenSSL 1.1.1+, currently the 'ssl' module is compiled with 'LibreSSL 2.8.3'. See: https://github.com/urllib3/urllib3/issues/3020\n",
      "  warnings.warn(\n"
     ]
    }
   ],
   "source": [
    "import numpy as np\n",
    "from datetime import datetime\n",
    "import pandas as pd\n",
    "import requests\n",
    "from tqdm import tqdm\n",
    "pd.set_option('max_colwidth', None) # show all text in a column\n",
    "pd.set_option('display.max_columns', None) # show all columns\n",
    "\n",
    "tqdm.pandas()\n",
    "\n",
    "import aiohttp\n",
    "import asyncio\n",
    "\n",
    "from bs4 import BeautifulSoup\n",
    "from selenium import webdriver\n",
    "from selenium.webdriver.chrome.service import Service\n",
    "from selenium.webdriver.chrome.options import Options\n",
    "from selenium.webdriver.common.by import By"
   ]
  },
  {
   "cell_type": "code",
   "execution_count": 5,
   "id": "d755b18e",
   "metadata": {},
   "outputs": [],
   "source": [
    "BMBF = pd.read_csv(\"../data/cleanedBMBF.csv\")"
   ]
  },
  {
   "cell_type": "code",
   "execution_count": 6,
   "id": "ded058b1",
   "metadata": {},
   "outputs": [
    {
     "data": {
      "text/html": [
       "<div>\n",
       "<style scoped>\n",
       "    .dataframe tbody tr th:only-of-type {\n",
       "        vertical-align: middle;\n",
       "    }\n",
       "\n",
       "    .dataframe tbody tr th {\n",
       "        vertical-align: top;\n",
       "    }\n",
       "\n",
       "    .dataframe thead th {\n",
       "        text-align: right;\n",
       "    }\n",
       "</style>\n",
       "<table border=\"1\" class=\"dataframe\">\n",
       "  <thead>\n",
       "    <tr style=\"text-align: right;\">\n",
       "      <th></th>\n",
       "      <th>FKZ</th>\n",
       "      <th>Ressort</th>\n",
       "      <th>Referat</th>\n",
       "      <th>PT</th>\n",
       "      <th>Arb.-Einh.</th>\n",
       "      <th>Zuwendungsempfänger</th>\n",
       "      <th>Gemeindekennziffer</th>\n",
       "      <th>Stadt/Gemeinde</th>\n",
       "      <th>Ort</th>\n",
       "      <th>Bundesland</th>\n",
       "      <th>Staat</th>\n",
       "      <th>Ausführende Stelle</th>\n",
       "      <th>Gemeindekennziffer.1</th>\n",
       "      <th>Stadt/Gemeinde.1</th>\n",
       "      <th>Ort.1</th>\n",
       "      <th>Bundesland.1</th>\n",
       "      <th>Staat.1</th>\n",
       "      <th>Thema</th>\n",
       "      <th>Leistungsplansystematik</th>\n",
       "      <th>Klartext Leistungsplansystematik</th>\n",
       "      <th>Laufzeit von</th>\n",
       "      <th>Laufzeit bis</th>\n",
       "      <th>Fördersumme in EUR</th>\n",
       "      <th>Förderprofil</th>\n",
       "      <th>Verbundprojekt</th>\n",
       "      <th>Förderart</th>\n",
       "    </tr>\n",
       "  </thead>\n",
       "  <tbody>\n",
       "    <tr>\n",
       "      <th>0</th>\n",
       "      <td>03F0212C/7</td>\n",
       "      <td>BMBF</td>\n",
       "      <td>724</td>\n",
       "      <td>PT-J</td>\n",
       "      <td>MGS1</td>\n",
       "      <td>Universität Rostock</td>\n",
       "      <td>13003000.0</td>\n",
       "      <td>Rostock</td>\n",
       "      <td>Rostock</td>\n",
       "      <td>Mecklenburg-Vorpommern</td>\n",
       "      <td>Deutschland</td>\n",
       "      <td>Universität Rostock - Fachbereich Elektrotechnik und Informationstechnik</td>\n",
       "      <td>13003000.0</td>\n",
       "      <td>Rostock</td>\n",
       "      <td>Rostock</td>\n",
       "      <td>Mecklenburg-Vorpommern</td>\n",
       "      <td>Deutschland</td>\n",
       "      <td>Verbundprojekt MESSIN: Entwicklung und Systemintegration der Komponenten Navigation, Automatische Steuerung, Kommunikation und Energieversorgung für den Meßdelphin MESSIN</td>\n",
       "      <td>FB4010</td>\n",
       "      <td>Technik-/Infrastrukturentwicklung und -bereitstellung (Überwachungssysteme, Begleitforschung zum Monitoring, innovative Technik und Geräteträger)</td>\n",
       "      <td>01.01.1998</td>\n",
       "      <td>31.08.2000</td>\n",
       "      <td>648.462,00</td>\n",
       "      <td>Forschung und Entwicklung zur Daseinsvorsorge</td>\n",
       "      <td>MESSIN</td>\n",
       "      <td>PDIR</td>\n",
       "    </tr>\n",
       "    <tr>\n",
       "      <th>1</th>\n",
       "      <td>D251800/0</td>\n",
       "      <td>BMBF</td>\n",
       "      <td>314</td>\n",
       "      <td>BIBB</td>\n",
       "      <td>A3.3</td>\n",
       "      <td>Ministerium für Wirtschaft, Arbeit und Wohnungsbau Baden-Württemberg</td>\n",
       "      <td>8111000.0</td>\n",
       "      <td>Stuttgart</td>\n",
       "      <td>Stuttgart</td>\n",
       "      <td>Baden-Württemberg</td>\n",
       "      <td>Deutschland</td>\n",
       "      <td>KACO new energy GmbH</td>\n",
       "      <td>8121000.0</td>\n",
       "      <td>Heilbronn</td>\n",
       "      <td>Heilbronn</td>\n",
       "      <td>Baden-Württemberg</td>\n",
       "      <td>Deutschland</td>\n",
       "      <td>Prozeßorientierte Entwicklungsplanung und Qualifizierung im Betrieb</td>\n",
       "      <td>OB1050</td>\n",
       "      <td>Versuchs- und Modelleinrichtungen und -programme im Bereich der beruflichen Bildung</td>\n",
       "      <td>01.07.1997</td>\n",
       "      <td>30.06.2000</td>\n",
       "      <td>96.634,00</td>\n",
       "      <td>Forschung und Entwicklung zur Daseinsvorsorge</td>\n",
       "      <td>NaN</td>\n",
       "      <td>PDIR</td>\n",
       "    </tr>\n",
       "    <tr>\n",
       "      <th>2</th>\n",
       "      <td>D251800B/2</td>\n",
       "      <td>BMBF</td>\n",
       "      <td>314</td>\n",
       "      <td>BIBB</td>\n",
       "      <td>A3.3</td>\n",
       "      <td>Ministerium für Wirtschaft, Arbeit und Wohnungsbau Baden-Württemberg</td>\n",
       "      <td>8111000.0</td>\n",
       "      <td>Stuttgart</td>\n",
       "      <td>Stuttgart</td>\n",
       "      <td>Baden-Württemberg</td>\n",
       "      <td>Deutschland</td>\n",
       "      <td>CALA e.V.</td>\n",
       "      <td>8118019.0</td>\n",
       "      <td>Gerlingen</td>\n",
       "      <td>Gerlingen</td>\n",
       "      <td>Baden-Württemberg</td>\n",
       "      <td>Deutschland</td>\n",
       "      <td>Wiss. Begl. zum MV 'Prozeßorientierte Entwicklungsplanung und Qualifizierung im Betrieb</td>\n",
       "      <td>OB1050</td>\n",
       "      <td>Versuchs- und Modelleinrichtungen und -programme im Bereich der beruflichen Bildung</td>\n",
       "      <td>01.07.1997</td>\n",
       "      <td>30.06.2000</td>\n",
       "      <td>157.457,00</td>\n",
       "      <td>Forschung und Entwicklung zur Daseinsvorsorge</td>\n",
       "      <td>NaN</td>\n",
       "      <td>PDIR</td>\n",
       "    </tr>\n",
       "    <tr>\n",
       "      <th>3</th>\n",
       "      <td>50WM9821/6</td>\n",
       "      <td>BMWi</td>\n",
       "      <td>IVD5</td>\n",
       "      <td>DLR-RFM</td>\n",
       "      <td>AR-AF</td>\n",
       "      <td>Fraunhofer-Gesellschaft zur Förderung der angewandten Forschung eingetragener Verein</td>\n",
       "      <td>9162000.0</td>\n",
       "      <td>München</td>\n",
       "      <td>München</td>\n",
       "      <td>Bayern</td>\n",
       "      <td>Deutschland</td>\n",
       "      <td>Fraunhofer-Gesellschaft zur Förderung der angewandten Forschung eingetragener Verein</td>\n",
       "      <td>9162000.0</td>\n",
       "      <td>München</td>\n",
       "      <td>München</td>\n",
       "      <td>Bayern</td>\n",
       "      <td>Deutschland</td>\n",
       "      <td>Untersuchung des Schäumens von Metallen unter variierten Schwerkraftbedingungen</td>\n",
       "      <td>IB3010</td>\n",
       "      <td>Forschung unter Weltraumbedingungen - Materialwissenschaften</td>\n",
       "      <td>01.03.1998</td>\n",
       "      <td>31.12.2001</td>\n",
       "      <td>452.356,00</td>\n",
       "      <td>Technologie- und Innovationsförderung</td>\n",
       "      <td>NaN</td>\n",
       "      <td>PDIR</td>\n",
       "    </tr>\n",
       "    <tr>\n",
       "      <th>4</th>\n",
       "      <td>50WB9716/8</td>\n",
       "      <td>BMWi</td>\n",
       "      <td>IVD5</td>\n",
       "      <td>DLR-RFM</td>\n",
       "      <td>AR-AF</td>\n",
       "      <td>Universität Hohenheim</td>\n",
       "      <td>8111000.0</td>\n",
       "      <td>Stuttgart</td>\n",
       "      <td>Stuttgart</td>\n",
       "      <td>Baden-Württemberg</td>\n",
       "      <td>Deutschland</td>\n",
       "      <td>Universität Hohenheim - Fakultät Naturwissenschaften - Institut für Physiologie</td>\n",
       "      <td>8111000.0</td>\n",
       "      <td>Stuttgart</td>\n",
       "      <td>Stuttgart</td>\n",
       "      <td>Baden-Württemberg</td>\n",
       "      <td>Deutschland</td>\n",
       "      <td>Der Einfluß verschiedener Gravitationsbedingungen auf das Verhalten künstlicher und nativer Ionenkanäle</td>\n",
       "      <td>IB3020</td>\n",
       "      <td>Forschung unter Weltraumbedingungen - Biowissenschaften und Medizin</td>\n",
       "      <td>01.01.1998</td>\n",
       "      <td>31.03.2002</td>\n",
       "      <td>358.551,00</td>\n",
       "      <td>Technologie- und Innovationsförderung</td>\n",
       "      <td>NaN</td>\n",
       "      <td>PDIR</td>\n",
       "    </tr>\n",
       "    <tr>\n",
       "      <th>...</th>\n",
       "      <td>...</td>\n",
       "      <td>...</td>\n",
       "      <td>...</td>\n",
       "      <td>...</td>\n",
       "      <td>...</td>\n",
       "      <td>...</td>\n",
       "      <td>...</td>\n",
       "      <td>...</td>\n",
       "      <td>...</td>\n",
       "      <td>...</td>\n",
       "      <td>...</td>\n",
       "      <td>...</td>\n",
       "      <td>...</td>\n",
       "      <td>...</td>\n",
       "      <td>...</td>\n",
       "      <td>...</td>\n",
       "      <td>...</td>\n",
       "      <td>...</td>\n",
       "      <td>...</td>\n",
       "      <td>...</td>\n",
       "      <td>...</td>\n",
       "      <td>...</td>\n",
       "      <td>...</td>\n",
       "      <td>...</td>\n",
       "      <td>...</td>\n",
       "      <td>...</td>\n",
       "    </tr>\n",
       "    <tr>\n",
       "      <th>272239</th>\n",
       "      <td>03EN4022J</td>\n",
       "      <td>BMWi</td>\n",
       "      <td>IIC6</td>\n",
       "      <td>PT-J</td>\n",
       "      <td>ESN4</td>\n",
       "      <td>Georgsmarienhütte GmbH</td>\n",
       "      <td>3459019.0</td>\n",
       "      <td>Georgsmarienhütte</td>\n",
       "      <td>Georgsmarienhütte</td>\n",
       "      <td>Niedersachsen</td>\n",
       "      <td>Deutschland</td>\n",
       "      <td>Georgsmarienhütte GmbH</td>\n",
       "      <td>3459019.0</td>\n",
       "      <td>Georgsmarienhütte</td>\n",
       "      <td>Georgsmarienhütte</td>\n",
       "      <td>Niedersachsen</td>\n",
       "      <td>Deutschland</td>\n",
       "      <td>Verbundvorhaben: SiPro - Simulationsbasiertes Eigenschaftsdesign entlang der kombinierten Prozesskette Ur- und Umformtechnik, Teilvorhaben: Herstellung der industriellen Schmelzen über die Strangguss/Blockguss-Route bis zum Warmwalzen</td>\n",
       "      <td>EA3251</td>\n",
       "      <td>Energiesparende Industrieverfahren - Fertigungstechnik</td>\n",
       "      <td>01.01.2022</td>\n",
       "      <td>31.12.2024</td>\n",
       "      <td>227.401,00</td>\n",
       "      <td>Technologie- und Innovationsförderung</td>\n",
       "      <td>SiPro</td>\n",
       "      <td>PDIR</td>\n",
       "    </tr>\n",
       "    <tr>\n",
       "      <th>272240</th>\n",
       "      <td>67K18622</td>\n",
       "      <td>BMU</td>\n",
       "      <td>IKIII3</td>\n",
       "      <td>PT-ZUG</td>\n",
       "      <td>NKI</td>\n",
       "      <td>Amt Bokhorst-Wankendorf</td>\n",
       "      <td>1057085.0</td>\n",
       "      <td>Wankendorf</td>\n",
       "      <td>Wankendorf</td>\n",
       "      <td>Schleswig-Holstein</td>\n",
       "      <td>Deutschland</td>\n",
       "      <td>Amt Bokhorst-Wankendorf</td>\n",
       "      <td>1057085.0</td>\n",
       "      <td>Wankendorf</td>\n",
       "      <td>Wankendorf</td>\n",
       "      <td>Schleswig-Holstein</td>\n",
       "      <td>Deutschland</td>\n",
       "      <td>KSI: Sanierung der Innenbeleuchtung im Dorfgemeinschaftshaus Stolpe in Amt Bokhorst-Wankendorf</td>\n",
       "      <td>FA1913</td>\n",
       "      <td>KSI - Klimaschutztechnologien bei der Stromnutzung</td>\n",
       "      <td>01.03.2022</td>\n",
       "      <td>28.02.2023</td>\n",
       "      <td>10.802,00</td>\n",
       "      <td>Forschung und Entwicklung zur Daseinsvorsorge</td>\n",
       "      <td>NaN</td>\n",
       "      <td>PDIR</td>\n",
       "    </tr>\n",
       "    <tr>\n",
       "      <th>272241</th>\n",
       "      <td>13N15865</td>\n",
       "      <td>BMBF</td>\n",
       "      <td>514</td>\n",
       "      <td>PT-VDI</td>\n",
       "      <td>TZ-PT</td>\n",
       "      <td>kiutra GmbH</td>\n",
       "      <td>9162000.0</td>\n",
       "      <td>München</td>\n",
       "      <td>München</td>\n",
       "      <td>Bayern</td>\n",
       "      <td>Deutschland</td>\n",
       "      <td>kiutra GmbH</td>\n",
       "      <td>9162000.0</td>\n",
       "      <td>München</td>\n",
       "      <td>München</td>\n",
       "      <td>Bayern</td>\n",
       "      <td>Deutschland</td>\n",
       "      <td>Verbundprojekt: Materials in Quantum Computing (MATQu) - Teilvorhaben: Tieftemperaturtechnik zum Schnelltesten supraleitender Schaltkreise</td>\n",
       "      <td>L01010</td>\n",
       "      <td>Quantentechnologien: Quantencomputing und -simulation</td>\n",
       "      <td>01.09.2021</td>\n",
       "      <td>31.05.2024</td>\n",
       "      <td>228.580,00</td>\n",
       "      <td>Technologie- und Innovationsförderung</td>\n",
       "      <td>Materials in Quantum Computing</td>\n",
       "      <td>PDIR</td>\n",
       "    </tr>\n",
       "    <tr>\n",
       "      <th>272242</th>\n",
       "      <td>13N15863</td>\n",
       "      <td>BMBF</td>\n",
       "      <td>514</td>\n",
       "      <td>PT-VDI</td>\n",
       "      <td>TZ-PT</td>\n",
       "      <td>Keysight Technologies Deutschland GmbH</td>\n",
       "      <td>8115003.0</td>\n",
       "      <td>Böblingen</td>\n",
       "      <td>Böblingen</td>\n",
       "      <td>Baden-Württemberg</td>\n",
       "      <td>Deutschland</td>\n",
       "      <td>Keysight Technologies Deutschland GmbH</td>\n",
       "      <td>8115003.0</td>\n",
       "      <td>Böblingen</td>\n",
       "      <td>Böblingen</td>\n",
       "      <td>Baden-Württemberg</td>\n",
       "      <td>Deutschland</td>\n",
       "      <td>Verbundprojekt: Materials in Quantum Computing (MATQu) - Teilvorhaben: Messtechnik zur Charakterisierung von Quantum Bits</td>\n",
       "      <td>L01010</td>\n",
       "      <td>Quantentechnologien: Quantencomputing und -simulation</td>\n",
       "      <td>01.09.2021</td>\n",
       "      <td>31.05.2024</td>\n",
       "      <td>99.593,00</td>\n",
       "      <td>Technologie- und Innovationsförderung</td>\n",
       "      <td>Materials in Quantum Computing</td>\n",
       "      <td>PDIR</td>\n",
       "    </tr>\n",
       "    <tr>\n",
       "      <th>272243</th>\n",
       "      <td>01MK21005A</td>\n",
       "      <td>BMWi</td>\n",
       "      <td>KI3</td>\n",
       "      <td>PT-DLR</td>\n",
       "      <td>MM</td>\n",
       "      <td>Deutsches Forschungszentrum für Künstliche Intelligenz GmbH</td>\n",
       "      <td>7312000.0</td>\n",
       "      <td>Kaiserslautern</td>\n",
       "      <td>Kaiserslautern</td>\n",
       "      <td>Rheinland-Pfalz</td>\n",
       "      <td>Deutschland</td>\n",
       "      <td>Deutsches Forschungszentrum für Künstliche Intelligenz GmbH - Außenstelle Universität Trier</td>\n",
       "      <td>7211000.0</td>\n",
       "      <td>Trier</td>\n",
       "      <td>Trier</td>\n",
       "      <td>Rheinland-Pfalz</td>\n",
       "      <td>Deutschland</td>\n",
       "      <td>Verbundprojekt: SPELL - Semantische Plattform zur intelligenten Entscheidungs- und Einsatzunterstützung in Leitstellen und beim Lagemanagement, Teilvorhaben: Semantische Modellierung und KI-Dienste</td>\n",
       "      <td>GE2110</td>\n",
       "      <td>Forschung, Entwicklung und Innovation zu KI</td>\n",
       "      <td>01.06.2021</td>\n",
       "      <td>31.05.2024</td>\n",
       "      <td>2.078.360,00</td>\n",
       "      <td>Technologie- und Innovationsförderung</td>\n",
       "      <td>SPELL - Semantische Plattform zur intelligenten Entscheidungs- und Einsatzunterstützung in Leitstellen und beim Lagemanagement</td>\n",
       "      <td>PDIR</td>\n",
       "    </tr>\n",
       "  </tbody>\n",
       "</table>\n",
       "<p>272244 rows × 26 columns</p>\n",
       "</div>"
      ],
      "text/plain": [
       "               FKZ Ressort Referat       PT Arb.-Einh.  \\\n",
       "0       03F0212C/7    BMBF     724     PT-J       MGS1   \n",
       "1        D251800/0    BMBF     314     BIBB       A3.3   \n",
       "2       D251800B/2    BMBF     314     BIBB       A3.3   \n",
       "3       50WM9821/6    BMWi    IVD5  DLR-RFM      AR-AF   \n",
       "4       50WB9716/8    BMWi    IVD5  DLR-RFM      AR-AF   \n",
       "...            ...     ...     ...      ...        ...   \n",
       "272239   03EN4022J    BMWi    IIC6     PT-J       ESN4   \n",
       "272240    67K18622     BMU  IKIII3   PT-ZUG        NKI   \n",
       "272241    13N15865    BMBF     514   PT-VDI      TZ-PT   \n",
       "272242    13N15863    BMBF     514   PT-VDI      TZ-PT   \n",
       "272243  01MK21005A    BMWi     KI3   PT-DLR         MM   \n",
       "\n",
       "                                                                         Zuwendungsempfänger  \\\n",
       "0                                                                        Universität Rostock   \n",
       "1                       Ministerium für Wirtschaft, Arbeit und Wohnungsbau Baden-Württemberg   \n",
       "2                       Ministerium für Wirtschaft, Arbeit und Wohnungsbau Baden-Württemberg   \n",
       "3       Fraunhofer-Gesellschaft zur Förderung der angewandten Forschung eingetragener Verein   \n",
       "4                                                                      Universität Hohenheim   \n",
       "...                                                                                      ...   \n",
       "272239                                                                Georgsmarienhütte GmbH   \n",
       "272240                                                               Amt Bokhorst-Wankendorf   \n",
       "272241                                                                           kiutra GmbH   \n",
       "272242                                                Keysight Technologies Deutschland GmbH   \n",
       "272243                           Deutsches Forschungszentrum für Künstliche Intelligenz GmbH   \n",
       "\n",
       "        Gemeindekennziffer     Stadt/Gemeinde                Ort  \\\n",
       "0               13003000.0            Rostock            Rostock   \n",
       "1                8111000.0          Stuttgart          Stuttgart   \n",
       "2                8111000.0          Stuttgart          Stuttgart   \n",
       "3                9162000.0            München            München   \n",
       "4                8111000.0          Stuttgart          Stuttgart   \n",
       "...                    ...                ...                ...   \n",
       "272239           3459019.0  Georgsmarienhütte  Georgsmarienhütte   \n",
       "272240           1057085.0         Wankendorf         Wankendorf   \n",
       "272241           9162000.0            München            München   \n",
       "272242           8115003.0          Böblingen          Böblingen   \n",
       "272243           7312000.0     Kaiserslautern     Kaiserslautern   \n",
       "\n",
       "                    Bundesland        Staat  \\\n",
       "0       Mecklenburg-Vorpommern  Deutschland   \n",
       "1            Baden-Württemberg  Deutschland   \n",
       "2            Baden-Württemberg  Deutschland   \n",
       "3                       Bayern  Deutschland   \n",
       "4            Baden-Württemberg  Deutschland   \n",
       "...                        ...          ...   \n",
       "272239           Niedersachsen  Deutschland   \n",
       "272240      Schleswig-Holstein  Deutschland   \n",
       "272241                  Bayern  Deutschland   \n",
       "272242       Baden-Württemberg  Deutschland   \n",
       "272243         Rheinland-Pfalz  Deutschland   \n",
       "\n",
       "                                                                                 Ausführende Stelle  \\\n",
       "0                          Universität Rostock - Fachbereich Elektrotechnik und Informationstechnik   \n",
       "1                                                                              KACO new energy GmbH   \n",
       "2                                                                                         CALA e.V.   \n",
       "3              Fraunhofer-Gesellschaft zur Förderung der angewandten Forschung eingetragener Verein   \n",
       "4                   Universität Hohenheim - Fakultät Naturwissenschaften - Institut für Physiologie   \n",
       "...                                                                                             ...   \n",
       "272239                                                                       Georgsmarienhütte GmbH   \n",
       "272240                                                                      Amt Bokhorst-Wankendorf   \n",
       "272241                                                                                  kiutra GmbH   \n",
       "272242                                                       Keysight Technologies Deutschland GmbH   \n",
       "272243  Deutsches Forschungszentrum für Künstliche Intelligenz GmbH - Außenstelle Universität Trier   \n",
       "\n",
       "        Gemeindekennziffer.1   Stadt/Gemeinde.1              Ort.1  \\\n",
       "0                 13003000.0            Rostock            Rostock   \n",
       "1                  8121000.0          Heilbronn          Heilbronn   \n",
       "2                  8118019.0          Gerlingen          Gerlingen   \n",
       "3                  9162000.0            München            München   \n",
       "4                  8111000.0          Stuttgart          Stuttgart   \n",
       "...                      ...                ...                ...   \n",
       "272239             3459019.0  Georgsmarienhütte  Georgsmarienhütte   \n",
       "272240             1057085.0         Wankendorf         Wankendorf   \n",
       "272241             9162000.0            München            München   \n",
       "272242             8115003.0          Böblingen          Böblingen   \n",
       "272243             7211000.0              Trier              Trier   \n",
       "\n",
       "                  Bundesland.1      Staat.1  \\\n",
       "0       Mecklenburg-Vorpommern  Deutschland   \n",
       "1            Baden-Württemberg  Deutschland   \n",
       "2            Baden-Württemberg  Deutschland   \n",
       "3                       Bayern  Deutschland   \n",
       "4            Baden-Württemberg  Deutschland   \n",
       "...                        ...          ...   \n",
       "272239           Niedersachsen  Deutschland   \n",
       "272240      Schleswig-Holstein  Deutschland   \n",
       "272241                  Bayern  Deutschland   \n",
       "272242       Baden-Württemberg  Deutschland   \n",
       "272243         Rheinland-Pfalz  Deutschland   \n",
       "\n",
       "                                                                                                                                                                                                                                             Thema  \\\n",
       "0                                                                       Verbundprojekt MESSIN: Entwicklung und Systemintegration der Komponenten Navigation, Automatische Steuerung, Kommunikation und Energieversorgung für den Meßdelphin MESSIN   \n",
       "1                                                                                                                                                                              Prozeßorientierte Entwicklungsplanung und Qualifizierung im Betrieb   \n",
       "2                                                                                                                                                          Wiss. Begl. zum MV 'Prozeßorientierte Entwicklungsplanung und Qualifizierung im Betrieb   \n",
       "3                                                                                                                                                                  Untersuchung des Schäumens von Metallen unter variierten Schwerkraftbedingungen   \n",
       "4                                                                                                                                          Der Einfluß verschiedener Gravitationsbedingungen auf das Verhalten künstlicher und nativer Ionenkanäle   \n",
       "...                                                                                                                                                                                                                                            ...   \n",
       "272239  Verbundvorhaben: SiPro - Simulationsbasiertes Eigenschaftsdesign entlang der kombinierten Prozesskette Ur- und Umformtechnik, Teilvorhaben: Herstellung der industriellen Schmelzen über die Strangguss/Blockguss-Route bis zum Warmwalzen   \n",
       "272240                                                                                                                                              KSI: Sanierung der Innenbeleuchtung im Dorfgemeinschaftshaus Stolpe in Amt Bokhorst-Wankendorf   \n",
       "272241                                                                                                  Verbundprojekt: Materials in Quantum Computing (MATQu) - Teilvorhaben: Tieftemperaturtechnik zum Schnelltesten supraleitender Schaltkreise   \n",
       "272242                                                                                                                   Verbundprojekt: Materials in Quantum Computing (MATQu) - Teilvorhaben: Messtechnik zur Charakterisierung von Quantum Bits   \n",
       "272243                                       Verbundprojekt: SPELL - Semantische Plattform zur intelligenten Entscheidungs- und Einsatzunterstützung in Leitstellen und beim Lagemanagement, Teilvorhaben: Semantische Modellierung und KI-Dienste   \n",
       "\n",
       "       Leistungsplansystematik  \\\n",
       "0                       FB4010   \n",
       "1                       OB1050   \n",
       "2                       OB1050   \n",
       "3                       IB3010   \n",
       "4                       IB3020   \n",
       "...                        ...   \n",
       "272239                  EA3251   \n",
       "272240                  FA1913   \n",
       "272241                  L01010   \n",
       "272242                  L01010   \n",
       "272243                  GE2110   \n",
       "\n",
       "                                                                                                                         Klartext Leistungsplansystematik  \\\n",
       "0       Technik-/Infrastrukturentwicklung und -bereitstellung (Überwachungssysteme, Begleitforschung zum Monitoring, innovative Technik und Geräteträger)   \n",
       "1                                                                     Versuchs- und Modelleinrichtungen und -programme im Bereich der beruflichen Bildung   \n",
       "2                                                                     Versuchs- und Modelleinrichtungen und -programme im Bereich der beruflichen Bildung   \n",
       "3                                                                                            Forschung unter Weltraumbedingungen - Materialwissenschaften   \n",
       "4                                                                                     Forschung unter Weltraumbedingungen - Biowissenschaften und Medizin   \n",
       "...                                                                                                                                                   ...   \n",
       "272239                                                                                             Energiesparende Industrieverfahren - Fertigungstechnik   \n",
       "272240                                                                                                 KSI - Klimaschutztechnologien bei der Stromnutzung   \n",
       "272241                                                                                              Quantentechnologien: Quantencomputing und -simulation   \n",
       "272242                                                                                              Quantentechnologien: Quantencomputing und -simulation   \n",
       "272243                                                                                                        Forschung, Entwicklung und Innovation zu KI   \n",
       "\n",
       "       Laufzeit von Laufzeit bis Fördersumme in EUR  \\\n",
       "0        01.01.1998   31.08.2000         648.462,00   \n",
       "1        01.07.1997   30.06.2000          96.634,00   \n",
       "2        01.07.1997   30.06.2000         157.457,00   \n",
       "3        01.03.1998   31.12.2001         452.356,00   \n",
       "4        01.01.1998   31.03.2002         358.551,00   \n",
       "...             ...          ...                ...   \n",
       "272239   01.01.2022   31.12.2024         227.401,00   \n",
       "272240   01.03.2022   28.02.2023          10.802,00   \n",
       "272241   01.09.2021   31.05.2024         228.580,00   \n",
       "272242   01.09.2021   31.05.2024          99.593,00   \n",
       "272243   01.06.2021   31.05.2024       2.078.360,00   \n",
       "\n",
       "                                         Förderprofil  \\\n",
       "0       Forschung und Entwicklung zur Daseinsvorsorge   \n",
       "1       Forschung und Entwicklung zur Daseinsvorsorge   \n",
       "2       Forschung und Entwicklung zur Daseinsvorsorge   \n",
       "3               Technologie- und Innovationsförderung   \n",
       "4               Technologie- und Innovationsförderung   \n",
       "...                                               ...   \n",
       "272239          Technologie- und Innovationsförderung   \n",
       "272240  Forschung und Entwicklung zur Daseinsvorsorge   \n",
       "272241          Technologie- und Innovationsförderung   \n",
       "272242          Technologie- und Innovationsförderung   \n",
       "272243          Technologie- und Innovationsförderung   \n",
       "\n",
       "                                                                                                                        Verbundprojekt  \\\n",
       "0                                                                                                                               MESSIN   \n",
       "1                                                                                                                                  NaN   \n",
       "2                                                                                                                                  NaN   \n",
       "3                                                                                                                                  NaN   \n",
       "4                                                                                                                                  NaN   \n",
       "...                                                                                                                                ...   \n",
       "272239                                                                                                                           SiPro   \n",
       "272240                                                                                                                             NaN   \n",
       "272241                                                                                                  Materials in Quantum Computing   \n",
       "272242                                                                                                  Materials in Quantum Computing   \n",
       "272243  SPELL - Semantische Plattform zur intelligenten Entscheidungs- und Einsatzunterstützung in Leitstellen und beim Lagemanagement   \n",
       "\n",
       "       Förderart  \n",
       "0           PDIR  \n",
       "1           PDIR  \n",
       "2           PDIR  \n",
       "3           PDIR  \n",
       "4           PDIR  \n",
       "...          ...  \n",
       "272239      PDIR  \n",
       "272240      PDIR  \n",
       "272241      PDIR  \n",
       "272242      PDIR  \n",
       "272243      PDIR  \n",
       "\n",
       "[272244 rows x 26 columns]"
      ]
     },
     "execution_count": 6,
     "metadata": {},
     "output_type": "execute_result"
    }
   ],
   "source": [
    "BMBF"
   ]
  },
  {
   "cell_type": "markdown",
   "id": "d271e433",
   "metadata": {},
   "source": [
    "### For retrieving publications and press releases on idw , FKZ alone can not be used for finding press releases and publications related to the BMBF grants. Therefore all press releases and publications mentioned BMBF are retrieved at first. After that FKZ will be using to find matches."
   ]
  },
  {
   "cell_type": "code",
   "execution_count": null,
   "id": "756f3244",
   "metadata": {},
   "outputs": [],
   "source": [
    "def extract_pub_web_address(soup):\n",
    "    # this function extract html links\n",
    "    div_elements = soup.find_all(\"div\", class_=\"nine columns\")\n",
    "    web_address = []\n",
    "    if div_elements:\n",
    "        for div in div_elements:\n",
    "            # Find and extract the <a> element within the div\n",
    "            a_element = div.find(\"a\")\n",
    "\n",
    "            if a_element:\n",
    "                # Extract the 'href' attribute value from the <a> element\n",
    "                href_value = a_element.get(\"href\")\n",
    "                web_address.append(href_value)\n",
    "                \n",
    "    return web_address"
   ]
  },
  {
   "cell_type": "code",
   "execution_count": null,
   "id": "fbf7415c",
   "metadata": {},
   "outputs": [],
   "source": [
    "search_term = \"BMBF\"  # search term BMBF returns 21979 articles as well as 1099 pages whereas search term \"Bundesministerium für Bildung und Forschung\" returns only 1 result\n",
    "\n",
    "def retrieve_pub_web_address(search_term, pages = 1099):\n",
    "    # this function go over all pages and extract all links \n",
    "    \n",
    "    url = f\"https://idw-online.de/de/simplesearch?words={search_term}&_form_=InputForm&scope=press_release&scope=event&page=%s\"\n",
    "    pub_web_addresses = []\n",
    "    # Send an HTTP GET request to the URL\n",
    "    for page in tqdm(range(1, pages + 1)):\n",
    "        response = requests.get(url % page)\n",
    "        # Check if the request was successful\n",
    "        if response.status_code == 200:\n",
    "            # Parse the HTML content of the page\n",
    "            soup = BeautifulSoup(response.text, \"html.parser\")\n",
    "\n",
    "            pub_web_addresses.extend(extract_pub_web_address(soup))\n",
    "\n",
    "    return pub_web_addresses"
   ]
  },
  {
   "cell_type": "code",
   "execution_count": null,
   "id": "e133a4de",
   "metadata": {},
   "outputs": [],
   "source": [
    "web_addresses = retrieve_pub_web_address(search_term)"
   ]
  },
  {
   "cell_type": "code",
   "execution_count": null,
   "id": "651b54de",
   "metadata": {},
   "outputs": [],
   "source": [
    "%store web_addresses"
   ]
  },
  {
   "cell_type": "code",
   "execution_count": null,
   "id": "d0a2c07b",
   "metadata": {},
   "outputs": [],
   "source": [
    "def scrape_text_by_xpath(url, xpath):\n",
    "    # Specify the path to the ChromeDriver executable\n",
    "    chrome_driver_path = \"../chromedriver\"\n",
    "\n",
    "    # Create a Service object with the ChromeDriver executable path\n",
    "    service = Service(chrome_driver_path)\n",
    "    chrome_options = webdriver.ChromeOptions()\n",
    "    chrome_options.headless = True\n",
    "\n",
    "    driver = webdriver.Chrome(options=chrome_options, service=service)\n",
    "\n",
    "    try:\n",
    "        # Open the URL in the browser\n",
    "        driver.get(url)\n",
    "\n",
    "        # Find the element using the provided XPath\n",
    "        element = driver.find_element(By.XPATH, xpath)\n",
    "\n",
    "        # Extract the text from the element\n",
    "        text = element.text\n",
    "\n",
    "        return text\n",
    "\n",
    "    except Exception as e:\n",
    "        print(f\"An error occurred: {e}\")\n",
    "    finally:\n",
    "        # Close the browser window\n",
    "        driver.quit()"
   ]
  },
  {
   "cell_type": "markdown",
   "id": "18aa90fe",
   "metadata": {},
   "source": [
    "### webscraping by selenium take long time to scrape a press release ( about 20 seconds each item ), therefore we asynchronously retrieving contents using moduls requests and beautifulsoup) in follwing cell\n",
    "def get_press_content(web_address):\n",
    "    \n",
    "    title = \"/html/body/div[5]/div[2]/div/h4[2]\"\n",
    "    sub_title =\"/html/body/div[5]/div[2]/div/h5\"\n",
    "    content = \"/html/body/div[5]/div[2]/div/p[3]\"\n",
    "\n",
    "    scraped_text = \"\"\n",
    "    url=\"https://idw-online.de\" + web_address\n",
    "    \n",
    "    for xpath in [title,sub_title,content]:\n",
    "        scraped_text += scrape_text_by_xpath(url, xpath)\n",
    "\n",
    "    if scraped_text:\n",
    "        return scraped_text\n",
    "    else:\n",
    "        print(\"No text found at the specified XPath.\")\n",
    "        return None\n"
   ]
  },
  {
   "cell_type": "markdown",
   "id": "ce2b8c7c",
   "metadata": {},
   "source": [
    "% time get_press_content(web_addresses[0])"
   ]
  },
  {
   "cell_type": "code",
   "execution_count": null,
   "id": "093258bc",
   "metadata": {},
   "outputs": [],
   "source": [
    "async def fetch_url(session, press_web_address, timeout=20):\n",
    "    url = \"https://idw-online.de\" + press_web_address\n",
    "\n",
    "    try:\n",
    "        async with session.get(url) as response:\n",
    "            if response.status == 200:\n",
    "                html_content = await response.text()\n",
    "                return press_web_address, html_content\n",
    "\n",
    "    except Exception as e:\n",
    "        print(e)\n",
    "        return None, None\n",
    "\n",
    "\n",
    "async def fetch_data_from_urls(urls):\n",
    "    async with aiohttp.ClientSession() as session:\n",
    "        tasks = []\n",
    "        for url in tqdm(urls):\n",
    "            tasks.append(fetch_url(session, url))\n",
    "        results = await asyncio.gather(*tasks)\n",
    "        return results"
   ]
  },
  {
   "cell_type": "code",
   "execution_count": null,
   "id": "eb08bce2",
   "metadata": {},
   "outputs": [],
   "source": [
    "chunk_size = 100\n",
    "results = []\n",
    "for chunk in tqdm(range(0, len(web_addresses), chunk_size)):\n",
    "    start = chunk\n",
    "    end = min(chunk + chunk_size, len(web_addresses))\n",
    "    start_time = datetime.now()\n",
    "    result = await fetch_data_from_urls(web_addresses[start:end])\n",
    "    results.append(result)\n",
    "    time = datetime.now() - start_time\n",
    "    print(time)"
   ]
  },
  {
   "cell_type": "code",
   "execution_count": null,
   "id": "c0659193",
   "metadata": {},
   "outputs": [],
   "source": [
    "#create a DataFrame from retrieving data\n",
    "idw = pd.DataFrame(results[0])\n",
    "for i in range(1, len(results)):\n",
    "    idw = pd.concat([idw, pd.DataFrame(results[i])], ignore_index=True)\n",
    "idw.columns = [\"web_address\", \"contents\"]"
   ]
  },
  {
   "cell_type": "code",
   "execution_count": null,
   "id": "abeec842",
   "metadata": {},
   "outputs": [],
   "source": [
    "idw.dropna(inplace=True)"
   ]
  },
  {
   "cell_type": "code",
   "execution_count": null,
   "id": "17e1bbac",
   "metadata": {},
   "outputs": [],
   "source": [
    "#select only relevant paragraph \n",
    "def select_content(row):\n",
    "    return row[\"contents\"].split('<h5 class=\"subheader\">')[1].split(\"style\")[0]\n",
    "\n",
    "\n",
    "idw = idw.progress_apply(select_content, axis=1)"
   ]
  },
  {
   "cell_type": "code",
   "execution_count": null,
   "id": "d0d6224d",
   "metadata": {},
   "outputs": [],
   "source": [
    "idw.to_csv(\"../data/idw_enrichment.csv\")"
   ]
  },
  {
   "cell_type": "code",
   "execution_count": null,
   "id": "4e9131f5",
   "metadata": {},
   "outputs": [],
   "source": [
    "# remove html tags\n",
    "idw = idw.apply(lambda html_text: re.sub(r\"<[^>]*>\", \"\", html_text))"
   ]
  },
  {
   "cell_type": "code",
   "execution_count": null,
   "id": "a1d08371",
   "metadata": {},
   "outputs": [],
   "source": [
    "FKZs_with_pubs = []"
   ]
  },
  {
   "cell_type": "markdown",
   "id": "7369beb6",
   "metadata": {},
   "source": [
    "### Running follwing cell will takes about 3 hours"
   ]
  },
  {
   "cell_type": "code",
   "execution_count": 29,
   "id": "f2017730",
   "metadata": {
    "scrolled": false
   },
   "outputs": [
    {
     "name": "stdout",
     "output_type": "stream",
     "text": [
      "100305537\n"
     ]
    },
    {
     "name": "stderr",
     "output_type": "stream",
     "text": [
      "  4%|███                                                                        | 7247/174414 [09:43<4:17:24, 10.82it/s]"
     ]
    },
    {
     "name": "stdout",
     "output_type": "stream",
     "text": [
      "found publication of FKZ 1104506\n"
     ]
    },
    {
     "name": "stderr",
     "output_type": "stream",
     "text": [
      " 31%|██████████████████████▌                                                 | 54520/174414 [1:00:02<1:43:24, 19.32it/s]"
     ]
    },
    {
     "name": "stdout",
     "output_type": "stream",
     "text": [
      "found publication of FKZ 05KS7PC2\n"
     ]
    },
    {
     "name": "stderr",
     "output_type": "stream",
     "text": [
      " 36%|██████████████████████████▏                                             | 63400/174414 [1:07:25<1:30:51, 20.36it/s]"
     ]
    },
    {
     "name": "stdout",
     "output_type": "stream",
     "text": [
      "found publication of FKZ 02WT0022\n"
     ]
    },
    {
     "name": "stderr",
     "output_type": "stream",
     "text": [
      " 37%|██████████████████████████▌                                             | 64365/174414 [1:08:13<1:30:13, 20.33it/s]"
     ]
    },
    {
     "name": "stdout",
     "output_type": "stream",
     "text": [
      "found publication of FKZ 16SV1178/7\n"
     ]
    },
    {
     "name": "stderr",
     "output_type": "stream",
     "text": [
      " 37%|██████████████████████████▊                                             | 65053/174414 [1:08:50<1:37:19, 18.73it/s]"
     ]
    },
    {
     "name": "stdout",
     "output_type": "stream",
     "text": [
      "found publication of FKZ 1302000\n"
     ]
    },
    {
     "name": "stderr",
     "output_type": "stream",
     "text": [
      " 37%|██████████████████████████▉                                             | 65362/174414 [1:09:06<1:36:00, 18.93it/s]"
     ]
    },
    {
     "name": "stdout",
     "output_type": "stream",
     "text": [
      "found publication of FKZ 01GI9981\n"
     ]
    },
    {
     "name": "stderr",
     "output_type": "stream",
     "text": [
      " 38%|███████████████████████████▎                                            | 66266/174414 [1:09:55<1:36:08, 18.75it/s]"
     ]
    },
    {
     "name": "stdout",
     "output_type": "stream",
     "text": [
      "found publication of FKZ 01IS09\n",
      "found publication of FKZ 01IS10\n",
      "found publication of FKZ 01IS13\n"
     ]
    },
    {
     "name": "stderr",
     "output_type": "stream",
     "text": [
      " 38%|███████████████████████████▎                                            | 66279/174414 [1:09:56<1:31:37, 19.67it/s]"
     ]
    },
    {
     "name": "stdout",
     "output_type": "stream",
     "text": [
      "found publication of FKZ 01IS16\n",
      "found publication of FKZ 01IS11\n"
     ]
    },
    {
     "name": "stderr",
     "output_type": "stream",
     "text": [
      " 38%|███████████████████████████▍                                            | 66419/174414 [1:10:04<1:28:03, 20.44it/s]"
     ]
    },
    {
     "name": "stdout",
     "output_type": "stream",
     "text": [
      "found publication of FKZ 01IS14\n",
      "found publication of FKZ 01IS20\n",
      "found publication of FKZ 01IS21\n"
     ]
    },
    {
     "name": "stderr",
     "output_type": "stream",
     "text": [
      " 38%|███████████████████████████▍                                            | 66440/174414 [1:10:05<1:29:32, 20.10it/s]"
     ]
    },
    {
     "name": "stdout",
     "output_type": "stream",
     "text": [
      "found publication of FKZ 01IS17\n"
     ]
    },
    {
     "name": "stderr",
     "output_type": "stream",
     "text": [
      " 40%|█████████████████████████████                                           | 70288/174414 [1:13:34<1:34:03, 18.45it/s]"
     ]
    },
    {
     "name": "stdout",
     "output_type": "stream",
     "text": [
      "found publication of FKZ 03N3105C\n"
     ]
    },
    {
     "name": "stderr",
     "output_type": "stream",
     "text": [
      " 40%|█████████████████████████████                                           | 70541/174414 [1:13:48<1:32:16, 18.76it/s]"
     ]
    },
    {
     "name": "stdout",
     "output_type": "stream",
     "text": [
      "found publication of FKZ 01IS210\n"
     ]
    },
    {
     "name": "stderr",
     "output_type": "stream",
     "text": [
      " 41%|█████████████████████████████▍                                          | 71183/174414 [1:14:23<1:32:29, 18.60it/s]"
     ]
    },
    {
     "name": "stdout",
     "output_type": "stream",
     "text": [
      "found publication of FKZ 16SV1355\n"
     ]
    },
    {
     "name": "stderr",
     "output_type": "stream",
     "text": [
      " 41%|█████████████████████████████▋                                          | 71947/174414 [1:15:05<1:26:14, 19.80it/s]"
     ]
    },
    {
     "name": "stdout",
     "output_type": "stream",
     "text": [
      "found publication of FKZ 01GS0110\n"
     ]
    },
    {
     "name": "stderr",
     "output_type": "stream",
     "text": [
      " 41%|█████████████████████████████▋                                          | 72004/174414 [1:15:08<1:29:03, 19.17it/s]"
     ]
    },
    {
     "name": "stdout",
     "output_type": "stream",
     "text": [
      "found publication of FKZ 01GS0160\n"
     ]
    },
    {
     "name": "stderr",
     "output_type": "stream",
     "text": [
      " 42%|██████████████████████████████▏                                         | 73058/174414 [1:16:06<1:38:05, 17.22it/s]"
     ]
    },
    {
     "name": "stdout",
     "output_type": "stream",
     "text": [
      "found publication of FKZ 02PD2370\n"
     ]
    },
    {
     "name": "stderr",
     "output_type": "stream",
     "text": [
      " 42%|██████████████████████████████▍                                         | 73731/174414 [1:16:44<1:32:13, 18.20it/s]"
     ]
    },
    {
     "name": "stdout",
     "output_type": "stream",
     "text": [
      "found publication of FKZ 0330400\n"
     ]
    },
    {
     "name": "stderr",
     "output_type": "stream",
     "text": [
      " 42%|██████████████████████████████▍                                         | 73836/174414 [1:16:50<1:30:06, 18.60it/s]"
     ]
    },
    {
     "name": "stdout",
     "output_type": "stream",
     "text": [
      "found publication of FKZ 01EM0102\n"
     ]
    },
    {
     "name": "stderr",
     "output_type": "stream",
     "text": [
      " 44%|███████████████████████████████▎                                        | 75907/174414 [1:18:45<1:31:31, 17.94it/s]"
     ]
    },
    {
     "name": "stdout",
     "output_type": "stream",
     "text": [
      "found publication of FKZ 13N8974\n"
     ]
    },
    {
     "name": "stderr",
     "output_type": "stream",
     "text": [
      " 44%|███████████████████████████████▌                                        | 76352/174414 [1:19:11<1:34:21, 17.32it/s]"
     ]
    },
    {
     "name": "stdout",
     "output_type": "stream",
     "text": [
      "found publication of FKZ 02PU2220\n"
     ]
    },
    {
     "name": "stderr",
     "output_type": "stream",
     "text": [
      " 44%|███████████████████████████████▌                                        | 76384/174414 [1:19:13<1:29:20, 18.29it/s]"
     ]
    },
    {
     "name": "stdout",
     "output_type": "stream",
     "text": [
      "found publication of FKZ 13N8857\n",
      "found publication of FKZ 13N8858\n"
     ]
    },
    {
     "name": "stderr",
     "output_type": "stream",
     "text": [
      " 44%|███████████████████████████████▊                                        | 76980/174414 [1:19:44<1:19:27, 20.44it/s]"
     ]
    },
    {
     "name": "stdout",
     "output_type": "stream",
     "text": [
      "found publication of FKZ 13N1311\n"
     ]
    },
    {
     "name": "stderr",
     "output_type": "stream",
     "text": [
      " 44%|███████████████████████████████▊                                        | 76991/174414 [1:19:45<1:22:43, 19.63it/s]"
     ]
    },
    {
     "name": "stdout",
     "output_type": "stream",
     "text": [
      "found publication of FKZ 13N1411\n"
     ]
    },
    {
     "name": "stderr",
     "output_type": "stream",
     "text": [
      " 45%|████████████████████████████████▎                                       | 78123/174414 [1:20:45<1:39:32, 16.12it/s]"
     ]
    },
    {
     "name": "stdout",
     "output_type": "stream",
     "text": [
      "found publication of FKZ B8411\n"
     ]
    },
    {
     "name": "stderr",
     "output_type": "stream",
     "text": [
      " 45%|████████████████████████████████▊                                       | 79351/174414 [1:21:53<1:16:58, 20.58it/s]"
     ]
    },
    {
     "name": "stdout",
     "output_type": "stream",
     "text": [
      "found publication of FKZ 03F0479I\n"
     ]
    },
    {
     "name": "stderr",
     "output_type": "stream",
     "text": [
      " 46%|████████████████████████████████▉                                       | 79644/174414 [1:22:07<1:17:41, 20.33it/s]"
     ]
    },
    {
     "name": "stdout",
     "output_type": "stream",
     "text": [
      "found publication of FKZ 13N9356\n"
     ]
    },
    {
     "name": "stderr",
     "output_type": "stream",
     "text": [
      " 46%|████████████████████████████████▉                                       | 79934/174414 [1:22:22<1:19:22, 19.84it/s]"
     ]
    },
    {
     "name": "stdout",
     "output_type": "stream",
     "text": [
      "found publication of FKZ 16SV3713\n"
     ]
    },
    {
     "name": "stderr",
     "output_type": "stream",
     "text": [
      " 47%|█████████████████████████████████▊                                      | 81868/174414 [1:24:09<1:20:14, 19.22it/s]"
     ]
    },
    {
     "name": "stdout",
     "output_type": "stream",
     "text": [
      "found publication of FKZ 01GS0413\n"
     ]
    },
    {
     "name": "stderr",
     "output_type": "stream",
     "text": [
      " 47%|██████████████████████████████████▏                                     | 82676/174414 [1:24:54<1:21:36, 18.73it/s]"
     ]
    },
    {
     "name": "stdout",
     "output_type": "stream",
     "text": [
      "found publication of FKZ 13N8720\n"
     ]
    },
    {
     "name": "stderr",
     "output_type": "stream",
     "text": [
      " 47%|██████████████████████████████████▏                                     | 82769/174414 [1:24:59<1:15:47, 20.15it/s]"
     ]
    },
    {
     "name": "stdout",
     "output_type": "stream",
     "text": [
      "found publication of FKZ 01IMD02A\n"
     ]
    },
    {
     "name": "stderr",
     "output_type": "stream",
     "text": [
      " 50%|███████████████████████████████████▊                                    | 86683/174414 [1:29:11<1:12:40, 20.12it/s]"
     ]
    },
    {
     "name": "stdout",
     "output_type": "stream",
     "text": [
      "found publication of FKZ 02PK2038\n",
      "found publication of FKZ 02PK2034\n"
     ]
    },
    {
     "name": "stderr",
     "output_type": "stream",
     "text": [
      " 50%|████████████████████████████████████                                    | 87384/174414 [1:29:46<1:12:03, 20.13it/s]"
     ]
    },
    {
     "name": "stdout",
     "output_type": "stream",
     "text": [
      "found publication of FKZ 13N10549\n"
     ]
    },
    {
     "name": "stderr",
     "output_type": "stream",
     "text": [
      " 50%|████████████████████████████████████                                    | 87493/174414 [1:29:52<1:09:29, 20.85it/s]"
     ]
    },
    {
     "name": "stdout",
     "output_type": "stream",
     "text": [
      "found publication of FKZ 02PO2250\n"
     ]
    },
    {
     "name": "stderr",
     "output_type": "stream",
     "text": [
      " 50%|████████████████████████████████████▏                                   | 87531/174414 [1:29:53<1:08:35, 21.11it/s]"
     ]
    },
    {
     "name": "stdout",
     "output_type": "stream",
     "text": [
      "found publication of FKZ 02PO2270\n"
     ]
    },
    {
     "name": "stderr",
     "output_type": "stream",
     "text": [
      " 52%|█████████████████████████████████████▏                                  | 90146/174414 [1:32:07<1:04:46, 21.68it/s]"
     ]
    },
    {
     "name": "stdout",
     "output_type": "stream",
     "text": [
      "found publication of FKZ 01HH11091\n"
     ]
    },
    {
     "name": "stderr",
     "output_type": "stream",
     "text": [
      " 52%|█████████████████████████████████████▍                                  | 90631/174414 [1:32:31<1:03:36, 21.96it/s]"
     ]
    },
    {
     "name": "stdout",
     "output_type": "stream",
     "text": [
      "found publication of FKZ 01HH11092\n"
     ]
    },
    {
     "name": "stderr",
     "output_type": "stream",
     "text": [
      " 52%|█████████████████████████████████████▌                                  | 90861/174414 [1:32:43<1:06:59, 20.79it/s]"
     ]
    },
    {
     "name": "stdout",
     "output_type": "stream",
     "text": [
      "found publication of FKZ 01FL09008\n"
     ]
    },
    {
     "name": "stderr",
     "output_type": "stream",
     "text": [
      " 53%|██████████████████████████████████████▏                                 | 92608/174414 [1:34:13<1:06:51, 20.39it/s]"
     ]
    },
    {
     "name": "stdout",
     "output_type": "stream",
     "text": [
      "found publication of FKZ 02PR2160\n"
     ]
    },
    {
     "name": "stderr",
     "output_type": "stream",
     "text": [
      " 53%|██████████████████████████████████████▍                                 | 93051/174414 [1:34:36<1:02:03, 21.85it/s]"
     ]
    },
    {
     "name": "stdout",
     "output_type": "stream",
     "text": [
      "found publication of FKZ 01IS10033C\n"
     ]
    },
    {
     "name": "stderr",
     "output_type": "stream",
     "text": [
      " 53%|██████████████████████████████████████▍                                 | 93096/174414 [1:34:38<1:04:53, 20.89it/s]"
     ]
    },
    {
     "name": "stdout",
     "output_type": "stream",
     "text": [
      "found publication of FKZ 13N11195\n"
     ]
    },
    {
     "name": "stderr",
     "output_type": "stream",
     "text": [
      " 54%|██████████████████████████████████████▌                                 | 93408/174414 [1:34:54<1:02:10, 21.71it/s]"
     ]
    },
    {
     "name": "stdout",
     "output_type": "stream",
     "text": [
      "found publication of FKZ 01KN1106\n"
     ]
    },
    {
     "name": "stderr",
     "output_type": "stream",
     "text": [
      " 54%|██████████████████████████████████████▋                                 | 93841/174414 [1:35:16<1:02:29, 21.49it/s]"
     ]
    },
    {
     "name": "stdout",
     "output_type": "stream",
     "text": [
      "found publication of FKZ 01IS11012A\n"
     ]
    },
    {
     "name": "stderr",
     "output_type": "stream",
     "text": [
      " 54%|██████████████████████████████████████▉                                 | 94468/174414 [1:35:47<1:01:46, 21.57it/s]"
     ]
    },
    {
     "name": "stdout",
     "output_type": "stream",
     "text": [
      "found publication of FKZ 01IS11032E\n"
     ]
    },
    {
     "name": "stderr",
     "output_type": "stream",
     "text": [
      " 54%|███████████████████████████████████████▏                                | 94855/174414 [1:36:07<1:02:54, 21.08it/s]"
     ]
    },
    {
     "name": "stdout",
     "output_type": "stream",
     "text": [
      "found publication of FKZ 0315973\n"
     ]
    },
    {
     "name": "stderr",
     "output_type": "stream",
     "text": [
      " 55%|███████████████████████████████████████▎                                | 95362/174414 [1:36:32<1:04:58, 20.28it/s]"
     ]
    },
    {
     "name": "stdout",
     "output_type": "stream",
     "text": [
      "found publication of FKZ 03V0224\n"
     ]
    },
    {
     "name": "stderr",
     "output_type": "stream",
     "text": [
      " 55%|████████████████████████████████████████▌                                 | 95728/174414 [1:36:50<59:58, 21.87it/s]"
     ]
    },
    {
     "name": "stdout",
     "output_type": "stream",
     "text": [
      "found publication of FKZ 01KR1205A\n"
     ]
    },
    {
     "name": "stderr",
     "output_type": "stream",
     "text": [
      " 55%|███████████████████████████████████████▌                                | 95874/174414 [1:36:58<1:03:38, 20.57it/s]"
     ]
    },
    {
     "name": "stdout",
     "output_type": "stream",
     "text": [
      "found publication of FKZ 01PL12022E\n"
     ]
    },
    {
     "name": "stderr",
     "output_type": "stream",
     "text": [
      " 55%|███████████████████████████████████████▌                                | 95967/174414 [1:37:02<1:05:32, 19.95it/s]"
     ]
    },
    {
     "name": "stdout",
     "output_type": "stream",
     "text": [
      "found publication of FKZ 01PL12068\n"
     ]
    },
    {
     "name": "stderr",
     "output_type": "stream",
     "text": [
      " 55%|███████████████████████████████████████▊                                | 96394/174414 [1:37:23<1:02:37, 20.77it/s]"
     ]
    },
    {
     "name": "stdout",
     "output_type": "stream",
     "text": [
      "found publication of FKZ 01FP1213\n"
     ]
    },
    {
     "name": "stderr",
     "output_type": "stream",
     "text": [
      " 55%|███████████████████████████████████████▊                                | 96577/174414 [1:37:32<1:02:50, 20.64it/s]"
     ]
    },
    {
     "name": "stdout",
     "output_type": "stream",
     "text": [
      "found publication of FKZ 13N12234\n"
     ]
    },
    {
     "name": "stderr",
     "output_type": "stream",
     "text": [
      " 55%|███████████████████████████████████████▉                                | 96774/174414 [1:37:42<1:04:56, 19.92it/s]"
     ]
    },
    {
     "name": "stdout",
     "output_type": "stream",
     "text": [
      "found publication of FKZ 03X4637A\n"
     ]
    },
    {
     "name": "stderr",
     "output_type": "stream",
     "text": [
      " 56%|████████████████████████████████████████▏                               | 97414/174414 [1:38:15<1:01:45, 20.78it/s]"
     ]
    },
    {
     "name": "stdout",
     "output_type": "stream",
     "text": [
      "found publication of FKZ 01LK1209C\n"
     ]
    },
    {
     "name": "stderr",
     "output_type": "stream",
     "text": [
      " 56%|█████████████████████████████████████████▍                                | 97721/174414 [1:38:31<57:59, 22.04it/s]"
     ]
    },
    {
     "name": "stdout",
     "output_type": "stream",
     "text": [
      "found publication of FKZ 01LK1212C\n"
     ]
    },
    {
     "name": "stderr",
     "output_type": "stream",
     "text": [
      " 56%|████████████████████████████████████████▌                               | 98258/174414 [1:38:59<1:01:25, 20.66it/s]"
     ]
    },
    {
     "name": "stdout",
     "output_type": "stream",
     "text": [
      "found publication of FKZ 031A184A\n"
     ]
    },
    {
     "name": "stderr",
     "output_type": "stream",
     "text": [
      " 57%|█████████████████████████████████████████▉                                | 98849/174414 [1:39:30<59:53, 21.03it/s]"
     ]
    },
    {
     "name": "stdout",
     "output_type": "stream",
     "text": [
      "found publication of FKZ 03F0665C\n"
     ]
    },
    {
     "name": "stderr",
     "output_type": "stream",
     "text": [
      " 57%|██████████████████████████████████████████                                | 99059/174414 [1:39:40<59:09, 21.23it/s]"
     ]
    },
    {
     "name": "stdout",
     "output_type": "stream",
     "text": [
      "found publication of FKZ 01GJ1208A\n"
     ]
    },
    {
     "name": "stderr",
     "output_type": "stream",
     "text": [
      " 57%|██████████████████████████████████████████▎                               | 99674/174414 [1:40:12<58:29, 21.30it/s]"
     ]
    },
    {
     "name": "stdout",
     "output_type": "stream",
     "text": [
      "found publication of FKZ 03EK3513A\n"
     ]
    },
    {
     "name": "stderr",
     "output_type": "stream",
     "text": [
      " 57%|████████████████████████████████████████▊                              | 100266/174414 [1:40:43<1:01:39, 20.04it/s]"
     ]
    },
    {
     "name": "stdout",
     "output_type": "stream",
     "text": [
      "found publication of FKZ 03V0763\n"
     ]
    },
    {
     "name": "stderr",
     "output_type": "stream",
     "text": [
      " 58%|██████████████████████████████████████████                               | 100465/174414 [1:40:53<58:41, 21.00it/s]"
     ]
    },
    {
     "name": "stdout",
     "output_type": "stream",
     "text": [
      "found publication of FKZ 02PK2352\n"
     ]
    },
    {
     "name": "stderr",
     "output_type": "stream",
     "text": [
      " 58%|████████████████████████████████████████▉                              | 100521/174414 [1:40:56<1:01:23, 20.06it/s]"
     ]
    },
    {
     "name": "stdout",
     "output_type": "stream",
     "text": [
      "found publication of FKZ 01FP1303\n"
     ]
    },
    {
     "name": "stderr",
     "output_type": "stream",
     "text": [
      " 58%|████████████████████████████████████████▉                              | 100541/174414 [1:40:57<1:04:48, 19.00it/s]"
     ]
    },
    {
     "name": "stdout",
     "output_type": "stream",
     "text": [
      "found publication of FKZ 01FP1304\n"
     ]
    },
    {
     "name": "stderr",
     "output_type": "stream",
     "text": [
      " 58%|█████████████████████████████████████████                              | 100901/174414 [1:41:16<1:03:51, 19.18it/s]"
     ]
    },
    {
     "name": "stdout",
     "output_type": "stream",
     "text": [
      "found publication of FKZ 13FH006SA3\n"
     ]
    },
    {
     "name": "stderr",
     "output_type": "stream",
     "text": [
      " 58%|██████████████████████████████████████████▎                              | 100957/174414 [1:41:18<57:38, 21.24it/s]"
     ]
    },
    {
     "name": "stdout",
     "output_type": "stream",
     "text": [
      "found publication of FKZ 01FP1309\n",
      "found publication of FKZ 01FP1308\n"
     ]
    },
    {
     "name": "stderr",
     "output_type": "stream",
     "text": [
      " 58%|██████████████████████████████████████████▎                              | 100966/174414 [1:41:19<58:43, 20.84it/s]"
     ]
    },
    {
     "name": "stdout",
     "output_type": "stream",
     "text": [
      "found publication of FKZ 01LK1224J\n"
     ]
    },
    {
     "name": "stderr",
     "output_type": "stream",
     "text": [
      " 58%|█████████████████████████████████████████▎                             | 101540/174414 [1:41:48<1:02:16, 19.51it/s]"
     ]
    },
    {
     "name": "stdout",
     "output_type": "stream",
     "text": [
      "found publication of FKZ 01BEX05A13\n"
     ]
    },
    {
     "name": "stderr",
     "output_type": "stream",
     "text": [
      " 58%|██████████████████████████████████████████▌                              | 101796/174414 [1:42:00<57:34, 21.02it/s]"
     ]
    },
    {
     "name": "stdout",
     "output_type": "stream",
     "text": [
      "found publication of FKZ 01FE13001\n"
     ]
    },
    {
     "name": "stderr",
     "output_type": "stream",
     "text": [
      " 58%|█████████████████████████████████████████▍                             | 101845/174414 [1:42:03<1:04:14, 18.83it/s]"
     ]
    },
    {
     "name": "stdout",
     "output_type": "stream",
     "text": [
      "found publication of FKZ 13N12946\n"
     ]
    },
    {
     "name": "stderr",
     "output_type": "stream",
     "text": [
      " 59%|█████████████████████████████████████████▌                             | 102238/174414 [1:42:23<1:01:24, 19.59it/s]"
     ]
    },
    {
     "name": "stdout",
     "output_type": "stream",
     "text": [
      "found publication of FKZ 01GY1336B\n"
     ]
    },
    {
     "name": "stderr",
     "output_type": "stream",
     "text": [
      " 59%|██████████████████████████████████████████▉                              | 102708/174414 [1:42:47<55:57, 21.36it/s]"
     ]
    },
    {
     "name": "stdout",
     "output_type": "stream",
     "text": [
      "found publication of FKZ 01KG1308\n"
     ]
    },
    {
     "name": "stderr",
     "output_type": "stream",
     "text": [
      " 59%|███████████████████████████████████████████▏                             | 103180/174414 [1:43:11<57:35, 20.61it/s]"
     ]
    },
    {
     "name": "stdout",
     "output_type": "stream",
     "text": [
      "found publication of FKZ 02PJ2590\n"
     ]
    },
    {
     "name": "stderr",
     "output_type": "stream",
     "text": [
      " 59%|██████████████████████████████████████████▏                            | 103490/174414 [1:43:27<1:01:29, 19.22it/s]"
     ]
    },
    {
     "name": "stdout",
     "output_type": "stream",
     "text": [
      "found publication of FKZ 03X0140\n"
     ]
    },
    {
     "name": "stderr",
     "output_type": "stream",
     "text": [
      " 60%|███████████████████████████████████████████▍                             | 103864/174414 [1:43:46<58:28, 20.11it/s]"
     ]
    },
    {
     "name": "stdout",
     "output_type": "stream",
     "text": [
      "found publication of FKZ 01FP1429\n"
     ]
    },
    {
     "name": "stderr",
     "output_type": "stream",
     "text": [
      " 60%|███████████████████████████████████████████▌                             | 104093/174414 [1:43:58<58:22, 20.08it/s]"
     ]
    },
    {
     "name": "stdout",
     "output_type": "stream",
     "text": [
      "found publication of FKZ 02K12B000\n"
     ]
    },
    {
     "name": "stderr",
     "output_type": "stream",
     "text": [
      " 60%|███████████████████████████████████████████▌                             | 104167/174414 [1:44:02<55:30, 21.09it/s]"
     ]
    },
    {
     "name": "stdout",
     "output_type": "stream",
     "text": [
      "found publication of FKZ 16ES0288\n"
     ]
    },
    {
     "name": "stderr",
     "output_type": "stream",
     "text": [
      " 60%|███████████████████████████████████████████▌                             | 104202/174414 [1:44:03<58:06, 20.14it/s]"
     ]
    },
    {
     "name": "stdout",
     "output_type": "stream",
     "text": [
      "found publication of FKZ 13N13230\n"
     ]
    },
    {
     "name": "stderr",
     "output_type": "stream",
     "text": [
      " 60%|███████████████████████████████████████████▋                             | 104351/174414 [1:44:11<53:41, 21.75it/s]"
     ]
    },
    {
     "name": "stdout",
     "output_type": "stream",
     "text": [
      "found publication of FKZ 13N13294\n"
     ]
    },
    {
     "name": "stderr",
     "output_type": "stream",
     "text": [
      " 60%|███████████████████████████████████████████▋                             | 104404/174414 [1:44:13<55:58, 20.84it/s]"
     ]
    },
    {
     "name": "stdout",
     "output_type": "stream",
     "text": [
      "found publication of FKZ 02K12B004\n"
     ]
    },
    {
     "name": "stderr",
     "output_type": "stream",
     "text": [
      " 60%|███████████████████████████████████████████▊                             | 104578/174414 [1:44:22<55:31, 20.96it/s]"
     ]
    },
    {
     "name": "stdout",
     "output_type": "stream",
     "text": [
      "found publication of FKZ 031A433A\n"
     ]
    },
    {
     "name": "stderr",
     "output_type": "stream",
     "text": [
      " 60%|███████████████████████████████████████████▊                             | 104753/174414 [1:44:31<53:55, 21.53it/s]"
     ]
    },
    {
     "name": "stdout",
     "output_type": "stream",
     "text": [
      "found publication of FKZ 13N13234\n"
     ]
    },
    {
     "name": "stderr",
     "output_type": "stream",
     "text": [
      " 60%|███████████████████████████████████████████▊                             | 104817/174414 [1:44:34<57:20, 20.23it/s]"
     ]
    },
    {
     "name": "stdout",
     "output_type": "stream",
     "text": [
      "found publication of FKZ 13N13393\n"
     ]
    },
    {
     "name": "stderr",
     "output_type": "stream",
     "text": [
      " 60%|████████████████████████████████████████████                             | 105208/174414 [1:44:53<54:33, 21.14it/s]"
     ]
    },
    {
     "name": "stdout",
     "output_type": "stream",
     "text": [
      "found publication of FKZ 01DK14014\n"
     ]
    },
    {
     "name": "stderr",
     "output_type": "stream",
     "text": [
      " 60%|████████████████████████████████████████████▏                            | 105443/174414 [1:45:04<55:31, 20.71it/s]"
     ]
    },
    {
     "name": "stdout",
     "output_type": "stream",
     "text": [
      "found publication of FKZ 13N13479\n"
     ]
    },
    {
     "name": "stderr",
     "output_type": "stream",
     "text": [
      " 61%|████████████████████████████████████████████▏                            | 105585/174414 [1:45:12<56:22, 20.35it/s]"
     ]
    },
    {
     "name": "stdout",
     "output_type": "stream",
     "text": [
      "found publication of FKZ 03X0157A\n"
     ]
    },
    {
     "name": "stderr",
     "output_type": "stream",
     "text": [
      " 61%|████████████████████████████████████████████▏                            | 105651/174414 [1:45:15<55:47, 20.54it/s]"
     ]
    },
    {
     "name": "stdout",
     "output_type": "stream",
     "text": [
      "found publication of FKZ 02K14Z004\n"
     ]
    },
    {
     "name": "stderr",
     "output_type": "stream",
     "text": [
      " 61%|████████████████████████████████████████████▏                            | 105714/174414 [1:45:18<55:44, 20.54it/s]"
     ]
    },
    {
     "name": "stdout",
     "output_type": "stream",
     "text": [
      "found publication of FKZ 02K14Z000\n"
     ]
    },
    {
     "name": "stderr",
     "output_type": "stream",
     "text": [
      " 61%|████████████████████████████████████████████▍                            | 106034/174414 [1:45:34<55:41, 20.47it/s]"
     ]
    },
    {
     "name": "stdout",
     "output_type": "stream",
     "text": [
      "found publication of FKZ 13N13547\n"
     ]
    },
    {
     "name": "stderr",
     "output_type": "stream",
     "text": [
      " 61%|████████████████████████████████████████████▍                            | 106159/174414 [1:45:41<56:01, 20.31it/s]"
     ]
    },
    {
     "name": "stdout",
     "output_type": "stream",
     "text": [
      "found publication of FKZ 02L12A280\n"
     ]
    },
    {
     "name": "stderr",
     "output_type": "stream",
     "text": [
      " 61%|████████████████████████████████████████████▍                            | 106195/174414 [1:45:42<56:42, 20.05it/s]"
     ]
    },
    {
     "name": "stdout",
     "output_type": "stream",
     "text": [
      "found publication of FKZ 03XP0001\n"
     ]
    },
    {
     "name": "stderr",
     "output_type": "stream",
     "text": [
      " 61%|████████████████████████████████████████████▍                            | 106239/174414 [1:45:45<53:11, 21.36it/s]"
     ]
    },
    {
     "name": "stdout",
     "output_type": "stream",
     "text": [
      "found publication of FKZ 16SV7171K\n"
     ]
    },
    {
     "name": "stderr",
     "output_type": "stream",
     "text": [
      " 61%|████████████████████████████████████████████▌                            | 106371/174414 [1:45:51<53:56, 21.03it/s]"
     ]
    },
    {
     "name": "stdout",
     "output_type": "stream",
     "text": [
      "found publication of FKZ 03ZZF31\n"
     ]
    },
    {
     "name": "stderr",
     "output_type": "stream",
     "text": [
      " 61%|████████████████████████████████████████████▋                            | 106837/174414 [1:46:14<58:01, 19.41it/s]"
     ]
    },
    {
     "name": "stdout",
     "output_type": "stream",
     "text": [
      "found publication of FKZ 02K12A000\n"
     ]
    },
    {
     "name": "stderr",
     "output_type": "stream",
     "text": [
      " 61%|████████████████████████████████████████████▊                            | 106973/174414 [1:46:21<51:43, 21.73it/s]"
     ]
    },
    {
     "name": "stdout",
     "output_type": "stream",
     "text": [
      "found publication of FKZ 16SV7229K\n"
     ]
    },
    {
     "name": "stderr",
     "output_type": "stream",
     "text": [
      " 61%|████████████████████████████████████████████▊                            | 107092/174414 [1:46:27<53:13, 21.08it/s]"
     ]
    },
    {
     "name": "stdout",
     "output_type": "stream",
     "text": [
      "found publication of FKZ 16OH12033\n"
     ]
    },
    {
     "name": "stderr",
     "output_type": "stream",
     "text": [
      " 61%|████████████████████████████████████████████▊                            | 107107/174414 [1:46:28<47:18, 23.71it/s]"
     ]
    },
    {
     "name": "stdout",
     "output_type": "stream",
     "text": [
      "found publication of FKZ 16OH12032\n",
      "found publication of FKZ 16OH12031\n"
     ]
    },
    {
     "name": "stderr",
     "output_type": "stream",
     "text": [
      " 61%|████████████████████████████████████████████▊                            | 107116/174414 [1:46:28<48:40, 23.05it/s]"
     ]
    },
    {
     "name": "stdout",
     "output_type": "stream",
     "text": [
      "found publication of FKZ 16OH12030\n"
     ]
    },
    {
     "name": "stderr",
     "output_type": "stream",
     "text": [
      " 62%|████████████████████████████████████████████▉                            | 107267/174414 [1:46:36<52:26, 21.34it/s]"
     ]
    },
    {
     "name": "stdout",
     "output_type": "stream",
     "text": [
      "found publication of FKZ 05P15PCFN1\n"
     ]
    },
    {
     "name": "stderr",
     "output_type": "stream",
     "text": [
      " 62%|████████████████████████████████████████████▉                            | 107348/174414 [1:46:40<53:17, 20.97it/s]"
     ]
    },
    {
     "name": "stdout",
     "output_type": "stream",
     "text": [
      "found publication of FKZ 03XP0006C\n"
     ]
    },
    {
     "name": "stderr",
     "output_type": "stream",
     "text": [
      " 62%|█████████████████████████████████████████████▏                           | 107942/174414 [1:47:11<51:46, 21.40it/s]"
     ]
    },
    {
     "name": "stdout",
     "output_type": "stream",
     "text": [
      "found publication of FKZ 01FP1431\n"
     ]
    },
    {
     "name": "stderr",
     "output_type": "stream",
     "text": [
      " 62%|█████████████████████████████████████████████▎                           | 108193/174414 [1:47:23<52:28, 21.03it/s]"
     ]
    },
    {
     "name": "stdout",
     "output_type": "stream",
     "text": [
      "found publication of FKZ 01IO1505\n"
     ]
    },
    {
     "name": "stderr",
     "output_type": "stream",
     "text": [
      " 62%|█████████████████████████████████████████████▎                           | 108234/174414 [1:47:25<53:01, 20.80it/s]"
     ]
    },
    {
     "name": "stdout",
     "output_type": "stream",
     "text": [
      "found publication of FKZ 03G0243A\n"
     ]
    },
    {
     "name": "stderr",
     "output_type": "stream",
     "text": [
      " 62%|█████████████████████████████████████████████▎                           | 108381/174414 [1:47:32<52:33, 20.94it/s]"
     ]
    },
    {
     "name": "stdout",
     "output_type": "stream",
     "text": [
      "found publication of FKZ 01EA1409A\n"
     ]
    },
    {
     "name": "stderr",
     "output_type": "stream",
     "text": [
      " 63%|██████████████████████████████████████████████▎                          | 110726/174414 [1:49:29<52:24, 20.25it/s]"
     ]
    },
    {
     "name": "stdout",
     "output_type": "stream",
     "text": [
      "found publication of FKZ 031B0240A\n"
     ]
    },
    {
     "name": "stderr",
     "output_type": "stream",
     "text": [
      " 64%|██████████████████████████████████████████████▍                          | 110969/174414 [1:49:41<51:52, 20.38it/s]"
     ]
    },
    {
     "name": "stdout",
     "output_type": "stream",
     "text": [
      "found publication of FKZ 01IO1618\n"
     ]
    },
    {
     "name": "stderr",
     "output_type": "stream",
     "text": [
      " 64%|██████████████████████████████████████████████▋                          | 111487/174414 [1:50:07<49:55, 21.01it/s]"
     ]
    },
    {
     "name": "stdout",
     "output_type": "stream",
     "text": [
      "found publication of FKZ 13N14111\n"
     ]
    },
    {
     "name": "stderr",
     "output_type": "stream",
     "text": [
      " 64%|██████████████████████████████████████████████▊                          | 111841/174414 [1:50:24<48:07, 21.67it/s]"
     ]
    },
    {
     "name": "stdout",
     "output_type": "stream",
     "text": [
      "found publication of FKZ 03VP02223\n"
     ]
    },
    {
     "name": "stderr",
     "output_type": "stream",
     "text": [
      " 64%|██████████████████████████████████████████████▊                          | 111853/174414 [1:50:25<47:22, 22.01it/s]"
     ]
    },
    {
     "name": "stdout",
     "output_type": "stream",
     "text": [
      "found publication of FKZ 13N14176\n"
     ]
    },
    {
     "name": "stderr",
     "output_type": "stream",
     "text": [
      " 64%|██████████████████████████████████████████████▊                          | 111862/174414 [1:50:25<46:24, 22.47it/s]"
     ]
    },
    {
     "name": "stdout",
     "output_type": "stream",
     "text": [
      "found publication of FKZ 01FP1603\n"
     ]
    },
    {
     "name": "stderr",
     "output_type": "stream",
     "text": [
      " 64%|██████████████████████████████████████████████▊                          | 111907/174414 [1:50:27<49:25, 21.08it/s]"
     ]
    },
    {
     "name": "stdout",
     "output_type": "stream",
     "text": [
      "found publication of FKZ 01FP1604\n"
     ]
    },
    {
     "name": "stderr",
     "output_type": "stream",
     "text": [
      " 64%|██████████████████████████████████████████████▊                          | 111919/174414 [1:50:28<48:16, 21.57it/s]"
     ]
    },
    {
     "name": "stdout",
     "output_type": "stream",
     "text": [
      "found publication of FKZ 01FP1605\n"
     ]
    },
    {
     "name": "stderr",
     "output_type": "stream",
     "text": [
      " 64%|██████████████████████████████████████████████▉                          | 112290/174414 [1:50:46<47:41, 21.71it/s]"
     ]
    },
    {
     "name": "stdout",
     "output_type": "stream",
     "text": [
      "found publication of FKZ 02L15A070\n"
     ]
    },
    {
     "name": "stderr",
     "output_type": "stream",
     "text": [
      " 64%|███████████████████████████████████████████████                          | 112353/174414 [1:50:49<47:57, 21.57it/s]"
     ]
    },
    {
     "name": "stdout",
     "output_type": "stream",
     "text": [
      "found publication of FKZ 13N14205\n"
     ]
    },
    {
     "name": "stderr",
     "output_type": "stream",
     "text": [
      " 64%|███████████████████████████████████████████████                          | 112423/174414 [1:50:53<47:38, 21.69it/s]"
     ]
    },
    {
     "name": "stdout",
     "output_type": "stream",
     "text": [
      "found publication of FKZ 13GW0169A\n"
     ]
    },
    {
     "name": "stderr",
     "output_type": "stream",
     "text": [
      " 65%|███████████████████████████████████████████████                          | 112591/174414 [1:51:01<45:06, 22.84it/s]"
     ]
    },
    {
     "name": "stdout",
     "output_type": "stream",
     "text": [
      "found publication of FKZ 01LK1601B\n"
     ]
    },
    {
     "name": "stderr",
     "output_type": "stream",
     "text": [
      " 65%|███████████████████████████████████████████████▏                         | 112753/174414 [1:51:09<50:56, 20.17it/s]"
     ]
    },
    {
     "name": "stdout",
     "output_type": "stream",
     "text": [
      "found publication of FKZ 13FH008SA6\n"
     ]
    },
    {
     "name": "stderr",
     "output_type": "stream",
     "text": [
      " 65%|███████████████████████████████████████████████▏                         | 112765/174414 [1:51:09<48:58, 20.98it/s]"
     ]
    },
    {
     "name": "stdout",
     "output_type": "stream",
     "text": [
      "found publication of FKZ 01FP1632\n"
     ]
    },
    {
     "name": "stderr",
     "output_type": "stream",
     "text": [
      " 65%|███████████████████████████████████████████████▏                         | 112795/174414 [1:51:11<49:12, 20.87it/s]"
     ]
    },
    {
     "name": "stdout",
     "output_type": "stream",
     "text": [
      "found publication of FKZ 01FP1631\n"
     ]
    },
    {
     "name": "stderr",
     "output_type": "stream",
     "text": [
      " 65%|███████████████████████████████████████████████▎                         | 112900/174414 [1:51:16<48:42, 21.05it/s]"
     ]
    },
    {
     "name": "stdout",
     "output_type": "stream",
     "text": [
      "found publication of FKZ 01FP1633\n"
     ]
    },
    {
     "name": "stderr",
     "output_type": "stream",
     "text": [
      " 65%|███████████████████████████████████████████████▎                         | 113031/174414 [1:51:22<49:13, 20.78it/s]"
     ]
    },
    {
     "name": "stdout",
     "output_type": "stream",
     "text": [
      "found publication of FKZ 02P15A042\n"
     ]
    },
    {
     "name": "stderr",
     "output_type": "stream",
     "text": [
      " 65%|███████████████████████████████████████████████▍                         | 113288/174414 [1:51:35<47:48, 21.31it/s]"
     ]
    },
    {
     "name": "stdout",
     "output_type": "stream",
     "text": [
      "found publication of FKZ 16SV7698\n"
     ]
    },
    {
     "name": "stderr",
     "output_type": "stream",
     "text": [
      " 65%|███████████████████████████████████████████████▋                         | 114044/174414 [1:52:12<47:38, 21.12it/s]"
     ]
    },
    {
     "name": "stdout",
     "output_type": "stream",
     "text": [
      "found publication of FKZ 02L15A270\n"
     ]
    },
    {
     "name": "stderr",
     "output_type": "stream",
     "text": [
      " 66%|███████████████████████████████████████████████▉                         | 114450/174414 [1:52:31<45:44, 21.85it/s]"
     ]
    },
    {
     "name": "stdout",
     "output_type": "stream",
     "text": [
      "found publication of FKZ 01LS1611A\n"
     ]
    },
    {
     "name": "stderr",
     "output_type": "stream",
     "text": [
      " 66%|████████████████████████████████████████████████                         | 114780/174414 [1:52:47<46:41, 21.29it/s]"
     ]
    },
    {
     "name": "stdout",
     "output_type": "stream",
     "text": [
      "found publication of FKZ 01IS16034A\n"
     ]
    },
    {
     "name": "stderr",
     "output_type": "stream",
     "text": [
      " 66%|████████████████████████████████████████████████                         | 114805/174414 [1:52:49<45:14, 21.96it/s]"
     ]
    },
    {
     "name": "stdout",
     "output_type": "stream",
     "text": [
      "found publication of FKZ 01LK1603A\n"
     ]
    },
    {
     "name": "stderr",
     "output_type": "stream",
     "text": [
      " 66%|████████████████████████████████████████████████                         | 114829/174414 [1:52:50<45:59, 21.59it/s]"
     ]
    },
    {
     "name": "stdout",
     "output_type": "stream",
     "text": [
      "found publication of FKZ 01EK1604A\n"
     ]
    },
    {
     "name": "stderr",
     "output_type": "stream",
     "text": [
      " 66%|████████████████████████████████████████████████                         | 114922/174414 [1:52:54<44:16, 22.40it/s]"
     ]
    },
    {
     "name": "stdout",
     "output_type": "stream",
     "text": [
      "found publication of FKZ 02P15B115\n"
     ]
    },
    {
     "name": "stderr",
     "output_type": "stream",
     "text": [
      " 66%|████████████████████████████████████████████████▏                        | 115204/174414 [1:53:08<44:42, 22.07it/s]"
     ]
    },
    {
     "name": "stdout",
     "output_type": "stream",
     "text": [
      "found publication of FKZ 16SV7725\n"
     ]
    },
    {
     "name": "stderr",
     "output_type": "stream",
     "text": [
      " 66%|████████████████████████████████████████████████▏                        | 115257/174414 [1:53:10<44:18, 22.25it/s]"
     ]
    },
    {
     "name": "stdout",
     "output_type": "stream",
     "text": [
      "found publication of FKZ 02WGR1426A\n"
     ]
    },
    {
     "name": "stderr",
     "output_type": "stream",
     "text": [
      " 66%|████████████████████████████████████████████████▍                        | 115700/174414 [1:53:32<45:58, 21.29it/s]"
     ]
    },
    {
     "name": "stdout",
     "output_type": "stream",
     "text": [
      "found publication of FKZ 03F0775A\n"
     ]
    },
    {
     "name": "stderr",
     "output_type": "stream",
     "text": [
      " 67%|████████████████████████████████████████████████▌                        | 115992/174414 [1:53:46<37:46, 25.78it/s]"
     ]
    },
    {
     "name": "stdout",
     "output_type": "stream",
     "text": [
      "found publication of FKZ 03VP03201\n",
      "found publication of FKZ 03VP03202\n",
      "found publication of FKZ 03VP03203\n"
     ]
    },
    {
     "name": "stderr",
     "output_type": "stream",
     "text": [
      " 67%|████████████████████████████████████████████████▌                        | 116090/174414 [1:53:51<45:35, 21.32it/s]"
     ]
    },
    {
     "name": "stdout",
     "output_type": "stream",
     "text": [
      "found publication of FKZ 16FMD02\n"
     ]
    },
    {
     "name": "stderr",
     "output_type": "stream",
     "text": [
      " 67%|████████████████████████████████████████████████▌                        | 116152/174414 [1:53:54<44:50, 21.66it/s]"
     ]
    },
    {
     "name": "stdout",
     "output_type": "stream",
     "text": [
      "found publication of FKZ 16FDM005\n"
     ]
    },
    {
     "name": "stderr",
     "output_type": "stream",
     "text": [
      " 67%|████████████████████████████████████████████████▊                        | 116590/174414 [1:54:17<45:29, 21.18it/s]"
     ]
    },
    {
     "name": "stdout",
     "output_type": "stream",
     "text": [
      "found publication of FKZ 01DS17019\n",
      "found publication of FKZ 03F0786A\n"
     ]
    },
    {
     "name": "stderr",
     "output_type": "stream",
     "text": [
      " 67%|████████████████████████████████████████████████▉                        | 116853/174414 [1:54:30<45:25, 21.12it/s]"
     ]
    },
    {
     "name": "stdout",
     "output_type": "stream",
     "text": [
      "found publication of FKZ 01DR17011A\n"
     ]
    },
    {
     "name": "stderr",
     "output_type": "stream",
     "text": [
      " 67%|████████████████████████████████████████████████▉                        | 116893/174414 [1:54:32<45:56, 20.87it/s]"
     ]
    },
    {
     "name": "stdout",
     "output_type": "stream",
     "text": [
      "found publication of FKZ 13N14351\n"
     ]
    },
    {
     "name": "stderr",
     "output_type": "stream",
     "text": [
      " 67%|█████████████████████████████████████████████████                        | 117115/174414 [1:54:43<41:41, 22.91it/s]"
     ]
    },
    {
     "name": "stdout",
     "output_type": "stream",
     "text": [
      "found publication of FKZ 13N14390\n",
      "found publication of FKZ 13N14389\n"
     ]
    },
    {
     "name": "stderr",
     "output_type": "stream",
     "text": [
      " 67%|█████████████████████████████████████████████████                        | 117348/174414 [1:54:54<53:21, 17.83it/s]"
     ]
    },
    {
     "name": "stdout",
     "output_type": "stream",
     "text": [
      "found publication of FKZ 03VNE1049B\n"
     ]
    },
    {
     "name": "stderr",
     "output_type": "stream",
     "text": [
      " 67%|█████████████████████████████████████████████████▏                       | 117410/174414 [1:54:57<44:59, 21.11it/s]"
     ]
    },
    {
     "name": "stdout",
     "output_type": "stream",
     "text": [
      "found publication of FKZ 031B0341A\n"
     ]
    },
    {
     "name": "stderr",
     "output_type": "stream",
     "text": [
      " 67%|█████████████████████████████████████████████████▏                       | 117667/174414 [1:55:10<45:42, 20.69it/s]"
     ]
    },
    {
     "name": "stdout",
     "output_type": "stream",
     "text": [
      "found publication of FKZ 16SV7861K\n"
     ]
    },
    {
     "name": "stderr",
     "output_type": "stream",
     "text": [
      " 68%|█████████████████████████████████████████████████▎                       | 117926/174414 [1:55:23<43:18, 21.74it/s]"
     ]
    },
    {
     "name": "stdout",
     "output_type": "stream",
     "text": [
      "found publication of FKZ 01MI1711\n",
      "found publication of FKZ 13N14421\n"
     ]
    },
    {
     "name": "stderr",
     "output_type": "stream",
     "text": [
      " 68%|█████████████████████████████████████████████████▍                       | 118138/174414 [1:55:34<45:36, 20.56it/s]"
     ]
    },
    {
     "name": "stdout",
     "output_type": "stream",
     "text": [
      "found publication of FKZ 033RK052C\n"
     ]
    },
    {
     "name": "stderr",
     "output_type": "stream",
     "text": [
      " 68%|█████████████████████████████████████████████████▉                       | 119340/174414 [1:56:33<41:52, 21.92it/s]"
     ]
    },
    {
     "name": "stdout",
     "output_type": "stream",
     "text": [
      "found publication of FKZ 13N14777\n"
     ]
    },
    {
     "name": "stderr",
     "output_type": "stream",
     "text": [
      " 68%|█████████████████████████████████████████████████▉                       | 119380/174414 [1:56:35<39:34, 23.18it/s]"
     ]
    },
    {
     "name": "stdout",
     "output_type": "stream",
     "text": [
      "found publication of FKZ 13XP5063\n"
     ]
    },
    {
     "name": "stderr",
     "output_type": "stream",
     "text": [
      " 68%|██████████████████████████████████████████████████                       | 119470/174414 [1:56:39<42:18, 21.64it/s]"
     ]
    },
    {
     "name": "stdout",
     "output_type": "stream",
     "text": [
      "found publication of FKZ 03F0812F\n"
     ]
    },
    {
     "name": "stderr",
     "output_type": "stream",
     "text": [
      " 69%|██████████████████████████████████████████████████                       | 119638/174414 [1:56:47<41:48, 21.84it/s]"
     ]
    },
    {
     "name": "stdout",
     "output_type": "stream",
     "text": [
      "found publication of FKZ 031B0511A\n"
     ]
    },
    {
     "name": "stderr",
     "output_type": "stream",
     "text": [
      " 69%|██████████████████████████████████████████████████                       | 119669/174414 [1:56:49<40:56, 22.28it/s]"
     ]
    },
    {
     "name": "stdout",
     "output_type": "stream",
     "text": [
      "found publication of FKZ 031B0511B\n"
     ]
    },
    {
     "name": "stderr",
     "output_type": "stream",
     "text": [
      " 69%|██████████████████████████████████████████████████▍                      | 120369/174414 [1:57:22<42:28, 21.21it/s]"
     ]
    },
    {
     "name": "stdout",
     "output_type": "stream",
     "text": [
      "found publication of FKZ 16DHB2112\n"
     ]
    },
    {
     "name": "stderr",
     "output_type": "stream",
     "text": [
      " 69%|██████████████████████████████████████████████████▍                      | 120426/174414 [1:57:25<42:58, 20.94it/s]"
     ]
    },
    {
     "name": "stdout",
     "output_type": "stream",
     "text": [
      "found publication of FKZ 13N14863\n"
     ]
    },
    {
     "name": "stderr",
     "output_type": "stream",
     "text": [
      " 69%|██████████████████████████████████████████████████▍                      | 120532/174414 [1:57:30<42:21, 21.20it/s]"
     ]
    },
    {
     "name": "stdout",
     "output_type": "stream",
     "text": [
      "found publication of FKZ 13N14852\n"
     ]
    },
    {
     "name": "stderr",
     "output_type": "stream",
     "text": [
      " 69%|██████████████████████████████████████████████████▍                      | 120590/174414 [1:57:33<41:51, 21.43it/s]"
     ]
    },
    {
     "name": "stdout",
     "output_type": "stream",
     "text": [
      "found publication of FKZ 033RK062B\n"
     ]
    },
    {
     "name": "stderr",
     "output_type": "stream",
     "text": [
      " 69%|██████████████████████████████████████████████████▌                      | 120939/174414 [1:57:50<42:14, 21.10it/s]"
     ]
    },
    {
     "name": "stdout",
     "output_type": "stream",
     "text": [
      "found publication of FKZ 13N14876\n"
     ]
    },
    {
     "name": "stderr",
     "output_type": "stream",
     "text": [
      " 69%|██████████████████████████████████████████████████▋                      | 121206/174414 [1:58:03<41:02, 21.61it/s]"
     ]
    },
    {
     "name": "stdout",
     "output_type": "stream",
     "text": [
      "found publication of FKZ 02P17E010\n"
     ]
    },
    {
     "name": "stderr",
     "output_type": "stream",
     "text": [
      " 70%|██████████████████████████████████████████████████▊                      | 121401/174414 [1:58:13<44:24, 19.90it/s]"
     ]
    },
    {
     "name": "stdout",
     "output_type": "stream",
     "text": [
      "found publication of FKZ 01LE1804B\n"
     ]
    },
    {
     "name": "stderr",
     "output_type": "stream",
     "text": [
      " 70%|██████████████████████████████████████████████████▉                      | 121777/174414 [1:58:31<41:39, 21.06it/s]"
     ]
    },
    {
     "name": "stdout",
     "output_type": "stream",
     "text": [
      "found publication of FKZ 15S9408\n"
     ]
    },
    {
     "name": "stderr",
     "output_type": "stream",
     "text": [
      " 70%|███████████████████████████████████████████████████                      | 121935/174414 [1:58:39<40:48, 21.43it/s]"
     ]
    },
    {
     "name": "stdout",
     "output_type": "stream",
     "text": [
      "found publication of FKZ 02K17A040\n"
     ]
    },
    {
     "name": "stderr",
     "output_type": "stream",
     "text": [
      " 70%|███████████████████████████████████████████████████                      | 121947/174414 [1:58:39<41:34, 21.03it/s]"
     ]
    },
    {
     "name": "stdout",
     "output_type": "stream",
     "text": [
      "found publication of FKZ 02K17A042\n"
     ]
    },
    {
     "name": "stderr",
     "output_type": "stream",
     "text": [
      " 70%|███████████████████████████████████████████████████▎                     | 122674/174414 [1:59:17<41:33, 20.75it/s]"
     ]
    },
    {
     "name": "stdout",
     "output_type": "stream",
     "text": [
      "found publication of FKZ 01LG1805A\n"
     ]
    },
    {
     "name": "stderr",
     "output_type": "stream",
     "text": [
      " 70%|███████████████████████████████████████████████████▎                     | 122704/174414 [1:59:18<42:04, 20.48it/s]"
     ]
    },
    {
     "name": "stdout",
     "output_type": "stream",
     "text": [
      "found publication of FKZ 13XP5083\n"
     ]
    },
    {
     "name": "stderr",
     "output_type": "stream",
     "text": [
      " 70%|███████████████████████████████████████████████████▍                     | 122926/174414 [1:59:30<45:11, 18.99it/s]"
     ]
    },
    {
     "name": "stdout",
     "output_type": "stream",
     "text": [
      "found publication of FKZ 03XP0204A\n"
     ]
    },
    {
     "name": "stderr",
     "output_type": "stream",
     "text": [
      " 71%|███████████████████████████████████████████████████▍                     | 122999/174414 [1:59:34<41:24, 20.70it/s]"
     ]
    },
    {
     "name": "stdout",
     "output_type": "stream",
     "text": [
      "found publication of FKZ 16SV8167\n"
     ]
    },
    {
     "name": "stderr",
     "output_type": "stream",
     "text": [
      " 71%|███████████████████████████████████████████████████▌                     | 123119/174414 [1:59:40<40:52, 20.91it/s]"
     ]
    },
    {
     "name": "stdout",
     "output_type": "stream",
     "text": [
      "found publication of FKZ 031L0166\n"
     ]
    },
    {
     "name": "stderr",
     "output_type": "stream",
     "text": [
      " 71%|███████████████████████████████████████████████████▋                     | 123381/174414 [1:59:52<39:35, 21.48it/s]"
     ]
    },
    {
     "name": "stdout",
     "output_type": "stream",
     "text": [
      "found publication of FKZ 16ES0914\n"
     ]
    },
    {
     "name": "stderr",
     "output_type": "stream",
     "text": [
      " 71%|███████████████████████████████████████████████████▊                     | 123753/174414 [2:00:10<38:09, 22.13it/s]"
     ]
    },
    {
     "name": "stdout",
     "output_type": "stream",
     "text": [
      "found publication of FKZ 13XP5087D\n"
     ]
    },
    {
     "name": "stderr",
     "output_type": "stream",
     "text": [
      " 71%|███████████████████████████████████████████████████▊                     | 123765/174414 [2:00:11<38:27, 21.95it/s]"
     ]
    },
    {
     "name": "stdout",
     "output_type": "stream",
     "text": [
      "found publication of FKZ 16ES0956\n"
     ]
    },
    {
     "name": "stderr",
     "output_type": "stream",
     "text": [
      " 71%|███████████████████████████████████████████████████▉                     | 124141/174414 [2:00:29<38:43, 21.64it/s]"
     ]
    },
    {
     "name": "stdout",
     "output_type": "stream",
     "text": [
      "found publication of FKZ 05K19WEB\n"
     ]
    },
    {
     "name": "stderr",
     "output_type": "stream",
     "text": [
      " 71%|███████████████████████████████████████████████████▉                     | 124174/174414 [2:00:30<39:35, 21.15it/s]"
     ]
    },
    {
     "name": "stdout",
     "output_type": "stream",
     "text": [
      "found publication of FKZ 05K19OL1\n"
     ]
    },
    {
     "name": "stderr",
     "output_type": "stream",
     "text": [
      " 71%|███████████████████████████████████████████████████▉                     | 124198/174414 [2:00:32<40:23, 20.72it/s]"
     ]
    },
    {
     "name": "stdout",
     "output_type": "stream",
     "text": [
      "found publication of FKZ 01LZ1804A\n"
     ]
    },
    {
     "name": "stderr",
     "output_type": "stream",
     "text": [
      " 71%|████████████████████████████████████████████████████                     | 124251/174414 [2:00:34<38:39, 21.62it/s]"
     ]
    },
    {
     "name": "stdout",
     "output_type": "stream",
     "text": [
      "found publication of FKZ 02L17C500\n"
     ]
    },
    {
     "name": "stderr",
     "output_type": "stream",
     "text": [
      " 71%|████████████████████████████████████████████████████                     | 124336/174414 [2:00:38<37:42, 22.13it/s]"
     ]
    },
    {
     "name": "stdout",
     "output_type": "stream",
     "text": [
      "found publication of FKZ 05K19RDE\n"
     ]
    },
    {
     "name": "stderr",
     "output_type": "stream",
     "text": [
      " 72%|████████████████████████████████████████████████████▏                    | 124810/174414 [2:01:01<38:37, 21.40it/s]"
     ]
    },
    {
     "name": "stdout",
     "output_type": "stream",
     "text": [
      "found publication of FKZ 16IFI112\n"
     ]
    },
    {
     "name": "stderr",
     "output_type": "stream",
     "text": [
      " 72%|████████████████████████████████████████████████████▍                    | 125294/174414 [2:01:25<36:26, 22.46it/s]"
     ]
    },
    {
     "name": "stdout",
     "output_type": "stream",
     "text": [
      "found publication of FKZ 03VP05962\n"
     ]
    },
    {
     "name": "stderr",
     "output_type": "stream",
     "text": [
      " 72%|████████████████████████████████████████████████████▌                    | 125600/174414 [2:01:39<38:25, 21.18it/s]"
     ]
    },
    {
     "name": "stdout",
     "output_type": "stream",
     "text": [
      "found publication of FKZ 16ES1053\n"
     ]
    },
    {
     "name": "stderr",
     "output_type": "stream",
     "text": [
      " 72%|████████████████████████████████████████████████████▋                    | 125751/174414 [2:01:47<37:24, 21.68it/s]"
     ]
    },
    {
     "name": "stdout",
     "output_type": "stream",
     "text": [
      "found publication of FKZ 16ES1104K\n"
     ]
    },
    {
     "name": "stderr",
     "output_type": "stream",
     "text": [
      " 72%|████████████████████████████████████████████████████▊                    | 126257/174414 [2:02:12<36:57, 21.72it/s]"
     ]
    },
    {
     "name": "stdout",
     "output_type": "stream",
     "text": [
      "found publication of FKZ 13GW0343D\n"
     ]
    },
    {
     "name": "stderr",
     "output_type": "stream",
     "text": [
      " 72%|████████████████████████████████████████████████████▉                    | 126343/174414 [2:02:16<39:19, 20.37it/s]"
     ]
    },
    {
     "name": "stdout",
     "output_type": "stream",
     "text": [
      "found publication of FKZ 13GW0356B\n"
     ]
    },
    {
     "name": "stderr",
     "output_type": "stream",
     "text": [
      " 73%|█████████████████████████████████████████████████████                    | 126688/174414 [2:02:33<37:08, 21.41it/s]"
     ]
    },
    {
     "name": "stdout",
     "output_type": "stream",
     "text": [
      "found publication of FKZ 13N15206\n"
     ]
    },
    {
     "name": "stderr",
     "output_type": "stream",
     "text": [
      " 74%|█████████████████████████████████████████████████████▊                   | 128717/174414 [2:04:15<41:13, 18.48it/s]"
     ]
    },
    {
     "name": "stdout",
     "output_type": "stream",
     "text": [
      "found publication of FKZ 13N8968\n"
     ]
    },
    {
     "name": "stderr",
     "output_type": "stream",
     "text": [
      " 75%|██████████████████████████████████████████████████████▌                  | 130375/174414 [2:05:44<37:45, 19.44it/s]"
     ]
    },
    {
     "name": "stdout",
     "output_type": "stream",
     "text": [
      "found publication of FKZ 01GV0606\n"
     ]
    },
    {
     "name": "stderr",
     "output_type": "stream",
     "text": [
      " 75%|██████████████████████████████████████████████████████▋                  | 130626/174414 [2:05:57<38:45, 18.83it/s]"
     ]
    },
    {
     "name": "stdout",
     "output_type": "stream",
     "text": [
      "found publication of FKZ 03IP610\n"
     ]
    },
    {
     "name": "stderr",
     "output_type": "stream",
     "text": [
      " 75%|███████████████████████████████████████████████████████                  | 131610/174414 [2:06:51<37:44, 18.90it/s]"
     ]
    },
    {
     "name": "stdout",
     "output_type": "stream",
     "text": [
      "found publication of FKZ 01KG0605\n"
     ]
    },
    {
     "name": "stderr",
     "output_type": "stream",
     "text": [
      " 77%|████████████████████████████████████████████████████████▏                | 134140/174414 [2:09:06<33:55, 19.79it/s]"
     ]
    },
    {
     "name": "stdout",
     "output_type": "stream",
     "text": [
      "found publication of FKZ MENTOR\n"
     ]
    },
    {
     "name": "stderr",
     "output_type": "stream",
     "text": [
      " 77%|████████████████████████████████████████████████████████▏                | 134210/174414 [2:09:10<35:30, 18.87it/s]"
     ]
    },
    {
     "name": "stdout",
     "output_type": "stream",
     "text": [
      "found publication of FKZ 03F0632A\n"
     ]
    },
    {
     "name": "stderr",
     "output_type": "stream",
     "text": [
      " 77%|████████████████████████████████████████████████████████▎                | 134624/174414 [2:09:31<33:52, 19.58it/s]"
     ]
    },
    {
     "name": "stdout",
     "output_type": "stream",
     "text": [
      "found publication of FKZ 0312138A\n"
     ]
    },
    {
     "name": "stderr",
     "output_type": "stream",
     "text": [
      " 77%|████████████████████████████████████████████████████████▎                | 134677/174414 [2:09:34<34:11, 19.37it/s]"
     ]
    },
    {
     "name": "stdout",
     "output_type": "stream",
     "text": [
      "found publication of FKZ 16SV3682\n"
     ]
    },
    {
     "name": "stderr",
     "output_type": "stream",
     "text": [
      " 78%|████████████████████████████████████████████████████████▉                | 136159/174414 [2:10:54<33:28, 19.05it/s]"
     ]
    },
    {
     "name": "stdout",
     "output_type": "stream",
     "text": [
      "found publication of FKZ 13N9685\n"
     ]
    },
    {
     "name": "stderr",
     "output_type": "stream",
     "text": [
      " 78%|█████████████████████████████████████████████████████████▎               | 136830/174414 [2:11:29<31:05, 20.15it/s]"
     ]
    },
    {
     "name": "stdout",
     "output_type": "stream",
     "text": [
      "found publication of FKZ 13N13818\n"
     ]
    },
    {
     "name": "stderr",
     "output_type": "stream",
     "text": [
      " 79%|█████████████████████████████████████████████████████████▎               | 137039/174414 [2:11:39<29:55, 20.81it/s]"
     ]
    },
    {
     "name": "stdout",
     "output_type": "stream",
     "text": [
      "found publication of FKZ 031B0071C\n"
     ]
    },
    {
     "name": "stderr",
     "output_type": "stream",
     "text": [
      " 79%|█████████████████████████████████████████████████████████▍               | 137287/174414 [2:11:51<30:04, 20.57it/s]"
     ]
    },
    {
     "name": "stdout",
     "output_type": "stream",
     "text": [
      "found publication of FKZ 13FH008SA5\n"
     ]
    },
    {
     "name": "stderr",
     "output_type": "stream",
     "text": [
      " 79%|█████████████████████████████████████████████████████████▍               | 137352/174414 [2:11:55<31:19, 19.72it/s]"
     ]
    },
    {
     "name": "stdout",
     "output_type": "stream",
     "text": [
      "found publication of FKZ 031L0029A\n"
     ]
    },
    {
     "name": "stderr",
     "output_type": "stream",
     "text": [
      " 79%|█████████████████████████████████████████████████████████▌               | 137543/174414 [2:12:04<29:40, 20.71it/s]"
     ]
    },
    {
     "name": "stdout",
     "output_type": "stream",
     "text": [
      "found publication of FKZ 13N13846\n"
     ]
    },
    {
     "name": "stderr",
     "output_type": "stream",
     "text": [
      " 79%|█████████████████████████████████████████████████████████▋               | 137802/174414 [2:12:17<28:21, 21.52it/s]"
     ]
    },
    {
     "name": "stdout",
     "output_type": "stream",
     "text": [
      "found publication of FKZ 031L0062B\n"
     ]
    },
    {
     "name": "stderr",
     "output_type": "stream",
     "text": [
      " 79%|█████████████████████████████████████████████████████████▊               | 138239/174414 [2:12:39<27:57, 21.57it/s]"
     ]
    },
    {
     "name": "stdout",
     "output_type": "stream",
     "text": [
      "found publication of FKZ 01LC1501A\n"
     ]
    },
    {
     "name": "stderr",
     "output_type": "stream",
     "text": [
      " 79%|█████████████████████████████████████████████████████████▉               | 138359/174414 [2:12:44<27:33, 21.81it/s]"
     ]
    },
    {
     "name": "stdout",
     "output_type": "stream",
     "text": [
      "found publication of FKZ 15S9276A\n"
     ]
    },
    {
     "name": "stderr",
     "output_type": "stream",
     "text": [
      " 79%|█████████████████████████████████████████████████████████▉               | 138413/174414 [2:12:47<28:01, 21.41it/s]"
     ]
    },
    {
     "name": "stdout",
     "output_type": "stream",
     "text": [
      "found publication of FKZ 031L0021A\n"
     ]
    },
    {
     "name": "stderr",
     "output_type": "stream",
     "text": [
      " 79%|█████████████████████████████████████████████████████████▉               | 138518/174414 [2:12:52<30:36, 19.54it/s]"
     ]
    },
    {
     "name": "stdout",
     "output_type": "stream",
     "text": [
      "found publication of FKZ 16SV7482\n",
      "found publication of FKZ PEB\n"
     ]
    },
    {
     "name": "stderr",
     "output_type": "stream",
     "text": [
      " 80%|██████████████████████████████████████████████████████████               | 138677/174414 [2:13:00<27:50, 21.39it/s]"
     ]
    },
    {
     "name": "stdout",
     "output_type": "stream",
     "text": [
      "found publication of FKZ 13N13865\n"
     ]
    },
    {
     "name": "stderr",
     "output_type": "stream",
     "text": [
      " 80%|██████████████████████████████████████████████████████████               | 138734/174414 [2:13:02<26:43, 22.26it/s]"
     ]
    },
    {
     "name": "stdout",
     "output_type": "stream",
     "text": [
      "found publication of FKZ 13N13960\n"
     ]
    },
    {
     "name": "stderr",
     "output_type": "stream",
     "text": [
      " 80%|██████████████████████████████████████████████████████████▏              | 139071/174414 [2:13:19<27:27, 21.45it/s]"
     ]
    },
    {
     "name": "stdout",
     "output_type": "stream",
     "text": [
      "found publication of FKZ 05K16ME1\n"
     ]
    },
    {
     "name": "stderr",
     "output_type": "stream",
     "text": [
      " 80%|██████████████████████████████████████████████████████████▏              | 139122/174414 [2:13:21<27:41, 21.25it/s]"
     ]
    },
    {
     "name": "stdout",
     "output_type": "stream",
     "text": [
      "found publication of FKZ 05K16BH1\n"
     ]
    },
    {
     "name": "stderr",
     "output_type": "stream",
     "text": [
      " 80%|██████████████████████████████████████████████████████████▎              | 139259/174414 [2:13:28<28:18, 20.69it/s]"
     ]
    },
    {
     "name": "stdout",
     "output_type": "stream",
     "text": [
      "found publication of FKZ 05K16HG1\n"
     ]
    },
    {
     "name": "stderr",
     "output_type": "stream",
     "text": [
      " 80%|██████████████████████████████████████████████████████████▎              | 139379/174414 [2:13:34<27:09, 21.50it/s]"
     ]
    },
    {
     "name": "stdout",
     "output_type": "stream",
     "text": [
      "found publication of FKZ 031L0045\n"
     ]
    },
    {
     "name": "stderr",
     "output_type": "stream",
     "text": [
      " 80%|██████████████████████████████████████████████████████████▋              | 140158/174414 [2:14:12<28:07, 20.30it/s]"
     ]
    },
    {
     "name": "stdout",
     "output_type": "stream",
     "text": [
      "found publication of FKZ 16ES0502\n"
     ]
    },
    {
     "name": "stderr",
     "output_type": "stream",
     "text": [
      " 80%|██████████████████████████████████████████████████████████▋              | 140194/174414 [2:14:14<26:40, 21.38it/s]"
     ]
    },
    {
     "name": "stdout",
     "output_type": "stream",
     "text": [
      "found publication of FKZ 01LK1502I\n"
     ]
    },
    {
     "name": "stderr",
     "output_type": "stream",
     "text": [
      " 80%|██████████████████████████████████████████████████████████▋              | 140230/174414 [2:14:16<26:38, 21.38it/s]"
     ]
    },
    {
     "name": "stdout",
     "output_type": "stream",
     "text": [
      "found publication of FKZ 01LK1503F\n"
     ]
    },
    {
     "name": "stderr",
     "output_type": "stream",
     "text": [
      " 81%|██████████████████████████████████████████████████████████▊              | 140625/174414 [2:14:35<27:02, 20.82it/s]"
     ]
    },
    {
     "name": "stdout",
     "output_type": "stream",
     "text": [
      "found publication of FKZ 03VP01052\n"
     ]
    },
    {
     "name": "stderr",
     "output_type": "stream",
     "text": [
      " 81%|██████████████████████████████████████████████████████████▉              | 140854/174414 [2:14:46<26:04, 21.46it/s]"
     ]
    },
    {
     "name": "stdout",
     "output_type": "stream",
     "text": [
      "found publication of FKZ 031L0095B\n"
     ]
    },
    {
     "name": "stderr",
     "output_type": "stream",
     "text": [
      " 81%|███████████████████████████████████████████████████████████              | 141021/174414 [2:14:54<25:47, 21.57it/s]"
     ]
    },
    {
     "name": "stdout",
     "output_type": "stream",
     "text": [
      "found publication of FKZ 02WIL1386\n"
     ]
    },
    {
     "name": "stderr",
     "output_type": "stream",
     "text": [
      " 81%|███████████████████████████████████████████████████████████▏             | 141493/174414 [2:15:18<26:09, 20.98it/s]"
     ]
    },
    {
     "name": "stdout",
     "output_type": "stream",
     "text": [
      "found publication of FKZ 03Z22EN11\n"
     ]
    },
    {
     "name": "stderr",
     "output_type": "stream",
     "text": [
      " 82%|███████████████████████████████████████████████████████████▊             | 142966/174414 [2:16:32<25:30, 20.55it/s]"
     ]
    },
    {
     "name": "stdout",
     "output_type": "stream",
     "text": [
      "found publication of FKZ 0315400A\n"
     ]
    },
    {
     "name": "stderr",
     "output_type": "stream",
     "text": [
      " 82%|███████████████████████████████████████████████████████████▉             | 143056/174414 [2:16:37<25:26, 20.54it/s]"
     ]
    },
    {
     "name": "stdout",
     "output_type": "stream",
     "text": [
      "found publication of FKZ 01ER0801\n"
     ]
    },
    {
     "name": "stderr",
     "output_type": "stream",
     "text": [
      " 82%|████████████████████████████████████████████████████████████▏            | 143863/174414 [2:17:20<24:31, 20.76it/s]"
     ]
    },
    {
     "name": "stdout",
     "output_type": "stream",
     "text": [
      "found publication of FKZ 03SF0355C\n"
     ]
    },
    {
     "name": "stderr",
     "output_type": "stream",
     "text": [
      " 83%|████████████████████████████████████████████████████████████▋            | 145052/174414 [2:18:19<23:09, 21.13it/s]"
     ]
    },
    {
     "name": "stdout",
     "output_type": "stream",
     "text": [
      "found publication of FKZ 01IS09020D\n"
     ]
    },
    {
     "name": "stderr",
     "output_type": "stream",
     "text": [
      " 83%|████████████████████████████████████████████████████████████▉            | 145474/174414 [2:18:40<22:56, 21.03it/s]"
     ]
    },
    {
     "name": "stdout",
     "output_type": "stream",
     "text": [
      "found publication of FKZ 13N10661\n"
     ]
    },
    {
     "name": "stderr",
     "output_type": "stream",
     "text": [
      " 83%|████████████████████████████████████████████████████████████▉            | 145492/174414 [2:18:41<22:40, 21.26it/s]"
     ]
    },
    {
     "name": "stdout",
     "output_type": "stream",
     "text": [
      "found publication of FKZ 13N10660\n"
     ]
    },
    {
     "name": "stderr",
     "output_type": "stream",
     "text": [
      " 84%|████████████████████████████████████████████████████████████▉            | 145689/174414 [2:18:51<23:12, 20.62it/s]"
     ]
    },
    {
     "name": "stdout",
     "output_type": "stream",
     "text": [
      "found publication of FKZ 03IS2201F\n"
     ]
    },
    {
     "name": "stderr",
     "output_type": "stream",
     "text": [
      " 84%|█████████████████████████████████████████████████████████████            | 145929/174414 [2:19:04<22:32, 21.07it/s]"
     ]
    },
    {
     "name": "stdout",
     "output_type": "stream",
     "text": [
      "found publication of FKZ 033L003A\n"
     ]
    },
    {
     "name": "stderr",
     "output_type": "stream",
     "text": [
      " 84%|█████████████████████████████████████████████████████████████▏           | 146143/174414 [2:19:15<28:18, 16.65it/s]"
     ]
    },
    {
     "name": "stdout",
     "output_type": "stream",
     "text": [
      "found publication of FKZ 0315742\n"
     ]
    },
    {
     "name": "stderr",
     "output_type": "stream",
     "text": [
      " 84%|█████████████████████████████████████████████████████████████▎           | 146386/174414 [2:19:27<22:45, 20.53it/s]"
     ]
    },
    {
     "name": "stdout",
     "output_type": "stream",
     "text": [
      "found publication of FKZ 033L038A\n"
     ]
    },
    {
     "name": "stderr",
     "output_type": "stream",
     "text": [
      " 84%|█████████████████████████████████████████████████████████████▍           | 146805/174414 [2:19:49<23:14, 19.80it/s]"
     ]
    },
    {
     "name": "stdout",
     "output_type": "stream",
     "text": [
      "found publication of FKZ 01QE1002D\n"
     ]
    },
    {
     "name": "stderr",
     "output_type": "stream",
     "text": [
      " 85%|█████████████████████████████████████████████████████████████▋           | 147505/174414 [2:20:23<21:12, 21.15it/s]"
     ]
    },
    {
     "name": "stdout",
     "output_type": "stream",
     "text": [
      "found publication of FKZ 01EO1003\n"
     ]
    },
    {
     "name": "stderr",
     "output_type": "stream",
     "text": [
      " 85%|█████████████████████████████████████████████████████████████▊           | 147706/174414 [2:20:33<21:22, 20.83it/s]"
     ]
    },
    {
     "name": "stdout",
     "output_type": "stream",
     "text": [
      "found publication of FKZ 01KI1017\n"
     ]
    },
    {
     "name": "stderr",
     "output_type": "stream",
     "text": [
      " 85%|██████████████████████████████████████████████████████████████▎          | 148983/174414 [2:21:38<20:26, 20.73it/s]"
     ]
    },
    {
     "name": "stdout",
     "output_type": "stream",
     "text": [
      "found publication of FKZ 03X4618A\n"
     ]
    },
    {
     "name": "stderr",
     "output_type": "stream",
     "text": [
      " 86%|██████████████████████████████████████████████████████████████▋          | 149891/174414 [2:22:24<20:21, 20.08it/s]"
     ]
    },
    {
     "name": "stdout",
     "output_type": "stream",
     "text": [
      "found publication of FKZ 01KG1104\n"
     ]
    },
    {
     "name": "stderr",
     "output_type": "stream",
     "text": [
      " 86%|██████████████████████████████████████████████████████████████▊          | 149973/174414 [2:22:28<18:36, 21.89it/s]"
     ]
    },
    {
     "name": "stdout",
     "output_type": "stream",
     "text": [
      "found publication of FKZ M506300\n"
     ]
    },
    {
     "name": "stderr",
     "output_type": "stream",
     "text": [
      " 86%|██████████████████████████████████████████████████████████████▊          | 150015/174414 [2:22:30<18:27, 22.04it/s]"
     ]
    },
    {
     "name": "stdout",
     "output_type": "stream",
     "text": [
      "found publication of FKZ 02WM1212\n"
     ]
    },
    {
     "name": "stderr",
     "output_type": "stream",
     "text": [
      " 86%|██████████████████████████████████████████████████████████████▉          | 150477/174414 [2:22:54<21:26, 18.61it/s]"
     ]
    },
    {
     "name": "stdout",
     "output_type": "stream",
     "text": [
      "found publication of FKZ 02PJ2302\n"
     ]
    },
    {
     "name": "stderr",
     "output_type": "stream",
     "text": [
      " 86%|███████████████████████████████████████████████████████████████▏         | 150849/174414 [2:23:13<19:18, 20.34it/s]"
     ]
    },
    {
     "name": "stdout",
     "output_type": "stream",
     "text": [
      "found publication of FKZ 01FP1259\n"
     ]
    },
    {
     "name": "stderr",
     "output_type": "stream",
     "text": [
      " 87%|███████████████████████████████████████████████████████████████▏         | 151020/174414 [2:23:22<19:13, 20.28it/s]"
     ]
    },
    {
     "name": "stdout",
     "output_type": "stream",
     "text": [
      "found publication of FKZ 01BEX03A12\n"
     ]
    },
    {
     "name": "stderr",
     "output_type": "stream",
     "text": [
      " 87%|███████████████████████████████████████████████████████████████▎         | 151206/174414 [2:23:32<18:41, 20.70it/s]"
     ]
    },
    {
     "name": "stdout",
     "output_type": "stream",
     "text": [
      "found publication of FKZ 03F0651B\n"
     ]
    },
    {
     "name": "stderr",
     "output_type": "stream",
     "text": [
      " 87%|███████████████████████████████████████████████████████████████▎         | 151417/174414 [2:23:42<19:14, 19.93it/s]"
     ]
    },
    {
     "name": "stdout",
     "output_type": "stream",
     "text": [
      "found publication of FKZ 13N12510\n"
     ]
    },
    {
     "name": "stderr",
     "output_type": "stream",
     "text": [
      " 87%|███████████████████████████████████████████████████████████████▍         | 151477/174414 [2:23:46<19:55, 19.18it/s]"
     ]
    },
    {
     "name": "stdout",
     "output_type": "stream",
     "text": [
      "found publication of FKZ 01UG1247\n"
     ]
    },
    {
     "name": "stderr",
     "output_type": "stream",
     "text": [
      " 87%|███████████████████████████████████████████████████████████████▌         | 151877/174414 [2:24:06<18:33, 20.23it/s]"
     ]
    },
    {
     "name": "stdout",
     "output_type": "stream",
     "text": [
      "found publication of FKZ 16SV5842\n"
     ]
    },
    {
     "name": "stderr",
     "output_type": "stream",
     "text": [
      " 87%|███████████████████████████████████████████████████████████████▋         | 152208/174414 [2:24:23<18:21, 20.16it/s]"
     ]
    },
    {
     "name": "stdout",
     "output_type": "stream",
     "text": [
      "found publication of FKZ 01UN1200A\n"
     ]
    },
    {
     "name": "stderr",
     "output_type": "stream",
     "text": [
      " 88%|███████████████████████████████████████████████████████████████▉         | 152780/174414 [2:24:53<17:40, 20.39it/s]"
     ]
    },
    {
     "name": "stdout",
     "output_type": "stream",
     "text": [
      "found publication of FKZ 13N13113\n"
     ]
    },
    {
     "name": "stderr",
     "output_type": "stream",
     "text": [
      " 88%|███████████████████████████████████████████████████████████████▉         | 152826/174414 [2:24:55<17:19, 20.77it/s]"
     ]
    },
    {
     "name": "stdout",
     "output_type": "stream",
     "text": [
      "found publication of FKZ 01FP1419\n",
      "found publication of FKZ 01FP1421\n"
     ]
    },
    {
     "name": "stderr",
     "output_type": "stream",
     "text": [
      " 88%|████████████████████████████████████████████████████████████████         | 153047/174414 [2:25:06<17:57, 19.82it/s]"
     ]
    },
    {
     "name": "stdout",
     "output_type": "stream",
     "text": [
      "found publication of FKZ 13N13171\n"
     ]
    },
    {
     "name": "stderr",
     "output_type": "stream",
     "text": [
      " 88%|████████████████████████████████████████████████████████████████         | 153196/174414 [2:25:14<17:19, 20.41it/s]"
     ]
    },
    {
     "name": "stdout",
     "output_type": "stream",
     "text": [
      "found publication of FKZ 02PN2055\n"
     ]
    },
    {
     "name": "stderr",
     "output_type": "stream",
     "text": [
      " 88%|████████████████████████████████████████████████████████████████▏        | 153217/174414 [2:25:15<18:08, 19.47it/s]"
     ]
    },
    {
     "name": "stdout",
     "output_type": "stream",
     "text": [
      "found publication of FKZ 02PN2187\n"
     ]
    },
    {
     "name": "stderr",
     "output_type": "stream",
     "text": [
      " 88%|████████████████████████████████████████████████████████████████▍        | 154079/174414 [2:25:59<16:07, 21.02it/s]"
     ]
    },
    {
     "name": "stdout",
     "output_type": "stream",
     "text": [
      "found publication of FKZ 03EK3571\n"
     ]
    },
    {
     "name": "stderr",
     "output_type": "stream",
     "text": [
      " 89%|████████████████████████████████████████████████████████████████▋        | 154633/174414 [2:26:27<15:25, 21.37it/s]"
     ]
    },
    {
     "name": "stdout",
     "output_type": "stream",
     "text": [
      "found publication of FKZ 01KG1715\n"
     ]
    },
    {
     "name": "stderr",
     "output_type": "stream",
     "text": [
      " 89%|████████████████████████████████████████████████████████████████▉        | 155198/174414 [2:26:54<15:00, 21.34it/s]"
     ]
    },
    {
     "name": "stdout",
     "output_type": "stream",
     "text": [
      "found publication of FKZ 01GY1703\n"
     ]
    },
    {
     "name": "stderr",
     "output_type": "stream",
     "text": [
      " 89%|█████████████████████████████████████████████████████████████████        | 155348/174414 [2:27:02<14:28, 21.95it/s]"
     ]
    },
    {
     "name": "stdout",
     "output_type": "stream",
     "text": [
      "found publication of FKZ 03INT509AF\n"
     ]
    },
    {
     "name": "stderr",
     "output_type": "stream",
     "text": [
      " 89%|█████████████████████████████████████████████████████████████████        | 155408/174414 [2:27:05<14:12, 22.30it/s]"
     ]
    },
    {
     "name": "stdout",
     "output_type": "stream",
     "text": [
      "found publication of FKZ 01FP1724\n"
     ]
    },
    {
     "name": "stderr",
     "output_type": "stream",
     "text": [
      " 89%|█████████████████████████████████████████████████████████████████        | 155502/174414 [2:27:09<14:29, 21.75it/s]"
     ]
    },
    {
     "name": "stdout",
     "output_type": "stream",
     "text": [
      "found publication of FKZ 13N14265\n"
     ]
    },
    {
     "name": "stderr",
     "output_type": "stream",
     "text": [
      " 89%|█████████████████████████████████████████████████████████████████▏       | 155711/174414 [2:27:19<14:52, 20.94it/s]"
     ]
    },
    {
     "name": "stdout",
     "output_type": "stream",
     "text": [
      "found publication of FKZ 02K16C112\n"
     ]
    },
    {
     "name": "stderr",
     "output_type": "stream",
     "text": [
      " 89%|█████████████████████████████████████████████████████████████████▏       | 155807/174414 [2:27:23<14:07, 21.94it/s]"
     ]
    },
    {
     "name": "stdout",
     "output_type": "stream",
     "text": [
      "found publication of FKZ 01QE1744C\n"
     ]
    },
    {
     "name": "stderr",
     "output_type": "stream",
     "text": [
      " 89%|█████████████████████████████████████████████████████████████████▎       | 156042/174414 [2:27:34<13:54, 22.03it/s]"
     ]
    },
    {
     "name": "stdout",
     "output_type": "stream",
     "text": [
      "found publication of FKZ 16IFI012\n"
     ]
    },
    {
     "name": "stderr",
     "output_type": "stream",
     "text": [
      " 90%|█████████████████████████████████████████████████████████████████▎       | 156120/174414 [2:27:38<13:46, 22.14it/s]"
     ]
    },
    {
     "name": "stdout",
     "output_type": "stream",
     "text": [
      "found publication of FKZ 16ES0752K\n"
     ]
    },
    {
     "name": "stderr",
     "output_type": "stream",
     "text": [
      " 90%|█████████████████████████████████████████████████████████████████▋       | 156838/174414 [2:28:12<13:23, 21.88it/s]"
     ]
    },
    {
     "name": "stdout",
     "output_type": "stream",
     "text": [
      "found publication of FKZ 16KIS0806\n"
     ]
    },
    {
     "name": "stderr",
     "output_type": "stream",
     "text": [
      " 90%|█████████████████████████████████████████████████████████████████▋       | 156969/174414 [2:28:19<13:41, 21.24it/s]"
     ]
    },
    {
     "name": "stdout",
     "output_type": "stream",
     "text": [
      "found publication of FKZ 02P17W000\n"
     ]
    },
    {
     "name": "stderr",
     "output_type": "stream",
     "text": [
      " 90%|█████████████████████████████████████████████████████████████████▊       | 157123/174414 [2:28:26<13:41, 21.05it/s]"
     ]
    },
    {
     "name": "stdout",
     "output_type": "stream",
     "text": [
      "found publication of FKZ 01UM1810BY\n"
     ]
    },
    {
     "name": "stderr",
     "output_type": "stream",
     "text": [
      " 90%|█████████████████████████████████████████████████████████████████▊       | 157264/174414 [2:28:33<12:35, 22.70it/s]"
     ]
    },
    {
     "name": "stdout",
     "output_type": "stream",
     "text": [
      "found publication of FKZ 02P17W010\n"
     ]
    },
    {
     "name": "stderr",
     "output_type": "stream",
     "text": [
      " 91%|██████████████████████████████████████████████████████████████████       | 157963/174414 [2:29:06<13:00, 21.09it/s]"
     ]
    },
    {
     "name": "stdout",
     "output_type": "stream",
     "text": [
      "found publication of FKZ 03XP0149\n"
     ]
    },
    {
     "name": "stderr",
     "output_type": "stream",
     "text": [
      " 91%|██████████████████████████████████████████████████████████████████▏      | 158213/174414 [2:29:18<12:42, 21.25it/s]"
     ]
    },
    {
     "name": "stdout",
     "output_type": "stream",
     "text": [
      "found publication of FKZ 03VP06451\n"
     ]
    },
    {
     "name": "stderr",
     "output_type": "stream",
     "text": [
      " 91%|██████████████████████████████████████████████████████████████████▎      | 158356/174414 [2:29:25<11:35, 23.10it/s]"
     ]
    },
    {
     "name": "stdout",
     "output_type": "stream",
     "text": [
      "found publication of FKZ 01UT1901A\n",
      "found publication of FKZ 01UT1901B\n"
     ]
    },
    {
     "name": "stderr",
     "output_type": "stream",
     "text": [
      " 91%|██████████████████████████████████████████████████████████████████▎      | 158414/174414 [2:29:28<11:51, 22.49it/s]"
     ]
    },
    {
     "name": "stdout",
     "output_type": "stream",
     "text": [
      "found publication of FKZ 16GW0202\n"
     ]
    },
    {
     "name": "stderr",
     "output_type": "stream",
     "text": [
      " 91%|██████████████████████████████████████████████████████████████████▍      | 158681/174414 [2:29:40<11:50, 22.15it/s]"
     ]
    },
    {
     "name": "stdout",
     "output_type": "stream",
     "text": [
      "found publication of FKZ 13XP5089A\n"
     ]
    },
    {
     "name": "stderr",
     "output_type": "stream",
     "text": [
      " 91%|██████████████████████████████████████████████████████████████████▍      | 158695/174414 [2:29:41<11:21, 23.06it/s]"
     ]
    },
    {
     "name": "stdout",
     "output_type": "stream",
     "text": [
      "found publication of FKZ 16QK03A\n",
      "found publication of FKZ 16QK03B\n",
      "found publication of FKZ 16QK03C\n"
     ]
    },
    {
     "name": "stderr",
     "output_type": "stream",
     "text": [
      " 91%|██████████████████████████████████████████████████████████████████▌      | 158900/174414 [2:29:51<11:59, 21.56it/s]"
     ]
    },
    {
     "name": "stdout",
     "output_type": "stream",
     "text": [
      "found publication of FKZ 01KT1910\n"
     ]
    },
    {
     "name": "stderr",
     "output_type": "stream",
     "text": [
      " 92%|██████████████████████████████████████████████████████████████████▊      | 159638/174414 [2:30:27<11:16, 21.83it/s]"
     ]
    },
    {
     "name": "stdout",
     "output_type": "stream",
     "text": [
      "found publication of FKZ 01DS19034\n"
     ]
    },
    {
     "name": "stderr",
     "output_type": "stream",
     "text": [
      " 92%|██████████████████████████████████████████████████████████████████▊      | 159675/174414 [2:30:29<10:54, 22.51it/s]"
     ]
    },
    {
     "name": "stdout",
     "output_type": "stream",
     "text": [
      "found publication of FKZ 02L17B060\n"
     ]
    },
    {
     "name": "stderr",
     "output_type": "stream",
     "text": [
      " 92%|██████████████████████████████████████████████████████████████████▊      | 159727/174414 [2:30:31<10:41, 22.90it/s]"
     ]
    },
    {
     "name": "stdout",
     "output_type": "stream",
     "text": [
      "found publication of FKZ CASUS\n"
     ]
    },
    {
     "name": "stderr",
     "output_type": "stream",
     "text": [
      " 92%|██████████████████████████████████████████████████████████████████▉      | 159862/174414 [2:30:38<11:30, 21.06it/s]"
     ]
    },
    {
     "name": "stdout",
     "output_type": "stream",
     "text": [
      "found publication of FKZ 033R234A\n"
     ]
    },
    {
     "name": "stderr",
     "output_type": "stream",
     "text": [
      " 92%|██████████████████████████████████████████████████████████████████▉      | 159880/174414 [2:30:38<11:36, 20.88it/s]"
     ]
    },
    {
     "name": "stdout",
     "output_type": "stream",
     "text": [
      "found publication of FKZ 02L17B064\n"
     ]
    },
    {
     "name": "stderr",
     "output_type": "stream",
     "text": [
      " 92%|███████████████████████████████████████████████████████████████████      | 160181/174414 [2:30:53<11:06, 21.37it/s]"
     ]
    },
    {
     "name": "stdout",
     "output_type": "stream",
     "text": [
      "found publication of FKZ 01IW19001\n"
     ]
    },
    {
     "name": "stderr",
     "output_type": "stream",
     "text": [
      " 92%|███████████████████████████████████████████████████████████████████▏     | 160669/174414 [2:31:17<10:45, 21.29it/s]"
     ]
    },
    {
     "name": "stdout",
     "output_type": "stream",
     "text": [
      "found publication of FKZ 16SV8310\n"
     ]
    },
    {
     "name": "stderr",
     "output_type": "stream",
     "text": [
      " 92%|███████████████████████████████████████████████████████████████████▎     | 160742/174414 [2:31:21<11:10, 20.40it/s]"
     ]
    },
    {
     "name": "stdout",
     "output_type": "stream",
     "text": [
      "found publication of FKZ 02P17D081\n"
     ]
    },
    {
     "name": "stderr",
     "output_type": "stream",
     "text": [
      " 92%|███████████████████████████████████████████████████████████████████▎     | 160952/174414 [2:31:31<10:19, 21.73it/s]"
     ]
    },
    {
     "name": "stdout",
     "output_type": "stream",
     "text": [
      "found publication of FKZ 16KIS1123\n"
     ]
    },
    {
     "name": "stderr",
     "output_type": "stream",
     "text": [
      " 93%|███████████████████████████████████████████████████████████████████▌     | 161362/174414 [2:31:51<10:09, 21.40it/s]"
     ]
    },
    {
     "name": "stdout",
     "output_type": "stream",
     "text": [
      "found publication of FKZ 02P19K052\n"
     ]
    },
    {
     "name": "stderr",
     "output_type": "stream",
     "text": [
      " 93%|███████████████████████████████████████████████████████████████████▋     | 161695/174414 [2:32:08<10:09, 20.87it/s]"
     ]
    },
    {
     "name": "stdout",
     "output_type": "stream",
     "text": [
      "found publication of FKZ 16GW0271K\n"
     ]
    },
    {
     "name": "stderr",
     "output_type": "stream",
     "text": [
      " 93%|███████████████████████████████████████████████████████████████████▉     | 162267/174414 [2:32:36<09:11, 22.04it/s]"
     ]
    },
    {
     "name": "stdout",
     "output_type": "stream",
     "text": [
      "found publication of FKZ 02K18D014\n"
     ]
    },
    {
     "name": "stderr",
     "output_type": "stream",
     "text": [
      " 93%|███████████████████████████████████████████████████████████████████▉     | 162347/174414 [2:32:40<09:28, 21.21it/s]"
     ]
    },
    {
     "name": "stdout",
     "output_type": "stream",
     "text": [
      "found publication of FKZ 01KC2003A\n"
     ]
    },
    {
     "name": "stderr",
     "output_type": "stream",
     "text": [
      " 93%|███████████████████████████████████████████████████████████████████▉     | 162401/174414 [2:32:42<09:13, 21.70it/s]"
     ]
    },
    {
     "name": "stdout",
     "output_type": "stream",
     "text": [
      "found publication of FKZ 01IS20014D\n"
     ]
    },
    {
     "name": "stderr",
     "output_type": "stream",
     "text": [
      " 93%|████████████████████████████████████████████████████████████████████     | 162752/174414 [2:32:59<09:22, 20.72it/s]"
     ]
    },
    {
     "name": "stdout",
     "output_type": "stream",
     "text": [
      "found publication of FKZ 01IW20003\n"
     ]
    },
    {
     "name": "stderr",
     "output_type": "stream",
     "text": [
      " 93%|████████████████████████████████████████████████████████████████████▏    | 162917/174414 [2:33:07<08:48, 21.73it/s]"
     ]
    },
    {
     "name": "stdout",
     "output_type": "stream",
     "text": [
      "found publication of FKZ 13FH035SX8\n"
     ]
    },
    {
     "name": "stderr",
     "output_type": "stream",
     "text": [
      " 93%|████████████████████████████████████████████████████████████████████▏    | 162975/174414 [2:33:10<08:32, 22.33it/s]"
     ]
    },
    {
     "name": "stdout",
     "output_type": "stream",
     "text": [
      "found publication of FKZ 13FH052SX8\n"
     ]
    },
    {
     "name": "stderr",
     "output_type": "stream",
     "text": [
      " 93%|████████████████████████████████████████████████████████████████████▏    | 163036/174414 [2:33:13<08:18, 22.84it/s]"
     ]
    },
    {
     "name": "stdout",
     "output_type": "stream",
     "text": [
      "found publication of FKZ 13FH089SA8\n"
     ]
    },
    {
     "name": "stderr",
     "output_type": "stream",
     "text": [
      " 94%|████████████████████████████████████████████████████████████████████▎    | 163227/174414 [2:33:22<08:46, 21.26it/s]"
     ]
    },
    {
     "name": "stdout",
     "output_type": "stream",
     "text": [
      "found publication of FKZ 01KX2021\n"
     ]
    },
    {
     "name": "stderr",
     "output_type": "stream",
     "text": [
      " 94%|████████████████████████████████████████████████████████████████████▍    | 163438/174414 [2:33:32<08:40, 21.08it/s]"
     ]
    },
    {
     "name": "stdout",
     "output_type": "stream",
     "text": [
      "found publication of FKZ 02L18A020\n"
     ]
    },
    {
     "name": "stderr",
     "output_type": "stream",
     "text": [
      " 94%|████████████████████████████████████████████████████████████████████▋    | 164043/174414 [2:34:02<08:19, 20.77it/s]"
     ]
    },
    {
     "name": "stdout",
     "output_type": "stream",
     "text": [
      "found publication of FKZ 13FH003SU8\n"
     ]
    },
    {
     "name": "stderr",
     "output_type": "stream",
     "text": [
      " 94%|████████████████████████████████████████████████████████████████████▊    | 164341/174414 [2:34:17<08:06, 20.71it/s]"
     ]
    },
    {
     "name": "stdout",
     "output_type": "stream",
     "text": [
      "found publication of FKZ UNES\n"
     ]
    },
    {
     "name": "stderr",
     "output_type": "stream",
     "text": [
      " 94%|████████████████████████████████████████████████████████████████████▉    | 164766/174414 [2:34:38<07:34, 21.23it/s]"
     ]
    },
    {
     "name": "stdout",
     "output_type": "stream",
     "text": [
      "found publication of FKZ 01KI2027\n"
     ]
    },
    {
     "name": "stderr",
     "output_type": "stream",
     "text": [
      " 95%|█████████████████████████████████████████████████████████████████████    | 165129/174414 [2:34:56<07:04, 21.87it/s]"
     ]
    },
    {
     "name": "stdout",
     "output_type": "stream",
     "text": [
      "found publication of FKZ 03XP0374C\n"
     ]
    },
    {
     "name": "stderr",
     "output_type": "stream",
     "text": [
      " 95%|█████████████████████████████████████████████████████████████████████▎   | 165671/174414 [2:35:22<07:07, 20.45it/s]"
     ]
    },
    {
     "name": "stdout",
     "output_type": "stream",
     "text": [
      "found publication of FKZ 13N15652\n"
     ]
    },
    {
     "name": "stderr",
     "output_type": "stream",
     "text": [
      " 95%|█████████████████████████████████████████████████████████████████████▌   | 166157/174414 [2:35:46<06:16, 21.96it/s]"
     ]
    },
    {
     "name": "stdout",
     "output_type": "stream",
     "text": [
      "found publication of FKZ 21IV007D\n"
     ]
    },
    {
     "name": "stderr",
     "output_type": "stream",
     "text": [
      " 95%|█████████████████████████████████████████████████████████████████████▋   | 166474/174414 [2:36:01<06:14, 21.19it/s]"
     ]
    },
    {
     "name": "stdout",
     "output_type": "stream",
     "text": [
      "found publication of FKZ 13GW0497B\n"
     ]
    },
    {
     "name": "stderr",
     "output_type": "stream",
     "text": [
      " 95%|█████████████████████████████████████████████████████████████████████▋   | 166486/174414 [2:36:02<06:15, 21.11it/s]"
     ]
    },
    {
     "name": "stdout",
     "output_type": "stream",
     "text": [
      "found publication of FKZ 03F0885AL1\n"
     ]
    },
    {
     "name": "stderr",
     "output_type": "stream",
     "text": [
      " 95%|█████████████████████████████████████████████████████████████████████▋   | 166510/174414 [2:36:03<06:08, 21.43it/s]"
     ]
    },
    {
     "name": "stdout",
     "output_type": "stream",
     "text": [
      "found publication of FKZ 16KIS1342\n"
     ]
    },
    {
     "name": "stderr",
     "output_type": "stream",
     "text": [
      " 96%|█████████████████████████████████████████████████████████████████████▊   | 166838/174414 [2:36:19<05:53, 21.42it/s]"
     ]
    },
    {
     "name": "stdout",
     "output_type": "stream",
     "text": [
      "found publication of FKZ 16LW0064K\n"
     ]
    },
    {
     "name": "stderr",
     "output_type": "stream",
     "text": [
      " 96%|█████████████████████████████████████████████████████████████████████▉   | 167188/174414 [2:36:36<05:41, 21.19it/s]"
     ]
    },
    {
     "name": "stdout",
     "output_type": "stream",
     "text": [
      "found publication of FKZ 01KI20271\n"
     ]
    },
    {
     "name": "stderr",
     "output_type": "stream",
     "text": [
      " 96%|██████████████████████████████████████████████████████████████████████▍  | 168156/174414 [2:37:24<04:54, 21.22it/s]"
     ]
    },
    {
     "name": "stdout",
     "output_type": "stream",
     "text": [
      "found publication of FKZ 031B1047A\n"
     ]
    },
    {
     "name": "stderr",
     "output_type": "stream",
     "text": [
      " 96%|██████████████████████████████████████████████████████████████████████▍  | 168228/174414 [2:37:27<04:48, 21.46it/s]"
     ]
    },
    {
     "name": "stdout",
     "output_type": "stream",
     "text": [
      "found publication of FKZ 13XP5113\n"
     ]
    },
    {
     "name": "stderr",
     "output_type": "stream",
     "text": [
      " 96%|██████████████████████████████████████████████████████████████████████▍  | 168273/174414 [2:37:30<04:35, 22.29it/s]"
     ]
    },
    {
     "name": "stdout",
     "output_type": "stream",
     "text": [
      "found publication of FKZ 03XP0324A\n"
     ]
    },
    {
     "name": "stderr",
     "output_type": "stream",
     "text": [
      " 97%|██████████████████████████████████████████████████████████████████████▌  | 168535/174414 [2:37:43<04:32, 21.58it/s]"
     ]
    },
    {
     "name": "stdout",
     "output_type": "stream",
     "text": [
      "found publication of FKZ 01KI2017\n"
     ]
    },
    {
     "name": "stderr",
     "output_type": "stream",
     "text": [
      " 97%|██████████████████████████████████████████████████████████████████████▌  | 168589/174414 [2:37:45<04:44, 20.47it/s]"
     ]
    },
    {
     "name": "stdout",
     "output_type": "stream",
     "text": [
      "found publication of FKZ 01GY2001\n"
     ]
    },
    {
     "name": "stderr",
     "output_type": "stream",
     "text": [
      " 97%|██████████████████████████████████████████████████████████████████████▌  | 168646/174414 [2:37:48<04:35, 20.94it/s]"
     ]
    },
    {
     "name": "stdout",
     "output_type": "stream",
     "text": [
      "found publication of FKZ 13N15480\n"
     ]
    },
    {
     "name": "stderr",
     "output_type": "stream",
     "text": [
      " 97%|██████████████████████████████████████████████████████████████████████▌  | 168737/174414 [2:37:52<04:19, 21.91it/s]"
     ]
    },
    {
     "name": "stdout",
     "output_type": "stream",
     "text": [
      "found publication of FKZ 02P17D262\n"
     ]
    },
    {
     "name": "stderr",
     "output_type": "stream",
     "text": [
      " 97%|██████████████████████████████████████████████████████████████████████▋  | 168928/174414 [2:38:02<04:03, 22.57it/s]"
     ]
    },
    {
     "name": "stdout",
     "output_type": "stream",
     "text": [
      "found publication of FKZ 01UG2115\n"
     ]
    },
    {
     "name": "stderr",
     "output_type": "stream",
     "text": [
      " 97%|██████████████████████████████████████████████████████████████████████▋  | 168978/174414 [2:38:04<03:29, 25.92it/s]"
     ]
    },
    {
     "name": "stdout",
     "output_type": "stream",
     "text": [
      "found publication of FKZ 16MCJ1014A\n",
      "found publication of FKZ 16MCJ1014B\n",
      "found publication of FKZ 16MCJ1014C\n"
     ]
    },
    {
     "name": "stderr",
     "output_type": "stream",
     "text": [
      " 97%|██████████████████████████████████████████████████████████████████████▊  | 169134/174414 [2:38:11<04:23, 20.03it/s]"
     ]
    },
    {
     "name": "stdout",
     "output_type": "stream",
     "text": [
      "found publication of FKZ 13XP5120B\n"
     ]
    },
    {
     "name": "stderr",
     "output_type": "stream",
     "text": [
      " 97%|██████████████████████████████████████████████████████████████████████▊  | 169158/174414 [2:38:13<04:06, 21.29it/s]"
     ]
    },
    {
     "name": "stdout",
     "output_type": "stream",
     "text": [
      "found publication of FKZ 02L19C150\n"
     ]
    },
    {
     "name": "stderr",
     "output_type": "stream",
     "text": [
      " 97%|██████████████████████████████████████████████████████████████████████▊  | 169179/174414 [2:38:14<04:12, 20.69it/s]"
     ]
    },
    {
     "name": "stdout",
     "output_type": "stream",
     "text": [
      "found publication of FKZ 13XP5120A\n"
     ]
    },
    {
     "name": "stderr",
     "output_type": "stream",
     "text": [
      " 97%|██████████████████████████████████████████████████████████████████████▊  | 169189/174414 [2:38:14<03:51, 22.61it/s]"
     ]
    },
    {
     "name": "stdout",
     "output_type": "stream",
     "text": [
      "found publication of FKZ 161L0271\n",
      "found publication of FKZ 161L0272\n"
     ]
    },
    {
     "name": "stderr",
     "output_type": "stream",
     "text": [
      " 97%|██████████████████████████████████████████████████████████████████████▉  | 169486/174414 [2:38:29<03:41, 22.24it/s]"
     ]
    },
    {
     "name": "stdout",
     "output_type": "stream",
     "text": [
      "found publication of FKZ 01FP21070\n"
     ]
    },
    {
     "name": "stderr",
     "output_type": "stream",
     "text": [
      " 97%|███████████████████████████████████████████████████████████████████████  | 169644/174414 [2:38:36<03:33, 22.32it/s]"
     ]
    },
    {
     "name": "stdout",
     "output_type": "stream",
     "text": [
      "found publication of FKZ 02WDG1593A\n"
     ]
    },
    {
     "name": "stderr",
     "output_type": "stream",
     "text": [
      " 97%|███████████████████████████████████████████████████████████████████████  | 169701/174414 [2:38:39<03:32, 22.15it/s]"
     ]
    },
    {
     "name": "stdout",
     "output_type": "stream",
     "text": [
      "found publication of FKZ 13FH002KA0\n"
     ]
    },
    {
     "name": "stderr",
     "output_type": "stream",
     "text": [
      " 97%|███████████████████████████████████████████████████████████████████████  | 169928/174414 [2:38:50<03:21, 22.22it/s]"
     ]
    },
    {
     "name": "stdout",
     "output_type": "stream",
     "text": [
      "found publication of FKZ 03RU1U024A\n"
     ]
    },
    {
     "name": "stderr",
     "output_type": "stream",
     "text": [
      " 97%|███████████████████████████████████████████████████████████████████████▏ | 170016/174414 [2:38:54<03:19, 22.01it/s]"
     ]
    },
    {
     "name": "stdout",
     "output_type": "stream",
     "text": [
      "found publication of FKZ 02L19C200\n"
     ]
    },
    {
     "name": "stderr",
     "output_type": "stream",
     "text": [
      " 98%|███████████████████████████████████████████████████████████████████████▏ | 170106/174414 [2:38:59<03:15, 22.04it/s]"
     ]
    },
    {
     "name": "stdout",
     "output_type": "stream",
     "text": [
      "found publication of FKZ 21INVI09\n"
     ]
    },
    {
     "name": "stderr",
     "output_type": "stream",
     "text": [
      " 98%|███████████████████████████████████████████████████████████████████████▎ | 170469/174414 [2:39:17<03:09, 20.87it/s]"
     ]
    },
    {
     "name": "stdout",
     "output_type": "stream",
     "text": [
      "found publication of FKZ 03XP0393C\n"
     ]
    },
    {
     "name": "stderr",
     "output_type": "stream",
     "text": [
      " 98%|███████████████████████████████████████████████████████████████████████▍ | 170555/174414 [2:39:21<03:12, 20.00it/s]"
     ]
    },
    {
     "name": "stdout",
     "output_type": "stream",
     "text": [
      "found publication of FKZ 031B1114B\n"
     ]
    },
    {
     "name": "stderr",
     "output_type": "stream",
     "text": [
      " 98%|███████████████████████████████████████████████████████████████████████▍ | 170815/174414 [2:39:35<02:53, 20.74it/s]"
     ]
    },
    {
     "name": "stdout",
     "output_type": "stream",
     "text": [
      "found publication of FKZ 03XP0393A\n"
     ]
    },
    {
     "name": "stderr",
     "output_type": "stream",
     "text": [
      " 98%|███████████████████████████████████████████████████████████████████████▌ | 171070/174414 [2:39:48<02:32, 21.90it/s]"
     ]
    },
    {
     "name": "stdout",
     "output_type": "stream",
     "text": [
      "found publication of FKZ 16SV8687\n"
     ]
    },
    {
     "name": "stderr",
     "output_type": "stream",
     "text": [
      " 98%|███████████████████████████████████████████████████████████████████████▌ | 171125/174414 [2:39:51<02:24, 22.83it/s]"
     ]
    },
    {
     "name": "stdout",
     "output_type": "stream",
     "text": [
      "found publication of FKZ 03XP0408E\n",
      "found publication of FKZ 16KIS1405\n"
     ]
    },
    {
     "name": "stderr",
     "output_type": "stream",
     "text": [
      " 98%|███████████████████████████████████████████████████████████████████████▋ | 171131/174414 [2:39:51<02:23, 22.86it/s]"
     ]
    },
    {
     "name": "stdout",
     "output_type": "stream",
     "text": [
      "found publication of FKZ 16KIS1404K\n"
     ]
    },
    {
     "name": "stderr",
     "output_type": "stream",
     "text": [
      " 98%|███████████████████████████████████████████████████████████████████████▋ | 171218/174414 [2:39:55<02:35, 20.53it/s]"
     ]
    },
    {
     "name": "stdout",
     "output_type": "stream",
     "text": [
      "found publication of FKZ 16KIS1406\n"
     ]
    },
    {
     "name": "stderr",
     "output_type": "stream",
     "text": [
      " 98%|███████████████████████████████████████████████████████████████████████▊ | 171480/174414 [2:40:08<02:15, 21.69it/s]"
     ]
    },
    {
     "name": "stdout",
     "output_type": "stream",
     "text": [
      "found publication of FKZ 02L19C600\n"
     ]
    },
    {
     "name": "stderr",
     "output_type": "stream",
     "text": [
      " 98%|███████████████████████████████████████████████████████████████████████▉ | 171758/174414 [2:40:21<02:08, 20.72it/s]"
     ]
    },
    {
     "name": "stdout",
     "output_type": "stream",
     "text": [
      "found publication of FKZ 02P20A031\n"
     ]
    },
    {
     "name": "stderr",
     "output_type": "stream",
     "text": [
      " 99%|████████████████████████████████████████████████████████████████████████ | 172090/174414 [2:40:37<01:41, 22.82it/s]"
     ]
    },
    {
     "name": "stdout",
     "output_type": "stream",
     "text": [
      "found publication of FKZ 02P20A111\n"
     ]
    },
    {
     "name": "stderr",
     "output_type": "stream",
     "text": [
      " 99%|████████████████████████████████████████████████████████████████████████▏| 172476/174414 [2:40:56<01:32, 21.05it/s]"
     ]
    },
    {
     "name": "stdout",
     "output_type": "stream",
     "text": [
      "found publication of FKZ 13FH003KX0\n"
     ]
    },
    {
     "name": "stderr",
     "output_type": "stream",
     "text": [
      " 99%|████████████████████████████████████████████████████████████████████████▍| 173113/174414 [2:41:27<01:02, 20.85it/s]"
     ]
    },
    {
     "name": "stdout",
     "output_type": "stream",
     "text": [
      "found publication of FKZ 03F0915A\n"
     ]
    },
    {
     "name": "stderr",
     "output_type": "stream",
     "text": [
      " 99%|████████████████████████████████████████████████████████████████████████▍| 173155/174414 [2:41:28<00:58, 21.56it/s]"
     ]
    },
    {
     "name": "stdout",
     "output_type": "stream",
     "text": [
      "found publication of FKZ 03XP0421\n"
     ]
    },
    {
     "name": "stderr",
     "output_type": "stream",
     "text": [
      "100%|████████████████████████████████████████████████████████████████████████▋| 173646/174414 [2:41:53<00:35, 21.47it/s]"
     ]
    },
    {
     "name": "stdout",
     "output_type": "stream",
     "text": [
      "found publication of FKZ 13N15975\n"
     ]
    },
    {
     "name": "stderr",
     "output_type": "stream",
     "text": [
      "100%|████████████████████████████████████████████████████████████████████████▋| 173766/174414 [2:41:59<00:29, 21.77it/s]"
     ]
    },
    {
     "name": "stdout",
     "output_type": "stream",
     "text": [
      "found publication of FKZ 16DTM101A\n"
     ]
    },
    {
     "name": "stderr",
     "output_type": "stream",
     "text": [
      "100%|████████████████████████████████████████████████████████████████████████▊| 173827/174414 [2:42:02<00:27, 21.49it/s]"
     ]
    },
    {
     "name": "stdout",
     "output_type": "stream",
     "text": [
      "found publication of FKZ 16SV8821\n"
     ]
    },
    {
     "name": "stderr",
     "output_type": "stream",
     "text": [
      "100%|████████████████████████████████████████████████████████████████████████▊| 174108/174414 [2:42:15<00:14, 21.78it/s]"
     ]
    },
    {
     "name": "stdout",
     "output_type": "stream",
     "text": [
      "found publication of FKZ 13N15995\n"
     ]
    },
    {
     "name": "stderr",
     "output_type": "stream",
     "text": [
      "100%|████████████████████████████████████████████████████████████████████████▉| 174123/174414 [2:42:16<00:13, 21.24it/s]"
     ]
    },
    {
     "name": "stdout",
     "output_type": "stream",
     "text": [
      "found publication of FKZ 01IS21046B\n"
     ]
    },
    {
     "name": "stderr",
     "output_type": "stream",
     "text": [
      "100%|█████████████████████████████████████████████████████████████████████████| 174414/174414 [2:42:30<00:00, 17.89it/s]\n"
     ]
    }
   ],
   "source": [
    "# this cell will determine those FKZs which are mentioned in press release/publication retrieved\n",
    "total_contents = \"\".join(idw.iloc[:,1].values)\n",
    "print(len(total_contents))\n",
    "for FKZ in tqdm(BMBF.loc[BMBF[\"Ressort\"] == \"BMBF\", \"FKZ\"].values):\n",
    "  \n",
    "    if FKZ in total_contents:\n",
    "        print(f\"found publication of FKZ {FKZ}\")\n",
    "        FKZs_with_pubs.append(FKZ)"
   ]
  },
  {
   "cell_type": "code",
   "execution_count": 30,
   "id": "45452883",
   "metadata": {},
   "outputs": [
    {
     "name": "stdout",
     "output_type": "stream",
     "text": [
      "349 FKZs have related press release/ publication\n"
     ]
    }
   ],
   "source": [
    "print(f\"{len(FKZs_with_pubs)} FKZs have related press release/ publication\")"
   ]
  },
  {
   "cell_type": "markdown",
   "id": "e4b9e7c5",
   "metadata": {},
   "source": [
    "A closer examination of the FKZs reveals that there is often a space between many of them. So lets take an attempt to correct them to see whether we can find press release/publication for those FKZs. "
   ]
  },
  {
   "cell_type": "code",
   "execution_count": 31,
   "id": "b667a14d",
   "metadata": {},
   "outputs": [
    {
     "name": "stderr",
     "output_type": "stream",
     "text": [
      " 36%|███████████████████████████▎                                                | 62702/174414 [23:15<50:39, 36.75it/s]"
     ]
    },
    {
     "name": "stdout",
     "output_type": "stream",
     "text": [
      "found publication of FKZ 1304899 \n"
     ]
    },
    {
     "name": "stderr",
     "output_type": "stream",
     "text": [
      "100%|██████████████████████████████████████████████████████████████████████████| 174414/174414 [24:10<00:00, 120.26it/s]\n"
     ]
    }
   ],
   "source": [
    "for FKZ in tqdm(BMBF.loc[BMBF[\"Ressort\"] == \"BMBF\", \"FKZ\"].values):\n",
    "    \n",
    "    if (FKZ != FKZ.replace(\" \",\"\")) and (FKZ.replace(\" \",\"\") in total_contents):\n",
    "        print(f\"found publication of FKZ {FKZ}\")\n",
    "        FKZs_with_pubs.append(FKZ)"
   ]
  },
  {
   "cell_type": "code",
   "execution_count": 89,
   "id": "e7681798",
   "metadata": {},
   "outputs": [
    {
     "name": "stdout",
     "output_type": "stream",
     "text": [
      "Stored 'FKZs_with_pubs' (list)\n"
     ]
    }
   ],
   "source": [
    "# save the list for late use sothat we dont have to run the notebook from beginning\n",
    "%store FKZs_with_pubs"
   ]
  },
  {
   "cell_type": "markdown",
   "id": "cf232be3",
   "metadata": {},
   "source": [
    "found 1 more FKZ, which has press release/publication related to it after remove space in FKZ. Total 350 FKZs"
   ]
  },
  {
   "cell_type": "code",
   "execution_count": 87,
   "id": "f95ed609",
   "metadata": {},
   "outputs": [
    {
     "name": "stderr",
     "output_type": "stream",
     "text": [
      "100%|█████████████████████████████████████████████████████████████████████████████████| 350/350 [03:06<00:00,  1.88it/s]\n"
     ]
    }
   ],
   "source": [
    "#this cell will map the press releases/ publications to related FKZs  \n",
    "BMBF.loc[:,\"idw_enrichment\"] = \"\"\n",
    "for FKZ in tqdm(FKZs_with_pubs):\n",
    "    for row in range(len(idw)):\n",
    "        if FKZ in idw.iloc[row,1]:\n",
    "            BMBF.loc[BMBF[\"FKZ\"]==FKZ,\"idw_enrichment\"] += idw.iloc[row,1].replace(\"  \",\"\").replace(\"\\n\",\"\")\n",
    "                       "
   ]
  },
  {
   "cell_type": "code",
   "execution_count": 91,
   "id": "7b0a3223",
   "metadata": {},
   "outputs": [
    {
     "data": {
      "text/plain": [
       "10078     Johannes Faber Bernstein KoordinationsstelleNa...\n",
       "65774     Dr. Josef König PressestelleRuhr-Universität B...\n",
       "75558                                                      \n",
       "76365     Doris Böhme Presse- und ÖffentlichkeitsarbeitH...\n",
       "77468     Dr. Stefan Kurze KommunikationInstitut für Mik...\n",
       "                                ...                        \n",
       "269979    NinaReckendorf Stabsstelle Presse, Kommunikati...\n",
       "270335    Friederike Süssig-Jeschor PressestelleUniversi...\n",
       "270539    ChristianColmer Press &amp; Public RelationsFr...\n",
       "271304    Melanie Löw UniversitätskommunikationTechnisch...\n",
       "271331    Susanne Krause Externe und interne Kommunikati...\n",
       "Name: idw_enrichment, Length: 350, dtype: object"
      ]
     },
     "execution_count": 91,
     "metadata": {},
     "output_type": "execute_result"
    }
   ],
   "source": [
    "BMBF[BMBF[\"FKZ\"].isin(FKZs_with_pubs)][\"idw_enrichment\"]"
   ]
  },
  {
   "cell_type": "code",
   "execution_count": 100,
   "id": "83a544fc",
   "metadata": {},
   "outputs": [],
   "source": [
    "#set all other field to NaN value \n",
    "BMBF.loc[~BMBF[\"FKZ\"].isin(FKZs_with_pubs),\"idw_enrichment\"]=np.nan"
   ]
  },
  {
   "cell_type": "code",
   "execution_count": 101,
   "id": "09a141ab",
   "metadata": {},
   "outputs": [
    {
     "data": {
      "text/plain": [
       "271894"
      ]
     },
     "execution_count": 101,
     "metadata": {},
     "output_type": "execute_result"
    }
   ],
   "source": [
    "BMBF[\"idw_enrichment\"].isnull().sum()"
   ]
  },
  {
   "cell_type": "code",
   "execution_count": 103,
   "id": "f9f3b866",
   "metadata": {},
   "outputs": [],
   "source": [
    "BMBF.to_csv(\"../data/BMBF_idw_enrichment.csv\", index= False)"
   ]
  }
 ],
 "metadata": {
  "kernelspec": {
   "display_name": "BMBFenv",
   "language": "python",
   "name": "bmbfenv"
  },
  "language_info": {
   "codemirror_mode": {
    "name": "ipython",
    "version": 3
   },
   "file_extension": ".py",
   "mimetype": "text/x-python",
   "name": "python",
   "nbconvert_exporter": "python",
   "pygments_lexer": "ipython3",
   "version": "3.9.6"
  }
 },
 "nbformat": 4,
 "nbformat_minor": 5
}
